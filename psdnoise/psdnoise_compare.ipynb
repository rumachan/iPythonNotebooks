{
 "cells": [
  {
   "cell_type": "markdown",
   "metadata": {},
   "source": [
    "Compare Noise Between Several Seismic/Acoustic Sites Using Probabilistic Power Spectral Densities (PPSD)\n",
    "--\n",
    "\n",
    "Compare noise across several sites to determine whichi is 'best' or 'worst'."
   ]
  },
  {
   "cell_type": "code",
   "execution_count": 85,
   "metadata": {
    "collapsed": true,
    "hide_input": false
   },
   "outputs": [],
   "source": [
    "#import modules\n",
    "from obspy.core import read, Trace, Stream, UTCDateTime\n",
    "from obspy.clients.fdsn import Client\n",
    "from obspy.signal import PPSD\n",
    "import matplotlib.pyplot as plt\n",
    "import pandas as pd\n",
    "\n",
    "%matplotlib inline"
   ]
  },
  {
   "cell_type": "markdown",
   "metadata": {},
   "source": [
    "**GeoNet's FDSN web servers**"
   ]
  },
  {
   "cell_type": "code",
   "execution_count": 86,
   "metadata": {
    "collapsed": true
   },
   "outputs": [],
   "source": [
    "arc_client = 'http://service.geonet.org.nz'\n",
    "nrt_client = 'http://beta-service-nrt.geonet.org.nz'"
   ]
  },
  {
   "cell_type": "markdown",
   "metadata": {},
   "source": [
    "**Functions**"
   ]
  },
  {
   "cell_type": "code",
   "execution_count": 87,
   "metadata": {
    "collapsed": true
   },
   "outputs": [],
   "source": [
    "#function to get a stream from a FDSN client\n",
    "def dayswave(date1, date2, net, sta, loc, cmp):\n",
    "  #get data from a FDSN web server for days date1 to date2 inclusive\n",
    "  global st\n",
    "  time1 = UTCDateTime(date1)\n",
    "  time2 = UTCDateTime(date2)\n",
    "  #st = client.get_waveforms(net, sta, loc, cmp, time1, time2 + 86400, attach_response=True)\n",
    "  try:\n",
    "    client = Client(arc_client)\n",
    "    st = client.get_waveforms(net, sta, loc, cmp, time1, time2 + 86400)\n",
    "    print ('arc client successful')\n",
    "    #if this raises an exception, try the near real-time server\n",
    "  except:\n",
    "    client = Client(nrt_client)\n",
    "    st = client.get_waveforms(net, sta, loc, cmp, time1, time2 + 86400)\n",
    "    print ('nrt client successful')"
   ]
  },
  {
   "cell_type": "code",
   "execution_count": 88,
   "metadata": {
    "collapsed": true
   },
   "outputs": [],
   "source": [
    "#function to get response from a FDSN client\n",
    "def getresp(date1, date2, net, sta, loc, cmp):\n",
    "  global inventory\n",
    "  try:\n",
    "    client = Client(arc_client)\n",
    "    inventory = client.get_stations(network=net, station=sta, channel=cmp, location=loc, starttime=UTCDateTime(date1), endtime=UTCDateTime(date2)+86400, level='response')\n",
    "    print ('arc client successful')\n",
    "    #if this raises an exception, try the near real-time server\n",
    "  except:\n",
    "    client = Client(nrt_client)\n",
    "    inventory = client.get_stations(network=net, station=sta, channel=cmp, location=loc, starttime=UTCDateTime(date1), endtime=UTCDateTime(date2)+86400, level='response')\n",
    "    print ('nrt client successful')\n",
    "  "
   ]
  },
  {
   "cell_type": "markdown",
   "metadata": {},
   "source": [
    "**Date range**"
   ]
  },
  {
   "cell_type": "code",
   "execution_count": 89,
   "metadata": {
    "collapsed": true
   },
   "outputs": [],
   "source": [
    "date1 = '2017-11-09'\n",
    "date2 = '2017-11-09'"
   ]
  },
  {
   "cell_type": "markdown",
   "metadata": {},
   "source": [
    "**Sites**"
   ]
  },
  {
   "cell_type": "code",
   "execution_count": 90,
   "metadata": {
    "collapsed": true
   },
   "outputs": [],
   "source": [
    "sites = ['WHTZ.10.EHZ.NZ','POIZ.10.EHZ.NZ','ARAZ.10.EHZ.NZ','KUTZ.10.EHZ.NZ','WPRZ.10.EHZ.NZ']"
   ]
  },
  {
   "cell_type": "markdown",
   "metadata": {},
   "source": [
    "**Loop through sites calculating PPSD**"
   ]
  },
  {
   "cell_type": "code",
   "execution_count": 91,
   "metadata": {},
   "outputs": [
    {
     "name": "stdout",
     "output_type": "stream",
     "text": [
      "arc client successful\n",
      "NZ.WHTZ.10.EHZ | 2017-11-08T23:59:55.372732Z - 2017-11-09T01:51:06.122732Z | 100.0 Hz, 667076 samples\n",
      "arc client successful\n",
      "arc client successful\n",
      "NZ.POIZ.10.EHZ | 2017-11-08T23:59:58.518391Z - 2017-11-09T01:51:06.858391Z | 100.0 Hz, 666835 samples\n",
      "arc client successful\n",
      "arc client successful\n",
      "NZ.ARAZ.10.EHZ | 2017-11-08T23:59:58.128396Z - 2017-11-09T01:51:07.808396Z | 100.0 Hz, 666969 samples\n",
      "arc client successful\n",
      "arc client successful\n",
      "NZ.KUTZ.10.EHZ | 2017-11-08T23:59:54.628393Z - 2017-11-09T01:51:05.958393Z | 100.0 Hz, 667134 samples\n",
      "arc client successful\n",
      "arc client successful\n",
      "NZ.WPRZ.10.EHZ | 2017-11-08T23:59:57.898391Z - 2017-11-09T01:51:05.958391Z | 100.0 Hz, 666807 samples\n",
      "arc client successful\n"
     ]
    }
   ],
   "source": [
    "#empty dataframe for ppsd results\n",
    "df = pd.DataFrame()\n",
    "\n",
    "for site in sites:\n",
    "    sta, loc, cmp, net = site.split('.')[0:5]\n",
    "       \n",
    "    #get data stream\n",
    "    dayswave(date1, date2, net, sta, loc, cmp)\n",
    "    tr = st[0]\n",
    "    print tr\n",
    "\n",
    "    #get response, separately\n",
    "    getresp(date1, date2, net, sta, loc, cmp)\n",
    "\n",
    "    #ppsd\n",
    "    ppsd = PPSD(tr.stats, metadata=inventory)\n",
    "    ppsd.add(st)\n",
    "    #ppsd.plot(show_coverage=False)\n",
    "    #extract mean data\n",
    "    mean = ppsd.get_mean()\n",
    "    frequency = 1/mean[0]\n",
    "    amplitude = mean[1]\n",
    "    #populate dataframe\n",
    "    data = pd.DataFrame()\n",
    "    data['frequency'] = frequency\n",
    "    data['amplitude'] = amplitude\n",
    "    data['site'] = site\n",
    "    df = df.append(data)"
   ]
  },
  {
   "cell_type": "code",
   "execution_count": 92,
   "metadata": {},
   "outputs": [],
   "source": [
    "ppsdmean = pd.pivot_table(df, index='frequency', columns='site')"
   ]
  },
  {
   "cell_type": "code",
   "execution_count": 103,
   "metadata": {},
   "outputs": [
    {
     "data": {
      "text/html": [
       "<div>\n",
       "<style>\n",
       "    .dataframe thead tr:only-child th {\n",
       "        text-align: right;\n",
       "    }\n",
       "\n",
       "    .dataframe thead th {\n",
       "        text-align: left;\n",
       "    }\n",
       "\n",
       "    .dataframe tbody tr th {\n",
       "        vertical-align: top;\n",
       "    }\n",
       "</style>\n",
       "<table border=\"1\" class=\"dataframe\">\n",
       "  <thead>\n",
       "    <tr>\n",
       "      <th></th>\n",
       "      <th colspan=\"5\" halign=\"left\">amplitude</th>\n",
       "    </tr>\n",
       "    <tr>\n",
       "      <th>site</th>\n",
       "      <th>ARAZ.10.EHZ.NZ</th>\n",
       "      <th>KUTZ.10.EHZ.NZ</th>\n",
       "      <th>POIZ.10.EHZ.NZ</th>\n",
       "      <th>WHTZ.10.EHZ.NZ</th>\n",
       "      <th>WPRZ.10.EHZ.NZ</th>\n",
       "    </tr>\n",
       "    <tr>\n",
       "      <th>frequency</th>\n",
       "      <th></th>\n",
       "      <th></th>\n",
       "      <th></th>\n",
       "      <th></th>\n",
       "      <th></th>\n",
       "    </tr>\n",
       "  </thead>\n",
       "  <tbody>\n",
       "    <tr>\n",
       "      <th>0.001526</th>\n",
       "      <td>-65.138298</td>\n",
       "      <td>-65.095745</td>\n",
       "      <td>-68.202128</td>\n",
       "      <td>-67.223404</td>\n",
       "      <td>-110.755319</td>\n",
       "    </tr>\n",
       "    <tr>\n",
       "      <th>0.001664</th>\n",
       "      <td>-65.138298</td>\n",
       "      <td>-65.095745</td>\n",
       "      <td>-68.202128</td>\n",
       "      <td>-67.223404</td>\n",
       "      <td>-110.755319</td>\n",
       "    </tr>\n",
       "    <tr>\n",
       "      <th>0.001815</th>\n",
       "      <td>-65.138298</td>\n",
       "      <td>-65.095745</td>\n",
       "      <td>-68.202128</td>\n",
       "      <td>-67.223404</td>\n",
       "      <td>-110.755319</td>\n",
       "    </tr>\n",
       "    <tr>\n",
       "      <th>0.001979</th>\n",
       "      <td>-65.138298</td>\n",
       "      <td>-65.095745</td>\n",
       "      <td>-68.202128</td>\n",
       "      <td>-67.223404</td>\n",
       "      <td>-110.755319</td>\n",
       "    </tr>\n",
       "    <tr>\n",
       "      <th>0.002158</th>\n",
       "      <td>-65.138298</td>\n",
       "      <td>-65.095745</td>\n",
       "      <td>-68.202128</td>\n",
       "      <td>-67.223404</td>\n",
       "      <td>-110.755319</td>\n",
       "    </tr>\n",
       "  </tbody>\n",
       "</table>\n",
       "</div>"
      ],
      "text/plain": [
       "               amplitude                                               \\\n",
       "site      ARAZ.10.EHZ.NZ KUTZ.10.EHZ.NZ POIZ.10.EHZ.NZ WHTZ.10.EHZ.NZ   \n",
       "frequency                                                               \n",
       "0.001526      -65.138298     -65.095745     -68.202128     -67.223404   \n",
       "0.001664      -65.138298     -65.095745     -68.202128     -67.223404   \n",
       "0.001815      -65.138298     -65.095745     -68.202128     -67.223404   \n",
       "0.001979      -65.138298     -65.095745     -68.202128     -67.223404   \n",
       "0.002158      -65.138298     -65.095745     -68.202128     -67.223404   \n",
       "\n",
       "                          \n",
       "site      WPRZ.10.EHZ.NZ  \n",
       "frequency                 \n",
       "0.001526     -110.755319  \n",
       "0.001664     -110.755319  \n",
       "0.001815     -110.755319  \n",
       "0.001979     -110.755319  \n",
       "0.002158     -110.755319  "
      ]
     },
     "execution_count": 103,
     "metadata": {},
     "output_type": "execute_result"
    }
   ],
   "source": [
    "ppsdmean.head()"
   ]
  },
  {
   "cell_type": "code",
   "execution_count": 100,
   "metadata": {},
   "outputs": [
    {
     "data": {
      "text/plain": [
       "<matplotlib.text.Text at 0x7f2eacd9f810>"
      ]
     },
     "execution_count": 100,
     "metadata": {},
     "output_type": "execute_result"
    },
    {
     "data": {
      "image/png": "[encoded data removed]",
      "text/plain": [
       "<matplotlib.figure.Figure at 0x7f2ead4aba50>"
      ]
     },
     "metadata": {},
     "output_type": "display_data"
    }
   ],
   "source": [
    "pl = ppsdmean.plot(figsize=(10, 5), logx=True)\n",
    "pl.set_xlim(0.1,50)\n",
    "pl.set_xlabel('frequency (Hz)')\n",
    "pl.set_ylabel('Amplitude (dB)')\n",
    "pl.legend(bbox_to_anchor=(1.5, 1))\n",
    "#title\n",
    "d1 = UTCDateTime(date1)\n",
    "d2 = UTCDateTime(date2)+86400\n",
    "pl.set_title(str(d1.date)+' to '+str(d2.date))"
   ]
  }
 ],
 "metadata": {
  "kernelspec": {
   "display_name": "Python 2",
   "language": "python",
   "name": "python2"
  },
  "language_info": {
   "codemirror_mode": {
    "name": "ipython",
    "version": 2
   },
   "file_extension": ".py",
   "mimetype": "text/x-python",
   "name": "python",
   "nbconvert_exporter": "python",
   "pygments_lexer": "ipython2",
   "version": "2.7.12"
  }
 },
 "nbformat": 4,
 "nbformat_minor": 2
}
