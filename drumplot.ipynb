{
 "cells": [
  {
   "cell_type": "code",
   "execution_count": null,
   "metadata": {},
   "outputs": [],
   "source": [
    "%%javascript\n",
    "IPython.OutputArea.prototype._should_scroll = function(lines) {\n",
    "    return false;\n",
    "}"
   ]
  },
  {
   "cell_type": "markdown",
   "metadata": {},
   "source": [
    "Drumplot (Helicorder) With Data Select and Filtering\n",
    "--\n",
    "\n",
    "**What and How**\n",
    "\n",
    "The purpose of this notebook is to provide non-seismologists with a relatively easy to use tool to make drumplots (helicorders) of a day of seismic data. In particular, it provides a capability to filter the data before plotting. This was identified as a short coming of existing products at the time of the April 2016 White Island eruption. Filtering can be important to enhance very long period (VLP) signals in seismic waveforms that can accompany explosive eruptions.\n",
    "\n",
    "Data are acquired from GeoNet's FDSN web servers. The archive server is used as the first choice, and if that does not contain the data (it only keeps data older than 7 days) then the near real-time server will be used instead.\n",
    "\n",
    "Large signals can produce a trace that extends over much of the drumplot and obscures other information. For that reason, large amplitude waves are clipped before plotting.\n",
    "\n",
    "\n",
    "**Instructions**\n",
    "1. Run the notebook. To do this, click 'Cell' in the dropdown menu, and then click 'Run All'.\n",
    "2. Input boxes will appear below cell [15].\n",
    "3. Select the date and the data stream, and then click 'Retrieve data'.\n",
    "4. This may take a few moments. Once the data have been retrieved, a message will be displayed.\n",
    "5. Move to the input boxes below cell [16].\n",
    "6. If you want to filter the data, select the box labelled Filter? The default is no filtering. If you want to filter the waveform, you also need to select the bandpass filter range. The default is 0.1 to 10 Hz.\n",
    "7. Depending on the amplitude of the signal, it may be necessary to adjust the plot gain, this scales the traces up or down. Some experimentation may be needed to find the best value. Try the default value first, it is suitable for many drumplots.\n",
    "8. Click 'Show on screen' to display the drumplot below.\n",
    "9. Large amplitudes are automatically clipped. The clip value is currently not adjustable by a user.\n",
    "10. You can repeat steps 6-8 as many times as you want, adjusting filter parameters and plot gains, to get the drumplot looking the way you want. Each time you click on 'Show on screen', a new drumplot will be produced and will show below any existing drumplots.\n",
    "11. To produce an output file suitable for printing, click on 'Output to file'. This will produce a file that is visible in the Jupyter Hub file manager tab in your browser. To save that file, click on the file name to open a view of the helicorder in another browser tab, then right click on the image and select 'Save image as ...'.\n",
    "12. The image will be named station.location.component.network_yyyymmdd_filter.drum.png. Examples are WIZ.10.HHZ.NZ_20171031_bandpass_0.1-4.6.drum.png and WIZ.10.HHZ.NZ_20171031_nofilt.drum.png."
   ]
  },
  {
   "cell_type": "code",
   "execution_count": null,
   "metadata": {
    "collapsed": true
   },
   "outputs": [],
   "source": [
    "from obspy.core import UTCDateTime\n",
    "from obspy.clients.fdsn import Client\n",
    "import matplotlib.pyplot as plt\n",
    "import numpy as np\n",
    "from ipywidgets import interact, interactive, fixed, interact_manual\n",
    "import ipywidgets as widgets\n",
    "from ipywidgets import Button, Layout\n",
    "%matplotlib inline"
   ]
  },
  {
   "cell_type": "code",
   "execution_count": null,
   "metadata": {},
   "outputs": [],
   "source": [
    "from IPython.core.display import display, HTML\n",
    "display(HTML(\"<style>.container { width:100% !important; }</style>\"))"
   ]
  },
  {
   "cell_type": "code",
   "execution_count": null,
   "metadata": {
    "collapsed": true
   },
   "outputs": [],
   "source": [
    "#GeoNet's FDSN web servers\n",
    "arc_client = 'http://service.geonet.org.nz'\n",
    "nrt_client = 'http://fdsn-ws-nrt.ap-southeast-2.elasticbeanstalk.com'"
   ]
  },
  {
   "cell_type": "code",
   "execution_count": null,
   "metadata": {
    "collapsed": true
   },
   "outputs": [],
   "source": [
    "current = False"
   ]
  },
  {
   "cell_type": "code",
   "execution_count": null,
   "metadata": {
    "collapsed": true
   },
   "outputs": [],
   "source": [
    "#plot initialisation\n",
    "filt = False\n",
    "corners = 2\n",
    "zerophase = False\n",
    "defscale = 1e4\n",
    "scale = defscale\n",
    "\n",
    "#size ratio to match aspect ratio of print paper\n",
    "xsize = 3200\n",
    "ysize = int(xsize/1.4) \n",
    "size = (xsize,ysize)\n",
    "\n",
    "#large trace clip\n",
    "clip = 100000"
   ]
  },
  {
   "cell_type": "code",
   "execution_count": null,
   "metadata": {
    "collapsed": true
   },
   "outputs": [],
   "source": [
    "def selsite(s):\n",
    "  global site, stn, loc, cmp, net\n",
    "  site = s['new']\n",
    "  \n",
    "  stn = site.split(\".\")[0]\n",
    "  loc = site.split(\".\")[1]\n",
    "  cmp = site.split(\".\")[2]\n",
    "  net = site.split(\".\")[3]"
   ]
  },
  {
   "cell_type": "code",
   "execution_count": null,
   "metadata": {
    "collapsed": true
   },
   "outputs": [],
   "source": [
    "def seldate(d):\n",
    "  global pdate\n",
    "  date = d['new']\n",
    "  pdate = date.strftime(\"%Y%m%d\")\n",
    "  "
   ]
  },
  {
   "cell_type": "code",
   "execution_count": null,
   "metadata": {
    "collapsed": true
   },
   "outputs": [],
   "source": [
    "def retrieve(r):\n",
    "  global tr\n",
    "  if (current):   #current data, last day, nrt client only\n",
    "    time = UTCDateTime()\n",
    "    client = Client(nrt_client)\n",
    "    st = client.get_waveforms(str(net), str(stn), str(loc), str(cmp), time - 86400, time, attach_response=True)\n",
    "  else:   #older data\n",
    "    time = UTCDateTime(pdate)\n",
    "    try:\n",
    "        client = Client(arc_client)\n",
    "        st = client.get_waveforms(str(net), str(stn), str(loc), str(cmp), time, time + 86400, attach_response=True)\n",
    "        print 'arc client successful'\n",
    "        #if this raises an exception, try the near real-time server\n",
    "    except:\n",
    "        client = Client(nrt_client)\n",
    "        st = client.get_waveforms(str(net), str(stn), str(loc), str(cmp), time, time + 86400, attach_response=True)\n",
    "        print 'nrt client successful'\n",
    "  st.remove_sensitivity() \n",
    "  tr = st[0]\n",
    "  tr.data *= 1e9 #convert from m/s to nm/s\n",
    "  tr.data = np.clip(tr.data, clip*-1, clip)\n",
    "  print 'data retrieved'\n",
    "  print str(st)"
   ]
  },
  {
   "cell_type": "code",
   "execution_count": null,
   "metadata": {
    "collapsed": true
   },
   "outputs": [],
   "source": [
    "def bandpass(bp):\n",
    "  global lp, hp\n",
    "  lp, hp  = bp['new']"
   ]
  },
  {
   "cell_type": "code",
   "execution_count": null,
   "metadata": {
    "collapsed": true
   },
   "outputs": [],
   "source": [
    "def filter(f):\n",
    "  global filt  \n",
    "  filt = f['new']"
   ]
  },
  {
   "cell_type": "code",
   "execution_count": null,
   "metadata": {
    "collapsed": true
   },
   "outputs": [],
   "source": [
    "def gain(g):\n",
    "  global magn, scale  \n",
    "  magn = g['new']\n",
    "  scale = defscale / magn"
   ]
  },
  {
   "cell_type": "code",
   "execution_count": null,
   "metadata": {
    "collapsed": true
   },
   "outputs": [],
   "source": [
    "def screen(c):\n",
    "    if (filt):\n",
    "        trcp = tr.copy()\n",
    "        trcp.filter('bandpass', freqmin=lp, freqmax=hp, corners=corners, zerophase=zerophase)\n",
    "        title = site+'_'+pdate+'_bandpass_'+str(lp)+'-'+str(hp)\n",
    "        trcp.plot(type='dayplot', linewidth = 0.3, vertical_scaling_range= scale, size=size, color=('navy','blue','blue','blue'), title=title)\n",
    "    else:\n",
    "        title = site + '_' + pdate + '_nofilt'\n",
    "        tr.plot(type='dayplot', linewidth = 0.3, vertical_scaling_range= scale, size=size, color=('navy','blue','blue','blue'), title=title)"
   ]
  },
  {
   "cell_type": "code",
   "execution_count": null,
   "metadata": {
    "collapsed": true
   },
   "outputs": [],
   "source": [
    "def output(o):\n",
    "    if (filt):\n",
    "        trcp = tr.copy()\n",
    "        trcp.filter('bandpass', freqmin=lp, freqmax=hp, corners=corners, zerophase=zerophase)\n",
    "        title = site+'_'+pdate+'_bandpass_'+str(lp)+'-'+str(hp)\n",
    "        trcp.plot(type='dayplot', linewidth = 0.3, vertical_scaling_range= scale, size=size, color=('navy','blue','blue','blue'), title=title, outfile=title+'.drum.png')\n",
    "    else:\n",
    "        title = site+'_'+pdate+'_nofilt'\n",
    "        tr.plot(type='dayplot', linewidth = 0.3, vertical_scaling_range= scale, size=size, color=('navy','blue','blue','blue'), title=title, outfile=title+'.drum.png')"
   ]
  },
  {
   "cell_type": "code",
   "execution_count": null,
   "metadata": {},
   "outputs": [],
   "source": [
    "s = widgets.Select(\n",
    "    options=['select stream', 'WIZ.10.HHZ.NZ', 'WSRZ.10.HHZ.NZ', 'MAVZ.10.HHZ.NZ', 'FWVZ.10.HHZ.NZ', 'WHVZ.10.HHZ.NZ', 'TRVZ.10.HHZ.NZ', 'GLKZ.10.HHZ.NZ'],\n",
    "    value='select stream',\n",
    "    description='Stream to display:',\n",
    "    disabled=False\n",
    ")\n",
    "s.observe(selsite, names='value')\n",
    "\n",
    "d = widgets.DatePicker(\n",
    "  description='Date to display:')\n",
    "d.observe(seldate, names='value')\n",
    "\n",
    "r=widgets.Button(\n",
    "    description='Retrieve data',\n",
    "    disabled=False,\n",
    "    button_style='success',\n",
    "    tooltip='Retrieve data for plotting')\n",
    "r.on_click(retrieve)\n",
    "\n",
    "widgets.HBox([d, s, r])"
   ]
  },
  {
   "cell_type": "code",
   "execution_count": null,
   "metadata": {
    "scrolled": true
   },
   "outputs": [],
   "source": [
    "f=widgets.Checkbox(\n",
    "    description='Filter?',\n",
    "    value=False,\n",
    "    tooltip='Set filtering',\n",
    "    disabled=False,\n",
    "    layout=widgets.Layout(width='10%'))\n",
    "f.observe(filter,names='value')\n",
    "\n",
    "b=widgets.FloatRangeSlider(\n",
    "    value=[0.1, 10],\n",
    "    min=0.05,\n",
    "    max=10,\n",
    "    step=0.05,\n",
    "    description='band-pass:',\n",
    "    disabled=False,\n",
    "    continuous_update=True,\n",
    "    orientation='horizontal',\n",
    "    readout=True,\n",
    "    readout_format='.1f',\n",
    "    slider_color='white')\n",
    "b.observe(bandpass, names='value')\n",
    "\n",
    "g=widgets.FloatSlider(\n",
    "    value=1,\n",
    "    min=0.1,\n",
    "    max=10,\n",
    "    step=0.1,\n",
    "    description='plot gain:',\n",
    "    disabled=False,\n",
    "    continuous_update=True,\n",
    "    orientation='horizontal',\n",
    "    readout=True,\n",
    "    readout_format='.1f',\n",
    "    slider_color='white')\n",
    "g.observe(gain, names='value')\n",
    "\n",
    "widgets.HBox([f,b,g])\n",
    "\n",
    "c=widgets.Button(\n",
    "    description='Show on screen',\n",
    "    disabled=False,\n",
    "    button_style='success',\n",
    "    tooltip='Make drumplot')\n",
    "c.on_click(screen)\n",
    "\n",
    "o=widgets.Button(\n",
    "    description='Output to file',\n",
    "    disabled=False,\n",
    "    button_style='success',\n",
    "    tooltip='Make file copy')\n",
    "o.on_click(output)\n",
    "\n",
    "widgets.HBox([f, b, g, c, o])"
   ]
  }
 ],
 "metadata": {
  "kernelspec": {
   "display_name": "Python 2",
   "language": "python",
   "name": "python2"
  },
  "language_info": {
   "codemirror_mode": {
    "name": "ipython",
    "version": 2
   },
   "file_extension": ".py",
   "mimetype": "text/x-python",
   "name": "python",
   "nbconvert_exporter": "python",
   "pygments_lexer": "ipython2",
   "version": "2.7.12"
  },
  "widgets": {
   "state": {
    "47b1544c0af04bc29940e63612a462cb": {
     "views": [
      {
       "cell_index": 16
      }
     ]
    }
   },
   "version": "1.2.0"
  }
 },
 "nbformat": 4,
 "nbformat_minor": 2
}
