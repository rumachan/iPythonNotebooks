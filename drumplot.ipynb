{
 "cells": [
  {
   "cell_type": "code",
   "execution_count": 1,
   "metadata": {
    "collapsed": true
   },
   "outputs": [],
   "source": [
    "from obspy.core import UTCDateTime\n",
    "from obspy.clients.fdsn import Client\n",
    "import matplotlib.pyplot as plt\n",
    "from ipywidgets import interact, interactive, fixed, interact_manual\n",
    "import ipywidgets as widgets\n",
    "from ipywidgets import Button, Layout\n",
    "%matplotlib inline"
   ]
  },
  {
   "cell_type": "code",
   "execution_count": 2,
   "metadata": {},
   "outputs": [
    {
     "data": {
      "text/html": [
       "<style>.container { width:100% !important; }</style>"
      ],
      "text/plain": [
       "<IPython.core.display.HTML object>"
      ]
     },
     "metadata": {},
     "output_type": "display_data"
    }
   ],
   "source": [
    "from IPython.core.display import display, HTML\n",
    "display(HTML(\"<style>.container { width:100% !important; }</style>\"))"
   ]
  },
  {
   "cell_type": "code",
   "execution_count": 3,
   "metadata": {
    "collapsed": true
   },
   "outputs": [],
   "source": [
    "client = Client(\"GEONET\")"
   ]
  },
  {
   "cell_type": "code",
   "execution_count": 4,
   "metadata": {
    "collapsed": true
   },
   "outputs": [],
   "source": [
    "current = False"
   ]
  },
  {
   "cell_type": "code",
   "execution_count": 5,
   "metadata": {
    "collapsed": true
   },
   "outputs": [],
   "source": [
    "#plot initialisation\n",
    "filt = False\n",
    "corners = 2\n",
    "zerophase = False\n",
    "defscale = 5e3\n",
    "scale = defscale\n",
    "size = (2400,1200)"
   ]
  },
  {
   "cell_type": "code",
   "execution_count": 6,
   "metadata": {
    "collapsed": true
   },
   "outputs": [],
   "source": [
    "def selsite(s):\n",
    "  global site, stn, loc, cmp, net\n",
    "  site = s['new']\n",
    "  \n",
    "  stn = site.split(\".\")[0]\n",
    "  loc = site.split(\".\")[1]\n",
    "  cmp = site.split(\".\")[2]\n",
    "  net = site.split(\".\")[3]"
   ]
  },
  {
   "cell_type": "code",
   "execution_count": 7,
   "metadata": {
    "collapsed": true
   },
   "outputs": [],
   "source": [
    "def seldate(d):\n",
    "  global pdate\n",
    "  date = d['new']\n",
    "  pdate = date.strftime(\"%Y%m%d\")\n",
    "  "
   ]
  },
  {
   "cell_type": "code",
   "execution_count": 8,
   "metadata": {
    "collapsed": true
   },
   "outputs": [],
   "source": [
    "def retrieve(r):\n",
    "  global st\n",
    "  if (current):   #current data\n",
    "    time = UTCDateTime()\n",
    "    st = client.get_waveforms(str(net), str(stn), str(loc), str(cmp), time - 86400, time)\n",
    "  else:   #older data\n",
    "    time = UTCDateTime(pdate)\n",
    "    st = client.get_waveforms(str(net), str(stn), str(loc), str(cmp), time, time + 86400)\n",
    "  print 'data retrieved'\n",
    "  print str(st)"
   ]
  },
  {
   "cell_type": "code",
   "execution_count": 9,
   "metadata": {
    "collapsed": true
   },
   "outputs": [],
   "source": [
    "def bandpass(bp):\n",
    "  global lp, hp\n",
    "  lp, hp  = bp['new']"
   ]
  },
  {
   "cell_type": "code",
   "execution_count": 10,
   "metadata": {
    "collapsed": true
   },
   "outputs": [],
   "source": [
    "def filter(f):\n",
    "  global filt  \n",
    "  filt = f['new']"
   ]
  },
  {
   "cell_type": "code",
   "execution_count": 11,
   "metadata": {
    "collapsed": true
   },
   "outputs": [],
   "source": [
    "def gain(g):\n",
    "  global magn, scale  \n",
    "  magn = g['new']\n",
    "  scale = defscale / magn"
   ]
  },
  {
   "cell_type": "code",
   "execution_count": 12,
   "metadata": {
    "collapsed": true
   },
   "outputs": [],
   "source": [
    "def screen(c):\n",
    "    if (filt):\n",
    "        stcp = st.copy()\n",
    "        stcp.filter('bandpass', freqmin=lp, freqmax=hp, corners=corners, zerophase=zerophase)\n",
    "        title = site+'_'+pdate+'_bandpass_'+str(lp)+'-'+str(hp)\n",
    "        stcp.plot(type='dayplot', vertical_scaling_range= scale, size=size, color=('navy','blue','blue','blue'), title=title)\n",
    "    else:\n",
    "        title = site + '_' + pdate + '_nofilt'\n",
    "        st.plot(type='dayplot', vertical_scaling_range= scale, size=size, color=('navy','blue','blue','blue'), title=title)"
   ]
  },
  {
   "cell_type": "code",
   "execution_count": 13,
   "metadata": {
    "collapsed": true
   },
   "outputs": [],
   "source": [
    "def output(o):\n",
    "    if (filt):\n",
    "        stcp = st.copy()\n",
    "        stcp.filter('bandpass', freqmin=lp, freqmax=hp, corners=corners, zerophase=zerophase)\n",
    "        title = site+'_'+pdate+'_bandpass_'+str(lp)+'-'+str(hp)\n",
    "        stcp.plot(type='dayplot', vertical_scaling_range= scale, size=size, color=('navy','blue','blue','blue'), title=title, outfile=title+'.drum.png')\n",
    "    else:\n",
    "        title = site+'_'+pdate+'_nofilt'\n",
    "        st.plot(type='dayplot', vertical_scaling_range= scale, size=size, color=('navy','blue','blue','blue'), title=title, outfile=title+'.drum.png')"
   ]
  },
  {
   "cell_type": "code",
   "execution_count": 14,
   "metadata": {},
   "outputs": [
    {
     "data": {
      "application/vnd.jupyter.widget-view+json": {
       "model_id": "55ef7c34173549c6b74151d40778c771"
      }
     },
     "metadata": {},
     "output_type": "display_data"
    },
    {
     "name": "stdout",
     "output_type": "stream",
     "text": [
      "data retrieved\n",
      "2 Trace(s) in Stream:\n",
      "NZ.WIZ.10.HHZ | 2017-05-23T23:59:58.863241Z - 2017-05-24T19:28:01.603241Z | 100.0 Hz, 7008275 samples\n",
      "NZ.WIZ.10.HHZ | 2017-05-24T19:27:57.473127Z - 2017-05-24T20:28:02.703127Z | 100.0 Hz, 360524 samples\n"
     ]
    }
   ],
   "source": [
    "s = widgets.Select(\n",
    "    options=['select stream', 'WIZ.10.HHZ.NZ', 'WSRZ.10.HHZ.NZ', 'MAVZ.10.HHZ.NZ', 'FWVZ.10.HHZ.NZ', 'WHVZ.10.HHZ.NZ', 'TRVZ.10.HHZ.NZ', 'GLKZ.10.HHZ.NZ'],\n",
    "    value='select stream',\n",
    "    description='Stream to display:',\n",
    "    disabled=False\n",
    ")\n",
    "s.observe(selsite, names='value')\n",
    "\n",
    "d = widgets.DatePicker(\n",
    "  description='Date to display:')\n",
    "d.observe(seldate, names='value')\n",
    "\n",
    "r=widgets.Button(\n",
    "    description='Retrieve data',\n",
    "    disabled=False,\n",
    "    button_style='success',\n",
    "    tooltip='Retrieve data for plotting')\n",
    "r.on_click(retrieve)\n",
    "\n",
    "widgets.HBox([d, s, r])"
   ]
  },
  {
   "cell_type": "code",
   "execution_count": 15,
   "metadata": {
    "scrolled": true
   },
   "outputs": [
    {
     "data": {
      "application/vnd.jupyter.widget-view+json": {
       "model_id": "b5cd5916fe924eeb9a32394bd1411d0d"
      }
     },
     "metadata": {},
     "output_type": "display_data"
    }
   ],
   "source": [
    "f=widgets.Checkbox(\n",
    "    description='Filter?',\n",
    "    value=False,\n",
    "    tooltip='Set filtering',\n",
    "    disabled=False,\n",
    "    layout=widgets.Layout(width='10%'))\n",
    "f.observe(filter,names='value')\n",
    "\n",
    "b=widgets.FloatRangeSlider(\n",
    "    value=[0.1, 10],\n",
    "    min=0.05,\n",
    "    max=10,\n",
    "    step=0.05,\n",
    "    description='band-pass:',\n",
    "    disabled=False,\n",
    "    continuous_update=True,\n",
    "    orientation='horizontal',\n",
    "    readout=True,\n",
    "    readout_format='.1f',\n",
    "    slider_color='white')\n",
    "b.observe(bandpass, names='value')\n",
    "\n",
    "g=widgets.FloatSlider(\n",
    "    value=1,\n",
    "    min=0.1,\n",
    "    max=10,\n",
    "    step=0.1,\n",
    "    description='plot gain:',\n",
    "    disabled=False,\n",
    "    continuous_update=True,\n",
    "    orientation='horizontal',\n",
    "    readout=True,\n",
    "    readout_format='.1f',\n",
    "    slider_color='white')\n",
    "g.observe(gain, names='value')\n",
    "\n",
    "widgets.HBox([f,b,g])\n",
    "\n",
    "c=widgets.Button(\n",
    "    description='Show on screen',\n",
    "    disabled=False,\n",
    "    button_style='success',\n",
    "    tooltip='Make drumplot')\n",
    "c.on_click(screen)\n",
    "\n",
    "o=widgets.Button(\n",
    "    description='Output to file',\n",
    "    disabled=False,\n",
    "    button_style='success',\n",
    "    tooltip='Make file copy')\n",
    "o.on_click(output)\n",
    "\n",
    "widgets.HBox([f, b, g, c, o])"
   ]
  }
 ],
 "metadata": {
  "kernelspec": {
   "display_name": "Python 2",
   "language": "python",
   "name": "python2"
  },
  "language_info": {
   "codemirror_mode": {
    "name": "ipython",
    "version": 2
   },
   "file_extension": ".py",
   "mimetype": "text/x-python",
   "name": "python",
   "nbconvert_exporter": "python",
   "pygments_lexer": "ipython2",
   "version": "2.7.12"
  },
  "widgets": {
   "state": {
    "47b1544c0af04bc29940e63612a462cb": {
     "views": [
      {
       "cell_index": 16
      }
     ]
    }
   },
   "version": "1.2.0"
  }
 },
 "nbformat": 4,
 "nbformat_minor": 2
}
