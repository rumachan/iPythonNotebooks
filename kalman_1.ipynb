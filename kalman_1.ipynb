{
 "cells": [
  {
   "cell_type": "markdown",
   "metadata": {},
   "source": [
    "Kalman Filter Basic Worked Example\n",
    "--"
   ]
  },
  {
   "cell_type": "markdown",
   "metadata": {},
   "source": [
    "**Objective - Estimate a temperature**\n",
    "\n",
    "Follows https://www.youtube.com/watch?v=SIQJaqYVtuE"
   ]
  },
  {
   "cell_type": "code",
   "execution_count": null,
   "metadata": {
    "collapsed": true
   },
   "outputs": [],
   "source": [
    "import pandas as pd\n",
    "import numpy as np\n",
    "%matplotlib inline"
   ]
  },
  {
   "cell_type": "markdown",
   "metadata": {},
   "source": [
    "**Initial parameters**"
   ]
  },
  {
   "cell_type": "code",
   "execution_count": null,
   "metadata": {},
   "outputs": [],
   "source": [
    "#true temperature\n",
    "truetemp = 25\n",
    "\n",
    "#samples\n",
    "samples = 10\n",
    "\n",
    "#initial estimates\n",
    "ini = 28\n",
    "ini_err = 3\n",
    "\n",
    "#measurements\n",
    "rand = np.random.random_sample(samples) #0-1\n",
    "mea = (rand-0.5)*6+truetemp #+/-3deg of truetemp\n",
    "\n",
    "#measrement error, constant\n",
    "merr = 3\n",
    "mea_err = np.full(samples,merr)\n",
    "\n"
   ]
  },
  {
   "cell_type": "markdown",
   "metadata": {},
   "source": [
    "**Loop calculation**"
   ]
  },
  {
   "cell_type": "code",
   "execution_count": null,
   "metadata": {
    "scrolled": true
   },
   "outputs": [],
   "source": [
    "#clunky but clear\n",
    "\n",
    "columns = ['measure', 'measure_error', 'estimate', 'previous_error', 'KG', 'error_estimate']\n",
    "df = pd.DataFrame(columns=columns)\n",
    "\n",
    "for i in range(0,len(mea)):\n",
    "    if i == 0:\n",
    "        prevest = ini\n",
    "        preverr = ini_err\n",
    "    #kalman gain\n",
    "    kg = preverr/(preverr+mea_err[i])\n",
    "    \n",
    "    #new estimate\n",
    "    est = prevest + kg * (mea[i] - prevest)\n",
    "                          \n",
    "    #new error estimate\n",
    "    esterr = (1 - kg) * preverr\n",
    "                          \n",
    "    #output\n",
    "    df = df.append({'measure':mea[i], 'measure_error':mea_err[i], 'estimate':est, 'previous_error':preverr, 'KG':kg, 'error_estimate':esterr}, ignore_index=True)\n",
    "    #print (i, mea[i], mea_err[i], est, preverr, kg, esterr)\n",
    "    \n",
    "    #update previous values\n",
    "    prevest = est\n",
    "    preverr = esterr"
   ]
  },
  {
   "cell_type": "markdown",
   "metadata": {},
   "source": [
    "**Plot**"
   ]
  },
  {
   "cell_type": "code",
   "execution_count": null,
   "metadata": {},
   "outputs": [],
   "source": [
    "pl = df['measure'].plot(marker='o', color='blue', linestyle='None', figsize=(10,5))\n",
    "df['estimate'].plot(ax=pl, marker = 'o', color='red', linestyle='--', yerr=df['error_estimate'])\n",
    "pl.axhline(truetemp, color='black', linestyle='--', label='actual')\n",
    "pl.set_xlim(-0.1, len(mea)-0.9)\n",
    "pl.set_xlabel('iteration')\n",
    "pl.set_ylabel('temperature')\n",
    "pl.legend(loc='best')\n",
    "pl.set_title('initial estimate = '+str(ini)+', measure error = '+str(merr));"
   ]
  }
 ],
 "metadata": {
  "kernelspec": {
   "display_name": "Python 3",
   "language": "python",
   "name": "python3"
  },
  "language_info": {
   "codemirror_mode": {
    "name": "ipython",
    "version": 3
   },
   "file_extension": ".py",
   "mimetype": "text/x-python",
   "name": "python",
   "nbconvert_exporter": "python",
   "pygments_lexer": "ipython3",
   "version": "3.6.3"
  }
 },
 "nbformat": 4,
 "nbformat_minor": 2
}
