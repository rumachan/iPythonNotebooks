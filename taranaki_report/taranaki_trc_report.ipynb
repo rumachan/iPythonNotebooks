{
 "cells": [
  {
   "cell_type": "markdown",
   "metadata": {},
   "source": [
    "# Taranaki Annual Seismic and Geodetic Report for TRC\n",
    "\n",
    "## Purpose:\n",
    "Streamline production of data and figures for Taranaki TRC anuual report. All what is needed in a single notebook.\n",
    "\n",
    "This is not highly documented as it is not intended to be for the 'casual user'.\n",
    "\n",
    "All we need is a notebook to write the report!!\n",
    "\n",
    "## Problems:\n",
    "With Python3 version, I can't seem to plot GNSS error bars.\n",
    "\n",
    "A recent version of Matplotlib is extending aces beyond data limits. set_xlim etc allows this to be fixed, but not for GNSS time series plots.\n",
    "\n",
    "## Author:\n",
    "Steven Sherburn\n",
    "\n",
    "## Date:\n",
    "July 2017"
   ]
  },
  {
   "cell_type": "code",
   "execution_count": null,
   "metadata": {},
   "outputs": [],
   "source": [
    "import pandas as pd\n",
    "\n",
    "import matplotlib.pyplot as plt\n",
    "import matplotlib.gridspec as gridspec\n",
    "import matplotlib as mpl\n",
    "from matplotlib.ticker import MultipleLocator\n",
    "from matplotlib.transforms import offset_copy\n",
    "from matplotlib import patheffects\n",
    "\n",
    "\n",
    "import scipy.signal\n",
    "import numpy as np\n",
    "from math import floor\n",
    "\n",
    "import datetime\n",
    "from dateutil import parser\n",
    "\n",
    "import cartopy.crs as ccrs\n",
    "import cartopy.io.img_tiles as cimgt\n",
    "from cartopy.io.img_tiles import OSM\n",
    "from cartopy.io.img_tiles import Stamen\n",
    "\n",
    "import warnings; warnings.simplefilter('ignore')"
   ]
  },
  {
   "cell_type": "code",
   "execution_count": null,
   "metadata": {},
   "outputs": [],
   "source": [
    "#box for search area\n",
    "bbox = '173.5,-39.75,174.58,-38.83'\n",
    "lonmin = 173.5\n",
    "lonmax = 174.58\n",
    "latmin = -39.75\n",
    "latmax = -38.83"
   ]
  },
  {
   "cell_type": "code",
   "execution_count": null,
   "metadata": {},
   "outputs": [],
   "source": [
    "startall = '1994-01-01'\n",
    "startyear = '2019-07-01'\n",
    "end = '2020-07-01'"
   ]
  },
  {
   "cell_type": "markdown",
   "metadata": {},
   "source": [
    "Seismic\n",
    "--"
   ]
  },
  {
   "cell_type": "markdown",
   "metadata": {},
   "source": [
    "**Seismic data since 1994**"
   ]
  },
  {
   "cell_type": "code",
   "execution_count": null,
   "metadata": {},
   "outputs": [],
   "source": [
    "url = 'https://quakesearch.geonet.org.nz/csv?bbox='+bbox+'&startdate='+startall+'&enddate='+end"
   ]
  },
  {
   "cell_type": "code",
   "execution_count": null,
   "metadata": {},
   "outputs": [],
   "source": [
    "eqs = pd.read_csv(url, parse_dates=['origintime'], index_col='origintime')"
   ]
  },
  {
   "cell_type": "markdown",
   "metadata": {},
   "source": [
    "**NZ Active Faults Database**"
   ]
  },
  {
   "cell_type": "code",
   "execution_count": null,
   "metadata": {},
   "outputs": [],
   "source": [
    "#use existing GMT format file with '>' indicating a line break\n",
    "names=['longitude', 'latitude']\n",
    "faults = pd.read_csv('nzafd_250k.psxy', sep='\\s+', na_values='>', names=names)"
   ]
  },
  {
   "cell_type": "markdown",
   "metadata": {},
   "source": [
    "Maps\n",
    "--"
   ]
  },
  {
   "cell_type": "markdown",
   "metadata": {},
   "source": [
    "**This year**"
   ]
  },
  {
   "cell_type": "code",
   "execution_count": null,
   "metadata": {},
   "outputs": [],
   "source": [
    "#number of events is the year\n",
    "eqs['publicid'][(eqs.index>startyear)&(eqs.index<end)].count()"
   ]
  },
  {
   "cell_type": "code",
   "execution_count": null,
   "metadata": {},
   "outputs": [],
   "source": [
    "#prepare eqs\n",
    "eqsyr50 = eqs[(eqs.index>startyear)&(eqs.index<end)&(eqs[' depth']<50)]\n",
    "eqsyrdp = eqs[(eqs.index>startyear)&(eqs.index<end)&(eqs[' depth']>=50)]"
   ]
  },
  {
   "cell_type": "code",
   "execution_count": null,
   "metadata": {},
   "outputs": [],
   "source": [
    "#cross-section area\n",
    "slatmin = -39.083\n",
    "slatmax = -39.417\n",
    "slonmin = 173.51\n",
    "slonmax = 174.567\n",
    "boxlon = [slonmin, slonmin, slonmax, slonmax, slonmin]\n",
    "boxlat = [slatmin, slatmax, slatmax, slatmin, slatmin]"
   ]
  },
  {
   "cell_type": "code",
   "execution_count": null,
   "metadata": {},
   "outputs": [],
   "source": [
    "#imagery\n",
    "imagery = OSM()\n",
    "# imagery = Stamen('terrain-background')\n",
    "ax = plt.axes(projection=imagery.crs)\n",
    "ax.set_extent([lonmin, lonmax, latmin, latmax])\n",
    "ax.add_image(imagery, 10)\n",
    "# gl = ax.gridlines(draw_labels=True, alpha = 0.5)\n",
    "# gl.xlabels_top = False\n",
    "# gl.ylabels_right = False\n",
    "\n",
    "#active faults\n",
    "plt.plot(faults['longitude'], faults['latitude'], color='black', transform=ccrs.Geodetic())\n",
    "\n",
    "#hypocentres, symbol size=magnitude squared, as scatter symbol size is symbol area, square gives 'pleasing' image\n",
    "plt.scatter(eqsyr50['longitude'], eqsyr50[' latitude'], color='red', marker='o', s=eqsyr50[' magnitude']**2, transform=ccrs.PlateCarree(), label='<50')\n",
    "plt.scatter(eqsyrdp['longitude'], eqsyrdp[' latitude'], facecolors='None', edgecolors='black', linewidth=0.5, marker='o', s=eqsyrdp[' magnitude']**2, transform=ccrs.PlateCarree(), label=r'$\\geq$'+'50')\n",
    "\n",
    "#section position\n",
    "plt.plot(boxlon, boxlat, color='black', linestyle='--', marker='None', transform=ccrs.Geodetic())\n",
    "\n",
    "plt.legend(loc='best', handletextpad=0, prop={'size': 6})\n",
    "\n",
    "#scale_bar(ax, ccrs.Mercator(), 20)\n",
    "# plt.tight_layout()\n",
    "plt.savefig('year_map.png', dpi=400)"
   ]
  },
  {
   "cell_type": "markdown",
   "metadata": {},
   "source": [
    "**Events M>x, to help identify bigger ones**"
   ]
  },
  {
   "cell_type": "code",
   "execution_count": null,
   "metadata": {},
   "outputs": [],
   "source": [
    "yrm3 = eqsyr50[eqsyr50[' magnitude']>3]\n",
    "yrm3"
   ]
  },
  {
   "cell_type": "code",
   "execution_count": null,
   "metadata": {},
   "outputs": [],
   "source": [
    "#imagery\n",
    "imagery = OSM()\n",
    "# imagery = Stamen('terrain-background')\n",
    "ax = plt.axes(projection=imagery.crs)\n",
    "ax.set_extent([lonmin, lonmax, latmin, latmax])\n",
    "ax.add_image(imagery, 10)\n",
    "\n",
    "#active faults\n",
    "plt.plot(faults['longitude'], faults['latitude'], color='black', transform=ccrs.Geodetic())\n",
    "\n",
    "#hypocentres, symbol size=magnitude squared, as scatter symbol size is symbol area, square gives 'pleasing' image\n",
    "plt.scatter(yrm3['longitude'], yrm3[' latitude'], color='red', marker='o', s=yrm3[' magnitude']**2, transform=ccrs.PlateCarree())"
   ]
  },
  {
   "cell_type": "markdown",
   "metadata": {},
   "source": [
    "**All data, since 1994**"
   ]
  },
  {
   "cell_type": "code",
   "execution_count": null,
   "metadata": {},
   "outputs": [],
   "source": [
    "#prepare eqs\n",
    "eqsall50 = eqs[eqs[' depth']<50]\n",
    "eqsalldp = eqs[eqs[' depth']>=50]"
   ]
  },
  {
   "cell_type": "code",
   "execution_count": null,
   "metadata": {},
   "outputs": [],
   "source": [
    "eqs[(eqs[' depth']<50)&(eqs[' magnitude']>=4.5)]"
   ]
  },
  {
   "cell_type": "code",
   "execution_count": null,
   "metadata": {},
   "outputs": [],
   "source": [
    "#imagery\n",
    "imagery = OSM()\n",
    "# imagery = Stamen('terrain-background')\n",
    "ax = plt.axes(projection=imagery.crs)\n",
    "ax.set_extent([lonmin, lonmax, latmin, latmax])\n",
    "ax.add_image(imagery, 10)\n",
    "#ax.gridlines()\n",
    "\n",
    "#active faults\n",
    "plt.plot(faults['longitude'], faults['latitude'], color='black', transform=ccrs.Geodetic())\n",
    "\n",
    "#hypocentres, symbol size=magnitude squared, as scatter symbol size is symbol area, square gives 'pleasing' image\n",
    "plt.scatter(eqsall50['longitude'], eqsall50[' latitude'], color='red', linewidths=0, marker='o', alpha=0.25, s=eqsall50[' magnitude']**2, transform=ccrs.PlateCarree(), label='<50')\n",
    "plt.scatter(eqsalldp['longitude'], eqsalldp[' latitude'], facecolors='None', edgecolors='black', linewidth=0.5, marker='o', s=eqsalldp[' magnitude']**2, transform=ccrs.PlateCarree(), label=r'$\\geq$'+'50')\n",
    "\n",
    "plt.legend(loc='best', handletextpad=0, prop={'size': 6})\n",
    "\n",
    "# plt.tight_layout() \n",
    "plt.savefig('all_map.png', dpi=400)"
   ]
  },
  {
   "cell_type": "markdown",
   "metadata": {},
   "source": [
    "**All data, since 1994, magnitude >= 2.7**"
   ]
  },
  {
   "cell_type": "code",
   "execution_count": null,
   "metadata": {},
   "outputs": [],
   "source": [
    "#prepare eqs\n",
    "eqsall5027 = eqs[(eqs[' depth']<50)&(eqs[' magnitude']>=2.7)]\n",
    "eqsalldp27 = eqs[(eqs[' depth']>=50)&(eqs[' magnitude']>=2.7)]"
   ]
  },
  {
   "cell_type": "code",
   "execution_count": null,
   "metadata": {},
   "outputs": [],
   "source": [
    "#imagery\n",
    "imagery = OSM()\n",
    "# imagery = Stamen('terrain-background')\n",
    "ax = plt.axes(projection=imagery.crs)\n",
    "ax.set_extent([lonmin, lonmax, latmin, latmax])\n",
    "ax.add_image(imagery, 10)\n",
    "#ax.gridlines()\n",
    "\n",
    "#active faults\n",
    "plt.plot(faults['longitude'], faults['latitude'], color='black', transform=ccrs.Geodetic())\n",
    "\n",
    "#hypocentres, symbol size=magnitude squared, as scatter symbol size is symbol area, square gives 'pleasing' image\n",
    "plt.scatter(eqsall5027['longitude'], eqsall5027[' latitude'], color='red', marker='o', s=eqsall5027[' magnitude']**2, transform=ccrs.PlateCarree(), label='<50')\n",
    "plt.scatter(eqsalldp27['longitude'], eqsalldp27[' latitude'], facecolors='None', edgecolors='black', linewidth=0.5, marker='o', s=eqsalldp27[' magnitude']**2, transform=ccrs.PlateCarree(), label=r'$\\geq$'+'50')\n",
    "\n",
    "plt.legend(loc='best', handletextpad=0, prop={'size': 6}, framealpha=1)\n",
    "\n",
    "# plt.tight_layout() \n",
    "plt.savefig('all_2.7_map.png', dpi=400)"
   ]
  },
  {
   "cell_type": "markdown",
   "metadata": {},
   "source": [
    "**North Island Map for this year**"
   ]
  },
  {
   "cell_type": "code",
   "execution_count": null,
   "metadata": {},
   "outputs": [],
   "source": [
    "#box for search area\n",
    "wlatmin = -40.5\n",
    "wlatmax = -38.1\n",
    "wlonmin = 172.6\n",
    "wlonmax = 177.3\n",
    "\n",
    "bbox = '172.6,-40.5,177.3,-38.1'\n",
    "url = 'https://quakesearch.geonet.org.nz/csv?bbox='+bbox+'&startdate='+startyear+'&enddate='+end\n",
    "\n",
    "eqsw = pd.read_csv(url, parse_dates=['origintime'], index_col='origintime')"
   ]
  },
  {
   "cell_type": "code",
   "execution_count": null,
   "metadata": {},
   "outputs": [],
   "source": [
    "#prepare eqs\n",
    "eqsw10 = eqsw[eqsw[' depth']<10]\n",
    "eqsw10_20 = eqsw[(eqsw[' depth']>=10)&(eqsw[' depth']<20)]\n",
    "eqsw20_30 = eqsw[(eqsw[' depth']>=20)&(eqsw[' depth']<30)]\n",
    "eqsw30_50 = eqsw[(eqsw[' depth']>=30)&(eqsw[' depth']<50)]\n",
    "eqsw50 = eqsw[eqsw[' depth']>=50]"
   ]
  },
  {
   "cell_type": "code",
   "execution_count": null,
   "metadata": {},
   "outputs": [],
   "source": [
    "#area of main plot\n",
    "mlon = [lonmin, lonmin, lonmax, lonmax, lonmin]\n",
    "mlat = [latmin, latmax, latmax, latmin, latmin]"
   ]
  },
  {
   "cell_type": "code",
   "execution_count": null,
   "metadata": {},
   "outputs": [],
   "source": [
    "#imagery\n",
    "imagery = OSM()\n",
    "# imagery = Stamen('terrain-background')\n",
    "ax = plt.axes(projection=imagery.crs)\n",
    "ax.set_extent([wlonmin, wlonmax, wlatmin, wlatmax])\n",
    "ax.add_image(imagery, 8)\n",
    "#ax.gridlines()\n",
    "\n",
    "#hypocentres, symbol size=magnitude squared, as scatter symbol size is symbol area, square gives 'pleasing' image\n",
    "#plotting order so that shallow symbols overly deeper\n",
    "plt.scatter(eqsw50['longitude'], eqsw50[' latitude'], color='black', marker='o', s=eqsw50[' magnitude']**2, transform=ccrs.PlateCarree(), label=r'$\\geq$'+'50')\n",
    "plt.scatter(eqsw30_50['longitude'], eqsw30_50[' latitude'], color='blue', marker='o', s=eqsw30_50[' magnitude']**2, transform=ccrs.PlateCarree(), label='30-50')\n",
    "plt.scatter(eqsw20_30['longitude'], eqsw20_30[' latitude'], color='red', marker='o', s=eqsw20_30[' magnitude']**2, transform=ccrs.PlateCarree(), label='20-30')\n",
    "plt.scatter(eqsw10_20['longitude'], eqsw10_20[' latitude'], color='green', marker='o', s=eqsw10_20[' magnitude']**2, transform=ccrs.PlateCarree(), label='10-20')\n",
    "plt.scatter(eqsw10['longitude'], eqsw10[' latitude'], color='yellow', marker='o', s=eqsw10[' magnitude']**2, transform=ccrs.PlateCarree(), label='<10')\n",
    "\n",
    "#main plot area\n",
    "plt.plot(mlon, mlat, color='black', linestyle='--', marker='None', transform=ccrs.Geodetic())\n",
    "\n",
    "plt.legend(loc='best', handletextpad=0)\n",
    "\n",
    "plt.tight_layout() \n",
    "plt.savefig('year_wide_map.png', dpi=400)"
   ]
  },
  {
   "cell_type": "markdown",
   "metadata": {},
   "source": [
    "**Map of basement faults - for presentation reference only**"
   ]
  },
  {
   "cell_type": "code",
   "execution_count": null,
   "metadata": {},
   "outputs": [],
   "source": [
    "#use existing GMT format file with '>' indicating a line break\n",
    "names=['longitude', 'latitude', 'mE', 'mN']\n",
    "tarfaults1 = pd.read_csv('taranaki_faults-1.gmt', sep='\\s+', na_values='>', names=names)\n",
    "tarfaults2 = pd.read_csv('taranaki_faults-2.gmt', sep='\\s+', na_values='>', names=names)"
   ]
  },
  {
   "cell_type": "code",
   "execution_count": null,
   "metadata": {},
   "outputs": [],
   "source": [
    "#imagery\n",
    "imagery = OSM()\n",
    "# imagery = Stamen('terrain-background')\n",
    "ax = plt.axes(projection=imagery.crs)\n",
    "ax.set_extent([lonmin, lonmax, latmin, latmax])\n",
    "ax.add_image(imagery, 8)\n",
    "#ax.gridlines()\n",
    "\n",
    "#\n",
    "plt.plot(tarfaults1['longitude'], tarfaults1['latitude'], color='black', transform=ccrs.Geodetic())\n",
    "plt.plot(tarfaults2['longitude'], tarfaults2['latitude'], color='black', transform=ccrs.Geodetic())\n",
    "\n",
    "plt.tight_layout() \n",
    "plt.savefig('basement_faults_map.png', dpi=200)"
   ]
  },
  {
   "cell_type": "markdown",
   "metadata": {},
   "source": [
    "**Histogram, monthly events, depth < 50 km**"
   ]
  },
  {
   "cell_type": "code",
   "execution_count": null,
   "metadata": {},
   "outputs": [],
   "source": [
    "eqs50 = eqs[eqs[' depth']<50]\n",
    "eqs50m3 = eqs[(eqs[' depth']<50)&(eqs[' magnitude']>=3)]\n",
    "eqs50m4 = eqs[(eqs[' depth']<50)&(eqs[' magnitude']>=4)]"
   ]
  },
  {
   "cell_type": "code",
   "execution_count": null,
   "metadata": {},
   "outputs": [],
   "source": [
    "fig, (ax1, ax2, ax3) = plt.subplots(nrows=3,ncols=1, sharex=True, figsize=(15,10))\n",
    "\n",
    "mcount = eqs50m4.resample('1M', label='left', closed='left').count()\n",
    "ax1.grid(b=True, which='major', color='b', linestyle='--', alpha=0.5)\n",
    "ax1.bar(mcount.index, mcount.publicid, width = 5, color='blue', edgecolor='blue', align='edge', label='M>=4 earthquakes')\n",
    "ax1.set_xlim([startall,end])\n",
    "ax1.legend(loc='upper left')\n",
    "#want integer ticks(grid), default for small y-range gives 0.5 spacing\n",
    "spacing = 1\n",
    "majorLocator = MultipleLocator(spacing)\n",
    "ax1.yaxis.set_major_locator(majorLocator)\n",
    "\n",
    "mcount = eqs50m3.resample('1M', label='left', closed='left').count()\n",
    "ax2.grid(b=True, which='major', color='b', linestyle='--', alpha=0.5)\n",
    "ax2.bar(mcount.index, mcount.publicid, width = 5, color='green', edgecolor='green', align='edge', label='M>=3 earthquakes')\n",
    "\n",
    "ax2.legend(loc='upper left')\n",
    "mcount = eqs50.resample('1M', label='left', closed='left').count()\n",
    "ax3.grid(b=True, which='major', color='b', linestyle='--', alpha=0.5)\n",
    "ax3.bar(mcount.index, mcount.publicid, width = 5, color='red', edgecolor='red', align='edge', label='all earthquakes')\n",
    "ax3.legend(loc='upper left')\n",
    "plt.tight_layout()\n",
    "fig.savefig('taranaki_monthly.png', dpi=200)"
   ]
  },
  {
   "cell_type": "markdown",
   "metadata": {},
   "source": [
    "**Cumulative number**"
   ]
  },
  {
   "cell_type": "markdown",
   "metadata": {},
   "source": [
    "Make a column containing event number (should be a better way of doing this)"
   ]
  },
  {
   "cell_type": "code",
   "execution_count": null,
   "metadata": {},
   "outputs": [],
   "source": [
    "eqs50.sort_index(ascending=True, inplace=True)\n",
    "eqs50.reset_index(inplace=True)\n",
    "eqs50['evnum'] = eqs50.index+1\n",
    "eqs50.set_index('origintime', inplace=True, drop=True)"
   ]
  },
  {
   "cell_type": "code",
   "execution_count": null,
   "metadata": {},
   "outputs": [],
   "source": [
    "#cumulative number maximum\n",
    "nmax = eqs50['evnum'].iloc[-1]\n",
    "#tmin = eqs50.index[1]\n",
    "#tmax = eqs50.index[-1]"
   ]
  },
  {
   "cell_type": "code",
   "execution_count": null,
   "metadata": {},
   "outputs": [],
   "source": [
    "fig = plt.figure(figsize=(10,10))\n",
    "ax = fig.add_subplot(111)\n",
    "plt.plot(eqs50['evnum'], color='red')\n",
    "ax.set_ylim([0,nmax])\n",
    "ax.set_xlim([startall,end])\n",
    "#mark change to Sc3 analysis\n",
    "ax.axvline(x='2012-01-01', color='black', linestyle='--', alpha=0.7)\n",
    "ax.text('2012-03-01', 300, 'Change to SC3 analysis', verticalalignment='bottom', horizontalalignment='left', rotation='vertical', fontsize=12)\n",
    "ax.axvline(x='2018-12-15', color='black', linestyle='--', alpha=0.7)\n",
    "ax.text('2019-01-15', 300, 'NGMC', verticalalignment='bottom', horizontalalignment='left', rotation='vertical', fontsize=12)\n",
    "ax.tick_params(axis='y', colors='red')\n",
    "ax.set_ylabel('cumulative number', color = 'red')\n",
    "ax.xaxis.grid(b=True, which='major', color='b', linestyle='--', alpha=0.5)\n",
    "ax.yaxis.grid(b=True, which='major', color='b', linestyle='--', alpha=0.5)\n",
    "\n",
    "ax2= ax.twinx()\n",
    "eqs50['energy'] = pow(10,(1.44 * eqs50[' magnitude'] + 5.24))\n",
    "eqs50['cumeng'] = eqs50['energy'].cumsum()\n",
    "eqs50['cumeng'] = 100 * eqs50['cumeng'] / eqs50['cumeng'].max()\n",
    "ax2.plot(eqs50['cumeng'], color='blue', marker='None')\n",
    "ax2.set_ylim([0,100])\n",
    "ax2.tick_params(axis='y', colors='blue')\n",
    "ax2.set_ylabel('percent cumulative energy', color = 'blue')\n",
    "plt.tight_layout()\n",
    "fig.savefig('taranaki_cumulative.png', dpi=200)"
   ]
  },
  {
   "cell_type": "markdown",
   "metadata": {},
   "source": [
    "**Current year, cross-section and other stuff**"
   ]
  },
  {
   "cell_type": "code",
   "execution_count": null,
   "metadata": {},
   "outputs": [],
   "source": [
    "bbox = '173.5,-39.75,174.58,-38.83'\n",
    "url = 'https://quakesearch.geonet.org.nz/csv?bbox='+bbox+'&startdate='+startyear+'&enddate='+end\n",
    "eqs = pd.read_csv(url, parse_dates=['origintime'], index_col='origintime')"
   ]
  },
  {
   "cell_type": "markdown",
   "metadata": {},
   "source": [
    "**Total number events, for report**"
   ]
  },
  {
   "cell_type": "code",
   "execution_count": null,
   "metadata": {},
   "outputs": [],
   "source": [
    "len(eqs.index)"
   ]
  },
  {
   "cell_type": "code",
   "execution_count": null,
   "metadata": {},
   "outputs": [],
   "source": [
    "#select eqs in depth range and latitude range\n",
    "eqs50 = eqs[eqs[' depth']<50]\n",
    "sect = eqs50[(eqs50[' latitude']>-39.4167)&(eqs50[' latitude']<-39.0833)]"
   ]
  },
  {
   "cell_type": "code",
   "execution_count": null,
   "metadata": {},
   "outputs": [],
   "source": [
    "#read topography profile file, convert to km\n",
    "names=['longitude', 'elevation']\n",
    "topo = pd.read_csv('taranaki_cross_section.xy', sep='\\s+', names=names, usecols=[0,2], index_col=False)\n",
    "topo['elevation'] = (topo['elevation'] / -1000)"
   ]
  },
  {
   "cell_type": "code",
   "execution_count": null,
   "metadata": {},
   "outputs": [],
   "source": [
    "#hypocentres and topography on one plot, depth histogram on another\n",
    "fig = plt.figure(figsize=(15,10))\n",
    "gridspec.GridSpec(3,11)\n",
    "\n",
    "#hypocentres and topography\n",
    "plt.subplot2grid((3,11), (0,0), colspan=8, rowspan=3)\n",
    "plt.plot(topo['longitude'], topo['elevation'], color='green')\n",
    "plt.grid(b=True, which='major', color='b', linestyle='--', alpha=0.5)\n",
    "plt.scatter(x=sect['longitude'], y=sect[' depth'], color='red')\n",
    "plt.text(x=173.55, y=-4, s='A', verticalalignment='top', horizontalalignment='left', fontsize=14)\n",
    "plt.xlim([173.5,174.58])\n",
    "plt.ylim([-5,50])\n",
    "plt.ylabel('Depth (km)')\n",
    "plt.plot(173.75, -0.3, marker='v', color='blue') #inverted triangle at coast\n",
    "plt.gca().invert_yaxis()\n",
    "plt.tight_layout()\n",
    "\n",
    "#depth histogram\n",
    "plt.subplot2grid((3,11), (0,9), colspan=2, rowspan=3)\n",
    "plt.grid(b=True, which='major', color='b', linestyle='--', alpha=0.5)\n",
    "plt.hist(sect[' depth'], bins=[0,5,10,15,20,25,30,35,40,45], color='red', orientation='horizontal')\n",
    "plt.text(x=2, y=-4, s='B', verticalalignment='top', horizontalalignment='left', fontsize=14)\n",
    "plt.ylim([-5,50])\n",
    "plt.xlabel('Number of earthquakes')\n",
    "plt.ylabel('Depth (km)')\n",
    "plt.gca().invert_yaxis()\n",
    "\n",
    "fig.savefig('taranaki_depth-profile_histogram.png', dpi=200)"
   ]
  },
  {
   "cell_type": "markdown",
   "metadata": {},
   "source": [
    "**Earthquakes within certain distances of the summit of Mt Taranaki**\n",
    "\n",
    "This is to help the TVSAG understand a little better what has been located close to the volcano. \n",
    "To do this, it is easier to use GeoNet's Web Features Service (WFS) as this offers more functionality in selecting events. https://wfs.geonet.org.nz/"
   ]
  },
  {
   "cell_type": "code",
   "execution_count": null,
   "metadata": {},
   "outputs": [],
   "source": [
    "#the park area, 9.5 km from the summit\n",
    "url = 'http://wfs.geonet.org.nz/geonet/ows?service=WFS&version=1.0.0&request=GetFeature&typeName=geonet:quake_search_v1&outputFormat=csv&cql_filter=depth<50+AND+origintime>='+startall+'+AND+origintime<='+end+'+AND+DWITHIN(origin_geom,Point+(174.063+-39.296),9500,meters)'\n",
    "park = pd.read_csv(url, parse_dates=['origintime'], index_col='origintime')\n",
    "park.sort_index(ascending=True, inplace=True) # sort by origintime(index), so events in time order\n",
    "\n",
    "#the coast area, 26.5 km from the summit\n",
    "url = 'http://wfs.geonet.org.nz/geonet/ows?service=WFS&version=1.0.0&request=GetFeature&typeName=geonet:quake_search_v1&outputFormat=csv&cql_filter=depth<50+AND+origintime>='+startall+'+AND+origintime<='+end+'+AND+DWITHIN(origin_geom,Point+(174.063+-39.296),26500,meters)'\n",
    "coast = pd.read_csv(url, parse_dates=['origintime'], index_col='origintime')\n",
    "coast.sort_index(ascending=True, inplace=True) # sort by origintime(index), so events in time order"
   ]
  },
  {
   "cell_type": "code",
   "execution_count": null,
   "metadata": {},
   "outputs": [],
   "source": [
    "#plot\n",
    "fig = plt.figure(figsize=(10, 10))\n",
    "\n",
    "d1 = datetime.datetime.strptime(startall, \"%Y-%m-%d\")\n",
    "d2 = datetime.datetime.strptime(end, \"%Y-%m-%d\")\n",
    "\n",
    "# magnitude vs time\n",
    "ax1 = fig.add_subplot(2, 1, 1)\n",
    "ymax = 1.1 * park.magnitude.max()\n",
    "ax1.set_ylim([0, ymax])\n",
    "ax1.plot(park.magnitude, marker='o', color='red', linestyle='None', label='manual')\n",
    "ax1.text(0.01, 0.98,'Within 9.5 km (ENP circular boundary)', ha='left', va='top', transform=ax1.transAxes, fontsize=14)\n",
    "ax1.set_ylabel('Magnitude')\n",
    "\n",
    "# magnitude vs time\n",
    "ax2 = fig.add_subplot(2, 1, 2)\n",
    "ymax = 1.1 * coast.magnitude.max()\n",
    "ax2.set_ylim([0, ymax])\n",
    "ax2.plot(coast.magnitude, marker='o', color='red', linestyle='None', label='manual')\n",
    "ax2.text(0.01, 0.98,'Within 26.5 km (distance to coast)', ha='left', va='top', transform=ax2.transAxes, fontsize=14)\n",
    "ax2.set_ylabel('Magnitude')\n",
    "\n",
    "plt.savefig('park-coast_events.png', dpi=200)"
   ]
  },
  {
   "cell_type": "markdown",
   "metadata": {},
   "source": [
    "**Geodetic Plots - enu for each site, all data and reporting year**"
   ]
  },
  {
   "cell_type": "code",
   "execution_count": null,
   "metadata": {},
   "outputs": [],
   "source": [
    "od = 11 #filter kernel\n",
    "\n",
    "names = ['dt', 'obs', 'err']"
   ]
  },
  {
   "cell_type": "code",
   "execution_count": null,
   "metadata": {},
   "outputs": [],
   "source": [
    "#loop for each site\n",
    "sites = ['NPLY.LI', 'PGKH.CG', 'PGNE.CG']\n",
    "for site in sites:\n",
    "  siteid = str.split(site, '.')[0]\n",
    "  netid = str.split(site, '.')[1]\n",
    "  \n",
    "  url= 'https://fits.geonet.org.nz/observation?typeID=e&siteID='+siteid+'&networkID='+netid\n",
    "  dfe = pd.read_csv(url, names=names, skiprows=1, parse_dates={\"Datetime\" : ['dt']})\n",
    "  url= 'https://fits.geonet.org.nz/observation?typeID=n&siteID='+siteid+'&networkID='+netid\n",
    "  dfn = pd.read_csv(url, names=names, skiprows=1, parse_dates={\"Datetime\" : ['dt']})\n",
    "  url= 'https://fits.geonet.org.nz/observation?typeID=u&siteID='+siteid+'&networkID='+netid\n",
    "  dfu = pd.read_csv(url, names=names, skiprows=1, parse_dates={\"Datetime\" : ['dt']})\n",
    "\n",
    "  #only data up to end date (end of reporting period)\n",
    "  dfe = dfe[dfe['Datetime']<end]\n",
    "  dfn = dfn[dfn['Datetime']<end]\n",
    "  dfu = dfu[dfu['Datetime']<end]\n",
    "\n",
    "  #join dataframes, rename columns\n",
    "  df = pd.concat([dfe, dfn, dfu], axis=1, join='inner')\n",
    "  names2 = ['Datetime', 'obse', 'erre', 'dtn', 'obsn', 'errn', 'dtu', 'obsu', 'erru']\n",
    "  df.columns = names2      #rename columns\n",
    "\n",
    "  #reference observation columns to first value\n",
    "  df['obse'] -= df['obse'][0]\n",
    "  df['obsn'] -= df['obsn'][0]\n",
    "  df['obsu'] -= df['obsu'][0]\n",
    "\n",
    "  #pre-filter observations\n",
    "  df['obsef'] = scipy.signal.medfilt(df['obse'],od)\n",
    "  df['obsnf'] = scipy.signal.medfilt(df['obsn'],od)\n",
    "  df['obsuf'] = scipy.signal.medfilt(df['obsu'],od)\n",
    "\n",
    "  #ticks\n",
    "  majorTick = mpl.dates.YearLocator(1)\n",
    "  majorFormat = mpl.dates.DateFormatter('%Y')\n",
    "  minorTick = mpl.dates.MonthLocator()\n",
    "\n",
    "  #plot all data\n",
    "  fig = plt.figure(figsize=(15, 7.5))\n",
    "  fig.subplots_adjust(hspace=0.3)\n",
    "\n",
    "  ax = fig.add_subplot(3, 1, 1)\n",
    "  plt.grid(b=True, which='major', color='b', linestyle='--', alpha=0.5)\n",
    "  plt.plot(df['Datetime'], df['obsn'], marker='o', color='black', linestyle='None')\n",
    "  #plt.errorbar(df['Datetime'], df['obsn'], yerr=df['errn'], capsize=0, linestyle='None')\n",
    "  plt.plot(df['Datetime'], df['obsnf'], marker='None', color='red')\n",
    "  #ax.set_xlim([startall,end])\n",
    "  plt.ylabel('dn (mm)')\n",
    "  title = (siteid+' daily position change (mm)')\n",
    "  plt.title(title)\n",
    "\n",
    "  ax = fig.add_subplot(3, 1, 2)\n",
    "  plt.grid(b=True, which='major', color='b', linestyle='--', alpha=0.5)\n",
    "  plt.plot(df['Datetime'], df['obse'], marker='o', color='black', linestyle='None')\n",
    "  #plt.errorbar(df['Datetime'], df['obse'], yerr=df['erre'], capsize=0, linestyle='None')\n",
    "  plt.plot(df['Datetime'], df['obsef'], marker='None', color='red')\n",
    "  plt.ylabel('de (mm)')\n",
    "\n",
    "  ax = fig.add_subplot(3, 1, 3)\n",
    "  plt.grid(b=True, which='major', color='b', linestyle='--', alpha=0.5)\n",
    "  plt.plot(df['Datetime'], df['obsu'], marker='o', color='black', linestyle='None')\n",
    "  #plt.errorbar(df['Datetime'], df['obsu'], yerr=df['erru'], capsize=0, linestyle='None')\n",
    "  plt.plot(df['Datetime'], df['obsuf'], marker='None', color='red')\n",
    "  plt.ylabel('du (mm)')\n",
    "\n",
    "  plt.tight_layout()    \n",
    "  fig.savefig('taranaki_'+siteid+'_all.png', dpi=200)\n",
    "\n",
    "  #only data for reporting period\n",
    "  dfe = dfe[(dfe['Datetime']<end)&(dfe['Datetime']>=startyear)]\n",
    "  dfn = dfn[(dfn['Datetime']<end)&(dfn['Datetime']>=startyear)]\n",
    "  dfu = dfu[(dfu['Datetime']<end)&(dfu['Datetime']>=startyear)]\n",
    "\n",
    "  #join dataframes, rename columns\n",
    "  df = pd.concat([dfe, dfn, dfu], axis=1, join='inner')\n",
    "  names2 = ['Datetime', 'obse', 'erre', 'dtn', 'obsn', 'errn', 'dtu', 'obsu', 'erru']\n",
    "  df.columns = names2      #rename columns\n",
    "\n",
    "  #reference observation columns to first value\n",
    "  df.reset_index(inplace=True)\n",
    "  df['obse'] -= df['obse'][0]\n",
    "  df['obsn'] -= df['obsn'][0]\n",
    "  df['obsu'] -= df['obsu'][0]\n",
    "\n",
    "  #pre-filter observations\n",
    "  df['obsef'] = scipy.signal.medfilt(df['obse'],od)\n",
    "  df['obsnf'] = scipy.signal.medfilt(df['obsn'],od)\n",
    "  df['obsuf'] = scipy.signal.medfilt(df['obsu'],od)\n",
    "\n",
    "  #ticks\n",
    "  majorTick = mpl.dates.YearLocator(1)\n",
    "  majorFormat = mpl.dates.DateFormatter('%Y')\n",
    "  minorTick = mpl.dates.MonthLocator()\n",
    "\n",
    "  #plot all data\n",
    "  fig = plt.figure(figsize=(15, 7.5))\n",
    "  fig.subplots_adjust(hspace=0.3)\n",
    "\n",
    "  ax = fig.add_subplot(3, 1, 1)\n",
    "  plt.grid(b=True, which='major', color='b', linestyle='--', alpha=0.5)\n",
    "  plt.plot(df['Datetime'], df['obsn'], marker='o', color='black', linestyle='None')\n",
    "  #plt.errorbar(df['Datetime'], df['obsn'], yerr=df['errn'], capsize=0, linestyle='None')\n",
    "  plt.plot(df['Datetime'], df['obsnf'], marker='None', color='red')\n",
    "  plt.ylabel('dn (mm)')\n",
    "  title = (siteid+' daily position change (mm)')\n",
    "  plt.title(title)\n",
    "\n",
    "  ax = fig.add_subplot(3, 1, 2)\n",
    "  plt.grid(b=True, which='major', color='b', linestyle='--', alpha=0.5)\n",
    "  plt.plot(df['Datetime'], df['obse'], marker='o', color='black', linestyle='None')\n",
    "  #plt.errorbar(df['Datetime'], df['obse'], yerr=df['erre'], capsize=0, linestyle='None')\n",
    "  plt.plot(df['Datetime'], df['obsef'], marker='None', color='red')\n",
    "  plt.ylabel('de (mm)')\n",
    "\n",
    "  ax = fig.add_subplot(3, 1, 3)\n",
    "  plt.grid(b=True, which='major', color='b', linestyle='--', alpha=0.5)\n",
    "  plt.plot(df['Datetime'], df['obsu'], marker='o', color='black', linestyle='None')\n",
    "  #plt.errorbar(df['Datetime'], df['obsu'], yerr=df['erru'], capsize=0, linestyle='None')\n",
    "  plt.plot(df['Datetime'], df['obsuf'], marker='None', color='red')\n",
    "  plt.ylabel('du (mm)')\n",
    "\n",
    "  plt.tight_layout()\n",
    "  fig.savefig('taranaki_'+siteid+'_year.png', dpi=200)"
   ]
  }
 ],
 "metadata": {
  "kernelspec": {
   "display_name": "Python 3",
   "language": "python",
   "name": "python3"
  },
  "language_info": {
   "codemirror_mode": {
    "name": "ipython",
    "version": 3
   },
   "file_extension": ".py",
   "mimetype": "text/x-python",
   "name": "python",
   "nbconvert_exporter": "python",
   "pygments_lexer": "ipython3",
   "version": "3.7.8"
  }
 },
 "nbformat": 4,
 "nbformat_minor": 4
}
