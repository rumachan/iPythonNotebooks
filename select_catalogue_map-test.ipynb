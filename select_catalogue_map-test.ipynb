{
 "cells": [
  {
   "cell_type": "markdown",
   "metadata": {},
   "source": [
    "Use of ipyleaflet to select a map area and produce an earthquake catalogue, which is plotted\n",
    "--\n",
    "\n",
    "This uses https://github.com/ellisonbg/ipyleaflet, in particular this example https://github.com/ellisonbg/ipyleaflet/blob/master/examples/DrawControl.ipynb\n",
    "\n",
    "\n",
    "\n",
    "jupyter nbextension enable --py --sys-prefix ipyleaflet"
   ]
  },
  {
   "cell_type": "code",
   "execution_count": 45,
   "metadata": {},
   "outputs": [
    {
     "data": {
      "application/javascript": [
       "IPython.OutputArea.prototype._should_scroll = function(lines) {\n",
       "    return false;\n",
       "}"
      ],
      "text/plain": [
       "<IPython.core.display.Javascript object>"
      ]
     },
     "metadata": {},
     "output_type": "display_data"
    }
   ],
   "source": [
    "%%javascript\n",
    "IPython.OutputArea.prototype._should_scroll = function(lines) {\n",
    "    return false;\n",
    "}"
   ]
  },
  {
   "cell_type": "code",
   "execution_count": 46,
   "metadata": {},
   "outputs": [
    {
     "data": {
      "text/html": [
       "<style>.container { width:100% !important; }</style>"
      ],
      "text/plain": [
       "<IPython.core.display.HTML object>"
      ]
     },
     "metadata": {},
     "output_type": "display_data"
    }
   ],
   "source": [
    "from IPython.core.display import display, HTML\n",
    "display(HTML(\"<style>.container { width:100% !important; }</style>\"))"
   ]
  },
  {
   "cell_type": "code",
   "execution_count": 47,
   "metadata": {
    "collapsed": true
   },
   "outputs": [],
   "source": [
    "from ipyleaflet import (\n",
    "    Map,\n",
    "    Marker,\n",
    "    TileLayer, ImageOverlay,\n",
    "    Polyline, Polygon, Rectangle, Circle, CircleMarker,\n",
    "    GeoJSON,\n",
    "    DrawControl\n",
    ")\n",
    "from ipywidgets import interact, interactive, fixed, interact_manual\n",
    "import ipywidgets as widgets\n",
    "from ipywidgets import Button, Layout\n",
    "import matplotlib.pyplot as plt\n",
    "%matplotlib inline\n",
    "import pandas as pd\n",
    "import datetime\n",
    "from IPython.display import HTML\n",
    "import folium"
   ]
  },
  {
   "cell_type": "markdown",
   "metadata": {
    "collapsed": true
   },
   "source": [
    "HTML('''<script>\n",
    "code_show=true;\n",
    "function code_toggle() {\n",
    " if (code_show){\n",
    " $('div.input').hide();\n",
    " } else {\n",
    " $('div.input').show();\n",
    " }\n",
    " code_show = !code_show\n",
    "} \n",
    "$( document ).ready(code_toggle);\n",
    "</script>\n",
    "The raw code for this IPython notebook is by default hidden for easier reading.\n",
    "To toggle on/off the raw code, click <a href=\"javascript:code_toggle()\">here</a>.''')"
   ]
  },
  {
   "cell_type": "code",
   "execution_count": 48,
   "metadata": {
    "collapsed": true
   },
   "outputs": [],
   "source": [
    "#map needs an initial centre and zoom\n",
    "center = [-38.6892,176.0930]\n",
    "zoom = 10\n",
    "\n",
    "#default depth range (km)\n",
    "dep1 = 0\n",
    "dep2 = 20\n",
    "dp1 = str(dep1)\n",
    "dp2 = str(dep2)"
   ]
  },
  {
   "cell_type": "code",
   "execution_count": 49,
   "metadata": {
    "collapsed": true
   },
   "outputs": [],
   "source": [
    "def querypoly (gj):\n",
    "    \"\"\"form a query polygon for WFS from GEOJSON\"\"\"\n",
    "    polygon = ''\n",
    "    for c in gj['geometry']['coordinates'][0]:\n",
    "        lon = c[0]\n",
    "        lat = c[1]\n",
    "        coord = str(lon)+'+'+str(lat)+','\n",
    "        polygon += coord\n",
    "    polygon = polygon[:-1]\n",
    "    return polygon"
   ]
  },
  {
   "cell_type": "code",
   "execution_count": 50,
   "metadata": {
    "collapsed": true
   },
   "outputs": [],
   "source": [
    "def mappoly (gj):\n",
    "    \"\"\"form a list of coordinate pairs for plotting on a folium map from GEOJSON\"\"\"\n",
    "    polygon = []\n",
    "    for c in gj['geometry']['coordinates'][0]:\n",
    "        lon = c[0]\n",
    "        lat = c[1]\n",
    "        polygon.append((lat,lon))\n",
    "    return polygon"
   ]
  },
  {
   "cell_type": "code",
   "execution_count": 51,
   "metadata": {
    "collapsed": true
   },
   "outputs": [],
   "source": [
    "#ipwidget functions\n",
    "def seldate1(d1):\n",
    "  global date1\n",
    "  date1 = d1['new']\n",
    "  #date1 = date1.strftime(\"%Y-%m-%dT00:00:00.000Z\")\n",
    "  date1 = date1.strftime(\"%Y-%m-%d\")\n",
    "\n",
    "def seldate2(d2):\n",
    "  global date2\n",
    "  date2 = d2['new']\n",
    "  #date2 = date2.strftime(\"%Y-%m-%dT00:00:00.000Z\")\n",
    "  date2 = date2.strftime(\"%Y-%m-%d\")\n",
    "\n",
    "def deprng(d):\n",
    "  global dp1, dp2\n",
    "  dp1, dp2  = d['new']\n",
    "  dp1 = str(dp1)\n",
    "  dp2 = str(dp2)\n",
    "    \n",
    "def pro_poly(c):\n",
    "   #get the polgyon coordinates\n",
    "    global qpoly\n",
    "    gj = dc.last_draw\n",
    "    qpoly = querypoly(gj)\n",
    "    print ('polygon is', qpoly) #this cell is the polygon, the format is suitable for a GeoNet search "
   ]
  },
  {
   "cell_type": "code",
   "execution_count": 52,
   "metadata": {
    "collapsed": true
   },
   "outputs": [],
   "source": [
    "def plot(p):\n",
    "    global cat\n",
    "    #get data\n",
    "    url = \"http://wfs.geonet.org.nz/geonet/ows?service=WFS&version=1.0.0&request=GetFeature&typeName=geonet:quake_search_v1&outputFormat=csv&cql_filter=origintime>=\"+date1+\"+AND+origintime<=\"+date2+\"+AND+WITHIN(origin_geom,POLYGON((\" + qpoly + \"+)))+AND+depth>=\"+dp1+\"+AND+depth<=\"+dp2\n",
    "    cat = pd.read_csv(url, parse_dates=['origintime'], index_col='origintime')\n",
    "    cat.sort_index(ascending=True, inplace=True) # sort by origintime(index), so events in time order\n",
    "   \n",
    "    #plot\n",
    "    fig = plt.figure(figsize=(15, 15))\n",
    "\n",
    "    d1 = datetime.datetime.strptime(date1, \"%Y-%m-%d\")\n",
    "    d2 = datetime.datetime.strptime(date2, \"%Y-%m-%d\")\n",
    "\n",
    "    # magnitude vs time\n",
    "    ax1 = fig.add_subplot(3, 1, 1)\n",
    "    ax1.set_xlim([d1,d2])\n",
    "    ymax = 1.1 * cat.magnitude.max()\n",
    "    ax1.set_ylim([0, ymax])\n",
    "    # automatic locations\n",
    "    automatic = cat.magnitude[cat['evaluationmode'] == 'automatic']\n",
    "    ax1.plot(automatic, marker='o', color='red', linestyle='None', label='automatic')\n",
    "    # manual locations\n",
    "    manual = cat.magnitude[cat['evaluationmode'] == 'manual']\n",
    "    ax1.plot(manual, marker='o', color='blue', linestyle='None', label='manual')\n",
    "    plt.ylabel('magnitude')\n",
    "    plt.legend(loc='best')\n",
    "\n",
    "    # cumulative number\n",
    "    ax2 = fig.add_subplot(3, 1, 2, sharex=ax1)\n",
    "    ax2.plot(cat.index, cat.reset_index().index, color='red', marker='None', label='cumnum')\n",
    "    ax2.tick_params(axis='y', colors='red')\n",
    "    ax2.set_ylabel('cumulative number', color='red')\n",
    "\n",
    "    # cumulative energy (normalised to 1.0), on same plot\n",
    "    ax2a = ax2.twinx()\n",
    "    ax2a.set_xlim([d1,d2])\n",
    "    ax2a.set_ylim([0, 1])\n",
    "    cat['energy'] = pow(10, (1.44 * cat['magnitude'] + 5.24))\n",
    "    cat['cumeng'] = cat['energy'].cumsum()\n",
    "    cat['cumeng'] = cat['cumeng'] / cat['cumeng'].max()\n",
    "    ax2a.plot(cat.cumeng, color='blue', marker='None', label='cumeng')\n",
    "    ax2a.tick_params(axis='y', colors='blue')\n",
    "    ax2a.set_ylabel('normalised cumulative energy', color='blue')\n",
    "\n",
    "    # depth\n",
    "    ax3 = fig.add_subplot(3, 1, 3, sharex=ax1)\n",
    "    ax3.set_ylim([int(dp1), int(dp2)])\n",
    "    # automatic locations\n",
    "    automatic = cat.depth[cat['evaluationmode'] == 'automatic']\n",
    "    ax3.plot(automatic, color='red', marker='o', linestyle='None', label='automatic')\n",
    "    # manual locations\n",
    "    manual = cat.depth[cat['evaluationmode'] == 'manual']\n",
    "    ax3.plot(manual, color='blue', marker='o', linestyle='None', label='manual')\n",
    "    plt.gca().invert_yaxis()\n",
    "    ax3.set_ylabel('depth(km)')\n",
    "    plt.legend(loc='best')\n",
    "\n",
    "    plt.savefig('catevents.png', dpi=200)\n",
    " "
   ]
  },
  {
   "cell_type": "code",
   "execution_count": 53,
   "metadata": {
    "scrolled": true
   },
   "outputs": [
    {
     "data": {
      "application/vnd.jupyter.widget-view+json": {
       "model_id": "d69ba8301fb9447ca53a1f6d8344e447",
       "version_major": 2,
       "version_minor": 0
      },
      "text/plain": [
       "A Jupyter Widget"
      ]
     },
     "metadata": {},
     "output_type": "display_data"
    }
   ],
   "source": [
    "d1 = widgets.DatePicker(description='Search start date:')\n",
    "d1.observe(seldate1, names='value')\n",
    "\n",
    "d2 = widgets.DatePicker(description='Search end date:')\n",
    "d2.observe(seldate2, names='value')\n",
    "\n",
    "d = widgets.IntRangeSlider(\n",
    "    #default depth range\n",
    "    value=[dep1, dep2],\n",
    "    min=0,\n",
    "    max=100,\n",
    "    step=1,\n",
    "    description='Depth range:',\n",
    "    disabled=False,\n",
    "    continuous_update=False,\n",
    "    orientation='horizontal',\n",
    "    readout=True,\n",
    "    readout_format='d')\n",
    "d.observe(deprng, names='value')\n",
    "\n",
    "widgets.HBox([d1, d2, d])"
   ]
  },
  {
   "cell_type": "code",
   "execution_count": 54,
   "metadata": {},
   "outputs": [
    {
     "data": {
      "application/vnd.jupyter.widget-view+json": {
       "model_id": "4e83e79a8f544d93800ce5d71f5943af",
       "version_major": 2,
       "version_minor": 0
      },
      "text/plain": [
       "A Jupyter Widget"
      ]
     },
     "metadata": {},
     "output_type": "display_data"
    }
   ],
   "source": [
    "m = Map(center=center, zoom=zoom, layout=dict(width='400px', height='400px'))\n",
    "m"
   ]
  },
  {
   "cell_type": "code",
   "execution_count": 55,
   "metadata": {
    "collapsed": true
   },
   "outputs": [],
   "source": [
    "dc = DrawControl()\n",
    "\n",
    "def handle_draw(self, action, geo_json):\n",
    "    print(action)\n",
    "    print(geo_json)\n",
    "\n",
    "m.add_control(dc)"
   ]
  },
  {
   "cell_type": "markdown",
   "metadata": {},
   "source": [
    "Run all the cells above here. Hint: click in this cell, then, from the menu, click on Cell -> Run All Above\n",
    "--\n",
    "1. **Using the date widgets, select the start and end dates for catalogue search, and the depth range**\n",
    "2. **Use the polgyon tool to draw the search area. The tool provides instructions.**\n",
    "\n",
    "\n",
    "Then, run the cell below. Hint: click in this cell, then, from the menu, click on Cell -> Run All Above\n",
    "--\n",
    "1. **Click on the box 'Process polygon' to process the polygon of your search area**\n",
    "2. **Click on the box 'Plot' to execute a QuakeSearch using your polygon search area and the date and depth ranges you selected**\n"
   ]
  },
  {
   "cell_type": "markdown",
   "metadata": {},
   "source": [
    "**Process the polgyon**"
   ]
  },
  {
   "cell_type": "code",
   "execution_count": 56,
   "metadata": {
    "scrolled": true
   },
   "outputs": [
    {
     "data": {
      "application/vnd.jupyter.widget-view+json": {
       "model_id": "5a9f7b5827c34a6bbd06417e0d9dd2d3",
       "version_major": 2,
       "version_minor": 0
      },
      "text/plain": [
       "A Jupyter Widget"
      ]
     },
     "metadata": {},
     "output_type": "display_data"
    },
    {
     "name": "stdout",
     "output_type": "stream",
     "text": [
      "polygon is 175.743897+-38.909642,175.919678+-38.909642,175.910889+-38.999349,175.737305+-39.005325,175.743897+-38.909642\n"
     ]
    }
   ],
   "source": [
    "c=widgets.Button(\n",
    "    description='Process polygon',\n",
    "    disabled=False,\n",
    "    button_style='success',\n",
    "    tooltip='Process polygon')\n",
    "c.on_click(pro_poly)\n",
    "\n",
    "widgets.HBox([c])"
   ]
  },
  {
   "cell_type": "markdown",
   "metadata": {},
   "source": [
    "**Search and plot**"
   ]
  },
  {
   "cell_type": "code",
   "execution_count": 57,
   "metadata": {
    "scrolled": true
   },
   "outputs": [
    {
     "data": {
      "application/vnd.jupyter.widget-view+json": {
       "model_id": "6506e2f503e148eeb9b0ed49dbea29d6",
       "version_major": 2,
       "version_minor": 0
      },
      "text/plain": [
       "A Jupyter Widget"
      ]
     },
     "metadata": {},
     "output_type": "display_data"
    },
    {
     "data": {
      "image/png": "[encoded data removed]",
      "text/plain": [
       "<matplotlib.figure.Figure at 0x7f79960feba8>"
      ]
     },
     "metadata": {},
     "output_type": "display_data"
    }
   ],
   "source": [
    "p=widgets.Button(\n",
    "    description='Plot time series',\n",
    "    disabled=False,\n",
    "    button_style='success',\n",
    "    tooltip='Click to plot')\n",
    "p.on_click(plot)\n",
    "\n",
    "widgets.HBox([p])"
   ]
  },
  {
   "cell_type": "code",
   "execution_count": 63,
   "metadata": {
    "collapsed": true,
    "scrolled": true
   },
   "outputs": [],
   "source": [
    "def emap(e):  \n",
    "#make a map of epicentres\n",
    "    global emap\n",
    "    gj = dc.last_draw\n",
    "    area = mappoly(gj)\n",
    "    emap = folium.Map(location=center, zoom_start=zoom, control_scale=True)\n",
    "    folium.PolyLine(area, color=\"blue\", weight=5, opacity=0.5).add_to(emap)\n",
    "    for lat, lon, mag, id in zip(cat['latitude'], cat['longitude'], cat['magnitude'], cat['publicid']):\n",
    "        folium.CircleMarker(\n",
    "            location=[lat, lon],\n",
    "            radius=1,\n",
    "            popup=id,\n",
    "            color='red',\n",
    "            fill=True,\n",
    "            fill_color='red'\n",
    "        ).add_to(emap)\n",
    "    emap"
   ]
  },
  {
   "cell_type": "code",
   "execution_count": 64,
   "metadata": {
    "scrolled": false
   },
   "outputs": [
    {
     "data": {
      "application/vnd.jupyter.widget-view+json": {
       "model_id": "a9ec1babb1fd4c52a5a19bbc344deb0d",
       "version_major": 2,
       "version_minor": 0
      },
      "text/plain": [
       "A Jupyter Widget"
      ]
     },
     "metadata": {},
     "output_type": "display_data"
    }
   ],
   "source": [
    "e=widgets.Button(\n",
    "    description='Make epicentre map',\n",
    "    disabled=False,\n",
    "    button_style='success',\n",
    "    tooltip='Click to make')\n",
    "e.on_click(emap)\n",
    "\n",
    "widgets.HBox([e])"
   ]
  },
  {
   "cell_type": "code",
   "execution_count": 61,
   "metadata": {},
   "outputs": [
    {
     "data": {
      "text/html": [
       "<div style=\"width:100%;\"><div style=\"position:relative;width:100%;height:0;padding-bottom:60%;\"><iframe src=\"data:text/html;charset=utf-8;base64,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\" style=\"position:absolute;width:100%;height:100%;left:0;top:0;border:none !important;\" allowfullscreen webkitallowfullscreen mozallowfullscreen></iframe></div></div>"
      ],
      "text/plain": [
       "<folium.folium.Map at 0x7f799602be10>"
      ]
     },
     "execution_count": 61,
     "metadata": {},
     "output_type": "execute_result"
    }
   ],
   "source": [
    "emap"
   ]
  }
 ],
 "metadata": {
  "kernelspec": {
   "display_name": "Python 3",
   "language": "python",
   "name": "python3"
  },
  "language_info": {
   "codemirror_mode": {
    "name": "ipython",
    "version": 3
   },
   "file_extension": ".py",
   "mimetype": "text/x-python",
   "name": "python",
   "nbconvert_exporter": "python",
   "pygments_lexer": "ipython3",
   "version": "3.6.3"
  }
 },
 "nbformat": 4,
 "nbformat_minor": 2
}
