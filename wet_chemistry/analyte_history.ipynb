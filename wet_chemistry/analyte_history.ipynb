{
 "cells": [
  {
   "cell_type": "code",
   "execution_count": 15,
   "metadata": {},
   "outputs": [
    {
     "data": {
      "application/javascript": [
       "IPython.OutputArea.prototype._should_scroll = function(lines) {\n",
       "    return false;\n",
       "}"
      ],
      "text/plain": [
       "<IPython.core.display.Javascript object>"
      ]
     },
     "metadata": {},
     "output_type": "display_data"
    }
   ],
   "source": [
    "%%javascript\n",
    "IPython.OutputArea.prototype._should_scroll = function(lines) {\n",
    "    return false;\n",
    "}"
   ]
  },
  {
   "cell_type": "markdown",
   "metadata": {},
   "source": [
    "Analyte History, Plot Looking Observation Outliers\n",
    "--"
   ]
  },
  {
   "cell_type": "code",
   "execution_count": 16,
   "metadata": {},
   "outputs": [],
   "source": [
    "import pandas as pd\n",
    "import numpy as np\n",
    "import matplotlib.pyplot as plt\n",
    "\n",
    "import warnings\n",
    "warnings.filterwarnings('ignore')\n",
    "\n",
    "%matplotlib inline\n",
    "\n",
    "pd.set_option(\"display.max_columns\",25)"
   ]
  },
  {
   "cell_type": "code",
   "execution_count": 17,
   "metadata": {
    "collapsed": true
   },
   "outputs": [],
   "source": [
    "siteID = 'WI201'\n",
    "years = '10'\n",
    "days = str(int(years)*365)\n",
    "minobs = 5 #minimum number of observations to calculate what is typical\n",
    "types = ['Al-w', 'As-w', 'B-w', 'Br-w', 'Ca-w', 'Cs-w', 'Cl-w', 'F-w', 'Fe-w', 'HCO3-w', 'H2S-w', 'K-w', 'Li-w', 'Mg-w', 'Na-w', 'NH3-w', 'NO3-N-w', 'PO4-P-w', 'Rb-w', 'SO4-w', 'SiO2-w']"
   ]
  },
  {
   "cell_type": "markdown",
   "metadata": {},
   "source": [
    "**Get all data**"
   ]
  },
  {
   "cell_type": "code",
   "execution_count": 18,
   "metadata": {
    "collapsed": true
   },
   "outputs": [],
   "source": [
    "#setup dataframes\n",
    "names = ['date', 'obs']\n",
    "dfall = pd.DataFrame() #for background\n",
    "dflast = pd.DataFrame() #for last values\n",
    "\n",
    "#loop through typeIDs\n",
    "for typeID in types:\n",
    "    url = 'https://fits.geonet.org.nz/observation?siteID='+siteID+'&typeID='+typeID+'&days='+days\n",
    "    df = pd.read_csv(url, skiprows=1, parse_dates=True, names=names, usecols=[0,1], index_col=0)\n",
    "    df['typeID'] = typeID\n",
    "    dfall = dfall.append(df)"
   ]
  },
  {
   "cell_type": "code",
   "execution_count": 19,
   "metadata": {
    "collapsed": true,
    "scrolled": false
   },
   "outputs": [],
   "source": [
    "dates = dfall.index.unique()"
   ]
  },
  {
   "cell_type": "code",
   "execution_count": 20,
   "metadata": {
    "collapsed": true
   },
   "outputs": [],
   "source": [
    "dtab = dfall.pivot(columns='typeID', values='obs')"
   ]
  },
  {
   "cell_type": "code",
   "execution_count": 21,
   "metadata": {
    "collapsed": true
   },
   "outputs": [],
   "source": [
    "#replace zero values with NaN\n",
    "dtab.replace(to_replace=0, value=np.nan, inplace=True)  "
   ]
  },
  {
   "cell_type": "code",
   "execution_count": 22,
   "metadata": {
    "scrolled": true
   },
   "outputs": [
    {
     "name": "stdout",
     "output_type": "stream",
     "text": [
      "rows=6 date= 2008-05-02\n",
      "rows=7 date= 2008-08-06\n",
      "rows=8 date= 2008-10-21\n",
      "rows=9 date= 2008-12-11\n",
      "rows=10 date= 2009-02-03\n",
      "rows=11 date= 2009-03-10\n",
      "rows=12 date= 2009-05-14\n",
      "rows=13 date= 2009-08-11\n",
      "rows=14 date= 2009-11-13\n",
      "rows=15 date= 2010-03-02\n",
      "rows=16 date= 2010-05-02\n",
      "rows=17 date= 2010-08-11\n",
      "rows=18 date= 2010-11-24\n",
      "rows=19 date= 2011-01-12\n",
      "rows=20 date= 2011-05-20\n",
      "rows=21 date= 2011-08-18\n",
      "rows=22 date= 2011-09-23\n",
      "rows=23 date= 2014-09-17\n",
      "rows=24 date= 2014-10-24\n",
      "rows=25 date= 2014-11-20\n",
      "rows=26 date= 2015-02-25\n",
      "rows=27 date= 2015-06-05\n",
      "rows=28 date= 2015-09-17\n",
      "rows=29 date= 2015-12-23\n",
      "rows=30 date= 2017-07-26\n",
      "rows=31 date= 2017-08-18\n"
     ]
    }
   ],
   "source": [
    "#loop through dataframe, passing on extra row to 'data' each time, analyse 'data'\n",
    "for rows in range(minobs+1,len(dtab)+1):\n",
    "#for rows in range(9,12):\n",
    "    data = dtab.iloc[0:rows]\n",
    "    \n",
    "    #drop columns with null final value\n",
    "    droplist = [col for col in data.columns if pd.isnull(data[col].iloc[-1])]\n",
    "    data.drop(droplist, axis='columns', inplace=True)\n",
    "        \n",
    "    #drop columns with insufficient non-null values\n",
    "    droplist = [col for col in data.columns if pd.notnull(data[col]).sum() < minobs+1]\n",
    "    data.drop(droplist, axis='columns', inplace=True)\n",
    "    \n",
    "    finaldate = data.index[-1].strftime('%Y-%m-%d')\n",
    "    print 'rows='+str(rows), 'date= '+finaldate\n",
    "    #get last values\n",
    "    dlast = data.iloc[-1:]\n",
    "    #unpivot last values and set up for plotting\n",
    "    dlastp = pd.melt(dlast)\n",
    "    dlastp.index += 1\n",
    "    #drop last value from from data\n",
    "    data.drop(data.index[-1:], inplace=True)\n",
    "                \n",
    "    #plot\n",
    "    flierprops = dict(marker='o', markerfacecolor='black', markersize=2)\n",
    "    whiskerprops = dict(linestyle='-')         \n",
    "    bp = dlastp.plot(figsize=(30,10), marker='o', color='green', linestyle='none', legend=False)\n",
    "    data.boxplot(ax=bp, whis=[5,95], fontsize=14, flierprops=flierprops, whiskerprops=whiskerprops)\n",
    "    bp.get_figure().suptitle(\"\") #get rid of automatic boxplot sub-title\n",
    "    bp.set_ylabel(\"Concentration (mg/L)\", fontsize=14)\n",
    "    bp.set_xlabel(\"typeID\", fontsize=14)\n",
    "    bp.set_yscale('log')\n",
    "    bp.set_title(siteID+' for '+finaldate, fontsize=20)\n",
    "    fig = bp.get_figure()\n",
    "    fig.savefig('/home/sherburn/Desktop/'+siteID+'_'+finaldate+'.png', dpi=200)\n",
    "    plt.close(fig)"
   ]
  }
 ],
 "metadata": {
  "kernelspec": {
   "display_name": "Python 2",
   "language": "python",
   "name": "python2"
  },
  "language_info": {
   "codemirror_mode": {
    "name": "ipython",
    "version": 2
   },
   "file_extension": ".py",
   "mimetype": "text/x-python",
   "name": "python",
   "nbconvert_exporter": "python",
   "pygments_lexer": "ipython2",
   "version": "2.7.12"
  },
  "widgets": {
   "state": {
    "d27a13f452e24e7f84bc333b1638f679": {
     "views": [
      {
       "cell_index": 3
      }
     ]
    }
   },
   "version": "1.2.0"
  }
 },
 "nbformat": 4,
 "nbformat_minor": 2
}
