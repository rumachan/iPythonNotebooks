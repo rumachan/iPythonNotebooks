{
 "cells": [
  {
   "cell_type": "markdown",
   "metadata": {},
   "source": [
    "# A box and whisker plot for all sites with analyses for a particular analyte\n",
    "\n",
    "**To show how the historical analyses of springs and pools, etc varies from location to location.**\n",
    "\n",
    "**The visualization that is produced has siteID along the x-axis, and concentration on the y-axis (log scale as varies by orders on magnitude).**\n",
    "\n",
    "**A CSV file is also produced that lists siteID, site name, observation count, mean, standard deviation, minimum observation, 25th percentile, median (50th percentile), 75th percentile, maximum observation.**"
   ]
  },
  {
   "cell_type": "code",
   "execution_count": null,
   "metadata": {},
   "outputs": [],
   "source": [
    "import pandas as pd\n",
    "import requests\n",
    "from ipywidgets import interact, interactive, fixed, interact_manual\n",
    "import ipywidgets as widgets\n",
    "from ipywidgets import Button, Layout\n",
    "%matplotlib inline"
   ]
  },
  {
   "cell_type": "code",
   "execution_count": null,
   "metadata": {},
   "outputs": [],
   "source": [
    "def seltypeid(tid):\n",
    "  global typeid\n",
    "  typeid = tid['new']"
   ]
  },
  {
   "cell_type": "code",
   "execution_count": null,
   "metadata": {},
   "outputs": [],
   "source": [
    "def go(g):\n",
    "  global dfsdesc, dfall, dfts, dfpr\n",
    "  \n",
    "  url = 'https://fits.geonet.org.nz/site?typeID='+typeid\n",
    "  r = requests.get(url)\n",
    "  jdata = r.json()\n",
    "  features = jdata['features']\n",
    "    \n",
    "  dfsite = pd.DataFrame()\n",
    "  for i, val in enumerate(features):\n",
    "    geometry = val['geometry']\n",
    "    properties = val['properties']\n",
    "    siteID = properties['siteID']\n",
    "    name = properties['name']\n",
    "    dfsite = dfsite.append({'siteID': siteID, 'name': name}, ignore_index=True)\n",
    "\n",
    "  names = ['dt', 'obs', 'err']\n",
    "  dfts = pd.DataFrame()\n",
    "  #for site, network, name in zip(dfsite['siteID'], dfsite['networkID'], dfsite['name']):  \n",
    "  for site, name in zip(dfsite['siteID'], dfsite['name']):\n",
    "    url= 'https://fits.geonet.org.nz/observation?typeID='+typeid+'&siteID='+site\n",
    "    df = pd.read_csv(url, names=names, skiprows=1, parse_dates={\"Datetime\" : ['dt']})\n",
    "    df['siteID'] = site\n",
    "    df['name'] = name\n",
    "    dfts = dfts.append(df, ignore_index=True)\n",
    "    \n",
    "  flierprops = dict(marker='o', markerfacecolor='black', markersize=2)\n",
    "  whiskerprops = dict(linestyle='-')\n",
    "  bp = dfts.boxplot(column='obs', by='siteID', figsize=(30,10), rot=90, whis=[5,95], flierprops=flierprops, whiskerprops=whiskerprops)\n",
    "  bp.get_figure().suptitle(\"\") #get rid of automatic boxplot sub-title\n",
    "  bp.set_ylabel(\"Concentration (mg/L)\")\n",
    "  bp.set_xlabel(\"siteID\")\n",
    "  bp.set_yscale('log')\n",
    "  bp.set_title(typeid+' concentration by siteID (whisker=5%-95%)')\n",
    "  fig = bp.get_figure()\n",
    "  fig.savefig(typeid+'.png', dpi=200)\n",
    "    \n",
    "  #print file\n",
    "  dfdesc = dfts['obs'].groupby(dfts['siteID']).describe()\n",
    "  dfname = dfts[['siteID','name']]\n",
    "  dfn = dfname.drop_duplicates()\n",
    "  dfp = dfdesc.reset_index(level=0)\n",
    "  dfpr = pd.merge(dfn, dfp, on=['siteID'])\n",
    "  dfpr.sort_values(by='siteID',inplace=True)\n",
    "  dfpr.to_csv(typeid+'.csv', index=False)"
   ]
  },
  {
   "cell_type": "code",
   "execution_count": null,
   "metadata": {},
   "outputs": [],
   "source": [
    "tid = widgets.Text(\n",
    "    value='',\n",
    "    placeholder='',\n",
    "    description='TypeID to plot:',\n",
    "    disabled=False\n",
    ")\n",
    "tid.observe(seltypeid, names='value')\n",
    "\n",
    "g=widgets.Button(\n",
    "    description='Retrieve and plot',\n",
    "    disabled=False,\n",
    "    button_style='success',\n",
    "    tooltip='Retrieve data and plotting')\n",
    "g.on_click(go)\n",
    "\n",
    "widgets.HBox([tid, g])"
   ]
  }
 ],
 "metadata": {
  "kernelspec": {
   "display_name": "Python 3",
   "language": "python",
   "name": "python3"
  },
  "language_info": {
   "codemirror_mode": {
    "name": "ipython",
    "version": 3
   },
   "file_extension": ".py",
   "mimetype": "text/x-python",
   "name": "python",
   "nbconvert_exporter": "python",
   "pygments_lexer": "ipython3",
   "version": "3.7.1"
  },
  "widgets": {
   "state": {
    "d27a13f452e24e7f84bc333b1638f679": {
     "views": [
      {
       "cell_index": 3
      }
     ]
    }
   },
   "version": "1.2.0"
  }
 },
 "nbformat": 4,
 "nbformat_minor": 2
}
