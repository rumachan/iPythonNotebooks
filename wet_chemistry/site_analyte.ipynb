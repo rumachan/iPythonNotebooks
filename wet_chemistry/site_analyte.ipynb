{
 "cells": [
  {
   "cell_type": "markdown",
   "metadata": {},
   "source": [
    "Plot Analytes by Site, Looking for an Outlier in the Final Observation\n",
    "--\n",
    "\n",
    "This is only intended to produce a plot, nothing more."
   ]
  },
  {
   "cell_type": "code",
   "execution_count": null,
   "metadata": {
    "collapsed": true
   },
   "outputs": [],
   "source": [
    "import pandas as pd\n",
    "import numpy as np\n",
    "%matplotlib inline"
   ]
  },
  {
   "cell_type": "code",
   "execution_count": null,
   "metadata": {
    "collapsed": true
   },
   "outputs": [],
   "source": [
    "siteID = 'TO051'\n",
    "years = '20'\n",
    "days = str(int(years)*365)\n",
    "minobs = 5 #minimum number of observations to calculate what is typical\n",
    "types = ['Al-w', 'As-w', 'B-w', 'Br-w', 'Ca-w', 'Cs-w', 'Cl-w', 'F-w', 'Fe-w', 'HCO3-w', 'H2S-w', 'K-w', 'Li-w', 'Mg-w', 'Na-w', 'NH3-w', 'NO3-N-w', 'PO4-P-w', 'Rb-w', 'SO4-w', 'SiO2-w']"
   ]
  },
  {
   "cell_type": "code",
   "execution_count": null,
   "metadata": {
    "collapsed": true
   },
   "outputs": [],
   "source": [
    "#data range for plot labelling\n",
    "#drange = float(int(days)/365)\n",
    "drange = years"
   ]
  },
  {
   "cell_type": "markdown",
   "metadata": {},
   "source": [
    "**Get data for 'background' and last values**"
   ]
  },
  {
   "cell_type": "code",
   "execution_count": null,
   "metadata": {
    "collapsed": true
   },
   "outputs": [],
   "source": [
    "#setup dataframes\n",
    "names = ['date', 'obs']\n",
    "dfall = pd.DataFrame() #for background\n",
    "dflast = pd.DataFrame() #for last values\n",
    "\n",
    "#loop through typeIDs\n",
    "for typeID in types:\n",
    "    url = 'https://fits.geonet.org.nz/observation?siteID='+siteID+'&typeID='+typeID+'&days='+days\n",
    "    df = pd.read_csv(url, skiprows=1, parse_dates=True, names=names, usecols=[0,1], index_col=0)\n",
    "    df['typeID'] = typeID\n",
    "        \n",
    "    if not df.empty: #may not analyse for this typeID\n",
    "        #check last value is non-zero\n",
    "        if df['obs'].iloc[-1] !=0:\n",
    "            #keep only non-zero values\n",
    "            df = df[df['obs'] != 0]\n",
    "            #ensure we have sufficient values to do anything\n",
    "            if len(df) >= minobs+1:\n",
    "                #get last value from df, append to dataframe of last values\n",
    "                dfl = df.iloc[-1:]\n",
    "                dflast = dflast.append(dfl)\n",
    "                #drop last value from from df, then append to dataframe of remaining data\n",
    "                df.drop(df.index[-1:], inplace=True)\n",
    "                dfall = dfall.append(df)"
   ]
  },
  {
   "cell_type": "code",
   "execution_count": null,
   "metadata": {
    "scrolled": false
   },
   "outputs": [],
   "source": [
    "dfall['typeID'].unique()"
   ]
  },
  {
   "cell_type": "code",
   "execution_count": null,
   "metadata": {
    "scrolled": false
   },
   "outputs": [],
   "source": [
    "dflast['typeID'].unique()"
   ]
  },
  {
   "cell_type": "code",
   "execution_count": null,
   "metadata": {
    "collapsed": true
   },
   "outputs": [],
   "source": [
    "#sort last values so order matches that of boxplot\n",
    "dflast.sort_values('typeID', ascending=True, inplace=True)\n",
    "#index from 1 to n\n",
    "dflast.index = range(1,len(dflast)+1)"
   ]
  },
  {
   "cell_type": "code",
   "execution_count": null,
   "metadata": {
    "scrolled": true
   },
   "outputs": [],
   "source": [
    "flierprops = dict(marker='o', markerfacecolor='black', markersize=2)\n",
    "whiskerprops = dict(linestyle='-')\n",
    "bp = dfall.boxplot(column='obs', by='typeID', figsize=(30,10), whis=[5,95], fontsize=14, flierprops=flierprops, whiskerprops=whiskerprops)\n",
    "bp.plot(dflast['obs'], marker='o', color='green', linestyle='none', label='last value')\n",
    "bp.get_figure().suptitle(\"\") #get rid of automatic boxplot sub-title\n",
    "bp.set_ylabel(\"Concentration (mg/L)\", fontsize=14)\n",
    "bp.set_xlabel(\"typeID\", fontsize=14)\n",
    "bp.set_yscale('log')\n",
    "bp.set_title(siteID+' concentration by typeID (whisker=5%-95%). Data range = last '+str(drange)+' years', fontsize=20)\n",
    "bp.legend(loc='best')\n",
    "fig = bp.get_figure()\n",
    "fig.savefig(siteID+'_'+str(drange)+'_years.png', dpi=200)"
   ]
  }
 ],
 "metadata": {
  "kernelspec": {
   "display_name": "Python 2",
   "language": "python",
   "name": "python2"
  },
  "language_info": {
   "codemirror_mode": {
    "name": "ipython",
    "version": 2
   },
   "file_extension": ".py",
   "mimetype": "text/x-python",
   "name": "python",
   "nbconvert_exporter": "python",
   "pygments_lexer": "ipython2",
   "version": "2.7.12"
  },
  "widgets": {
   "state": {
    "d27a13f452e24e7f84bc333b1638f679": {
     "views": [
      {
       "cell_index": 3
      }
     ]
    }
   },
   "version": "1.2.0"
  }
 },
 "nbformat": 4,
 "nbformat_minor": 2
}
