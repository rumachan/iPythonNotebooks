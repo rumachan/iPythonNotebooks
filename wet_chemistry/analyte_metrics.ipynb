{
 "cells": [
  {
   "cell_type": "code",
   "execution_count": null,
   "metadata": {},
   "outputs": [],
   "source": [
    "%%javascript\n",
    "IPython.OutputArea.prototype._should_scroll = function(lines) {\n",
    "    return false;\n",
    "}"
   ]
  },
  {
   "cell_type": "markdown",
   "metadata": {},
   "source": [
    "Analyte History - Calculate and Plot Outlier Metrics\n",
    "--\n",
    "**Metrics**\n",
    "\n",
    "1. An outlier value: the mean percentile offset of the sample from the background data\n",
    "2. A quartile value: the percentage of the sample outside the quartiles of the background data\n",
    "3. A 5% value: the percentage of the sample outside 5 and 95% of the background data\n",
    "\n"
   ]
  },
  {
   "cell_type": "code",
   "execution_count": null,
   "metadata": {
    "collapsed": true
   },
   "outputs": [],
   "source": [
    "import pandas as pd\n",
    "import numpy as np\n",
    "import matplotlib.pyplot as plt\n",
    "import scipy.stats as stats\n",
    "\n",
    "import warnings\n",
    "warnings.filterwarnings('ignore')\n",
    "\n",
    "%matplotlib inline"
   ]
  },
  {
   "cell_type": "code",
   "execution_count": null,
   "metadata": {
    "collapsed": true
   },
   "outputs": [],
   "source": [
    "def outlierval(data, sample):\n",
    "    \"\"\"mean percentile offset of sample from data\"\"\"\n",
    "    perc = np.array([])\n",
    "    for column in data:\n",
    "        p = stats.percentileofscore(data[column], sample[column].iloc[0])\n",
    "        perc = np.append(perc, p)\n",
    "    perc = abs(perc - 50)*2\n",
    "    perc = np.mean(perc)\n",
    "    return perc"
   ]
  },
  {
   "cell_type": "code",
   "execution_count": null,
   "metadata": {
    "collapsed": true
   },
   "outputs": [],
   "source": [
    "def quartval(data, sample):\n",
    "    \"\"\"percentage of columns outside 25-75%\"\"\"\n",
    "    quart = 0\n",
    "    for column in data:\n",
    "        lq = data[column].quantile(q=0.25)\n",
    "        uq = data[column].quantile(q=0.75)\n",
    "        if (sample.iloc[0][column] > uq) or (sample.iloc[0][column] < lq):\n",
    "            quart += 1\n",
    "    quart = (float(quart) / float(len(data.columns))) * 100\n",
    "    return quart"
   ]
  },
  {
   "cell_type": "code",
   "execution_count": null,
   "metadata": {
    "collapsed": true
   },
   "outputs": [],
   "source": [
    "def fiveval(data, sample):\n",
    "    \"\"\"percentage of columns outside 5-95%\"\"\"\n",
    "    five = 0\n",
    "    for column in data:\n",
    "        lf = data[column].quantile(q=0.05)\n",
    "        uf = data[column].quantile(q=0.95)\n",
    "        if (sample.iloc[0][column] > uf) or (sample.iloc[0][column] < lf):\n",
    "            five += 1\n",
    "    five = (float(five) / float(len(data.columns))) * 100\n",
    "    return five"
   ]
  },
  {
   "cell_type": "code",
   "execution_count": null,
   "metadata": {
    "collapsed": true
   },
   "outputs": [],
   "source": [
    "siteID = 'WI201'\n",
    "years = '20'\n",
    "days = str(int(years)*365)\n",
    "minobs = 5 #minimum number of observations to calculate what is typical\n",
    "types = ['Al-w', 'As-w', 'B-w', 'Br-w', 'Ca-w', 'Cs-w', 'Cl-w', 'F-w', 'Fe-w', 'HCO3-w', 'H2S-w', 'K-w', 'Li-w', 'Mg-w', 'Na-w', 'NH3-w', 'NO3-N-w', 'PO4-P-w', 'Rb-w', 'SO4-w', 'SiO2-w']"
   ]
  },
  {
   "cell_type": "markdown",
   "metadata": {},
   "source": [
    "**Get all data**"
   ]
  },
  {
   "cell_type": "code",
   "execution_count": null,
   "metadata": {
    "collapsed": true
   },
   "outputs": [],
   "source": [
    "#setup dataframes\n",
    "names = ['date', 'obs']\n",
    "dfall = pd.DataFrame() #for background\n",
    "dflast = pd.DataFrame() #for last values\n",
    "\n",
    "#loop through typeIDs\n",
    "for typeID in types:\n",
    "    url = 'https://fits.geonet.org.nz/observation?siteID='+siteID+'&typeID='+typeID+'&days='+days\n",
    "    df = pd.read_csv(url, skiprows=1, parse_dates=True, names=names, usecols=[0,1], index_col=0)\n",
    "    df['typeID'] = typeID\n",
    "    dfall = dfall.append(df)"
   ]
  },
  {
   "cell_type": "markdown",
   "metadata": {},
   "source": [
    "**Prepare data**"
   ]
  },
  {
   "cell_type": "code",
   "execution_count": null,
   "metadata": {
    "collapsed": true
   },
   "outputs": [],
   "source": [
    "dtab = dfall.pivot(columns='typeID', values='obs')\n",
    "dtab.replace(to_replace=0, value=np.nan, inplace=True)"
   ]
  },
  {
   "cell_type": "markdown",
   "metadata": {},
   "source": [
    "**Calculate data metrics**"
   ]
  },
  {
   "cell_type": "code",
   "execution_count": null,
   "metadata": {
    "collapsed": true
   },
   "outputs": [],
   "source": [
    "#empty dataframe for metrics\n",
    "dfov = pd.DataFrame()\n",
    "dfqv = pd.DataFrame()\n",
    "dffv = pd.DataFrame()\n",
    "\n",
    "#loop through dataframe\n",
    "for rows in range(minobs+1,len(dtab)+1):\n",
    "    data = dtab.iloc[0:rows]\n",
    "    \n",
    "    #drop columns with null final value\n",
    "    droplist = [col for col in data.columns if pd.isnull(data[col].iloc[-1])]\n",
    "    data.drop(droplist, axis='columns', inplace=True)\n",
    "        \n",
    "    #drop columns with insufficient non-null values\n",
    "    droplist = [col for col in data.columns if pd.notnull(data[col]).sum() < minobs+1]\n",
    "    data.drop(droplist, axis='columns', inplace=True)\n",
    "    \n",
    "    finaldate = data.index[-1].strftime('%Y-%m-%d')\n",
    "    #print 'rows='+str(rows), 'date= '+finaldate\n",
    "    #get last values\n",
    "    dlast = data.iloc[-1:]\n",
    "    #drop last value from from data\n",
    "    data.drop(data.index[-1:], inplace=True)\n",
    "\n",
    "    #calculate metrics, provided valid background data\n",
    "    if len(data.columns) > 0:  \n",
    "        #metric #1\n",
    "        ov = outlierval(data, dlast)\n",
    "        idx = pd.to_datetime(dlast.index[0])\n",
    "        dfov = dfov.append({'date':idx, 'val':ov}, ignore_index=True)\n",
    "\n",
    "        #metric #2\n",
    "        qv = quartval(data, dlast)\n",
    "        idx = pd.to_datetime(dlast.index[0])\n",
    "        dfqv = dfqv.append({'date':idx, 'val':qv}, ignore_index=True)\n",
    "\n",
    "        #metric #3\n",
    "        fv = fiveval(data, dlast)\n",
    "        idx = pd.to_datetime(dlast.index[0])\n",
    "        dffv = dffv.append({'date':idx, 'val':fv}, ignore_index=True)\n",
    "\n",
    "#set date as index in metrics dataframes\n",
    "dfov.set_index('date', inplace=True)\n",
    "dfqv.set_index('date', inplace=True)\n",
    "dffv.set_index('date', inplace=True)"
   ]
  },
  {
   "cell_type": "markdown",
   "metadata": {},
   "source": [
    "**Plot metric #1**"
   ]
  },
  {
   "cell_type": "code",
   "execution_count": null,
   "metadata": {
    "scrolled": true
   },
   "outputs": [],
   "source": [
    "fig, met1 = plt.subplots(figsize=(10,5))\n",
    "met1.bar(dfov.index, dfov.val, width=1, color='red', edgecolor='red', align='center')\n",
    "met1.set_ylabel('outlier value')\n",
    "met1.set_title(siteID+' Metric #1: Outlier Value')\n",
    "\n",
    "#extend x axes so all points are clear\n",
    "xmin, xmax = met1.get_xlim()\n",
    "xmin *= 0.9999\n",
    "xmax *= 1.0001\n",
    "met1.set_xlim(xmin, xmax)\n",
    "\n",
    "met1.set_ylim(30, 100)\n",
    "met1.grid()\n",
    "\n",
    "plotname = siteID+'_metric-1.png'\n",
    "fig = met1.get_figure()\n",
    "fig.savefig(plotname, dpi=200)"
   ]
  },
  {
   "cell_type": "markdown",
   "metadata": {},
   "source": [
    "**Plot metric #2**"
   ]
  },
  {
   "cell_type": "code",
   "execution_count": null,
   "metadata": {
    "scrolled": true
   },
   "outputs": [],
   "source": [
    "fig, met2 = plt.subplots(figsize=(10,5))\n",
    "met2.bar(dfqv.index, dfqv.val, width=1, color='red', edgecolor='red', align='center')\n",
    "met2.set_ylabel('quartile value')\n",
    "met2.set_title(siteID+' Metric #2: Quartile Value')\n",
    "\n",
    "#extend x axes so all points are clear\n",
    "xmin, xmax = met2.get_xlim()\n",
    "xmin *= 0.9999\n",
    "xmax *= 1.0001\n",
    "met2.set_xlim(xmin, xmax)\n",
    "\n",
    "met2.set_ylim(30, 100)\n",
    "met2.grid()\n",
    "\n",
    "plotname = siteID+'_metric-2.png'\n",
    "fig = met2.get_figure()\n",
    "fig.savefig(plotname, dpi=200)"
   ]
  },
  {
   "cell_type": "markdown",
   "metadata": {},
   "source": [
    "**Plot metric #3**"
   ]
  },
  {
   "cell_type": "code",
   "execution_count": null,
   "metadata": {
    "scrolled": true
   },
   "outputs": [],
   "source": [
    "fig, met3 = plt.subplots(figsize=(10,5))\n",
    "met3.bar(dffv.index, dffv.val, width=1, color='red', edgecolor='red', align='center')\n",
    "met3.set_ylabel('fives value')\n",
    "met3.set_title(siteID+' Metric #3: Fives Value')\n",
    "\n",
    "#extend x axes so all points are clear\n",
    "xmin, xmax = met3.get_xlim()\n",
    "xmin *= 0.9999\n",
    "xmax *= 1.0001\n",
    "met3.set_xlim(xmin, xmax)\n",
    "\n",
    "met3.set_ylim(0, 100)\n",
    "met3.grid()\n",
    "\n",
    "plotname = siteID+'_metric-3.png'\n",
    "fig = met3.get_figure()\n",
    "fig.savefig(plotname, dpi=200)"
   ]
  }
 ],
 "metadata": {
  "kernelspec": {
   "display_name": "Python 2",
   "language": "python",
   "name": "python2"
  },
  "language_info": {
   "codemirror_mode": {
    "name": "ipython",
    "version": 2
   },
   "file_extension": ".py",
   "mimetype": "text/x-python",
   "name": "python",
   "nbconvert_exporter": "python",
   "pygments_lexer": "ipython2",
   "version": "2.7.12"
  },
  "widgets": {
   "state": {
    "d27a13f452e24e7f84bc333b1638f679": {
     "views": [
      {
       "cell_index": 3
      }
     ]
    }
   },
   "version": "1.2.0"
  }
 },
 "nbformat": 4,
 "nbformat_minor": 2
}
