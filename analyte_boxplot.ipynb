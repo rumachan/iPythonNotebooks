{
 "cells": [
  {
   "cell_type": "code",
   "execution_count": 1,
   "metadata": {
    "collapsed": true
   },
   "outputs": [],
   "source": [
    "import pandas as pd\n",
    "import requests\n",
    "from ipywidgets import interact, interactive, fixed, interact_manual\n",
    "import ipywidgets as widgets\n",
    "from ipywidgets import Button, Layout\n",
    "%matplotlib inline"
   ]
  },
  {
   "cell_type": "code",
   "execution_count": 2,
   "metadata": {
    "collapsed": true
   },
   "outputs": [],
   "source": [
    "def seltypeid(tid):\n",
    "  global typeid\n",
    "  typeid = tid['new']"
   ]
  },
  {
   "cell_type": "code",
   "execution_count": 3,
   "metadata": {
    "collapsed": true
   },
   "outputs": [],
   "source": [
    "def go(g):\n",
    "  global dfsdesc, dfall, dfts, dfpr\n",
    "  \n",
    "  url = 'https://fits.geonet.org.nz/site?typeID='+typeid\n",
    "  r = requests.get(url)\n",
    "  jdata = r.json()\n",
    "  features = jdata['features']\n",
    "    \n",
    "  dfsite = pd.DataFrame()\n",
    "  for i, val in enumerate(features):\n",
    "    geometry = val['geometry']\n",
    "    properties = val['properties']\n",
    "    siteID = properties['siteID']\n",
    "    networkID = properties['networkID']\n",
    "    name = properties['name']\n",
    "    dfsite = dfsite.append({'networkID': networkID, 'siteID': siteID, 'name': name}, ignore_index=True)\n",
    "\n",
    "  names = ['dt', 'obs', 'err']\n",
    "  dfts = pd.DataFrame()\n",
    "  for site, network, name in zip(dfsite['siteID'], dfsite['networkID'], dfsite['name']):\n",
    "    site = site.encode('ascii','ignore')\n",
    "    network = network.encode('ascii','ignore')\n",
    "    name = name.encode('ascii', 'ignore')\n",
    "    url= 'https://fits.geonet.org.nz/observation?typeID='+typeid+'&siteID='+site+'&networkID='+network\n",
    "    df = pd.read_csv(url, names=names, skiprows=1, parse_dates={\"Datetime\" : ['dt']})\n",
    "    df['siteID'] = site\n",
    "    df['networkID'] = network\n",
    "    df['name'] = name\n",
    "    dfts = dfts.append(df, ignore_index=True)\n",
    "    \n",
    "  dfall = pd.merge(dfsite, dfts, on=['siteID','networkID', 'name'])\n",
    "  dfsdesc = dfall['obs'].groupby(dfall['siteID']).describe().unstack()\n",
    "  dft = dfsdesc.transpose()\n",
    "  color = dict(boxes='Red', whiskers='Red', medians='Blue', caps='Black')\n",
    "  bp = dft.plot.box(figsize=(30,10), logy=True, rot=90, title=typeid+' concentration by siteID (whisker=5%-95%)', showmeans=True, whis=[5,95], color=color)\n",
    "  bp.set_ylabel(\"Concentration (mg/L)\")\n",
    "  bp.set_xlabel(\"siteID\")\n",
    "  fig = bp.get_figure()\n",
    "  fig.savefig(typeid+'.png', dpi=200)\n",
    "    \n",
    "  #print file  \n",
    "  dfname = dfts[['siteID','name']]\n",
    "  dfn = dfname.drop_duplicates()\n",
    "  dfp = dfsdesc.reset_index(level=0)\n",
    "  dfpr = pd.merge(dfn, dfp, on=['siteID'])\n",
    "  dfpr.sort_values(by='siteID',inplace=True)\n",
    "  dfpr.to_csv(typeid+'.csv', index=False)"
   ]
  },
  {
   "cell_type": "code",
   "execution_count": 6,
   "metadata": {},
   "outputs": [],
   "source": [
    "tid = widgets.Text(\n",
    "    value='',\n",
    "    placeholder='',\n",
    "    description='TypeID to plot:',\n",
    "    disabled=False\n",
    ")\n",
    "tid.observe(seltypeid, names='value')\n",
    "\n",
    "g=widgets.Button(\n",
    "    description='Retrieve and plot',\n",
    "    disabled=False,\n",
    "    button_style='success',\n",
    "    tooltip='Retrieve data and plotting')\n",
    "g.on_click(go)\n",
    "\n",
    "widgets.HBox([tid, g])"
   ]
  }
 ],
 "metadata": {
  "kernelspec": {
   "display_name": "Python 2",
   "language": "python",
   "name": "python2"
  },
  "language_info": {
   "codemirror_mode": {
    "name": "ipython",
    "version": 2
   },
   "file_extension": ".py",
   "mimetype": "text/x-python",
   "name": "python",
   "nbconvert_exporter": "python",
   "pygments_lexer": "ipython2",
   "version": "2.7.12"
  },
  "widgets": {
   "state": {
    "d27a13f452e24e7f84bc333b1638f679": {
     "views": [
      {
       "cell_index": 3
      }
     ]
    }
   },
   "version": "1.2.0"
  }
 },
 "nbformat": 4,
 "nbformat_minor": 2
}
