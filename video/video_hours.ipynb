{
 "cells": [
  {
   "cell_type": "markdown",
   "metadata": {},
   "source": [
    "# Video of Volcano Camera Images During Certain Hours of Each Day\n",
    "\n",
    "## Purpose:\n",
    "To create a video from a series of webcam images. Images are selected from the 'database' on the basis of their date, and the time of the day they were taken. For example, all images taken between 0200 and 0300 UTC each day from January 7 to February 6.\n",
    "\n",
    "## Technical Details:\n",
    "Cropping an image is done by default. Currently, the only way to not crop an image, is to crop to the 'full size'.\n",
    "\n",
    "The image crop is set by variables x1, x2, y1, y2. x1,y1 represents the top left of the image (the image coordinate system starts at the top left), and x2,y2 the bottom right. These need to be specified for each view, and checked/adjusted if a camera's view changes.\n",
    "\n",
    "The cropped images can be contrast enhanced using an algorithm called CLAHE (Contrast Limited Adaptive Histogram Equalization). The variable 'enhance' can be set to True/False depending on whether enhancement is required.\n",
    "\n",
    "The date-time of each image is written in the top-left of the image.\n",
    "\n",
    "Directories for images and video need to be specified.\n",
    "\n",
    "The image 'database' is the GeoNet public ftp site. On an Ubuntu operating system, the ftp site mounts as a directory, and can therefore be searched for appropriate images. The GeoNet public ftp site therefore needs to be mounted for this notebook to run.\n",
    "\n",
    "## Author:\n",
    "Steven Sherburn\n",
    "\n",
    "## Date:\n",
    "March 2018"
   ]
  },
  {
   "cell_type": "code",
   "execution_count": null,
   "metadata": {},
   "outputs": [],
   "source": [
    "import cv2\n",
    "import matplotlib.pyplot as plt\n",
    "import os\n",
    "import datetime\n",
    "from datetime import timedelta \n",
    "import pytz\n",
    "import pandas as pd\n",
    "\n",
    "%matplotlib inline"
   ]
  },
  {
   "cell_type": "code",
   "execution_count": null,
   "metadata": {},
   "outputs": [],
   "source": [
    "def imfdt(imfile):\n",
    "    #gets a datetime for an image file named like 20180101001002WIWR.jpg\n",
    "    year = imfile[:4]\n",
    "    month = imfile[4:6]\n",
    "    day = imfile[6:8]\n",
    "    hour = imfile[8:10]\n",
    "    minute = imfile[10:12]\n",
    "    second = imfile[12:14]\n",
    "    dt = pytz.utc.localize(datetime.datetime(int(year), int(month), int(day), int(hour), int(minute), int(second)))\n",
    "    return (dt)"
   ]
  },
  {
   "cell_type": "code",
   "execution_count": null,
   "metadata": {},
   "outputs": [],
   "source": [
    "def clahe(img):\n",
    "    # CLAHE (Contrast Limited Adaptive Histogram Equalization)\n",
    "    #https://stackoverflow.com/questions/19363293/whats-the-fastest-way-to-increase-color-image-contrast-with-opencv-in-python-c\n",
    "    global img2\n",
    "    clahe = cv2.createCLAHE(clipLimit=3., tileGridSize=(8,8))\n",
    "\n",
    "    lab = cv2.cvtColor(img, cv2.COLOR_BGR2LAB)  # convert from BGR to LAB color space\n",
    "    l, a, b = cv2.split(lab)  # split on 3 different channels\n",
    "\n",
    "    l2 = clahe.apply(l)  # apply CLAHE to the L-channel\n",
    "\n",
    "    lab = cv2.merge((l2,a,b))  # merge channels\n",
    "    img2 = cv2.cvtColor(lab, cv2.COLOR_LAB2BGR)  # convert from LAB to BGR"
   ]
  },
  {
   "cell_type": "markdown",
   "metadata": {},
   "source": [
    "**Set image date range and camera**"
   ]
  },
  {
   "cell_type": "code",
   "execution_count": null,
   "metadata": {},
   "outputs": [],
   "source": [
    "#UTC date range for images to view\n",
    "date1 = '2018-01-01'\n",
    "date2 = '2018-04-30'\n",
    "camera = 'WINR'"
   ]
  },
  {
   "cell_type": "markdown",
   "metadata": {},
   "source": [
    "**Text for image label**"
   ]
  },
  {
   "cell_type": "code",
   "execution_count": null,
   "metadata": {},
   "outputs": [],
   "source": [
    "font                   = cv2.FONT_HERSHEY_SIMPLEX\n",
    "bottomLeftCornerOfText = (10,30)\n",
    "fontScale              = 0.5\n",
    "fontColor              = (255,255,255)\n",
    "lineType               = 1"
   ]
  },
  {
   "cell_type": "markdown",
   "metadata": {},
   "source": [
    "**Set hours for image selection**"
   ]
  },
  {
   "cell_type": "code",
   "execution_count": null,
   "metadata": {},
   "outputs": [],
   "source": [
    "hour1 = 0\n",
    "hour2 = 1\n",
    "strhour1 = str(hour1).zfill(2)\n",
    "strhour2 = str(hour2).zfill(2)"
   ]
  },
  {
   "cell_type": "markdown",
   "metadata": {},
   "source": [
    "**Enhance the images?**"
   ]
  },
  {
   "cell_type": "code",
   "execution_count": null,
   "metadata": {},
   "outputs": [],
   "source": [
    "enhance = False"
   ]
  },
  {
   "cell_type": "markdown",
   "metadata": {},
   "source": [
    "**Image crop**"
   ]
  },
  {
   "cell_type": "code",
   "execution_count": null,
   "metadata": {},
   "outputs": [],
   "source": [
    "#WINR focus on 2012 dome, 2018-05-30 onwards\n",
    "# y1 = 650\n",
    "# y2 = 900\n",
    "# x1 = 1550\n",
    "# x2 = 1950\n",
    "\n",
    "#WINR focus on 2012 dome, up to 2018-05-29\n",
    "y1 = 715\n",
    "y2 = 965\n",
    "x1 = 1560\n",
    "x2 = 1960"
   ]
  },
  {
   "cell_type": "markdown",
   "metadata": {},
   "source": [
    "**Relevant directories**"
   ]
  },
  {
   "cell_type": "code",
   "execution_count": null,
   "metadata": {},
   "outputs": [],
   "source": [
    "#as mounted, this is image directory\n",
    "camdir = '/run/user/1000/gvfs/ftp:host=ftp.geonet.org.nz/volcano_cams'\n",
    "\n",
    "#directory to write crops\n",
    "imgdir = '/home/sherburn/geonet/volcam_images'\n",
    "crpdir = os.path.join(imgdir, '2012dome_crop')\n",
    "viddir = os.path.join(imgdir, '2012dome_video')"
   ]
  },
  {
   "cell_type": "markdown",
   "metadata": {},
   "source": [
    "**Loop through date folders**"
   ]
  },
  {
   "cell_type": "code",
   "execution_count": null,
   "metadata": {
    "scrolled": false
   },
   "outputs": [],
   "source": [
    "for date in pd.date_range(date1, date2):\n",
    "    year = date.year\n",
    "    time_start = pytz.utc.localize(date + timedelta(hours=hour1))\n",
    "    time_end = pytz.utc.localize(date + timedelta(hours=hour2))\n",
    "    datestr = date.strftime('%Y%m%d')\n",
    "    print (datestr)\n",
    "    dydir = os.path.join(camdir, str(year), datestr, camera)\n",
    "    \n",
    "    for file in sorted(os.listdir(dydir)):\n",
    "        if file.endswith('.jpg'):\n",
    "            imfile = os.path.join(dydir, file)\n",
    "            imtime = imfdt(file)\n",
    "            if (imtime < time_end and imtime > time_start):\n",
    "                img = cv2.imread(imfile)\n",
    "                crop = img[y1:y2, x1:x2]\n",
    "                if enhance:\n",
    "                    clahe(crop)\n",
    "                else:\n",
    "                    img2 = crop\n",
    "                cv2.putText(img2,imtime.strftime('%Y-%m-%d %H:%M'), bottomLeftCornerOfText, font, fontScale, fontColor, lineType)\n",
    "                crfile = os.path.join(crpdir, file)\n",
    "                cv2.imwrite(crfile, img2)\n",
    "height,width,layers = crop.shape"
   ]
  },
  {
   "cell_type": "markdown",
   "metadata": {},
   "source": [
    "**Make video of cropped images**"
   ]
  },
  {
   "cell_type": "code",
   "execution_count": null,
   "metadata": {},
   "outputs": [],
   "source": [
    "vidname = camera+'_'+date1+'_'+date2+'_'+strhour1+'-'+strhour2+'.avi'\n",
    "vidfile = os.path.join(viddir, vidname)\n",
    "\n",
    "fps = 6\n",
    "fourcc = cv2.VideoWriter_fourcc(*'XVID')\n",
    "video = cv2.VideoWriter(vidfile,fourcc,fps,(width,height))\n",
    "for file in sorted(os.listdir(crpdir)):\n",
    "    if file.endswith('.jpg'):\n",
    "        imfile = os.path.join(crpdir, file)\n",
    "        img = cv2.imread(imfile)\n",
    "        video.write(img)\n",
    "cv2.destroyAllWindows\n",
    "video.release()"
   ]
  }
 ],
 "metadata": {
  "kernelspec": {
   "display_name": "Python 3",
   "language": "python",
   "name": "python3"
  },
  "language_info": {
   "codemirror_mode": {
    "name": "ipython",
    "version": 3
   },
   "file_extension": ".py",
   "mimetype": "text/x-python",
   "name": "python",
   "nbconvert_exporter": "python",
   "pygments_lexer": "ipython3",
   "version": "3.6.5"
  }
 },
 "nbformat": 4,
 "nbformat_minor": 2
}
