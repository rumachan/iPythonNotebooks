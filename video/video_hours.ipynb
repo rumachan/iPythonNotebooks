{
 "cells": [
  {
   "cell_type": "markdown",
   "metadata": {},
   "source": [
    "Video of Volcano Camera Images During Certain Hours of Each Day\n",
    "--\n",
    "\n",
    "This focuses on a sub-area of the image and only images recorded during certain hours of each day."
   ]
  },
  {
   "cell_type": "code",
   "execution_count": 61,
   "metadata": {
    "collapsed": true
   },
   "outputs": [],
   "source": [
    "import cv2\n",
    "import matplotlib.pyplot as plt\n",
    "import os\n",
    "import datetime\n",
    "from datetime import timedelta \n",
    "import pytz\n",
    "import pandas as pd\n",
    "\n",
    "%matplotlib inline"
   ]
  },
  {
   "cell_type": "code",
   "execution_count": 62,
   "metadata": {
    "collapsed": true
   },
   "outputs": [],
   "source": [
    "def imfdt(imfile):\n",
    "    #gets a datetime for an image file named like 20180101001002WIWR.jpg\n",
    "    year = imfile[:4]\n",
    "    month = imfile[4:6]\n",
    "    day = imfile[6:8]\n",
    "    hour = imfile[8:10]\n",
    "    minute = imfile[10:12]\n",
    "    second = imfile[12:14]\n",
    "    dt = pytz.utc.localize(datetime.datetime(int(year), int(month), int(day), int(hour), int(minute), int(second)))\n",
    "    return (dt)"
   ]
  },
  {
   "cell_type": "code",
   "execution_count": 63,
   "metadata": {
    "collapsed": true
   },
   "outputs": [],
   "source": [
    "def clahe(img):\n",
    "    # CLAHE (Contrast Limited Adaptive Histogram Equalization)\n",
    "    #https://stackoverflow.com/questions/19363293/whats-the-fastest-way-to-increase-color-image-contrast-with-opencv-in-python-c\n",
    "    global img2\n",
    "    clahe = cv2.createCLAHE(clipLimit=3., tileGridSize=(8,8))\n",
    "\n",
    "    lab = cv2.cvtColor(img, cv2.COLOR_BGR2LAB)  # convert from BGR to LAB color space\n",
    "    l, a, b = cv2.split(lab)  # split on 3 different channels\n",
    "\n",
    "    l2 = clahe.apply(l)  # apply CLAHE to the L-channel\n",
    "\n",
    "    lab = cv2.merge((l2,a,b))  # merge channels\n",
    "    img2 = cv2.cvtColor(lab, cv2.COLOR_LAB2BGR)  # convert from LAB to BGR"
   ]
  },
  {
   "cell_type": "markdown",
   "metadata": {},
   "source": [
    "**Set image date range and camera**"
   ]
  },
  {
   "cell_type": "code",
   "execution_count": 64,
   "metadata": {
    "collapsed": true
   },
   "outputs": [],
   "source": [
    "#UTC date range for images to view\n",
    "date1 = '2017-12-01'\n",
    "date2 = '2017-12-31'\n",
    "camera = 'WIWR'"
   ]
  },
  {
   "cell_type": "markdown",
   "metadata": {},
   "source": [
    "**Text for image label**"
   ]
  },
  {
   "cell_type": "code",
   "execution_count": 65,
   "metadata": {
    "collapsed": true
   },
   "outputs": [],
   "source": [
    "font                   = cv2.FONT_HERSHEY_SIMPLEX\n",
    "bottomLeftCornerOfText = (10,30)\n",
    "fontScale              = 0.5\n",
    "fontColor              = (255,255,255)\n",
    "lineType               = 1"
   ]
  },
  {
   "cell_type": "markdown",
   "metadata": {},
   "source": [
    "**Set hours for image selection**"
   ]
  },
  {
   "cell_type": "code",
   "execution_count": 66,
   "metadata": {},
   "outputs": [],
   "source": [
    "hour1 = 0\n",
    "hour2 = 2\n",
    "strhour1 = str(hour1).zfill(2)\n",
    "strhour2 = str(hour2).zfill(2)"
   ]
  },
  {
   "cell_type": "markdown",
   "metadata": {},
   "source": [
    "**Relevant directories**"
   ]
  },
  {
   "cell_type": "code",
   "execution_count": 67,
   "metadata": {
    "collapsed": true
   },
   "outputs": [],
   "source": [
    "#as mounted, this is image directory\n",
    "camdir = '/run/user/1000/gvfs/ftp:host=ftp.geonet.org.nz/volcano_cams'\n",
    "\n",
    "#directory to write crops\n",
    "imgdir = '/home/sherburn/geonet/volcam_images'\n",
    "crpdir = os.path.join(basedir, 'crop')\n",
    "viddir = os.path.join(basedir, 'video')"
   ]
  },
  {
   "cell_type": "markdown",
   "metadata": {},
   "source": [
    "**Loop through date folders**"
   ]
  },
  {
   "cell_type": "code",
   "execution_count": 68,
   "metadata": {
    "scrolled": false
   },
   "outputs": [
    {
     "name": "stdout",
     "output_type": "stream",
     "text": [
      "20171201\n",
      "20171202\n",
      "20171203\n",
      "20171204\n",
      "20171205\n",
      "20171206\n",
      "20171207\n",
      "20171208\n",
      "20171209\n",
      "20171210\n",
      "20171211\n",
      "20171212\n",
      "20171213\n",
      "20171214\n",
      "20171215\n",
      "20171216\n",
      "20171217\n",
      "20171218\n",
      "20171219\n",
      "20171220\n",
      "20171221\n",
      "20171222\n",
      "20171223\n",
      "20171224\n",
      "20171225\n",
      "20171226\n",
      "20171227\n",
      "20171228\n",
      "20171229\n",
      "20171230\n",
      "20171231\n"
     ]
    }
   ],
   "source": [
    "for date in pd.date_range(date1, date2):\n",
    "    year = date.year\n",
    "    time_start = pytz.utc.localize(date + timedelta(hours=hour1))\n",
    "    time_end = pytz.utc.localize(date + timedelta(hours=hour2))\n",
    "    datestr = date.strftime('%Y%m%d')\n",
    "    print (datestr)\n",
    "    dydir = os.path.join(camdir, str(year), datestr, camera)\n",
    "    \n",
    "    for file in sorted(os.listdir(dydir)):\n",
    "        if file.endswith('.jpg'):\n",
    "            imfile = os.path.join(dydir, file)\n",
    "            imtime = imfdt(file)\n",
    "            if (imtime < time_end and imtime > time_start):\n",
    "                img = cv2.imread(imfile)\n",
    "                crop = img[400:700,750:1450]\n",
    "                clahe(crop) #enhanced the crop\n",
    "                cv2.putText(img2,imtime.strftime('%Y-%m-%d %H:%M'), bottomLeftCornerOfText, font, fontScale, fontColor, lineType)\n",
    "                crfile = os.path.join(crpdir, file)\n",
    "                cv2.imwrite(crfile, img2)\n",
    "height,width,layers = crop.shape"
   ]
  },
  {
   "cell_type": "markdown",
   "metadata": {},
   "source": [
    "**Make video of cropped images**"
   ]
  },
  {
   "cell_type": "code",
   "execution_count": 69,
   "metadata": {},
   "outputs": [],
   "source": [
    "vidname = camera+'_'+date1+'_'+date2+'_'+strhour1+'-'+strhour2+'.avi'\n",
    "vidfile = os.path.join(viddir, vidname)\n",
    "\n",
    "fps = 6\n",
    "fourcc = cv2.VideoWriter_fourcc(*'XVID')\n",
    "video = cv2.VideoWriter(vidfile,fourcc,fps,(width,height))\n",
    "for file in sorted(os.listdir(crpdir)):\n",
    "    if file.endswith('.jpg'):\n",
    "        imfile = os.path.join(crpdir, file)\n",
    "        img = cv2.imread(imfile)\n",
    "        video.write(img)\n",
    "cv2.destroyAllWindows\n",
    "video.release()"
   ]
  }
 ],
 "metadata": {
  "kernelspec": {
   "display_name": "Python 3",
   "language": "python",
   "name": "python3"
  },
  "language_info": {
   "codemirror_mode": {
    "name": "ipython",
    "version": 3
   },
   "file_extension": ".py",
   "mimetype": "text/x-python",
   "name": "python",
   "nbconvert_exporter": "python",
   "pygments_lexer": "ipython3",
   "version": "3.6.2"
  }
 },
 "nbformat": 4,
 "nbformat_minor": 2
}
