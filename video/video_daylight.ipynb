{
 "cells": [
  {
   "cell_type": "markdown",
   "metadata": {},
   "source": [
    "Video of Daylight of Volcano Camera Images\n",
    "--\n",
    "\n",
    "This focuses on a sub-area of the image and only images recorded during daylight.\n",
    "\n",
    "Uses astroplan https://astroplan.readthedocs.io/en/latest/ to calculate sunrise and sunset times"
   ]
  },
  {
   "cell_type": "code",
   "execution_count": 72,
   "metadata": {
    "collapsed": true
   },
   "outputs": [],
   "source": [
    "import cv2\n",
    "import matplotlib.pyplot as plt\n",
    "import os\n",
    "import datetime\n",
    "import pytz\n",
    "import pandas as pd\n",
    "\n",
    "from astroplan import Observer\n",
    "from astropy.time import Time\n",
    "from astropy.coordinates import EarthLocation\n",
    "import astropy.units as u\n",
    "\n",
    "%matplotlib inline"
   ]
  },
  {
   "cell_type": "code",
   "execution_count": 73,
   "metadata": {
    "collapsed": true
   },
   "outputs": [],
   "source": [
    "def sunset(time):\n",
    "    sunset = wi.sun_set_time(time, which=\"next\") \n",
    "    sunset = wi.astropy_time_to_datetime(sunset)\n",
    "    return (sunset)"
   ]
  },
  {
   "cell_type": "code",
   "execution_count": 74,
   "metadata": {
    "collapsed": true
   },
   "outputs": [],
   "source": [
    "def sunrise(time):\n",
    "    sunrise = wi.sun_rise_time(time, which=\"next\") \n",
    "    sunrise = wi.astropy_time_to_datetime(sunrise)\n",
    "    return (sunrise)"
   ]
  },
  {
   "cell_type": "code",
   "execution_count": 76,
   "metadata": {
    "collapsed": true
   },
   "outputs": [],
   "source": [
    "def imfdt(imfile):\n",
    "    #gets a datetime for an image file named like 20180101001002WIWR.jpg\n",
    "    year = imfile[:4]\n",
    "    month = imfile[4:6]\n",
    "    day = imfile[6:8]\n",
    "    hour = imfile[8:10]\n",
    "    minute = imfile[10:12]\n",
    "    second = imfile[12:14]\n",
    "    dt = pytz.utc.localize(datetime.datetime(int(year), int(month), int(day), int(hour), int(minute), int(second)))\n",
    "    return (dt)"
   ]
  },
  {
   "cell_type": "code",
   "execution_count": 102,
   "metadata": {
    "collapsed": true
   },
   "outputs": [],
   "source": [
    "def clahe(img):\n",
    "    # CLAHE (Contrast Limited Adaptive Histogram Equalization)\n",
    "    #https://stackoverflow.com/questions/19363293/whats-the-fastest-way-to-increase-color-image-contrast-with-opencv-in-python-c\n",
    "    global img2\n",
    "    clahe = cv2.createCLAHE(clipLimit=3., tileGridSize=(8,8))\n",
    "\n",
    "    lab = cv2.cvtColor(img, cv2.COLOR_BGR2LAB)  # convert from BGR to LAB color space\n",
    "    l, a, b = cv2.split(lab)  # split on 3 different channels\n",
    "\n",
    "    l2 = clahe.apply(l)  # apply CLAHE to the L-channel\n",
    "\n",
    "    lab = cv2.merge((l2,a,b))  # merge channels\n",
    "    img2 = cv2.cvtColor(lab, cv2.COLOR_LAB2BGR)  # convert from LAB to BGR"
   ]
  },
  {
   "cell_type": "markdown",
   "metadata": {},
   "source": [
    "**Set up parameters for camera location**"
   ]
  },
  {
   "cell_type": "code",
   "execution_count": 77,
   "metadata": {
    "collapsed": true
   },
   "outputs": [],
   "source": [
    "#white island location, for sunrise and sunset\n",
    "#http://astroplan.readthedocs.io/en/latest/api/astroplan.Observer.html#astroplan.Observer.sun_rise_time\n",
    "white_island = EarthLocation(lat=-37.5245*u.deg, lon=177.1893*u.deg, height=0*u.m)\n",
    "wi = Observer(location=white_island, name=\"WI\", timezone=\"UTC\")"
   ]
  },
  {
   "cell_type": "markdown",
   "metadata": {},
   "source": [
    "**Set image date range and camera**"
   ]
  },
  {
   "cell_type": "code",
   "execution_count": 81,
   "metadata": {
    "collapsed": true
   },
   "outputs": [],
   "source": [
    "#UTC date range for images to view\n",
    "date1 = '2018-03-01'\n",
    "date2 = '2018-03-05'\n",
    "camera = 'WIWR'"
   ]
  },
  {
   "cell_type": "markdown",
   "metadata": {},
   "source": [
    "**Relevant directories**"
   ]
  },
  {
   "cell_type": "code",
   "execution_count": 84,
   "metadata": {},
   "outputs": [],
   "source": [
    "#as mounted, this is image directory\n",
    "camdir = '/run/user/1000/gvfs/ftp:host=ftp.geonet.org.nz/volcano_cams'\n",
    "\n",
    "#directory to write crops\n",
    "basedir = '/home/sherburn/geonet/volcam_images'\n",
    "crpdir = os.path.join(basedir, 'crop')"
   ]
  },
  {
   "cell_type": "markdown",
   "metadata": {},
   "source": [
    "**Loop through date folders**"
   ]
  },
  {
   "cell_type": "code",
   "execution_count": 104,
   "metadata": {},
   "outputs": [
    {
     "name": "stdout",
     "output_type": "stream",
     "text": [
      "2018-03-01\n",
      "2018-03-02\n",
      "2018-03-03\n",
      "2018-03-04\n",
      "2018-03-05\n"
     ]
    }
   ],
   "source": [
    "for date in pd.date_range(date1, date2):\n",
    "    year = date.year\n",
    "    datestr = date.strftime('%Y%m%d')\n",
    "    dateast = date.strftime('%Y-%m-%d')\n",
    "    print (dateast)\n",
    "    sun_set = sunset(Time(dateast))\n",
    "    sun_rise = sunrise(Time(dateast))\n",
    "    dydir = os.path.join(camdir, str(year), datestr, camera)\n",
    "    \n",
    "    for file in sorted(os.listdir(dydir)):\n",
    "        if file.endswith('.jpg'):\n",
    "            imfile = os.path.join(dydir, file)\n",
    "            imtime = imfdt(file)\n",
    "            if (imtime < sun_set or imtime > sun_rise):\n",
    "                img = cv2.imread(imfile)\n",
    "                crop = img[400:700,750:1450]\n",
    "                clahe(crop) #enhanced the crop\n",
    "                crfile = os.path.join(crpdir, file)\n",
    "                cv2.imwrite(crfile, img2)\n",
    "height,width,layers = crop.shape"
   ]
  },
  {
   "cell_type": "markdown",
   "metadata": {},
   "source": [
    "**Make video of cropped images**"
   ]
  },
  {
   "cell_type": "code",
   "execution_count": 105,
   "metadata": {
    "collapsed": true
   },
   "outputs": [],
   "source": [
    "vidname = camera+'_'+date1+'_'+date2+'.avi'\n",
    "vidfile = os.path.join(crpdir, vidname)\n",
    "\n",
    "fps = 6\n",
    "fourcc = cv2.VideoWriter_fourcc(*'XVID')\n",
    "video = cv2.VideoWriter(vidfile,fourcc,fps,(width,height))\n",
    "for file in sorted(os.listdir(crpdir)):\n",
    "    if file.endswith('.jpg'):\n",
    "        imfile = os.path.join(crpdir, file)\n",
    "        img = cv2.imread(imfile)\n",
    "        video.write(img)\n",
    "cv2.destroyAllWindows\n",
    "video.release()"
   ]
  }
 ],
 "metadata": {
  "kernelspec": {
   "display_name": "Python 3",
   "language": "python",
   "name": "python3"
  },
  "language_info": {
   "codemirror_mode": {
    "name": "ipython",
    "version": 3
   },
   "file_extension": ".py",
   "mimetype": "text/x-python",
   "name": "python",
   "nbconvert_exporter": "python",
   "pygments_lexer": "ipython3",
   "version": "3.6.2"
  }
 },
 "nbformat": 4,
 "nbformat_minor": 2
}
