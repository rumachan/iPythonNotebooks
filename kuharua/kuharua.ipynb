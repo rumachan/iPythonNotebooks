{
 "cells": [
  {
   "cell_type": "markdown",
   "metadata": {},
   "source": [
    "Kuharua SC3\n",
    "--"
   ]
  },
  {
   "cell_type": "code",
   "execution_count": null,
   "metadata": {
    "collapsed": true
   },
   "outputs": [],
   "source": [
    "import pandas as pd\n",
    "import matplotlib.pyplot as plt\n",
    "%matplotlib inline"
   ]
  },
  {
   "cell_type": "code",
   "execution_count": null,
   "metadata": {},
   "outputs": [],
   "source": [
    "from IPython.core.display import display, HTML\n",
    "display(HTML(\"<style>.container { width:100% !important; }</style>\"))"
   ]
  },
  {
   "cell_type": "markdown",
   "metadata": {},
   "source": [
    "Search query\n",
    "http://quakesearch.geonet.org.nz/csv?bbox=175.62298,-39.01065,175.77438,-38.87393&maxdepth=20&startdate=2017-1-01T0:00:00&enddate=2017-5-29T1:00:00"
   ]
  },
  {
   "cell_type": "code",
   "execution_count": null,
   "metadata": {
    "collapsed": true
   },
   "outputs": [],
   "source": [
    "sc3data = pd.read_csv('kuharua_earthquakes.csv', parse_dates=['origintime'])"
   ]
  },
  {
   "cell_type": "code",
   "execution_count": null,
   "metadata": {},
   "outputs": [],
   "source": [
    "sc3data.head(1)"
   ]
  },
  {
   "cell_type": "code",
   "execution_count": null,
   "metadata": {},
   "outputs": [],
   "source": [
    "map = sc3data.plot.scatter(x='longitude', y='latitude', title='SC3 Kuharua Hypocentres', xlim=(175.6,175.8), ylim=(-39.05,-38.85))\n",
    "fig = map.get_figure()\n",
    "map.ticklabel_format(useOffset=False)\n",
    "fig.savefig('kuharua_map_all.png', dpi=200)"
   ]
  },
  {
   "cell_type": "code",
   "execution_count": null,
   "metadata": {},
   "outputs": [],
   "source": [
    "best = sc3data[sc3data['usedphasecount']>=20]\n",
    "\n",
    "map = sc3data.plot.scatter(x='longitude', y='latitude', title='SC3 Kuharua Hypocentres', xlim=(175.6,175.8), ylim=(-39.05,-38.85), label='All')\n",
    "best.plot.scatter(ax=map, x='longitude', y='latitude', title='SC3 Kuharua Hypocentres', xlim=(175.6,175.8), ylim=(-39.05,-38.85), color='red', label='>=20 phases')\n",
    "map.ticklabel_format(useOffset=False)\n",
    "fig = map.get_figure()\n",
    "#fig.savefig('kuharua_map_qual.png', dpi=200)"
   ]
  },
  {
   "cell_type": "code",
   "execution_count": null,
   "metadata": {},
   "outputs": [],
   "source": [
    "ddp1 = sc3data[(sc3data['origintime']>=pd.to_datetime('2017-02-15T00:00:00Z')) & (sc3data['origintime']<=pd.to_datetime('2017-03-09T00:00:00Z'))]\n",
    "ddp2 = sc3data[(sc3data['origintime']>=pd.to_datetime('2017-03-27T00:00:00Z')) & (sc3data['origintime']<=pd.to_datetime('2017-04-29T00:00:00Z'))]\n",
    "ddp3 = sc3data[sc3data['origintime']>=pd.to_datetime('2017-05-24T00:00:00Z')]\n",
    "\n",
    "map = ddp1.plot.scatter(x='longitude', y='latitude', title='SC3 Kuharua Hypocentres', xlim=(175.6,175.8), ylim=(-39.05,-38.85), color='blue',alpha=0.5, label='Period #1')\n",
    "ddp2.plot.scatter(x='longitude', y='latitude', ax=map, color='red', alpha=0.5, label='Period #2')\n",
    "ddp3.plot.scatter(x='longitude', y='latitude', ax=map, color='green', alpha=0.5, label='Period #3')\n",
    "\n",
    "map.ticklabel_format(useOffset=False)\n",
    "fig = map.get_figure()\n",
    "fig.savefig('kuharua_map_byperiod.png', dpi=200)"
   ]
  },
  {
   "cell_type": "code",
   "execution_count": null,
   "metadata": {},
   "outputs": [],
   "source": [
    "iasp = sc3data[sc3data['earthmodel']=='iasp91']\n",
    "mapiasp = iasp.plot.scatter(x='longitude', y='latitude', title='SC3 Kuharua LOCSAT Hypocentres', xlim=(175.6,175.8), ylim=(-39.05,-38.85))\n",
    "fig = mapiasp.get_figure()\n",
    "fig.savefig('kuharua_mapiasp.png', dpi=200)"
   ]
  },
  {
   "cell_type": "markdown",
   "metadata": {},
   "source": [
    "Location Quality"
   ]
  },
  {
   "cell_type": "code",
   "execution_count": null,
   "metadata": {},
   "outputs": [],
   "source": [
    "hqual = sc3data['usedphasecount'].plot.hist(bins=30, title='Kuharua Phase Count', figsize=(10,5))\n",
    "fig = hqual.get_figure()\n",
    "fig.savefig('kuharua_phasecount.png', dpi=200)"
   ]
  },
  {
   "cell_type": "markdown",
   "metadata": {},
   "source": [
    "Magnitude-time"
   ]
  },
  {
   "cell_type": "code",
   "execution_count": null,
   "metadata": {},
   "outputs": [],
   "source": [
    "tm = sc3data.plot(x='origintime', y='magnitude', marker='o', linestyle='None', title='SC3 Kuharua Hypocentres', figsize=(10,5))\n",
    "\n",
    "tm.axvline(x='2017-02-15T00:00:00Z', linewidth=1, color = 'red', linestyle='--')\n",
    "tm.axvline(x='2017-03-09T00:00:00Z', linewidth=1, color = 'red', linestyle='--')\n",
    "tm.axvline(x='2017-03-27T00:00:00Z', linewidth=1, color = 'red', linestyle='--')\n",
    "tm.axvline(x='2017-04-29T00:00:00Z', linewidth=1, color = 'red', linestyle='--')\n",
    "tm.axvline(x='2017-05-24T00:00:00Z', linewidth=1, color = 'red', linestyle='--')\n",
    "tm.text('2017-03-01T00:00:00Z', 3.5, '#1', horizontalalignment='center', color='red', fontsize=15)\n",
    "tm.text('2017-04-15T00:00:00Z', 3.5, '#2', horizontalalignment='center', color='red', fontsize=15)\n",
    "tm.text('2017-05-26T12:00:00Z', 4.0, '#3', horizontalalignment='center', color='red', fontsize=15)\n",
    "fig = tm.get_figure()\n",
    "#fig.savefig('kuharua_time-mag.png', dpi=200)"
   ]
  },
  {
   "cell_type": "markdown",
   "metadata": {},
   "source": [
    "Depth-time - all data"
   ]
  },
  {
   "cell_type": "code",
   "execution_count": null,
   "metadata": {
    "scrolled": true
   },
   "outputs": [],
   "source": [
    "dm = sc3data.plot(x='origintime', y='depth', marker='o', linestyle='None', title='SC3 Kuharua Hypocentres, All Data', figsize=(10,5))\n",
    "fig = dm.get_figure()\n",
    "plt.gca().invert_yaxis()\n",
    "fig.savefig('kuharua_time-mag_all.png', dpi=200)\n",
    "\n",
    "#sc3data['depth'][sc3data['depth']==5.0].count()"
   ]
  },
  {
   "cell_type": "code",
   "execution_count": null,
   "metadata": {},
   "outputs": [],
   "source": [
    "dhall = sc3data['depth'].plot.hist(orientation='horizontal', bins=30, title='Kuharua Depth Distribution, All Data', figsize=(10,5))\n",
    "fig = dhall.get_figure()\n",
    "plt.gca().invert_yaxis()\n",
    "#fig.savefig('kuharua_depth-dist_all.png', dpi=200)"
   ]
  },
  {
   "cell_type": "markdown",
   "metadata": {},
   "source": [
    "Depth-time - drop ~5 km depths"
   ]
  },
  {
   "cell_type": "code",
   "execution_count": null,
   "metadata": {},
   "outputs": [],
   "source": [
    "no5 = sc3data[(sc3data['depth']<5.0) | (sc3data['depth']>5.2)]\n",
    "dh = no5['depth'].plot.hist(orientation='horizontal', bins=30, title='Kuharua Depth Distribution, ~5 km Depths Removed', figsize=(10,5))\n",
    "fig = dh.get_figure()\n",
    "plt.gca().invert_yaxis()\n",
    "fig.savefig('kuharua_depth-dist_no5.png', dpi=200)"
   ]
  },
  {
   "cell_type": "markdown",
   "metadata": {},
   "source": [
    "Period #1"
   ]
  },
  {
   "cell_type": "code",
   "execution_count": null,
   "metadata": {
    "scrolled": true
   },
   "outputs": [],
   "source": [
    "ddp1 = no5[(no5['origintime']>=pd.to_datetime('2017-02-15T00:00:00Z')) & (no5['origintime']<=pd.to_datetime('2017-03-09T00:00:00Z'))]\n",
    "dhp1 = ddp1['depth'].plot.hist(ylim=(0,18), orientation='horizontal', bins=30, title='Kuharua Depth Distribution, Period #1, ~5 km Depths Removed', figsize=(10,5))\n",
    "fig = dhp1.get_figure()\n",
    "plt.gca().invert_yaxis()\n",
    "fig.savefig('kuharua_depth-dist_p1.png', dpi=200)"
   ]
  },
  {
   "cell_type": "markdown",
   "metadata": {},
   "source": [
    "Period #2"
   ]
  },
  {
   "cell_type": "code",
   "execution_count": null,
   "metadata": {
    "scrolled": true
   },
   "outputs": [],
   "source": [
    "ddp2 = no5[(no5['origintime']>=pd.to_datetime('2017-03-27T00:00:00Z')) & (no5['origintime']<=pd.to_datetime('2017-04-29T00:00:00Z'))]\n",
    "dhp2 = ddp2['depth'].plot.hist(ylim=(0,18), orientation='horizontal', bins=30, title='Kuharua Depth Distribution, Period #2, ~5 km Depths Removed', figsize=(10,5))\n",
    "fig = dhp2.get_figure()\n",
    "plt.gca().invert_yaxis()\n",
    "fig.savefig('kuharua_depth-dist_p2.png', dpi=200)"
   ]
  },
  {
   "cell_type": "markdown",
   "metadata": {},
   "source": [
    "Period #3"
   ]
  },
  {
   "cell_type": "code",
   "execution_count": null,
   "metadata": {
    "scrolled": true
   },
   "outputs": [],
   "source": [
    "ddp3 = no5[no5['origintime']>=pd.to_datetime('2017-05-24T00:00:00Z')]\n",
    "dhp3 = ddp3['depth'].plot.hist(ylim=(0,18), orientation='horizontal', bins=10, title='Kuharua Depth Distribution, Period #3, ~5 km Depths Removed', figsize=(10,5))\n",
    "fig = dhp3.get_figure()\n",
    "plt.gca().invert_yaxis()\n",
    "fig.savefig('kuharua_depth-dist_p3.png', dpi=200)"
   ]
  },
  {
   "cell_type": "markdown",
   "metadata": {},
   "source": [
    "Location Method (earthmodel)"
   ]
  },
  {
   "cell_type": "code",
   "execution_count": null,
   "metadata": {},
   "outputs": [],
   "source": [
    "iasp = sc3data[sc3data['earthmodel']=='iasp91']\n",
    "dhiasp = iasp['depth'].plot.hist(ylim=(0,18), orientation='horizontal', bins=30, title='Kuharua Depth Distribution, LOCSAT Locations', figsize=(10,5))\n",
    "fig = dhiasp.get_figure()\n",
    "plt.gca().invert_yaxis()\n",
    "fig.savefig('kuharua_depth-dist_locsat.png', dpi=200)"
   ]
  }
 ],
 "metadata": {
  "kernelspec": {
   "display_name": "Python 2",
   "language": "python",
   "name": "python2"
  },
  "language_info": {
   "codemirror_mode": {
    "name": "ipython",
    "version": 2
   },
   "file_extension": ".py",
   "mimetype": "text/x-python",
   "name": "python",
   "nbconvert_exporter": "python",
   "pygments_lexer": "ipython2",
   "version": "2.7.12"
  }
 },
 "nbformat": 4,
 "nbformat_minor": 2
}
