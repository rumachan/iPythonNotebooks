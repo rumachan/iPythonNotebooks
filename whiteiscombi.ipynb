{
 "cells": [
  {
   "cell_type": "markdown",
   "metadata": {},
   "source": [
    "Notebook Display Options\n",
    "--"
   ]
  },
  {
   "cell_type": "markdown",
   "metadata": {},
   "source": [
    "**Display full width**"
   ]
  },
  {
   "cell_type": "code",
   "execution_count": null,
   "metadata": {},
   "outputs": [],
   "source": [
    "from IPython.core.display import display, HTML\n",
    "display(HTML(\"<style>.container { width:100% !important; }</style>\"))"
   ]
  },
  {
   "cell_type": "markdown",
   "metadata": {},
   "source": [
    "**Do not scroll plot windows**"
   ]
  },
  {
   "cell_type": "code",
   "execution_count": null,
   "metadata": {},
   "outputs": [],
   "source": [
    "%%javascript\n",
    "IPython.OutputArea.prototype._should_scroll = function(lines) {\n",
    "    return false;\n",
    "}"
   ]
  },
  {
   "cell_type": "markdown",
   "metadata": {},
   "source": [
    "White Island Combination Plot\n",
    "--"
   ]
  },
  {
   "cell_type": "code",
   "execution_count": null,
   "metadata": {
    "collapsed": true
   },
   "outputs": [],
   "source": [
    "import pandas as pd\n",
    "import matplotlib.pyplot as plt\n",
    "import datetime\n",
    "import numpy as np\n",
    "\n",
    "%matplotlib inline"
   ]
  },
  {
   "cell_type": "code",
   "execution_count": null,
   "metadata": {
    "collapsed": true
   },
   "outputs": [],
   "source": [
    "@np.vectorize\n",
    "def diverr_np(a, aerr, b, berr):\n",
    "    '''calculate a/b and resulting error, does not assume error is small compared to value'''\n",
    "    \n",
    "    val = float(a)/float(b)\n",
    "   \n",
    "    maxnumer = float(a) + float(aerr)\n",
    "    minnumer = float(a) - float(aerr)\n",
    "    maxdenom = float(b) + float(berr)\n",
    "    mindenom = float(b) - float(berr)\n",
    "    \n",
    "    valmax = maxnumer/mindenom\n",
    "    valmin = minnumer/maxdenom\n",
    "    \n",
    "    err1 = valmax - val\n",
    "    err2 = val - valmin\n",
    "    err = max(err1,err2)\n",
    "    \n",
    "    return val, err"
   ]
  },
  {
   "cell_type": "markdown",
   "metadata": {},
   "source": [
    "** Setup data**"
   ]
  },
  {
   "cell_type": "code",
   "execution_count": null,
   "metadata": {
    "collapsed": true
   },
   "outputs": [],
   "source": [
    "names = ['dt', 'obs', 'err']\n",
    "rsamnames = ['dt', 'obs']\n",
    "kgs2tpd = 86.4  #conversion kg/s to t/d\n",
    "molrat = 1.4545\n",
    "csratmax = 200\n",
    "xsize = 20\n",
    "ysize = 20"
   ]
  },
  {
   "cell_type": "markdown",
   "metadata": {},
   "source": [
    "** Airborne gas flux data sets**"
   ]
  },
  {
   "cell_type": "code",
   "execution_count": null,
   "metadata": {
    "collapsed": true
   },
   "outputs": [],
   "source": [
    "#S02 cospec\n",
    "url = 'https://fits.geonet.org.nz/observation?typeID=SO2-flux-a&siteID=WI000&methodID=cosp'\n",
    "s02_cosp = pd.read_csv(url, names=names, skiprows=1, parse_dates=True, index_col='dt')\n",
    "\n",
    "#S02 contouring\n",
    "url = 'https://fits.geonet.org.nz/observation?typeID=SO2-flux-a&siteID=WI000&methodID=cont'\n",
    "s02_cont = pd.read_csv(url, names=names, skiprows=1, parse_dates=True, index_col='dt')\n",
    "\n",
    "#S02 flyspec\n",
    "url = 'https://fits.geonet.org.nz/observation?typeID=SO2-flux-a&siteID=WI000&methodID=flsp'\n",
    "s02_flsp = pd.read_csv(url, names=names, skiprows=1, parse_dates=True, index_col='dt')\n",
    "\n",
    "#C02 contouring\n",
    "url = 'https://fits.geonet.org.nz/observation?typeID=CO2-flux-a&siteID=WI000&methodID=cont'\n",
    "c02_cont = pd.read_csv(url, names=names, skiprows=1, parse_dates=True, index_col='dt')\n",
    "\n",
    "#H2S contouring\n",
    "url = 'https://fits.geonet.org.nz/observation?typeID=H2S-flux-a&siteID=WI000&methodID=cont'\n",
    "h2s_cont = pd.read_csv(url, names=names, skiprows=1, parse_dates=True, index_col='dt')\n",
    "h2s_cont['obs'] = h2s_cont['obs'] * 100 #H2S very small, x 100 for plotting\n",
    "h2s_cont['err'] = h2s_cont['err'] * 100"
   ]
  },
  {
   "cell_type": "markdown",
   "metadata": {},
   "source": [
    "**Crater lake water chemistry data sets**"
   ]
  },
  {
   "cell_type": "code",
   "execution_count": null,
   "metadata": {
    "collapsed": true
   },
   "outputs": [],
   "source": [
    "#Calculate TDS as we go\n",
    "\n",
    "#Al-w\n",
    "url = 'https://fits.geonet.org.nz/observation?typeID=Al-w&siteID=WI201'\n",
    "al_w = pd.read_csv(url, names=names, skiprows=1, parse_dates=True, index_col='dt')\n",
    "tds = al_w.copy(deep=True)\n",
    "\n",
    "#B-w\n",
    "url = 'https://fits.geonet.org.nz/observation?typeID=B-w&siteID=WI201'\n",
    "b_w = pd.read_csv(url, names=names, skiprows=1, parse_dates=True, index_col='dt')\n",
    "tds['obs'] += b_w['obs']\n",
    "\n",
    "#Cl-w\n",
    "url = 'https://fits.geonet.org.nz/observation?typeID=Cl-w&siteID=WI201'\n",
    "cl_w = pd.read_csv(url, names=names, skiprows=1, parse_dates=True, index_col='dt')\n",
    "tds['obs'] += cl_w['obs']\n",
    "\n",
    "#Fe-w\n",
    "url = 'https://fits.geonet.org.nz/observation?typeID=Fe-w&siteID=WI201'\n",
    "fe_w = pd.read_csv(url, names=names, skiprows=1, parse_dates=True, index_col='dt')\n",
    "tds['obs'] += fe_w['obs']\n",
    "\n",
    "#K-w\n",
    "url = 'https://fits.geonet.org.nz/observation?typeID=K-w&siteID=WI201'\n",
    "k_w = pd.read_csv(url, names=names, skiprows=1, parse_dates=True, index_col='dt')\n",
    "tds['obs'] += k_w['obs']\n",
    "\n",
    "#Li-w\n",
    "url = 'https://fits.geonet.org.nz/observation?typeID=Li-w&siteID=WI201'\n",
    "li_w = pd.read_csv(url, names=names, skiprows=1, parse_dates=True, index_col='dt')\n",
    "tds['obs'] += li_w['obs']\n",
    "\n",
    "#Mg-w\n",
    "url = 'https://fits.geonet.org.nz/observation?typeID=Mg-w&siteID=WI201'\n",
    "mg_w = pd.read_csv(url, names=names, skiprows=1, parse_dates=True, index_col='dt')\n",
    "tds['obs'] += mg_w['obs']\n",
    "\n",
    "#Na-w\n",
    "url = 'https://fits.geonet.org.nz/observation?typeID=Na-w&siteID=WI201'\n",
    "na_w = pd.read_csv(url, names=names, skiprows=1, parse_dates=True, index_col='dt')\n",
    "tds['obs'] += na_w['obs']\n",
    "\n",
    "#S04-w\n",
    "url = 'https://fits.geonet.org.nz/observation?typeID=SO4-w&siteID=WI201'\n",
    "s04_w = pd.read_csv(url, names=names, skiprows=1, parse_dates=True, index_col='dt')\n",
    "tds['obs'] += s04_w['obs']"
   ]
  },
  {
   "cell_type": "markdown",
   "metadata": {},
   "source": [
    "**Fumarole zero and 2012 dome temperature data sets**"
   ]
  },
  {
   "cell_type": "code",
   "execution_count": null,
   "metadata": {
    "collapsed": true
   },
   "outputs": [],
   "source": [
    "#fumarole zero thermocouple\n",
    "url = 'https://fits.geonet.org.nz/observation?typeID=t&siteID=WI210&methodID=thermcoup'\n",
    "f0tc = pd.read_csv(url, names=names, skiprows=1, parse_dates=True, index_col='dt')\n",
    "\n",
    "#fumarole zero infrared thermometer\n",
    "url = 'https://fits.geonet.org.nz/observation?typeID=t&siteID=WI210&methodID=therminfra'\n",
    "f0ti = pd.read_csv(url, names=names, skiprows=1, parse_dates=True, index_col='dt')\n",
    "\n",
    "#2012 dome fumarole thermocouple\n",
    "url = 'https://fits.geonet.org.nz/observation?typeID=t&siteID=WI211&methodID=thermcoup'\n",
    "dftc = pd.read_csv(url, names=names, skiprows=1, parse_dates=True, index_col='dt')\n",
    "\n",
    "#2012 dome fumarole FLIR camera\n",
    "url = 'https://fits.geonet.org.nz/observation?typeID=t&siteID=WI211&methodID=flir'\n",
    "dftf = pd.read_csv(url, names=names, skiprows=1, parse_dates=True, index_col='dt')\n"
   ]
  },
  {
   "cell_type": "markdown",
   "metadata": {},
   "source": [
    "**Lake level data sets**"
   ]
  },
  {
   "cell_type": "code",
   "execution_count": null,
   "metadata": {
    "collapsed": true
   },
   "outputs": [],
   "source": [
    "#photo comparison\n",
    "url = 'https://fits.geonet.org.nz/observation?typeID=z&siteID=WI200&methodID=photo'\n",
    "lakp = pd.read_csv(url, names=names, skiprows=1, parse_dates=True, index_col='dt')\n",
    "\n",
    "#pixel measurement from an image\n",
    "url = 'https://fits.geonet.org.nz/observation?typeID=z&siteID=WI200&methodID=img'\n",
    "laki = pd.read_csv(url, names=names, skiprows=1, parse_dates=True, index_col='dt')\n",
    "\n",
    "#distance and vertical angle\n",
    "url = 'https://fits.geonet.org.nz/observation?typeID=z&siteID=WI200&methodID=vangdist'\n",
    "laka = pd.read_csv(url, names=names, skiprows=1, parse_dates=True, index_col='dt')"
   ]
  },
  {
   "cell_type": "markdown",
   "metadata": {},
   "source": [
    "**RSAM**"
   ]
  },
  {
   "cell_type": "code",
   "execution_count": null,
   "metadata": {
    "collapsed": true
   },
   "outputs": [],
   "source": [
    "rsamfile = '/home/sherburn/geonet/my_rsam/WIZ.asc'\n",
    "rsam = pd.read_csv(rsamfile, names=rsamnames, delim_whitespace=True, parse_dates=True, index_col='dt')\n",
    "rsam = rsam[(rsam['obs']>0)]"
   ]
  },
  {
   "cell_type": "markdown",
   "metadata": {},
   "source": [
    "**Levelling, selected sites**"
   ]
  },
  {
   "cell_type": "code",
   "execution_count": null,
   "metadata": {},
   "outputs": [],
   "source": [
    "#Peg B, siteID=WI101\n",
    "url = 'http://fits.geonet.org.nz/observation?siteID=WI101&typeID=z'\n",
    "lev101 = pd.read_csv(url, names=names, skiprows=1, parse_dates=True, index_col='dt')\n",
    "\n",
    "#Peg F, siteID=WI105\n",
    "url = 'http://fits.geonet.org.nz/observation?siteID=WI105&typeID=z'\n",
    "lev105 = pd.read_csv(url, names=names, skiprows=1, parse_dates=True, index_col='dt')\n",
    "\n",
    "#Peg N, siteID=WI113\n",
    "url = 'http://fits.geonet.org.nz/observation?siteID=WI113&typeID=z'\n",
    "lev113 = pd.read_csv(url, names=names, skiprows=1, parse_dates=True, index_col='dt')"
   ]
  },
  {
   "cell_type": "markdown",
   "metadata": {},
   "source": [
    "**Soil gas, selected sites**"
   ]
  },
  {
   "cell_type": "code",
   "execution_count": null,
   "metadata": {
    "collapsed": true
   },
   "outputs": [],
   "source": [
    "#siteID=WI020\n",
    "url = 'http://fits.geonet.org.nz/observation?siteID=WI020&typeID=CO2-flux-e'\n",
    "co2020 = pd.read_csv(url, names=names, skiprows=1, parse_dates=True, index_col='dt')\n",
    "\n",
    "#siteID=WI050\n",
    "url = 'http://fits.geonet.org.nz/observation?siteID=WI050&typeID=CO2-flux-e'\n",
    "co2050 = pd.read_csv(url, names=names, skiprows=1, parse_dates=True, index_col='dt')\n",
    "\n",
    "#siteID=WI090\n",
    "url = 'http://fits.geonet.org.nz/observation?siteID=WI090&typeID=CO2-flux-e'\n",
    "co2090 = pd.read_csv(url, names=names, skiprows=1, parse_dates=True, index_col='dt')"
   ]
  },
  {
   "cell_type": "markdown",
   "metadata": {},
   "source": [
    "**Mg/Cl ratio**"
   ]
  },
  {
   "cell_type": "code",
   "execution_count": null,
   "metadata": {
    "collapsed": true
   },
   "outputs": [],
   "source": [
    "#ensure values at same time so can calculate a ratio\n",
    "mg =  mg_w[mg_w.index.isin(cl_w.index)]\n",
    "cl =  cl_w[cl_w.index.isin(mg_w.index)]\n",
    "\n",
    "mgcl = mg.copy(deep=True)\n",
    "mgcl['obs'] /= cl['obs']"
   ]
  },
  {
   "cell_type": "markdown",
   "metadata": {},
   "source": [
    "**Molar ratio CO2/SO2**"
   ]
  },
  {
   "cell_type": "code",
   "execution_count": null,
   "metadata": {
    "collapsed": true
   },
   "outputs": [],
   "source": [
    "#remove all rows in s02_cont and s02_cosp that have a zero observation value, as this causes a 'divide by zero' error\n",
    "s02_cont = s02_cont[s02_cont['obs']>0]\n",
    "s02_cosp = s02_cosp[s02_cosp['obs']>0]"
   ]
  },
  {
   "cell_type": "code",
   "execution_count": null,
   "metadata": {
    "collapsed": true
   },
   "outputs": [],
   "source": [
    "#ensure values at same time so can calculate a ratio\n",
    "#with s02 by contoring\n",
    "c02ct = c02_cont[c02_cont.index.isin(s02_cont.index)]\n",
    "s02ct = s02_cont[s02_cont.index.isin(c02_cont.index)]\n",
    "#with s02 by cospec\n",
    "c02cp = c02_cont[c02_cont.index.isin(s02_cosp.index)]\n",
    "s02cp = s02_cosp[s02_cosp.index.isin(c02_cont.index)]"
   ]
  },
  {
   "cell_type": "code",
   "execution_count": null,
   "metadata": {
    "collapsed": true,
    "scrolled": true
   },
   "outputs": [],
   "source": [
    "#calculate ratios, accounting for errors\n",
    "#contouring\n",
    "molrat_ct = pd.DataFrame()\n",
    "(molrat_ct['val'], molrat_ct['err']) = diverr_np(c02ct['obs'], c02ct['err'], s02ct['obs'], s02ct['err'])\n",
    "#cospec\n",
    "molrat_cp = pd.DataFrame()\n",
    "(molrat_cp['val'], molrat_cp['err']) = diverr_np(c02cp['obs'], c02cp['err'], s02cp['obs'], s02cp['err'])\n",
    "#make ratios molar, add datetime index\n",
    "molrat_ct *= molrat\n",
    "molrat_ct.index = c02ct.index\n",
    "molrat_cp *= molrat\n",
    "molrat_cp.index = c02cp.index"
   ]
  },
  {
   "cell_type": "markdown",
   "metadata": {},
   "source": [
    "**Plot all data**"
   ]
  },
  {
   "cell_type": "code",
   "execution_count": null,
   "metadata": {},
   "outputs": [],
   "source": [
    "fig, (axlv, axll, ax0, ax1, axml, axsl, ax2, axrsam) = plt.subplots(nrows=8,ncols=1, sharex=True, figsize=(xsize, ysize))\n",
    "\n",
    "datemin = datetime.datetime.strptime('2003-01-01', \"%Y-%m-%d\")\n",
    "now = datetime.datetime.now()\n",
    "\n",
    "#-----------------------------------\n",
    "\n",
    "#crater floor levelling, relative to a peg close to the sea\n",
    "lev101['obs'].plot(ax=axlv, marker='o', linestyle=':', color='red', yerr=lev101['err'], label='WI101 (B)')\n",
    "lev105['obs'].plot(ax=axlv, marker='o', linestyle=':', color='green', yerr=lev105['err'], label='WI105 (F)')\n",
    "lev113['obs'].plot(ax=axlv, marker='o', linestyle=':', color='blue', yerr=lev113['err'], label='WI113 (N)')\n",
    "\n",
    "axlv.set_ylabel('height change (m)')\n",
    "axlv.grid(b=True, which='major', color='black', linestyle='--', alpha=0.5)\n",
    "axlv.legend(loc = 'best', fontsize = 8)\n",
    "axlv.set_title('Levelling, selected sites', loc='left')\n",
    "\n",
    "#-----------------------------------\n",
    "#lake level, relative to sea level\n",
    "lakp['obs'].plot(ax=axll, marker='o', linestyle=':', color='red', yerr=lakp['err'], label='from photo')\n",
    "laki['obs'].plot(ax=axll, marker='o', linestyle=':', color='blue', yerr=laki['err'], label='from pixels')\n",
    "laka['obs'].plot(ax=axll, marker='o', linestyle=':', color='green', yerr=laka['err'], label='vertical angle')\n",
    "\n",
    "axll.set_ylabel('lake level (m asl)')\n",
    "axll.grid(b=True, which='major', color='black', linestyle='--', alpha=0.5)\n",
    "axll.legend(loc = 'best', fontsize = 8)\n",
    "axll.set_title('Lake level', loc='left')\n",
    "\n",
    "#-----------------------------------\n",
    "\n",
    "#TDS & Mg/Cl\n",
    "tds['obs'].plot(ax=ax0, marker='o', linestyle=':', color='red', label='TDS')\n",
    "\n",
    "ax0.set_ylabel('tot disolve sols - TDS (mg/L)', color='red')\n",
    "ax0.tick_params(axis='y', colors='red')\n",
    "ax0.grid(b=True, which='major', color='black', linestyle='--', alpha=0.5)\n",
    "ax0.legend(loc = 'upper left', fontsize = 8)\n",
    "\n",
    "#alternate y-axis, Mg/Cl\n",
    "ax0a = ax0.twinx()\n",
    "mgcl['obs'].plot(ax=ax0a, marker='o', linestyle=':', color='blue', label='Mg/Cl')\n",
    "ax0a.tick_params(axis='y', colors='blue')\n",
    "ax0a.set_ylabel('Mg/Cl ratio', color = 'blue')\n",
    "ax0a.legend(loc = 'upper right', fontsize = 8)\n",
    "ax0.set_title('TDS & Mg/Cl ratio', loc='left')\n",
    "\n",
    "#-----------------------------------\n",
    "\n",
    "#Airborne gas flux\n",
    "#limited y-axis, drop one large outlier\n",
    "s02_cosp['obs'].plot(ax=ax1, marker='o', linestyle=':', color='red', yerr=s02_cosp['err'], label='SO2-flux-a cosp')\n",
    "s02_cont['obs'].plot(ax=ax1, marker='^', linestyle=':', color='red', yerr=s02_cont['err'], label='SO2-flux-a cont')\n",
    "c02_cont['obs'].plot(ax=ax1, figsize=(xsize, ysize), marker='o', linestyle=':', color='green', yerr=c02_cont['err'], label='CO2-flux-a cont')\n",
    "h2s_cont['obs'].plot(ax=ax1, figsize=(xsize, ysize), marker='o', linestyle=':', color='blue', yerr=h2s_cont['err'], label='H2S-flux-a cont x 100')\n",
    "\n",
    "ax1.set_ylabel('gas flux (kg/s)')\n",
    "ax1.set_ylim(0,50)\n",
    "ax1.grid(b=True, which='major', color='black', linestyle='--', alpha=0.5)\n",
    "ax1.legend(loc = 'best', fontsize = 8)\n",
    "\n",
    "#alternate y-axis, tonnes/day\n",
    "ax1a = ax1.twinx()\n",
    "y1,y2 = ax1.get_ylim()\n",
    "ax1a.set_ylim(y1*kgs2tpd, y2*kgs2tpd)\n",
    "ax1a.tick_params(axis='y', colors='gray')\n",
    "ax1a.set_ylabel('gas flux (t/d)', color = 'gray')\n",
    "ax1.set_title('Airborne gas flux', loc='left')\n",
    "\n",
    "#-----------------------------------\n",
    "\n",
    "#Molar ratios, CO2/SO2\n",
    "molrat_ct['val'].plot(ax=axml, marker='o', linestyle=':', color='blue', yerr=molrat_ct['err'], label='CO2/SO2-cont')\n",
    "molrat_cp['val'].plot(ax=axml, marker='o', linestyle=':', color='red', yerr=molrat_cp['err'],label='CO2/SO2-cosp')\n",
    "\n",
    "axml.set_ylabel('C/S molar ratio')\n",
    "axml.grid(b=True, which='major', color='black', linestyle='--', alpha=0.5)\n",
    "axml.legend(loc = 'best', fontsize = 8)\n",
    "axml.set_ylim(0,80)\n",
    "axml.set_title('C/S molar ratio', loc='left')\n",
    "               \n",
    "#-----------------------------------\n",
    "               \n",
    "#Soil gas\n",
    "co2020['obs'].plot(ax=axsl, marker='o', linestyle=':', color='red', yerr=co2020['err'], label='WI020')\n",
    "co2050['obs'].plot(ax=axsl, marker='o', linestyle=':', color='green', yerr=co2050['err'], label='WI050')\n",
    "co2090['obs'].plot(ax=axsl, marker='o', linestyle=':', color='blue', yerr=co2090['err'], label='WI090')\n",
    "\n",
    "axsl.set_ylabel('Flux g/m$^2$/d')\n",
    "axsl.grid(b=True, which='major', color='black', linestyle='--', alpha=0.5)\n",
    "axsl.legend(loc = 'best', fontsize = 8)\n",
    "\n",
    "axsl.set_title('Soil gas, CO2', loc='left')\n",
    "#-----------------------------------\n",
    "\n",
    "#Fumarole zero temperatures\n",
    "f0tc['obs'].plot(ax=ax2, marker='o', linestyle=':', color='red', yerr=f0tc['err'], label='F0 thermcoup')\n",
    "f0ti['obs'].plot(ax=ax2, marker='o', linestyle=':', color='green', yerr=f0ti['err'], label='F0 therminfra')\n",
    "\n",
    "ax2.set_ylabel('fumarole zero ($^\\circ$C)')\n",
    "ax2.grid(b=True, which='major', color='black', linestyle='--', alpha=0.5)\n",
    "ax2.legend(loc = 'upper left', fontsize = 8)\n",
    "\n",
    "#alternate y-axis, 2012 Dome fumarole temperatures\n",
    "ax2a = ax2.twinx()\n",
    "dftc['obs'].plot(ax=ax2a, marker='o', linestyle=':', color='blue', yerr=dftc['err'], label='dome thermcoup')\n",
    "dftf['obs'].plot(ax=ax2a, marker='o', linestyle=':', color='black', yerr=dftf['err'], label='dome flir')\n",
    "ax2a.tick_params(axis='y', colors='blue')\n",
    "ax2a.set_ylabel('dome fumarole ($^\\circ$C)', color = 'blue')\n",
    "ax2a.legend(loc = 'upper right', fontsize = 8)\n",
    "ax2.set_title('Fumarole temperatures', loc='left')\n",
    "\n",
    "#-----------------------------------\n",
    "\n",
    "#WIZ rsam\n",
    "rsam['obs'].plot(ax=axrsam, marker='None', label='RSAM')\n",
    "\n",
    "axrsam.set_ylabel('ground velocity (nm/s)')\n",
    "axrsam.grid(b=True, which='major', color='black', linestyle='--', alpha=0.5)\n",
    "axrsam.legend(loc = 'best', fontsize = 8)\n",
    "axrsam.set_title('Daily RSAM', loc='left')\n",
    "\n",
    "axrsam.set_xlim(datemin, now)"
   ]
  }
 ],
 "metadata": {
  "kernelspec": {
   "display_name": "Python 2",
   "language": "python",
   "name": "python2"
  },
  "language_info": {
   "codemirror_mode": {
    "name": "ipython",
    "version": 2
   },
   "file_extension": ".py",
   "mimetype": "text/x-python",
   "name": "python",
   "nbconvert_exporter": "python",
   "pygments_lexer": "ipython2",
   "version": "2.7.12"
  }
 },
 "nbformat": 4,
 "nbformat_minor": 2
}
