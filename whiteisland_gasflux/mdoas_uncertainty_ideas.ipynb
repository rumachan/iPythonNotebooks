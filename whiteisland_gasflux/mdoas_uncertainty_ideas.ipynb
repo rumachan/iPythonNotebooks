{
 "cells": [
  {
   "cell_type": "markdown",
   "metadata": {},
   "source": [
    "# Experiment with MDOAS data uncertainty and what we mean by reliable"
   ]
  },
  {
   "cell_type": "code",
   "execution_count": null,
   "metadata": {},
   "outputs": [],
   "source": [
    "import pandas as pd\n",
    "import matplotlib.pyplot as plt\n",
    "import numpy as np\n",
    "import seaborn as sns\n",
    "\n",
    "%matplotlib inline"
   ]
  },
  {
   "cell_type": "code",
   "execution_count": null,
   "metadata": {},
   "outputs": [],
   "source": [
    "%%javascript\n",
    "IPython.OutputArea.prototype._should_scroll = function(lines) {\n",
    "    return false;\n",
    "}"
   ]
  },
  {
   "cell_type": "code",
   "execution_count": null,
   "metadata": {},
   "outputs": [],
   "source": [
    "from IPython.core.display import display, HTML\n",
    "display(HTML(\"<style>.container { width:100% !important; }</style>\"))"
   ]
  },
  {
   "cell_type": "code",
   "execution_count": null,
   "metadata": {},
   "outputs": [],
   "source": [
    "start = '20150101'\n",
    "end = '20151231'"
   ]
  },
  {
   "cell_type": "code",
   "execution_count": null,
   "metadata": {},
   "outputs": [],
   "source": [
    "names = ['dt', 'obs', 'err']\n",
    "urlah1= 'https://fits.geonet.org.nz/observation?typeID=SO2-flux-a&methodID=mdoas-ah&siteID=WI301'\n",
    "urlah2= 'https://fits.geonet.org.nz/observation?typeID=SO2-flux-a&methodID=mdoas-ah&siteID=WI302'\n",
    "urlch1= 'https://fits.geonet.org.nz/observation?typeID=SO2-flux-a&methodID=mdoas-ch&siteID=WI301'\n",
    "urlch2= 'https://fits.geonet.org.nz/observation?typeID=SO2-flux-a&methodID=mdoas-ch&siteID=WI302'"
   ]
  },
  {
   "cell_type": "code",
   "execution_count": null,
   "metadata": {},
   "outputs": [],
   "source": [
    "#site 301\n",
    "dfah1 = pd.read_csv(urlah1, names=names, usecols=[0,1], skiprows=1, parse_dates={\"Datetime\" : ['dt']}, index_col='Datetime')\n",
    "dfch1 = pd.read_csv(urlch1, names=names, usecols=[0,1], skiprows=1, parse_dates={\"Datetime\" : ['dt']}, index_col='Datetime')\n",
    "dfah1.rename(columns={\"obs\":\"ah\"}, inplace=True)\n",
    "dfch1.rename(columns={\"obs\":\"ch\"}, inplace=True)\n",
    "#join so that ah and ch obs at same time on same row\n",
    "df1 = dfah1.join(dfch1, how='outer')\n",
    "\n",
    "#site 302\n",
    "dfah2 = pd.read_csv(urlah2, names=names, usecols=[0,1], skiprows=1, parse_dates={\"Datetime\" : ['dt']}, index_col='Datetime')\n",
    "dfch2 = pd.read_csv(urlch2, names=names, usecols=[0,1], skiprows=1, parse_dates={\"Datetime\" : ['dt']}, index_col='Datetime')\n",
    "dfah2.rename(columns={\"obs\": \"ah\"}, inplace=True)\n",
    "dfch2.rename(columns={\"obs\": \"ch\"}, inplace=True)\n",
    "df2 = dfah2.join(dfch2, how='outer')"
   ]
  },
  {
   "cell_type": "code",
   "execution_count": null,
   "metadata": {},
   "outputs": [],
   "source": [
    "df1 = df1[(df1.index>= start)&(df1.index<=end)]\n",
    "df2 = df2[(df2.index>= start)&(df2.index<=end)]"
   ]
  },
  {
   "cell_type": "markdown",
   "metadata": {},
   "source": [
    "## All data"
   ]
  },
  {
   "cell_type": "code",
   "execution_count": null,
   "metadata": {},
   "outputs": [],
   "source": [
    "pl1 = df1['ah'].plot(figsize=(10,3), marker='o', markersize=2, color='blue', linestyle='None', ylim=[0,50])\n",
    "df1['ch'].plot(marker='o', markersize=2, color='red', linestyle='None', ax=pl1)\n",
    "pl1.set_ylabel('Flux (kg/s)')\n",
    "pl1.set_title('WI301, North East Point')\n",
    "pl1.legend(loc='best')"
   ]
  },
  {
   "cell_type": "code",
   "execution_count": null,
   "metadata": {
    "scrolled": true
   },
   "outputs": [],
   "source": [
    "pl2 = df2['ah'].plot(figsize=(10,3), marker='o', markersize=2, color='blue', linestyle='None', ylim=[0,50])\n",
    "df2['ch'].plot(marker='o', markersize=2, color='red', linestyle='None', ax=pl2)\n",
    "pl2.set_ylabel('Flux (kg/s)')\n",
    "pl2.set_title('WI302, South Rim')\n",
    "pl2.legend(loc='best')"
   ]
  },
  {
   "cell_type": "markdown",
   "metadata": {},
   "source": [
    "## For a day with much data\n",
    "\n",
    "Can check number of observations with date by \"df1.groupby(pd.Grouper(freq='d')).count()\". A good date is 2015-12-05"
   ]
  },
  {
   "cell_type": "code",
   "execution_count": null,
   "metadata": {},
   "outputs": [],
   "source": [
    "selects = '20151205'\n",
    "selecte = '20151206'\n",
    "\n",
    "select1 = df1[(df1.index>= selects)&(df1.index<selecte)]\n",
    "select2 = df2[(df2.index>= selects)&(df2.index<selecte)]"
   ]
  },
  {
   "cell_type": "code",
   "execution_count": null,
   "metadata": {},
   "outputs": [],
   "source": [
    "select1.columns = ['neah', 'nech']\n",
    "select2.columns = ['srah', 'srch']"
   ]
  },
  {
   "cell_type": "code",
   "execution_count": null,
   "metadata": {},
   "outputs": [],
   "source": [
    "selall= select1.join(select2, how='outer')"
   ]
  },
  {
   "cell_type": "code",
   "execution_count": null,
   "metadata": {},
   "outputs": [],
   "source": [
    "selall.describe()"
   ]
  },
  {
   "cell_type": "code",
   "execution_count": null,
   "metadata": {},
   "outputs": [],
   "source": [
    "bp = selall.boxplot(whis=[5,95], showmeans=True)\n",
    "bp.set_ylabel('Flux (kg/s)')\n",
    "bp.set_title('2015-12-05(5-95 whiskers)')"
   ]
  },
  {
   "cell_type": "code",
   "execution_count": null,
   "metadata": {},
   "outputs": [],
   "source": [
    "fig, ax = plt.subplots()\n",
    "sns.violinplot(data=selall, ax=ax, cut=0, palette='muted')\n",
    "ax.set_title('2010-12-05')\n",
    "ax.set_xlabel('observations')\n",
    "ax.set_ylabel('flux (kg/s)')"
   ]
  },
  {
   "cell_type": "code",
   "execution_count": null,
   "metadata": {},
   "outputs": [],
   "source": [
    "fig, ax = plt.subplots()\n",
    "sns.stripplot(data=selall, ax=ax, palette='muted')\n",
    "ax.set_title('2010-12-05')\n",
    "ax.set_xlabel('observations')\n",
    "ax.set_ylabel('flux (kg/s)')"
   ]
  },
  {
   "cell_type": "code",
   "execution_count": null,
   "metadata": {},
   "outputs": [],
   "source": [
    "sns.catplot(data=selall, kind='bar')"
   ]
  },
  {
   "cell_type": "code",
   "execution_count": null,
   "metadata": {},
   "outputs": [],
   "source": [
    "fmri = sns.load_dataset(\"fmri\")\n",
    "sns.relplot(x=\"timepoint\", y=\"signal\", kind=\"line\", data=fmri);"
   ]
  },
  {
   "cell_type": "code",
   "execution_count": null,
   "metadata": {},
   "outputs": [],
   "source": [
    "#site 301\n",
    "dfah1 = pd.read_csv(urlah1, names=names, usecols=[0,1], skiprows=1, parse_dates=['dt'])\n",
    "dfch1 = pd.read_csv(urlch1, names=names, usecols=[0,1], skiprows=1, parse_dates=['dt'])\n",
    "dfah1.rename(columns={\"dt\":\"dtah\",\"obs\":\"ah\"}, inplace=True)\n",
    "dfch1.rename(columns={\"dt\":\"dtch\",\"obs\":\"ch\"}, inplace=True)\n",
    "\n",
    "dfah1 = dfah1[(dfah1['dtah']>= start)&(dfah1['dtah']<=end)]\n",
    "dfch1 = dfch1[(dfch1['dtch']>= start)&(dfch1['dtch']<=end)]\n",
    "\n",
    "#join so that ah and ch obs at same time on same row\n",
    "df1 = dfah1.join(dfch1, how='outer')"
   ]
  },
  {
   "cell_type": "code",
   "execution_count": null,
   "metadata": {},
   "outputs": [],
   "source": [
    "df1.head()"
   ]
  },
  {
   "cell_type": "code",
   "execution_count": null,
   "metadata": {},
   "outputs": [],
   "source": [
    "df1.describe()"
   ]
  },
  {
   "cell_type": "code",
   "execution_count": null,
   "metadata": {},
   "outputs": [],
   "source": [
    "import datetime as dt\n",
    "df1['dayah']= df1['dtah'].dt.date\n",
    "df1['daych']= df1['dtch'].dt.date"
   ]
  },
  {
   "cell_type": "code",
   "execution_count": null,
   "metadata": {},
   "outputs": [],
   "source": [
    "alldays = pd.date_range(start='20150101', end='20151231')\n",
    "days = pd.DataFrame(alldays)\n",
    "days.columns = ['dayah']\n",
    "days['daych'] = days['dayah']"
   ]
  },
  {
   "cell_type": "code",
   "execution_count": null,
   "metadata": {},
   "outputs": [],
   "source": [
    "days.head()"
   ]
  },
  {
   "cell_type": "code",
   "execution_count": null,
   "metadata": {},
   "outputs": [],
   "source": [
    "days['ah'] = np.nan\n",
    "days['ch'] = np.nan"
   ]
  },
  {
   "cell_type": "code",
   "execution_count": null,
   "metadata": {},
   "outputs": [],
   "source": [
    "days.head()"
   ]
  },
  {
   "cell_type": "code",
   "execution_count": null,
   "metadata": {},
   "outputs": [],
   "source": [
    "df1.tail()"
   ]
  },
  {
   "cell_type": "code",
   "execution_count": null,
   "metadata": {},
   "outputs": [],
   "source": [
    "df1.join"
   ]
  },
  {
   "cell_type": "code",
   "execution_count": null,
   "metadata": {},
   "outputs": [],
   "source": [
    "sns.relplot(x='dayah', y='ah', kind='line', data=df1, height=5, aspect=3)"
   ]
  },
  {
   "cell_type": "code",
   "execution_count": null,
   "metadata": {},
   "outputs": [],
   "source": [
    "sns.relplot(x='daych', y='ch', kind='line', data=df1, height=5, aspect=3)"
   ]
  }
 ],
 "metadata": {
  "kernelspec": {
   "display_name": "Python 3",
   "language": "python",
   "name": "python3"
  },
  "language_info": {
   "codemirror_mode": {
    "name": "ipython",
    "version": 3
   },
   "file_extension": ".py",
   "mimetype": "text/x-python",
   "name": "python",
   "nbconvert_exporter": "python",
   "pygments_lexer": "ipython3",
   "version": "3.7.3"
  }
 },
 "nbformat": 4,
 "nbformat_minor": 2
}
