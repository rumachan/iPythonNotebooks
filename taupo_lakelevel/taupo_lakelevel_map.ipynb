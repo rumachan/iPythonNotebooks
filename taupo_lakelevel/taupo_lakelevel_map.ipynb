{
 "cells": [
  {
   "cell_type": "markdown",
   "metadata": {},
   "source": [
    "# Lake Taupo Lake Levelling Data Maps\n",
    "\n"
   ]
  },
  {
   "cell_type": "code",
   "execution_count": 9,
   "metadata": {},
   "outputs": [],
   "source": [
    "import pandas as pd\n",
    "import matplotlib\n",
    "import matplotlib.cm as cm\n",
    "import matplotlib.pyplot as plt\n",
    "from matplotlib.transforms import offset_copy\n",
    "import requests\n",
    "import numpy as np\n",
    "\n",
    "import cartopy.crs as ccrs\n",
    "import cartopy.io.img_tiles as cimgt\n",
    "from cartopy.io.img_tiles import OSM\n",
    "from cartopy.io.img_tiles import StamenTerrain\n",
    "\n",
    "from ipywidgets import interact, interactive, fixed, interact_manual\n",
    "import ipywidgets as widgets\n",
    "from ipywidgets import Button, Layout\n",
    "\n",
    "%matplotlib inline"
   ]
  },
  {
   "cell_type": "code",
   "execution_count": 10,
   "metadata": {},
   "outputs": [
    {
     "data": {
      "text/html": [
       "<style>.container { width:100% !important; }</style>"
      ],
      "text/plain": [
       "<IPython.core.display.HTML object>"
      ]
     },
     "metadata": {},
     "output_type": "display_data"
    }
   ],
   "source": [
    "#full width notebook display\n",
    "from IPython.core.display import display, HTML\n",
    "display(HTML(\"<style>.container { width:100% !important; }</style>\"))"
   ]
  },
  {
   "cell_type": "code",
   "execution_count": 11,
   "metadata": {},
   "outputs": [
    {
     "data": {
      "application/javascript": [
       "IPython.OutputArea.prototype._should_scroll = function(lines) {\n",
       "    return false;\n",
       "}\n"
      ],
      "text/plain": [
       "<IPython.core.display.Javascript object>"
      ]
     },
     "metadata": {},
     "output_type": "display_data"
    }
   ],
   "source": [
    "%%javascript\n",
    "IPython.OutputArea.prototype._should_scroll = function(lines) {\n",
    "    return false;\n",
    "}"
   ]
  },
  {
   "cell_type": "markdown",
   "metadata": {},
   "source": [
    "**Error in difference**"
   ]
  },
  {
   "cell_type": "code",
   "execution_count": 12,
   "metadata": {},
   "outputs": [],
   "source": [
    "#from http://lectureonline.cl.msu.edu/~mmp/labs/error/e2.htm\n",
    "def differr(e1, e2):\n",
    "    err = np.sqrt(e1**2 + e2**2)\n",
    "    return err\n",
    "\n",
    "error = differr(6,6)"
   ]
  },
  {
   "cell_type": "markdown",
   "metadata": {},
   "source": [
    "**Widget functions**"
   ]
  },
  {
   "cell_type": "code",
   "execution_count": 13,
   "metadata": {},
   "outputs": [],
   "source": [
    "def seld1(wd1):\n",
    "  global date1\n",
    "  date1 = wd1['new']\n",
    "    \n",
    "def seld2(wd2):\n",
    "  global date2\n",
    "  date2 = wd2['new']"
   ]
  },
  {
   "cell_type": "code",
   "execution_count": 14,
   "metadata": {},
   "outputs": [],
   "source": [
    "def go(g):\n",
    "  global diff, signif\n",
    "  #dataframes for each date  \n",
    "  data1 = dfall[dfall['Datetime']==date1]\n",
    "  data2 = dfall[dfall['Datetime']==date2]\n",
    "  #difference dataframe, for plotting\n",
    "  diff = pd.merge(data2, data1, on='siteID')  \n",
    "  diff['diff'] = (diff['obs_x'] - diff['obs_y']) * 1000\n",
    "\n",
    "  maxval = max(abs(diff['diff'].min()), abs(diff['diff'].max()))\n",
    "  vmin = maxval * -1\n",
    "  vmax = maxval\n",
    "  \n",
    "  #plot map\n",
    "  #imagery\n",
    "  imagery = StamenTerrain()\n",
    "  #map  \n",
    "  ax = plt.axes(projection=imagery.crs)\n",
    "  ax.set_extent([float(lonmin), float(lonmax), float(latmin), float(latmax)])\n",
    "  ax.add_image(imagery, 10)\n",
    "\n",
    "  #observations as coloured points\n",
    "  plt.scatter(diff['lon_x'], diff['lat_x'], c=diff['diff'], s=100, marker='o', linewidth=0, cmap='seismic', vmin=vmin, vmax=vmax, norm=matplotlib.colors.Normalize(), transform=ccrs.Geodetic())\n",
    "  \n",
    "  ##value labels inside symbols\n",
    "  geodetic_transform = ccrs.Geodetic()._as_mpl_transform(ax)\n",
    "  text_transform = offset_copy(geodetic_transform, units='dots', x=0, y=0)\n",
    "  for value, x, y in zip(diff['diff'], diff['lon_x'], diff['lat_x']):\n",
    "    plt.text(x, y, str(int(round(value))), size=6, color='white', verticalalignment='center', horizontalalignment='center', transform=text_transform)\n",
    "\n",
    "  #colour bar\n",
    "  cb = plt.colorbar()\n",
    "  cb.set_label('Height change (mm)')\n",
    "\n",
    "  #reference point\n",
    "  reflat = -38.7148746646\n",
    "  reflon = 176.082230857\n",
    "  plt.plot(reflon, reflat, marker='o', markersize=9, color = 'black', linewidth=0, transform=ccrs.Geodetic())\n",
    "  plt.plot(reflon, reflat, marker='*', markersize=6, color = 'white', linewidth=0, transform=ccrs.Geodetic())\n",
    "  \n",
    "  #title\n",
    "  title = date1+' to '+date2\n",
    "  plt.title(title)\n",
    "\n",
    "  #save as file\n",
    "  image = date1+'-'+date2+'.png'\n",
    "  plt.savefig(image, dpi=200)"
   ]
  },
  {
   "cell_type": "markdown",
   "metadata": {},
   "source": [
    "**Data search parameters**"
   ]
  },
  {
   "cell_type": "code",
   "execution_count": 15,
   "metadata": {},
   "outputs": [],
   "source": [
    "typeID = 'z'\n",
    "methodID = 'lak'\n",
    "latmin = '-38.98'\n",
    "latmax = '-38.63'\n",
    "lonmin = '175.70'\n",
    "lonmax = '176.10'\n",
    "\n",
    "within = 'POLYGON(('+lonmin+'+'+latmax+','+lonmin+'+'+latmin+','+lonmax+'+'+latmin+','+lonmax+'+'+latmax+','+lonmin+'+'+latmax+'))'"
   ]
  },
  {
   "cell_type": "markdown",
   "metadata": {},
   "source": [
    "**Query**"
   ]
  },
  {
   "cell_type": "code",
   "execution_count": 16,
   "metadata": {},
   "outputs": [],
   "source": [
    "url = 'https://fits.geonet.org.nz/site'\n",
    "payload = {'typeID': typeID, 'methodID': methodID, 'within': within}"
   ]
  },
  {
   "cell_type": "markdown",
   "metadata": {},
   "source": [
    "**Get sites from site query**"
   ]
  },
  {
   "cell_type": "code",
   "execution_count": 17,
   "metadata": {},
   "outputs": [],
   "source": [
    "r = requests.get(url,params=payload)\n",
    "jdata = r.json()\n",
    "features = jdata['features']\n",
    "dfsite = pd.DataFrame() #empty dataframe\n",
    "for i, val in enumerate(features):\n",
    "  geometry = val['geometry']\n",
    "  lon = geometry['coordinates'][0]\n",
    "  lat = geometry['coordinates'][1]\n",
    "  properties = val['properties']\n",
    "  siteID = properties['siteID']\n",
    "  height = properties['height']\n",
    "  name = properties['name']\n",
    "  #append these to df\n",
    "  dfsite = dfsite.append({'siteID': siteID, 'lon': lon, 'lat': lat, 'height': height, 'name': name}, ignore_index=True)"
   ]
  },
  {
   "cell_type": "markdown",
   "metadata": {},
   "source": [
    "**For each siteID, get time-series data and accumulate**"
   ]
  },
  {
   "cell_type": "code",
   "execution_count": 18,
   "metadata": {},
   "outputs": [],
   "source": [
    "names = ['dt', 'obs', 'err']\n",
    "dfts = pd.DataFrame()   #empty dataframe"
   ]
  },
  {
   "cell_type": "code",
   "execution_count": 19,
   "metadata": {},
   "outputs": [],
   "source": [
    "for site in dfsite['siteID']:\n",
    "  url= 'https://fits.geonet.org.nz/observation?typeID='+typeID+'&siteID='+site+'&methodID='+methodID\n",
    "  df = pd.read_csv(url, names=names, skiprows=1, parse_dates={\"Datetime\" : ['dt']})\n",
    "  df['siteID'] = site\n",
    "  dfts = dfts.append(df, ignore_index=True)"
   ]
  },
  {
   "cell_type": "markdown",
   "metadata": {},
   "source": [
    "**Merge the two dataframes on siteID**"
   ]
  },
  {
   "cell_type": "code",
   "execution_count": 20,
   "metadata": {},
   "outputs": [],
   "source": [
    "dfall = pd.merge(dfsite, dfts, on='siteID')"
   ]
  },
  {
   "cell_type": "markdown",
   "metadata": {},
   "source": [
    "**Get a list of dates (as strings) for selection with a widget**"
   ]
  },
  {
   "cell_type": "code",
   "execution_count": 21,
   "metadata": {},
   "outputs": [
    {
     "ename": "TypeError",
     "evalue": "Cannot cast DatetimeArray to dtype datetime64[D]",
     "output_type": "error",
     "traceback": [
      "\u001b[0;31m---------------------------------------------------------------------------\u001b[0m",
      "\u001b[0;31mTypeError\u001b[0m                                 Traceback (most recent call last)",
      "\u001b[0;32m<ipython-input-21-41fa60d72a9b>\u001b[0m in \u001b[0;36m<module>\u001b[0;34m\u001b[0m\n\u001b[1;32m      1\u001b[0m \u001b[0mdates\u001b[0m \u001b[0;34m=\u001b[0m \u001b[0mdfall\u001b[0m\u001b[0;34m[\u001b[0m\u001b[0;34m'Datetime'\u001b[0m\u001b[0;34m]\u001b[0m\u001b[0;34m.\u001b[0m\u001b[0munique\u001b[0m\u001b[0;34m(\u001b[0m\u001b[0;34m)\u001b[0m\u001b[0;34m\u001b[0m\u001b[0;34m\u001b[0m\u001b[0m\n\u001b[0;32m----> 2\u001b[0;31m \u001b[0mdatestr\u001b[0m \u001b[0;34m=\u001b[0m \u001b[0mdates\u001b[0m\u001b[0;34m.\u001b[0m\u001b[0mastype\u001b[0m\u001b[0;34m(\u001b[0m\u001b[0;34m'datetime64[D]'\u001b[0m\u001b[0;34m)\u001b[0m\u001b[0;34m.\u001b[0m\u001b[0mastype\u001b[0m\u001b[0;34m(\u001b[0m\u001b[0;34m'str'\u001b[0m\u001b[0;34m)\u001b[0m\u001b[0;34m.\u001b[0m\u001b[0mtolist\u001b[0m\u001b[0;34m(\u001b[0m\u001b[0;34m)\u001b[0m\u001b[0;34m\u001b[0m\u001b[0;34m\u001b[0m\u001b[0m\n\u001b[0m\u001b[1;32m      3\u001b[0m \u001b[0mdatestr\u001b[0m\u001b[0;34m.\u001b[0m\u001b[0msort\u001b[0m\u001b[0;34m(\u001b[0m\u001b[0;34m)\u001b[0m\u001b[0;34m\u001b[0m\u001b[0;34m\u001b[0m\u001b[0m\n\u001b[1;32m      4\u001b[0m \u001b[0mdatestr\u001b[0m\u001b[0;34m.\u001b[0m\u001b[0mappend\u001b[0m\u001b[0;34m(\u001b[0m\u001b[0;34m'choose date'\u001b[0m\u001b[0;34m)\u001b[0m\u001b[0;34m\u001b[0m\u001b[0;34m\u001b[0m\u001b[0m\n\u001b[1;32m      5\u001b[0m \u001b[0mdatestr\u001b[0m\u001b[0;34m.\u001b[0m\u001b[0mreverse\u001b[0m\u001b[0;34m(\u001b[0m\u001b[0;34m)\u001b[0m\u001b[0;34m\u001b[0m\u001b[0;34m\u001b[0m\u001b[0m\n",
      "\u001b[0;32m~/anaconda3/lib/python3.7/site-packages/pandas/core/arrays/datetimes.py\u001b[0m in \u001b[0;36mastype\u001b[0;34m(self, dtype, copy)\u001b[0m\n\u001b[1;32m    729\u001b[0m         \u001b[0;32melif\u001b[0m \u001b[0mis_period_dtype\u001b[0m\u001b[0;34m(\u001b[0m\u001b[0mdtype\u001b[0m\u001b[0;34m)\u001b[0m\u001b[0;34m:\u001b[0m\u001b[0;34m\u001b[0m\u001b[0;34m\u001b[0m\u001b[0m\n\u001b[1;32m    730\u001b[0m             \u001b[0;32mreturn\u001b[0m \u001b[0mself\u001b[0m\u001b[0;34m.\u001b[0m\u001b[0mto_period\u001b[0m\u001b[0;34m(\u001b[0m\u001b[0mfreq\u001b[0m\u001b[0;34m=\u001b[0m\u001b[0mdtype\u001b[0m\u001b[0;34m.\u001b[0m\u001b[0mfreq\u001b[0m\u001b[0;34m)\u001b[0m\u001b[0;34m\u001b[0m\u001b[0;34m\u001b[0m\u001b[0m\n\u001b[0;32m--> 731\u001b[0;31m         \u001b[0;32mreturn\u001b[0m \u001b[0mdtl\u001b[0m\u001b[0;34m.\u001b[0m\u001b[0mDatetimeLikeArrayMixin\u001b[0m\u001b[0;34m.\u001b[0m\u001b[0mastype\u001b[0m\u001b[0;34m(\u001b[0m\u001b[0mself\u001b[0m\u001b[0;34m,\u001b[0m \u001b[0mdtype\u001b[0m\u001b[0;34m,\u001b[0m \u001b[0mcopy\u001b[0m\u001b[0;34m)\u001b[0m\u001b[0;34m\u001b[0m\u001b[0;34m\u001b[0m\u001b[0m\n\u001b[0m\u001b[1;32m    732\u001b[0m \u001b[0;34m\u001b[0m\u001b[0m\n\u001b[1;32m    733\u001b[0m     \u001b[0;31m# ----------------------------------------------------------------\u001b[0m\u001b[0;34m\u001b[0m\u001b[0;34m\u001b[0m\u001b[0;34m\u001b[0m\u001b[0m\n",
      "\u001b[0;32m~/anaconda3/lib/python3.7/site-packages/pandas/core/arrays/datetimelike.py\u001b[0m in \u001b[0;36mastype\u001b[0;34m(self, dtype, copy)\u001b[0m\n\u001b[1;32m    546\u001b[0m             \u001b[0;31m# and conversions for any datetimelike to float\u001b[0m\u001b[0;34m\u001b[0m\u001b[0;34m\u001b[0m\u001b[0;34m\u001b[0m\u001b[0m\n\u001b[1;32m    547\u001b[0m             \u001b[0mmsg\u001b[0m \u001b[0;34m=\u001b[0m \u001b[0;34m\"Cannot cast {name} to dtype {dtype}\"\u001b[0m\u001b[0;34m\u001b[0m\u001b[0;34m\u001b[0m\u001b[0m\n\u001b[0;32m--> 548\u001b[0;31m             \u001b[0;32mraise\u001b[0m \u001b[0mTypeError\u001b[0m\u001b[0;34m(\u001b[0m\u001b[0mmsg\u001b[0m\u001b[0;34m.\u001b[0m\u001b[0mformat\u001b[0m\u001b[0;34m(\u001b[0m\u001b[0mname\u001b[0m\u001b[0;34m=\u001b[0m\u001b[0mtype\u001b[0m\u001b[0;34m(\u001b[0m\u001b[0mself\u001b[0m\u001b[0;34m)\u001b[0m\u001b[0;34m.\u001b[0m\u001b[0m__name__\u001b[0m\u001b[0;34m,\u001b[0m \u001b[0mdtype\u001b[0m\u001b[0;34m=\u001b[0m\u001b[0mdtype\u001b[0m\u001b[0;34m)\u001b[0m\u001b[0;34m)\u001b[0m\u001b[0;34m\u001b[0m\u001b[0;34m\u001b[0m\u001b[0m\n\u001b[0m\u001b[1;32m    549\u001b[0m         \u001b[0;32melif\u001b[0m \u001b[0mis_categorical_dtype\u001b[0m\u001b[0;34m(\u001b[0m\u001b[0mdtype\u001b[0m\u001b[0;34m)\u001b[0m\u001b[0;34m:\u001b[0m\u001b[0;34m\u001b[0m\u001b[0;34m\u001b[0m\u001b[0m\n\u001b[1;32m    550\u001b[0m             \u001b[0;32mreturn\u001b[0m \u001b[0mCategorical\u001b[0m\u001b[0;34m(\u001b[0m\u001b[0mself\u001b[0m\u001b[0;34m,\u001b[0m \u001b[0mdtype\u001b[0m\u001b[0;34m=\u001b[0m\u001b[0mdtype\u001b[0m\u001b[0;34m)\u001b[0m\u001b[0;34m\u001b[0m\u001b[0;34m\u001b[0m\u001b[0m\n",
      "\u001b[0;31mTypeError\u001b[0m: Cannot cast DatetimeArray to dtype datetime64[D]"
     ]
    }
   ],
   "source": [
    "dates = dfall['Datetime'].unique()\n",
    "datestr = dates.astype('datetime64[D]').astype('str').tolist()\n",
    "datestr.sort()\n",
    "datestr.append('choose date')\n",
    "datestr.reverse()"
   ]
  },
  {
   "cell_type": "markdown",
   "metadata": {},
   "source": [
    "**Date selection section using widgets**"
   ]
  },
  {
   "cell_type": "code",
   "execution_count": null,
   "metadata": {
    "scrolled": true
   },
   "outputs": [],
   "source": [
    "wd1 = widgets.Select(\n",
    "    options= datestr,\n",
    "    description='earlier date:',\n",
    "    disabled=False\n",
    ")\n",
    "wd1.observe(seld1, names='value')\n",
    "\n",
    "wd2 = widgets.Select(\n",
    "    options= datestr,\n",
    "    description='later date:',\n",
    "    disabled=False\n",
    ")\n",
    "wd2.observe(seld2, names='value')\n",
    "\n",
    "g=widgets.Button(\n",
    "    description='Plot and make file',\n",
    "    disabled=False,\n",
    "    button_style='success',\n",
    "    tooltip='Click to plot')\n",
    "g.on_click(go)\n",
    "\n",
    "widgets.HBox([wd1, wd2, g])"
   ]
  },
  {
   "cell_type": "markdown",
   "metadata": {},
   "source": [
    "**Look at selected data in different ways**"
   ]
  },
  {
   "cell_type": "markdown",
   "metadata": {},
   "source": [
    "**Histogram of changes vs siteID**"
   ]
  },
  {
   "cell_type": "code",
   "execution_count": null,
   "metadata": {
    "scrolled": true
   },
   "outputs": [],
   "source": [
    "dh = diff.plot(kind='bar', color='blue', x='siteID', y='diff', legend=False)\n",
    "plt.axhline(0, color='black')\n",
    "plt.axhline(error, color='red', linestyle='--')\n",
    "plt.axhline(-1*error, color='red', linestyle='--')\n",
    "dh.set_ylabel('Height change (mm)')\n",
    "\n",
    "#title\n",
    "title = date1+' to '+date2\n",
    "plt.title(title)\n",
    "\n",
    "#save as file\n",
    "image = date1+'-'+date2+'_histogram.png'\n",
    "plt.savefig(image, dpi=200)"
   ]
  },
  {
   "cell_type": "markdown",
   "metadata": {},
   "source": [
    "**SiteID vs site name, to help users**"
   ]
  },
  {
   "cell_type": "code",
   "execution_count": null,
   "metadata": {
    "scrolled": true
   },
   "outputs": [],
   "source": [
    "pd.set_option('display.max_columns', 23) #increase column numbers to show all\n",
    "text = diff[['siteID', 'name_x']].copy().transpose()\n",
    "text"
   ]
  },
  {
   "cell_type": "code",
   "execution_count": null,
   "metadata": {},
   "outputs": [],
   "source": [
    "#then reset\n",
    "pd.reset_option('display.max_columns')"
   ]
  },
  {
   "cell_type": "markdown",
   "metadata": {},
   "source": [
    "**Boxplot of all changes**"
   ]
  },
  {
   "cell_type": "code",
   "execution_count": null,
   "metadata": {
    "scrolled": true
   },
   "outputs": [],
   "source": [
    "db = diff.boxplot(column='diff', whis=[0,100])\n",
    "plt.axhline(error, color='red', linestyle='--')\n",
    "plt.axhline(-1*error, color='red', linestyle='--')\n",
    "plt.axhline(0, color='red', linestyle='-')\n",
    "db.set_ylabel('Height change (mm)')\n",
    "\n",
    "#title\n",
    "title = date1+' to '+date2+', whisker=min,max'\n",
    "plt.title(title)\n",
    "\n",
    "#save as file\n",
    "image = date1+'-'+date2+'_box.png'\n",
    "plt.savefig(image, dpi=200)"
   ]
  }
 ],
 "metadata": {
  "kernelspec": {
   "display_name": "Python 3",
   "language": "python",
   "name": "python3"
  },
  "language_info": {
   "codemirror_mode": {
    "name": "ipython",
    "version": 3
   },
   "file_extension": ".py",
   "mimetype": "text/x-python",
   "name": "python",
   "nbconvert_exporter": "python",
   "pygments_lexer": "ipython3",
   "version": "3.7.3"
  }
 },
 "nbformat": 4,
 "nbformat_minor": 4
}
