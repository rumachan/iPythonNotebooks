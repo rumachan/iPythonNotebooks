{
 "cells": [
  {
   "cell_type": "markdown",
   "metadata": {},
   "source": [
    "Automatic (Data Logger) and Manual Ruapehu Crater Lake Temperature Measurement Summary\n",
    "--\n",
    "\n",
    "This version is for Brad Scott to use for GeoNet news stories or VABs\n",
    "--"
   ]
  },
  {
   "cell_type": "code",
   "execution_count": null,
   "metadata": {
    "collapsed": true
   },
   "outputs": [],
   "source": [
    "import pandas as pd\n",
    "import matplotlib.pyplot as plt\n",
    "import numpy as np\n",
    "%matplotlib inline"
   ]
  },
  {
   "cell_type": "markdown",
   "metadata": {},
   "source": [
    "**Automatic (Data Logger)**"
   ]
  },
  {
   "cell_type": "markdown",
   "metadata": {},
   "source": [
    "This gets pretty much all recent data logger temperature data from RCL"
   ]
  },
  {
   "cell_type": "code",
   "execution_count": null,
   "metadata": {},
   "outputs": [],
   "source": [
    "url = 'http://fits.geonet.org.nz/observation?siteID=RU001&typeID=t&days=6000&methodID=logic'\n",
    "df = pd.read_csv(url, parse_dates=['date-time'], index_col=['date-time'], usecols = ['date-time', ' t (C)'])\n",
    "df.head()"
   ]
  },
  {
   "cell_type": "markdown",
   "metadata": {},
   "source": [
    "Data unevenly sampled, resample as daily mean"
   ]
  },
  {
   "cell_type": "code",
   "execution_count": null,
   "metadata": {
    "collapsed": true
   },
   "outputs": [],
   "source": [
    "dfday = df.resample('D').mean()"
   ]
  },
  {
   "cell_type": "markdown",
   "metadata": {},
   "source": [
    "daily mean has some NaN values, days with no temperature measurements, drop rows with these"
   ]
  },
  {
   "cell_type": "code",
   "execution_count": null,
   "metadata": {
    "collapsed": true
   },
   "outputs": [],
   "source": [
    "dfday.dropna(inplace=True)"
   ]
  },
  {
   "cell_type": "code",
   "execution_count": null,
   "metadata": {},
   "outputs": [],
   "source": [
    "dfday[' t (C)'].describe()"
   ]
  },
  {
   "cell_type": "markdown",
   "metadata": {
    "collapsed": true
   },
   "source": [
    "time-series plot, raw data, daily mean values, superimpose median (red), 0.05, 0.95 (black)"
   ]
  },
  {
   "cell_type": "code",
   "execution_count": null,
   "metadata": {},
   "outputs": [],
   "source": [
    "temp = df[' t (C)'].plot(figsize=(15,5), title='Ruapehu Crater Lake temperature. Automatic (data logger) observations', alpha = 0.5, label='temperature')\n",
    "temp.set_ylabel(\"temperature (deg C)\")\n",
    "dfday[' t (C)'].plot(ax=temp, color='red', label='daily mean temp')\n",
    "\n",
    "temp.axhline(dfday[' t (C)'].median(), color='red', linestyle='dashed', linewidth=1, label='median')\n",
    "\n",
    "temp.axhline(dfday[' t (C)'].quantile(q=0.05), color='black', linestyle='dashed', linewidth=1, label='05/95%')\n",
    "temp.axhline(dfday[' t (C)'].quantile(q=0.95), color='black', linestyle='dashed', linewidth=1)\n",
    "\n",
    "tp = temp.legend(loc='best')"
   ]
  },
  {
   "cell_type": "code",
   "execution_count": null,
   "metadata": {
    "collapsed": true
   },
   "outputs": [],
   "source": [
    "fig = tp.get_figure()\n",
    "fig.savefig('rcltemp-news_plot.png', dpi=200)"
   ]
  },
  {
   "cell_type": "markdown",
   "metadata": {},
   "source": [
    "Histogram, one bin per degree\n",
    "\n",
    "Bins for histograms, standardise across all plots"
   ]
  },
  {
   "cell_type": "code",
   "execution_count": null,
   "metadata": {
    "collapsed": true
   },
   "outputs": [],
   "source": [
    "bins = np.arange(8,61,1)"
   ]
  },
  {
   "cell_type": "code",
   "execution_count": null,
   "metadata": {},
   "outputs": [],
   "source": [
    "hist = dfday[' t (C)'].hist(bins=bins, figsize=(10,8))\n",
    "hist.set_ylabel(\"number days\")\n",
    "hist.set_xlabel(\"mean daily temperature (deg C)\")\n",
    "\n",
    "mean = dfday[' t (C)'].mean()\n",
    "meanstr = '{:.1f}'.format(mean)\n",
    "hist.axvline(mean, color='green', linestyle='dashed', linewidth=1, label='mean ('+meanstr+')')\n",
    "\n",
    "median = dfday[' t (C)'].median()\n",
    "medianstr = '{:.1f}'.format(median)\n",
    "hist.axvline(median, color='red', linestyle='dashed', linewidth=1, label='median ('+medianstr+')')\n",
    "\n",
    "q05 = dfday[' t (C)'].quantile(q=0.05)\n",
    "q05str = '{:.1f}'.format(q05)\n",
    "hist.axvline(q05, color='black', linestyle='dashed', linewidth=1)\n",
    "q95 = dfday[' t (C)'].quantile(q=0.95)\n",
    "q95str = '{:.1f}'.format(q95)\n",
    "hist.axvline(q95, color='black', linestyle='dashed', linewidth=1, label='05/95% ('+q05str+'/'+q95str+')')\n",
    "\n",
    "hist.set_title(\"Automatic Observations (Data Logger), Since April 2009\")\n",
    "hp = hist.legend(loc='best')\n"
   ]
  },
  {
   "cell_type": "code",
   "execution_count": null,
   "metadata": {
    "collapsed": true
   },
   "outputs": [],
   "source": [
    "fig = hp.get_figure()\n",
    "fig.savefig('rcltemp-news_hist.png', dpi=200)"
   ]
  },
  {
   "cell_type": "markdown",
   "metadata": {},
   "source": [
    "**Manual**"
   ]
  },
  {
   "cell_type": "markdown",
   "metadata": {},
   "source": [
    "All manual measured temperatures, regardless of siteID. There are some 'double-up' manual temperatures from 1991 to the 1995 eruption. The same observation has a methodID of both therm and thermcoup. This arose because of separate copies of data being held by different staff. This problem will be rectrified at a later date. "
   ]
  },
  {
   "cell_type": "code",
   "execution_count": null,
   "metadata": {
    "collapsed": true
   },
   "outputs": [],
   "source": [
    "#outlet, thermometer\n",
    "url = 'http://fits.geonet.org.nz/observation?siteID=RU001&typeID=t&methodID=therm'\n",
    "dfm = pd.read_csv(url, parse_dates=['date-time'], index_col=['date-time'], usecols = ['date-time', ' t (C)'])\n",
    "\n",
    "#outlet, thermocouple\n",
    "url = 'http://fits.geonet.org.nz/observation?siteID=RU001&typeID=t&methodID=thermcoup'\n",
    "dfm2 = pd.read_csv(url, parse_dates=['date-time'], index_col=['date-time'], usecols = ['date-time', ' t (C)'])\n",
    "dfm = dfm.append(dfm2)\n",
    "\n",
    "#centre, thermocouple\n",
    "url = 'http://fits.geonet.org.nz/observation?siteID=RU003&typeID=t&methodID=thermcoup'\n",
    "dfm3 = pd.read_csv(url, parse_dates=['date-time'], index_col=['date-time'], usecols = ['date-time', ' t (C)'])\n",
    "dfm = dfm.append(dfm3)\n",
    "\n",
    "#north, thermocouple\n",
    "url = 'http://fits.geonet.org.nz/observation?siteID=RU004&typeID=t&methodID=thermcoup'\n",
    "dfm4 = pd.read_csv(url, parse_dates=['date-time'], index_col=['date-time'], usecols = ['date-time', ' t (C)'])\n",
    "dfm = dfm.append(dfm4)"
   ]
  },
  {
   "cell_type": "code",
   "execution_count": null,
   "metadata": {},
   "outputs": [],
   "source": [
    "dfm[' t (C)'].describe()"
   ]
  },
  {
   "cell_type": "code",
   "execution_count": null,
   "metadata": {},
   "outputs": [],
   "source": [
    "dfm.head()"
   ]
  },
  {
   "cell_type": "markdown",
   "metadata": {},
   "source": [
    "Remove observations before the 1995 eruption. These data are representative of a period when Brad considers the style of activity at Ruapehu was different from that after the 1995-96 eruptions."
   ]
  },
  {
   "cell_type": "code",
   "execution_count": null,
   "metadata": {
    "collapsed": true
   },
   "outputs": [],
   "source": [
    "dfmu = dfm[dfm.index<='1995-09-20 00:00:00']"
   ]
  },
  {
   "cell_type": "code",
   "execution_count": null,
   "metadata": {},
   "outputs": [],
   "source": [
    "dfmu[' t (C)'].describe()"
   ]
  },
  {
   "cell_type": "markdown",
   "metadata": {
    "collapsed": true
   },
   "source": [
    "Time-series plot, raw data, daily mean values, superimpose median (red), 0.05, 0.95 (black). Plot all, including post-1995 data, but calculate statistics for only those before 1995 eruptions."
   ]
  },
  {
   "cell_type": "code",
   "execution_count": null,
   "metadata": {},
   "outputs": [],
   "source": [
    "tempm = dfm[' t (C)'].plot(figsize=(15,5), title='Ruapehu Crater Lake temperature, manual observations', label='data')\n",
    "tempm.set_ylabel(\"temperature (deg C)\")\n",
    "\n",
    "tempm.axhline(dfmu[' t (C)'].median(), color='red', linestyle='dashed', linewidth=1, label='median')\n",
    "\n",
    "tempm.axhline(dfmu[' t (C)'].quantile(q=0.05), color='black', linestyle='dashed', linewidth=1, label='05/95%')\n",
    "tempm.axhline(dfmu[' t (C)'].quantile(q=0.95), color='black', linestyle='dashed', linewidth=1)\n",
    "\n",
    "tempm.axvspan('1995-09-20', '2020-01-01', alpha=0.1, color='gray', label='not used') #grey shade unused observations\n",
    "\n",
    "tp = tempm.legend(loc='best')\n",
    "\n",
    "fig = tp.get_figure()\n",
    "fig.savefig('rcltemp_manual-news_plot.png', dpi=200)"
   ]
  },
  {
   "cell_type": "markdown",
   "metadata": {},
   "source": [
    "histogram, one bin per degree"
   ]
  },
  {
   "cell_type": "code",
   "execution_count": null,
   "metadata": {},
   "outputs": [],
   "source": [
    "hist = dfmu[' t (C)'].hist(bins=bins, figsize=(10,8))\n",
    "hist.set_ylabel(\"number observations\")\n",
    "hist.set_xlabel(\"temperature (deg C)\")\n",
    "\n",
    "mean = dfmu[' t (C)'].mean()\n",
    "meanstr = '{:.1f}'.format(mean)\n",
    "hist.axvline(mean, color='green', linestyle='dashed', linewidth=1, label='mean ('+meanstr+')')\n",
    "\n",
    "median = dfmu[' t (C)'].median()\n",
    "medianstr = '{:.1f}'.format(median)\n",
    "hist.axvline(median, color='red', linestyle='dashed', linewidth=1, label='median ('+medianstr+')')\n",
    "\n",
    "q05 = dfmu[' t (C)'].quantile(q=0.05)\n",
    "q05str = '{:.1f}'.format(q05)\n",
    "hist.axvline(q05, color='black', linestyle='dashed', linewidth=1)\n",
    "q95 = dfmu[' t (C)'].quantile(q=0.95)\n",
    "q95str = '{:.1f}'.format(q95)\n",
    "hist.axvline(q95, color='black', linestyle='dashed', linewidth=1, label='05/95% ('+q05str+'/'+q95str+')')\n",
    "\n",
    "hist.set_title(\"Manual Observations, 1950-1995\")\n",
    "hp = hist.legend(loc='best')\n",
    "\n",
    "fig = hp.get_figure()\n",
    "fig.savefig('rcltemp_manual-news_hist.png', dpi=200)"
   ]
  }
 ],
 "metadata": {
  "kernelspec": {
   "display_name": "Python 2",
   "language": "python",
   "name": "python2"
  },
  "language_info": {
   "codemirror_mode": {
    "name": "ipython",
    "version": 2
   },
   "file_extension": ".py",
   "mimetype": "text/x-python",
   "name": "python",
   "nbconvert_exporter": "python",
   "pygments_lexer": "ipython2",
   "version": "2.7.12"
  }
 },
 "nbformat": 4,
 "nbformat_minor": 2
}
