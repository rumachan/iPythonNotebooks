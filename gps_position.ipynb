{
 "cells": [
  {
   "cell_type": "markdown",
   "metadata": {},
   "source": [
    "Plot GNSS (cGPS) time series for one station for the last n days. Plots all three components (e,n,u) separately, but with a common time scale\n",
    "--"
   ]
  },
  {
   "cell_type": "code",
   "execution_count": 1,
   "metadata": {},
   "outputs": [
    {
     "name": "stderr",
     "output_type": "stream",
     "text": [
      "/usr/lib/python2.7/dist-packages/matplotlib/font_manager.py:273: UserWarning: Matplotlib is building the font cache using fc-list. This may take a moment.\n",
      "  warnings.warn('Matplotlib is building the font cache using fc-list. This may take a moment.')\n"
     ]
    }
   ],
   "source": [
    "import pandas as pd\n",
    "import matplotlib.pyplot as plt\n",
    "import requests\n",
    "import scipy.signal\n",
    "import sys\n",
    "import matplotlib as mpl\n",
    "import numpy as np\n",
    "import datetime\n",
    "from dateutil import parser\n",
    "from ipywidgets import interact, interactive, fixed, interact_manual\n",
    "import ipywidgets as widgets\n",
    "from ipywidgets import Button, Layout\n",
    "%matplotlib inline"
   ]
  },
  {
   "cell_type": "code",
   "execution_count": 2,
   "metadata": {
    "collapsed": true
   },
   "outputs": [],
   "source": [
    "#filter kernel\n",
    "od = 11\n",
    "#default days, maximum permitted\n",
    "days = '365000'"
   ]
  },
  {
   "cell_type": "code",
   "execution_count": 3,
   "metadata": {
    "collapsed": true
   },
   "outputs": [],
   "source": [
    "def selsite(s):\n",
    "  global site, siteid, netid\n",
    "  site = str(s['new'])\n",
    "  \n",
    "def seldays(d):\n",
    "  global days\n",
    "  days = str(d['new'])\n"
   ]
  },
  {
   "cell_type": "code",
   "execution_count": 4,
   "metadata": {
    "collapsed": true
   },
   "outputs": [],
   "source": [
    "def output(o):\n",
    "    siteid = str.split(site, '.')[0]\n",
    "    netid = str.split(site, '.')[1]\n",
    "    \n",
    "    #get observation statistics for last data value, FITS query\n",
    "    url = 'http://fits.geonet.org.nz/observation/stats'\n",
    "    payload = {'typeID': 'u', 'siteID': siteid, 'networkID': netid}\n",
    "    r = requests.get(url,params=payload)\n",
    "    #get from a dictionary\n",
    "    jdata = r.json()\n",
    "    last = jdata.get('Last').get('DateTime').encode('ascii','ignore')       #'2016-04-02T11:59:00Z'\n",
    "    dtlast = parser.parse(last)     #datetime\n",
    "    strlast = dtlast.strftime(\"%Y-%m-%d%Z\") #formatted string 2016-04-03UTC\n",
    "\n",
    "    #get time series data for sites, FITS query\n",
    "    names = ['dt', 'obs', 'err']\n",
    "    url= 'http://fits.geonet.org.nz/observation?typeID=e&siteID='+siteid+'&networkID='+netid+'&days='+days\n",
    "    dfe = pd.read_csv(url, names=names, skiprows=1, parse_dates={\"Datetime\" : ['dt']})\n",
    "    url= 'http://fits.geonet.org.nz/observation?typeID=n&siteID='+siteid+'&networkID='+netid+'&days='+days\n",
    "    dfn = pd.read_csv(url, names=names, skiprows=1, parse_dates={\"Datetime\" : ['dt']})\n",
    "    url= 'http://fits.geonet.org.nz/observation?typeID=u&siteID='+siteid+'&networkID='+netid+'&days='+days\n",
    "    dfu = pd.read_csv(url, names=names, skiprows=1, parse_dates={\"Datetime\" : ['dt']})\n",
    "\n",
    "    #join dataframes, rename columns\n",
    "    df = pd.concat([dfe, dfn, dfu], axis=1, join='inner')\n",
    "    names = ['Datetime', 'obse', 'erre', 'dtn', 'obsn', 'errn', 'dtu', 'obsu', 'erru']\n",
    "    df.columns = names      #rename columns\n",
    "\n",
    "    #reference observation columns to first value\n",
    "    df['obse'] -= df['obse'][0]\n",
    "    df['obsn'] -= df['obsn'][0]\n",
    "    df['obsu'] -= df['obsu'][0]\n",
    "\n",
    "    #pre-filter observations\n",
    "    df['obsef'] = scipy.signal.medfilt(df['obse'],od)\n",
    "    df['obsnf'] = scipy.signal.medfilt(df['obsn'],od)\n",
    "    df['obsuf'] = scipy.signal.medfilt(df['obsu'],od)\n",
    "\n",
    "    #ticks\n",
    "    majorTick = mpl.dates.YearLocator(1)\n",
    "    majorFormat = mpl.dates.DateFormatter('%Y')\n",
    "    minorTick = mpl.dates.MonthLocator()\n",
    "\n",
    "    #plot all data\n",
    "    fig = plt.figure(figsize=(15, 7.5))\n",
    "    fig.subplots_adjust(hspace=0.3)\n",
    "\n",
    "    ax = fig.add_subplot(3, 1, 1)\n",
    "    plt.grid(b=True, which='major', color='b', linestyle='--', alpha=0.5)\n",
    "    plt.plot(df['Datetime'], df['obsn'], marker='o', color='black', linestyle='None')\n",
    "    plt.errorbar(df['Datetime'], df['obsn'], yerr=df['errn'], capsize=0, linestyle='None')\n",
    "    plt.plot(df['Datetime'], df['obsnf'], marker='None', color='red')\n",
    "    plt.ylabel('dn (mm)')\n",
    "    title = (siteid+' daily position change (mm), last data '+strlast)\n",
    "    plt.title(title)\n",
    "\n",
    "    ax = fig.add_subplot(3, 1, 2)\n",
    "    plt.grid(b=True, which='major', color='b', linestyle='--', alpha=0.5)\n",
    "    plt.plot(df['Datetime'], df['obse'], marker='o', color='black', linestyle='None')\n",
    "    plt.errorbar(df['Datetime'], df['obse'], yerr=df['erre'], capsize=0, linestyle='None')\n",
    "    plt.plot(df['Datetime'], df['obsef'], marker='None', color='red')\n",
    "    plt.ylabel('de (mm)')\n",
    "\n",
    "    ax = fig.add_subplot(3, 1, 3)\n",
    "    plt.grid(b=True, which='major', color='b', linestyle='--', alpha=0.5)\n",
    "    plt.plot(df['Datetime'], df['obsu'], marker='o', color='black', linestyle='None')\n",
    "    plt.errorbar(df['Datetime'], df['obsu'], yerr=df['erru'], capsize=0, linestyle='None')\n",
    "    plt.plot(df['Datetime'], df['obsuf'], marker='None', color='red')\n",
    "    plt.ylabel('du (mm)')\n",
    "\n",
    "    #output plot\n",
    "    if (days == '365000'):\n",
    "        plt.savefig(siteid+'.png', dpi=200)\n",
    "    else:\n",
    "        plt.savefig(siteid+'_'+days+'.png', dpi=200)"
   ]
  },
  {
   "cell_type": "code",
   "execution_count": 5,
   "metadata": {},
   "outputs": [
    {
     "data": {
      "application/vnd.jupyter.widget-view+json": {
       "model_id": "fb76770773e14d87b50e5d74d914ddea"
      }
     },
     "metadata": {},
     "output_type": "display_data"
    }
   ],
   "source": [
    "s = widgets.Text(\n",
    "    value='',\n",
    "    placeholder='',\n",
    "    description='Site (eg TAUP.LI):',\n",
    "    disabled=False\n",
    ")\n",
    "s.observe(selsite, names='value')\n",
    "\n",
    "d = widgets.Text(\n",
    "    value='',\n",
    "    placeholder='',\n",
    "    description='Days to plot (blank = all):',\n",
    "    disabled=False\n",
    ")\n",
    "d.observe(seldays, names='value')\n",
    "\n",
    "o=widgets.Button(\n",
    "    description='Plot',\n",
    "    disabled=False,\n",
    "    button_style='success',\n",
    "    tooltip='Make file copy')\n",
    "o.on_click(output)\n",
    "\n",
    "widgets.HBox([s, d, o])"
   ]
  }
 ],
 "metadata": {
  "kernelspec": {
   "display_name": "Python 2",
   "language": "python",
   "name": "python2"
  },
  "language_info": {
   "codemirror_mode": {
    "name": "ipython",
    "version": 2
   },
   "file_extension": ".py",
   "mimetype": "text/x-python",
   "name": "python",
   "nbconvert_exporter": "python",
   "pygments_lexer": "ipython2",
   "version": "2.7.12"
  }
 },
 "nbformat": 4,
 "nbformat_minor": 2
}
