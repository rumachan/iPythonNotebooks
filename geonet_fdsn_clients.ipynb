{
 "cells": [
  {
   "cell_type": "markdown",
   "metadata": {},
   "source": [
    "GeoNet FDSN Wave Servers - Using the Correct Server\n",
    "--\n",
    "\n",
    "GeoNet operates two FDNS wave servers\n",
    "- An archive server holds verified data starting 7 days after collection\n",
    "- A near real-time servers holds unverified data for the last 8 days\n",
    "\n",
    "You will need to specify the correct wave server to get the data you want. If you try to get data from one server and that raises an exception (because the data you requested are not available) repeat the request with the other server.  "
   ]
  },
  {
   "cell_type": "code",
   "execution_count": null,
   "metadata": {
    "scrolled": true
   },
   "outputs": [],
   "source": [
    "from obspy.core import UTCDateTime\n",
    "from obspy.clients.fdsn import Client"
   ]
  },
  {
   "cell_type": "code",
   "execution_count": null,
   "metadata": {
    "collapsed": true
   },
   "outputs": [],
   "source": [
    "arc_client = 'http://service.geonet.org.nz'\n",
    "nrt_client = 'http://fdsn-ws-nrt.ap-southeast-2.elasticbeanstalk.com'"
   ]
  },
  {
   "cell_type": "code",
   "execution_count": null,
   "metadata": {},
   "outputs": [],
   "source": [
    "t = UTCDateTime('2017-10-04')\n",
    "\n",
    "#first try to get data from archive server\n",
    "try:\n",
    "    client = Client(arc_client)\n",
    "    st = client.get_waveforms('NZ', 'KRVZ', '10', 'EHZ', t, t + 3600)\n",
    "    print 'arc client successful'\n",
    "#if this raises an exception, try the near real-time server\n",
    "except:\n",
    "    client = Client(nrt_client)\n",
    "    st = client.get_waveforms('NZ', 'KRVZ', '10', 'EHZ', t, t + 3600)\n",
    "    print 'nrt client successful'"
   ]
  },
  {
   "cell_type": "code",
   "execution_count": null,
   "metadata": {},
   "outputs": [],
   "source": [
    "st"
   ]
  }
 ],
 "metadata": {
  "kernelspec": {
   "display_name": "Python 2",
   "language": "python",
   "name": "python2"
  },
  "language_info": {
   "codemirror_mode": {
    "name": "ipython",
    "version": 2
   },
   "file_extension": ".py",
   "mimetype": "text/x-python",
   "name": "python",
   "nbconvert_exporter": "python",
   "pygments_lexer": "ipython2",
   "version": "2.7.12"
  }
 },
 "nbformat": 4,
 "nbformat_minor": 2
}
