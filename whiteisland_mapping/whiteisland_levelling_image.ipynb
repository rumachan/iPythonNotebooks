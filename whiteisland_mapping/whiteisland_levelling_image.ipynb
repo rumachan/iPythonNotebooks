{
 "cells": [
  {
   "cell_type": "markdown",
   "metadata": {},
   "source": [
    "White Island Levelling Data Maps\n",
    "--"
   ]
  },
  {
   "cell_type": "code",
   "execution_count": null,
   "metadata": {
    "collapsed": true
   },
   "outputs": [],
   "source": [
    "import pandas as pd\n",
    "import matplotlib\n",
    "import matplotlib.cm as cm\n",
    "import matplotlib.pyplot as plt\n",
    "from matplotlib.transforms import offset_copy\n",
    "import requests\n",
    "\n",
    "import cartopy.crs as ccrs\n",
    "import cartopy.io.img_tiles as cimgt\n",
    "from cartopy.io.img_tiles import OSM\n",
    "\n",
    "from osgeo import gdal, osr\n",
    "gdal.UseExceptions()\n",
    "\n",
    "from ipywidgets import interact, interactive, fixed, interact_manual\n",
    "import ipywidgets as widgets\n",
    "from ipywidgets import Button, Layout\n",
    "\n",
    "%matplotlib inline"
   ]
  },
  {
   "cell_type": "code",
   "execution_count": null,
   "metadata": {},
   "outputs": [],
   "source": [
    "#full width notebook display\n",
    "from IPython.core.display import display, HTML\n",
    "display(HTML(\"<style>.container { width:100% !important; }</style>\"))"
   ]
  },
  {
   "cell_type": "markdown",
   "metadata": {},
   "source": [
    "**Widget functions**"
   ]
  },
  {
   "cell_type": "code",
   "execution_count": null,
   "metadata": {
    "collapsed": true
   },
   "outputs": [],
   "source": [
    "def seld1(wd1):\n",
    "  global date1\n",
    "  date1 = wd1['new']\n",
    "    \n",
    "def seld2(wd2):\n",
    "  global date2\n",
    "  date2 = wd2['new']"
   ]
  },
  {
   "cell_type": "code",
   "execution_count": null,
   "metadata": {
    "collapsed": true
   },
   "outputs": [],
   "source": [
    "def go(g):\n",
    "  global diff, signif\n",
    "  #dataframes for each date  \n",
    "  data1 = dfall[dfall['Datetime']==date1]\n",
    "  data2 = dfall[dfall['Datetime']==date2]\n",
    "  #difference dataframe, for plotting\n",
    "  diff = pd.merge(data2, data1, on='siteID')  \n",
    "  diff['diff'] = (diff['obs_x'] - diff['obs_y']) * 1000\n",
    "\n",
    "  maxval = max(abs(diff['diff'].min()), abs(diff['diff'].max()))\n",
    "  vmin = maxval * -1\n",
    "  vmax = maxval\n",
    "  \n",
    "  #imagery\n",
    "  fname = 'WhiteIsland.tif'\n",
    "  ds = gdal.Open(fname)\n",
    "  data = ds.ReadAsArray()\n",
    "  gt = ds.GetGeoTransform()\n",
    "  proj = ds.GetProjection()\n",
    "  inproj = osr.SpatialReference()\n",
    "  inproj.ImportFromWkt(proj)\n",
    "  #projcs = inproj.GetAuthorityCode('PROJCS') does not return projection as final line missing that is shown\n",
    "  #in https://ocefpaf.github.io/python4oceanographers/blog/2015/03/02/geotiff/\n",
    "  #hard code epsg code\n",
    "  projection = ccrs.epsg('2193') #for NZTM\n",
    "  #projection = ccrs.PlateCarree() #for WGS84\n",
    "  \n",
    "  \n",
    "  #plot map\n",
    "  subplot_kw = dict(projection=projection)\n",
    "  fig,ax = plt.subplots(subplot_kw=subplot_kw, dpi=200)\n",
    "  extent = (gt[0], gt[0] + ds.RasterXSize * gt[1], gt[3] + ds.RasterYSize * gt[5], gt[3])\n",
    "  img = ax.imshow(data[:3, :, :].transpose((1, 2, 0)), extent=extent, origin='upper')\n",
    "      \n",
    "  #observations as coloured points\n",
    "  plt.scatter(diff['lon_x'], diff['lat_x'], c=diff['diff'], s=50, marker='o', linewidth=0, cmap='seismic', vmin=vmin, vmax=vmax, norm=matplotlib.colors.Normalize(), transform=ccrs.Geodetic())\n",
    "  \n",
    "  ##value labels inside symbols\n",
    "  geodetic_transform = ccrs.Geodetic()._as_mpl_transform(ax)\n",
    "  text_transform = offset_copy(geodetic_transform, units='dots', x=0, y=0)\n",
    "  for value, x, y in zip(diff['diff'], diff['lon_x'], diff['lat_x']):\n",
    "    plt.text(x, y, str(int(round(value))), size=4, color='white', verticalalignment='center', horizontalalignment='center', transform=text_transform)\n",
    "    \n",
    "  #plot reference site (WI100, A) as star, it plots 'inside' the circle\n",
    "  ref = diff[diff['siteID']=='WI100']\n",
    "  plt.plot(ref['lon_x'], ref['lat_x'], color='black', markersize=7, marker='*', linestyle='None', transform=ccrs.Geodetic())\n",
    "\n",
    "  #plot fumaroles\n",
    "  plt.plot(177.1880, -37.5239, color='red', markersize=3, marker='o', markeredgewidth=0, linestyle='None', transform=ccrs.Geodetic()) #F0\n",
    "  plt.plot(177.189942, -37.521880, color='red', markersize=3, marker='o', markeredgewidth=0, linestyle='None', transform=ccrs.Geodetic()) #F13\n",
    "  plt.plot(177.1837, -37.5217, color='red', markersize=3, marker='o', markeredgewidth=0, linestyle='None', transform=ccrs.Geodetic()) #2012 Dome\n",
    "    \n",
    "  #colour bar\n",
    "  cb = plt.colorbar()\n",
    "  cb.set_label('Height change (mm)')\n",
    "    \n",
    "  #title\n",
    "  title = date1+' to '+date2\n",
    "  plt.title(title)\n",
    "\n",
    "  #save as file\n",
    "  image = date1+'-'+date2+'.png'\n",
    "  plt.savefig(image, dpi=200)"
   ]
  },
  {
   "cell_type": "markdown",
   "metadata": {},
   "source": [
    "**Data search parameters**"
   ]
  },
  {
   "cell_type": "code",
   "execution_count": null,
   "metadata": {
    "collapsed": true
   },
   "outputs": [],
   "source": [
    "typeID = 'z'\n",
    "methodID = 'lev'\n",
    "latmin = '-37.528'\n",
    "latmax = '-37.518'\n",
    "lonmin = '177.184'\n",
    "lonmax = '177.196'\n",
    "\n",
    "within = 'POLYGON(('+lonmin+'+'+latmax+','+lonmin+'+'+latmin+','+lonmax+'+'+latmin+','+lonmax+'+'+latmax+','+lonmin+'+'+latmax+'))'"
   ]
  },
  {
   "cell_type": "markdown",
   "metadata": {},
   "source": [
    "**Query**"
   ]
  },
  {
   "cell_type": "code",
   "execution_count": null,
   "metadata": {
    "collapsed": true
   },
   "outputs": [],
   "source": [
    "url = 'http://fits.geonet.org.nz/site'\n",
    "payload = {'typeID': typeID, 'methodID': methodID, 'within': within}"
   ]
  },
  {
   "cell_type": "markdown",
   "metadata": {},
   "source": [
    "**Get sites from site query**"
   ]
  },
  {
   "cell_type": "code",
   "execution_count": null,
   "metadata": {
    "collapsed": true
   },
   "outputs": [],
   "source": [
    "r = requests.get(url,params=payload)\n",
    "jdata = r.json()\n",
    "features = jdata['features']\n",
    "dfsite = pd.DataFrame() #empty dataframe\n",
    "for i, val in enumerate(features):\n",
    "  geometry = val['geometry']\n",
    "  lon = geometry['coordinates'][0]\n",
    "  lat = geometry['coordinates'][1]\n",
    "  properties = val['properties']\n",
    "  siteID = properties['siteID']\n",
    "  height = properties['height']\n",
    "  name = properties['name']\n",
    "  #append these to df\n",
    "  dfsite = dfsite.append({'siteID': siteID, 'lon': lon, 'lat': lat, 'height': height, 'name': name}, ignore_index=True)"
   ]
  },
  {
   "cell_type": "code",
   "execution_count": null,
   "metadata": {},
   "outputs": [],
   "source": [
    "dfsite.head()"
   ]
  },
  {
   "cell_type": "markdown",
   "metadata": {},
   "source": [
    "**For each siteID, get time-series data and accumulate**"
   ]
  },
  {
   "cell_type": "code",
   "execution_count": null,
   "metadata": {
    "collapsed": true
   },
   "outputs": [],
   "source": [
    "names = ['dt', 'obs', 'err']\n",
    "dfts = pd.DataFrame()   #empty dataframe"
   ]
  },
  {
   "cell_type": "code",
   "execution_count": null,
   "metadata": {
    "collapsed": true
   },
   "outputs": [],
   "source": [
    "for site in dfsite['siteID']:\n",
    "  site = site.encode('ascii','ignore')\n",
    "  #print site, network\n",
    "  url= 'https://fits.geonet.org.nz/observation?typeID='+typeID+'&siteID='+site+'&methodID='+methodID\n",
    "  df = pd.read_csv(url, names=names, skiprows=1, parse_dates={\"Datetime\" : ['dt']})\n",
    "  df['siteID'] = site\n",
    "  dfts = dfts.append(df, ignore_index=True)"
   ]
  },
  {
   "cell_type": "markdown",
   "metadata": {},
   "source": [
    "**Merge the two dataframes on siteID**"
   ]
  },
  {
   "cell_type": "code",
   "execution_count": null,
   "metadata": {
    "collapsed": true
   },
   "outputs": [],
   "source": [
    "dfall = pd.merge(dfsite, dfts, on='siteID')"
   ]
  },
  {
   "cell_type": "markdown",
   "metadata": {},
   "source": [
    "**Get a list of dates (as strings) for selection with a widget**"
   ]
  },
  {
   "cell_type": "code",
   "execution_count": null,
   "metadata": {
    "collapsed": true
   },
   "outputs": [],
   "source": [
    "dates = dfall['Datetime'].unique()\n",
    "datestr = dates.astype('datetime64[D]').astype('str').tolist()\n",
    "datestr.sort()\n",
    "datestr.append('choose date')\n",
    "datestr.reverse()"
   ]
  },
  {
   "cell_type": "markdown",
   "metadata": {},
   "source": [
    "**Date selection section using widgets**"
   ]
  },
  {
   "cell_type": "code",
   "execution_count": null,
   "metadata": {
    "scrolled": true
   },
   "outputs": [],
   "source": [
    "wd1 = widgets.Select(\n",
    "    options= datestr,\n",
    "    description='earlier date:',\n",
    "    disabled=False\n",
    ")\n",
    "wd1.observe(seld1, names='value')\n",
    "\n",
    "wd2 = widgets.Select(\n",
    "    options= datestr,\n",
    "    description='later date:',\n",
    "    disabled=False\n",
    ")\n",
    "wd2.observe(seld2, names='value')\n",
    "\n",
    "g=widgets.Button(\n",
    "    description='Plot and make file',\n",
    "    disabled=False,\n",
    "    button_style='success',\n",
    "    tooltip='Click to plot')\n",
    "g.on_click(go)\n",
    "\n",
    "widgets.HBox([wd1, wd2, g])"
   ]
  },
  {
   "cell_type": "markdown",
   "metadata": {},
   "source": [
    "**Look at selected data in different ways**"
   ]
  },
  {
   "cell_type": "markdown",
   "metadata": {},
   "source": [
    "**Histogram of changes vs siteID**"
   ]
  },
  {
   "cell_type": "code",
   "execution_count": null,
   "metadata": {
    "scrolled": true
   },
   "outputs": [],
   "source": [
    "dh = diff.plot(kind='bar', x='siteID', y='diff', legend=False)\n",
    "plt.axhline(0, color='black')\n",
    "plt.axhline(12, color='red', linestyle='--')\n",
    "plt.axhline(-12, color='red', linestyle='--')\n",
    "dh.set_ylabel('Height change (mm)')"
   ]
  },
  {
   "cell_type": "markdown",
   "metadata": {},
   "source": [
    "**SiteID vs site name, to help users**"
   ]
  },
  {
   "cell_type": "code",
   "execution_count": null,
   "metadata": {
    "scrolled": true
   },
   "outputs": [],
   "source": [
    "pd.set_option('display.max_columns', 23) #increase column numbers to show all\n",
    "text = diff[['siteID', 'name_x']].copy().transpose()\n",
    "text"
   ]
  },
  {
   "cell_type": "code",
   "execution_count": null,
   "metadata": {
    "collapsed": true
   },
   "outputs": [],
   "source": [
    "#then reset\n",
    "pd.reset_option('display.max_columns')"
   ]
  },
  {
   "cell_type": "markdown",
   "metadata": {},
   "source": [
    "**Boxplot of all changes**"
   ]
  },
  {
   "cell_type": "code",
   "execution_count": null,
   "metadata": {
    "scrolled": true
   },
   "outputs": [],
   "source": [
    "db = diff.plot(kind='box', y='diff', legend=False)\n",
    "plt.axhline(12, color='red', linestyle='--')\n",
    "plt.axhline(-12, color='red', linestyle='--')\n",
    "plt.axhline(0, color='red', linestyle='-')\n",
    "db.set_ylabel('Height change (mm)')"
   ]
  }
 ],
 "metadata": {
  "kernelspec": {
   "display_name": "Python 2",
   "language": "python",
   "name": "python2"
  },
  "language_info": {
   "codemirror_mode": {
    "name": "ipython",
    "version": 2
   },
   "file_extension": ".py",
   "mimetype": "text/x-python",
   "name": "python",
   "nbconvert_exporter": "python",
   "pygments_lexer": "ipython2",
   "version": "2.7.12"
  },
  "widgets": {
   "state": {
    "4e6db707d70e4e1aac90b595e52f7d40": {
     "views": [
      {
       "cell_index": 21
      }
     ]
    }
   },
   "version": "1.2.0"
  }
 },
 "nbformat": 4,
 "nbformat_minor": 2
}
