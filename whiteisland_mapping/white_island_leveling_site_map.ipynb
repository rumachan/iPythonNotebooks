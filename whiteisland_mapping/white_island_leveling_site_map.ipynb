{
 "cells": [
  {
   "cell_type": "markdown",
   "metadata": {},
   "source": [
    "# Simple White Island Crater Floor Map With Leveling Sites"
   ]
  },
  {
   "cell_type": "code",
   "execution_count": null,
   "metadata": {},
   "outputs": [],
   "source": [
    "import pandas as pd\n",
    "import matplotlib\n",
    "import matplotlib.cm as cm\n",
    "import matplotlib.pyplot as plt\n",
    "from matplotlib.transforms import offset_copy\n",
    "import requests\n",
    "\n",
    "import cartopy.crs as ccrs\n",
    "import cartopy.io.img_tiles as cimgt\n",
    "from cartopy.io.img_tiles import OSM\n",
    "\n",
    "from osgeo import gdal, osr\n",
    "gdal.UseExceptions()\n",
    "\n",
    "%matplotlib inline"
   ]
  },
  {
   "cell_type": "code",
   "execution_count": null,
   "metadata": {},
   "outputs": [],
   "source": [
    "df = pd.read_csv('leveling_sites_current.csv')\n",
    "df.head()"
   ]
  },
  {
   "cell_type": "code",
   "execution_count": null,
   "metadata": {},
   "outputs": [],
   "source": [
    "df['ID'] = df['siteID'].apply(lambda x: x[2:])"
   ]
  },
  {
   "cell_type": "code",
   "execution_count": null,
   "metadata": {},
   "outputs": [],
   "source": [
    "#imagery\n",
    "fname = 'WhiteIsland.tif'\n",
    "ds = gdal.Open(fname)\n",
    "data = ds.ReadAsArray()\n",
    "gt = ds.GetGeoTransform()\n",
    "proj = ds.GetProjection()\n",
    "inproj = osr.SpatialReference()\n",
    "inproj.ImportFromWkt(proj)\n",
    "#projcs = inproj.GetAuthorityCode('PROJCS') does not return projection as final line missing that is shown\n",
    "#in https://ocefpaf.github.io/python4oceanographers/blog/2015/03/02/geotiff/\n",
    "#hard code epsg code\n",
    "projection = ccrs.epsg('2193') #for NZTM\n",
    "#projection = ccrs.PlateCarree() #for WGS84\n",
    "\n",
    "#plot map\n",
    "subplot_kw = dict(projection=projection)\n",
    "fig,ax = plt.subplots(subplot_kw=subplot_kw, dpi=200)\n",
    "extent = (gt[0], gt[0] + ds.RasterXSize * gt[1], gt[3] + ds.RasterYSize * gt[5], gt[3])\n",
    "img = ax.imshow(data[:3, :, :].transpose((1, 2, 0)), extent=extent, origin='upper')\n",
    "\n",
    "#observations as coloured points\n",
    "plt.scatter(df['lon'], df['lat'], c='red', s=100, marker='o', linewidth=0, transform=ccrs.Geodetic())\n",
    "\n",
    "#value labels inside symbols\n",
    "geodetic_transform = ccrs.Geodetic()._as_mpl_transform(ax)\n",
    "text_transform = offset_copy(geodetic_transform, units='dots', x=0, y=0)\n",
    "for value, x, y in zip(df['ID'], df['lon'], df['lat']):\n",
    "    plt.text(x, y, value, size=3, color='white', weight='bold', verticalalignment='center', horizontalalignment='center', transform=text_transform)\n",
    "\n",
    "#title\n",
    "plt.title('White Island Leveling Sites, siteID Numbers')\n",
    "\n",
    "#save\n",
    "plt.savefig('leveling_sites.png')"
   ]
  }
 ],
 "metadata": {
  "kernelspec": {
   "display_name": "Python 3",
   "language": "python",
   "name": "python3"
  },
  "language_info": {
   "codemirror_mode": {
    "name": "ipython",
    "version": 3
   },
   "file_extension": ".py",
   "mimetype": "text/x-python",
   "name": "python",
   "nbconvert_exporter": "python",
   "pygments_lexer": "ipython3",
   "version": "3.7.1"
  }
 },
 "nbformat": 4,
 "nbformat_minor": 2
}
