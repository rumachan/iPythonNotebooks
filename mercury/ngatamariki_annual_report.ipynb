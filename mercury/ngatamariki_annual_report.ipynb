{
 "cells": [
  {
   "cell_type": "markdown",
   "metadata": {},
   "source": [
    "# Ngatamariki Microseismicity Annual Report Data Plots, for Mercury Energy"
   ]
  },
  {
   "cell_type": "markdown",
   "metadata": {},
   "source": [
    "**Import modules, etc**"
   ]
  },
  {
   "cell_type": "code",
   "execution_count": 1,
   "metadata": {
    "collapsed": true
   },
   "outputs": [],
   "source": [
    "#import cartopy\n",
    "import cartopy.crs as ccrs\n",
    "import cartopy.io.img_tiles as cimgt\n",
    "from cartopy.io.img_tiles import OSM\n",
    "#from cartopy.io.img_tiles import StamenTerrain\n",
    "\n",
    "import pandas as pd\n",
    "import numpy as np\n",
    "import pyproj\n",
    "from math import floor\n",
    "\n",
    "import matplotlib as mpl\n",
    "import matplotlib.pyplot as plt\n",
    "from matplotlib.transforms import offset_copy\n",
    "from matplotlib import patheffects\n",
    "import matplotlib.gridspec as gridspec\n",
    "import warnings; warnings.simplefilter('ignore')\n",
    "\n",
    "%matplotlib inline"
   ]
  },
  {
   "cell_type": "code",
   "execution_count": 2,
   "metadata": {},
   "outputs": [
    {
     "data": {
      "text/html": [
       "<style>.container { width:100% !important; }</style>"
      ],
      "text/plain": [
       "<IPython.core.display.HTML object>"
      ]
     },
     "metadata": {},
     "output_type": "display_data"
    }
   ],
   "source": [
    "#full width notebook display\n",
    "from IPython.core.display import display, HTML\n",
    "display(HTML(\"<style>.container { width:100% !important; }</style>\"))"
   ]
  },
  {
   "cell_type": "markdown",
   "metadata": {},
   "source": [
    "## Functions"
   ]
  },
  {
   "cell_type": "markdown",
   "metadata": {},
   "source": [
    "**Array version of Haversine formula to calculate distance between two points**"
   ]
  },
  {
   "cell_type": "code",
   "execution_count": 3,
   "metadata": {
    "collapsed": true
   },
   "outputs": [],
   "source": [
    "def haversine_np(lon1, lat1, lon2, lat2):\n",
    "    \"\"\"\n",
    "    Calculate the great circle distance between two points\n",
    "    on the earth (specified in decimal degrees)\n",
    "\n",
    "    All args must be of equal length.    \n",
    "\n",
    "    \"\"\"\n",
    "    lon1, lat1, lon2, lat2 = map(np.radians, [lon1, lat1, lon2, lat2])\n",
    "\n",
    "    dlon = lon2 - lon1\n",
    "    dlat = lat2 - lat1\n",
    "\n",
    "    a = np.sin(dlat/2.0)**2 + np.cos(lat1) * np.cos(lat2) * np.sin(dlon/2.0)**2\n",
    "\n",
    "    c = 2 * np.arcsin(np.sqrt(a))\n",
    "    km = 6367 * c\n",
    "    return km"
   ]
  },
  {
   "cell_type": "markdown",
   "metadata": {},
   "source": [
    "**Plot distance scale (and north arrow) on plot. Reference in scale_bar function documentation**"
   ]
  },
  {
   "cell_type": "code",
   "execution_count": 4,
   "metadata": {
    "collapsed": true
   },
   "outputs": [],
   "source": [
    "def utm_from_lon(lon):\n",
    "    \"\"\"\n",
    "    utm_from_lon - UTM zone for a longitude\n",
    "\n",
    "    Not right for some polar regions (Norway, Svalbard, Antartica)\n",
    "\n",
    "    :param float lon: longitude\n",
    "    :return: UTM zone number\n",
    "    :rtype: int\n",
    "    \"\"\"\n",
    "    return floor( ( lon + 180 ) / 6) + 1\n",
    "\n",
    "def scale_bar(ax, proj, length, location=(0.5, 0.05), linewidth=3,\n",
    "              units='km', m_per_unit=1000):\n",
    "    \"\"\"\n",
    "\n",
    "    http://stackoverflow.com/a/35705477/1072212\n",
    "    ax is the axes to draw the scalebar on.\n",
    "    proj is the projection the axes are in\n",
    "    location is center of the scalebar in axis coordinates ie. 0.5 is the middle of the plot\n",
    "    length is the length of the scalebar in km.\n",
    "    linewidth is the thickness of the scalebar.\n",
    "    units is the name of the unit\n",
    "    m_per_unit is the number of meters in a unit\n",
    "    \"\"\"\n",
    "    # find lat/lon center to find best UTM zone\n",
    "    x0, x1, y0, y1 = ax.get_extent(proj.as_geodetic())\n",
    "    # Projection in metres\n",
    "    utm = ccrs.UTM(utm_from_lon((x0+x1)/2))\n",
    "    # Get the extent of the plotted area in coordinates in metres\n",
    "    x0, x1, y0, y1 = ax.get_extent(utm)\n",
    "    # Turn the specified scalebar location into coordinates in metres\n",
    "    sbcx, sbcy = x0 + (x1 - x0) * location[0], y0 + (y1 - y0) * location[1]\n",
    "    # Generate the x coordinate for the ends of the scalebar\n",
    "    bar_xs = [sbcx - length * m_per_unit/2, sbcx + length * m_per_unit/2]\n",
    "    # buffer for scalebar\n",
    "    buffer = [patheffects.withStroke(linewidth=5, foreground=\"w\")]\n",
    "    # Plot the scalebar with buffer\n",
    "    ax.plot(bar_xs, [sbcy, sbcy], transform=utm, color='k',\n",
    "        linewidth=linewidth, path_effects=buffer)\n",
    "    # buffer for text\n",
    "    buffer = [patheffects.withStroke(linewidth=3, foreground=\"w\")]\n",
    "    # Plot the scalebar label\n",
    "    t0 = ax.text(sbcx, sbcy, str(length) + ' ' + units, transform=utm,\n",
    "        horizontalalignment='center', verticalalignment='bottom',\n",
    "        path_effects=buffer, zorder=2)\n",
    "    left = x0+(x1-x0)*0.05\n",
    "    # Plot the N arrow\n",
    "    t1 = ax.text(left, sbcy, u'\\u25B2\\nN', transform=utm,\n",
    "        horizontalalignment='center', verticalalignment='bottom',\n",
    "        path_effects=buffer, zorder=2)\n",
    "    # Plot the scalebar without buffer, in case covered by text buffer\n",
    "    ax.plot(bar_xs, [sbcy, sbcy], transform=utm, color='k',\n",
    "        linewidth=linewidth, zorder=3)\n",
    "    \n",
    "# or to use m instead of km\n",
    "# scale_bar(ax, ccrs.Mercator(), 100000, m_per_unit=1, units='m')\n",
    "# or to use miles instead of km\n",
    "# scale_bar(ax, ccrs.Mercator(), 60, m_per_unit=1609.34, units='miles')\n",
    "\n",
    "#need specific font to show triangle for north arrow\n",
    "mpl.rc('font', family='DejaVu Sans')"
   ]
  },
  {
   "cell_type": "markdown",
   "metadata": {},
   "source": [
    "## Set Up Parameters"
   ]
  },
  {
   "cell_type": "markdown",
   "metadata": {},
   "source": [
    "**Plot area**"
   ]
  },
  {
   "cell_type": "code",
   "execution_count": 42,
   "metadata": {
    "collapsed": true
   },
   "outputs": [],
   "source": [
    "lonmin = 176.1470\n",
    "lonmax = 176.2429\n",
    "latmin = -38.5863\n",
    "latmax = -38.5096\n",
    "\n",
    "#northern map extents\n",
    "northlonmin = 176.1636\n",
    "northlonmax = 176.1937\n",
    "northlatmin = -38.5421\n",
    "northlatmax = -38.5252\n",
    "\n",
    "EDIT SOUTH\n",
    "\n",
    "#southern map extents\n",
    "southlonmin = 176.1636\n",
    "southlonmax = 176.1937\n",
    "sourthlatmin = -38.5421\n",
    "southlatmax = -38.5252"
   ]
  },
  {
   "cell_type": "markdown",
   "metadata": {},
   "source": [
    "**Times**"
   ]
  },
  {
   "cell_type": "code",
   "execution_count": 16,
   "metadata": {
    "collapsed": true
   },
   "outputs": [],
   "source": [
    "start = '2012-05-15T00:00:00'\n",
    "thisrpt = '2016-01-01T00:00:00'\n",
    "end = '2017-01-01T00:00:00'\n",
    "\n",
    "#previous report period\n",
    "lastrpt = '2015-01-01T00:00:00'\n",
    "lastend = '2016-01-01T00:00:00'\n",
    "\n",
    "#report period before that\n",
    "last2rpt = '2014-01-01T00:00:00'\n",
    "last2end = '2015-01-01T00:00:00'"
   ]
  },
  {
   "cell_type": "markdown",
   "metadata": {},
   "source": [
    "## Seismicity from Local Network"
   ]
  },
  {
   "cell_type": "markdown",
   "metadata": {},
   "source": [
    "**HypoDD hypocentres for rotnga, first event 2015-05-15**"
   ]
  },
  {
   "cell_type": "code",
   "execution_count": 7,
   "metadata": {
    "collapsed": true
   },
   "outputs": [],
   "source": [
    "#this file needs to be kept up to date as new data are processed\n",
    "hypdd = pd.read_csv('rotnga_hypodd_all.csv', usecols=[3,4,5,6,7,8], parse_dates={\"ot\" : ['YYYY-MM-DD','hh:mm:sec']}, index_col='ot')"
   ]
  },
  {
   "cell_type": "code",
   "execution_count": 8,
   "metadata": {},
   "outputs": [
    {
     "data": {
      "text/html": [
       "<div>\n",
       "<style>\n",
       "    .dataframe thead tr:only-child th {\n",
       "        text-align: right;\n",
       "    }\n",
       "\n",
       "    .dataframe thead th {\n",
       "        text-align: left;\n",
       "    }\n",
       "\n",
       "    .dataframe tbody tr th {\n",
       "        vertical-align: top;\n",
       "    }\n",
       "</style>\n",
       "<table border=\"1\" class=\"dataframe\">\n",
       "  <thead>\n",
       "    <tr style=\"text-align: right;\">\n",
       "      <th></th>\n",
       "      <th>latitude</th>\n",
       "      <th>longitude</th>\n",
       "      <th>z</th>\n",
       "      <th>ml</th>\n",
       "    </tr>\n",
       "    <tr>\n",
       "      <th>ot</th>\n",
       "      <th></th>\n",
       "      <th></th>\n",
       "      <th></th>\n",
       "      <th></th>\n",
       "    </tr>\n",
       "  </thead>\n",
       "  <tbody>\n",
       "    <tr>\n",
       "      <th>2012-05-15 05:28:23</th>\n",
       "      <td>-38.618091</td>\n",
       "      <td>176.208626</td>\n",
       "      <td>2.487</td>\n",
       "      <td>0.6</td>\n",
       "    </tr>\n",
       "    <tr>\n",
       "      <th>2012-05-15 00:25:36</th>\n",
       "      <td>-38.605111</td>\n",
       "      <td>176.201432</td>\n",
       "      <td>3.434</td>\n",
       "      <td>0.6</td>\n",
       "    </tr>\n",
       "    <tr>\n",
       "      <th>2012-05-16 05:39:38</th>\n",
       "      <td>-38.599679</td>\n",
       "      <td>176.207178</td>\n",
       "      <td>5.398</td>\n",
       "      <td>0.7</td>\n",
       "    </tr>\n",
       "    <tr>\n",
       "      <th>2012-05-17 07:40:40</th>\n",
       "      <td>-38.600179</td>\n",
       "      <td>176.206283</td>\n",
       "      <td>2.046</td>\n",
       "      <td>0.7</td>\n",
       "    </tr>\n",
       "    <tr>\n",
       "      <th>2012-05-23 00:29:54</th>\n",
       "      <td>-38.603007</td>\n",
       "      <td>176.204899</td>\n",
       "      <td>3.758</td>\n",
       "      <td>1.2</td>\n",
       "    </tr>\n",
       "  </tbody>\n",
       "</table>\n",
       "</div>"
      ],
      "text/plain": [
       "                      latitude   longitude      z   ml\n",
       "ot                                                    \n",
       "2012-05-15 05:28:23 -38.618091  176.208626  2.487  0.6\n",
       "2012-05-15 00:25:36 -38.605111  176.201432  3.434  0.6\n",
       "2012-05-16 05:39:38 -38.599679  176.207178  5.398  0.7\n",
       "2012-05-17 07:40:40 -38.600179  176.206283  2.046  0.7\n",
       "2012-05-23 00:29:54 -38.603007  176.204899  3.758  1.2"
      ]
     },
     "execution_count": 8,
     "metadata": {},
     "output_type": "execute_result"
    }
   ],
   "source": [
    "hypdd.head()"
   ]
  },
  {
   "cell_type": "code",
   "execution_count": 9,
   "metadata": {},
   "outputs": [
    {
     "data": {
      "text/plain": [
       "4560"
      ]
     },
     "execution_count": 9,
     "metadata": {},
     "output_type": "execute_result"
    }
   ],
   "source": [
    "len(hypdd)"
   ]
  },
  {
   "cell_type": "markdown",
   "metadata": {},
   "source": [
    "**Filter for plotting area**"
   ]
  },
  {
   "cell_type": "code",
   "execution_count": 11,
   "metadata": {
    "collapsed": true
   },
   "outputs": [],
   "source": [
    "#filter hypocentres to plot area, to just get ngatamariki\n",
    "hypdd = hypdd[(hypdd['longitude']>lonmin)&(hypdd['longitude']<lonmax)&(hypdd['latitude']>latmin)&(hypdd['latitude']<latmax)]"
   ]
  },
  {
   "cell_type": "code",
   "execution_count": 12,
   "metadata": {},
   "outputs": [
    {
     "data": {
      "text/plain": [
       "1314"
      ]
     },
     "execution_count": 12,
     "metadata": {},
     "output_type": "execute_result"
    }
   ],
   "source": [
    "len(hypdd)"
   ]
  },
  {
   "cell_type": "code",
   "execution_count": 17,
   "metadata": {
    "collapsed": true
   },
   "outputs": [],
   "source": [
    "#filter hypocentres for reporting period, to get rotokawa for just reporting period\n",
    "hyprpt = hypdd[(hypdd.index>thisrpt)&(hypdd.index<end)]"
   ]
  },
  {
   "cell_type": "code",
   "execution_count": 18,
   "metadata": {
    "scrolled": true
   },
   "outputs": [
    {
     "data": {
      "text/html": [
       "<div>\n",
       "<style>\n",
       "    .dataframe thead tr:only-child th {\n",
       "        text-align: right;\n",
       "    }\n",
       "\n",
       "    .dataframe thead th {\n",
       "        text-align: left;\n",
       "    }\n",
       "\n",
       "    .dataframe tbody tr th {\n",
       "        vertical-align: top;\n",
       "    }\n",
       "</style>\n",
       "<table border=\"1\" class=\"dataframe\">\n",
       "  <thead>\n",
       "    <tr style=\"text-align: right;\">\n",
       "      <th></th>\n",
       "      <th>latitude</th>\n",
       "      <th>longitude</th>\n",
       "      <th>z</th>\n",
       "      <th>ml</th>\n",
       "    </tr>\n",
       "    <tr>\n",
       "      <th>ot</th>\n",
       "      <th></th>\n",
       "      <th></th>\n",
       "      <th></th>\n",
       "      <th></th>\n",
       "    </tr>\n",
       "  </thead>\n",
       "  <tbody>\n",
       "    <tr>\n",
       "      <th>2016-01-03 21:10:36</th>\n",
       "      <td>-38.538131</td>\n",
       "      <td>176.180143</td>\n",
       "      <td>1.408</td>\n",
       "      <td>0.9</td>\n",
       "    </tr>\n",
       "    <tr>\n",
       "      <th>2016-01-06 00:19:44</th>\n",
       "      <td>-38.535933</td>\n",
       "      <td>176.185010</td>\n",
       "      <td>3.672</td>\n",
       "      <td>0.6</td>\n",
       "    </tr>\n",
       "    <tr>\n",
       "      <th>2016-01-06 07:43:40</th>\n",
       "      <td>-38.563688</td>\n",
       "      <td>176.193587</td>\n",
       "      <td>3.308</td>\n",
       "      <td>0.8</td>\n",
       "    </tr>\n",
       "    <tr>\n",
       "      <th>2016-01-06 11:11:04</th>\n",
       "      <td>-38.534880</td>\n",
       "      <td>176.182926</td>\n",
       "      <td>2.310</td>\n",
       "      <td>1.2</td>\n",
       "    </tr>\n",
       "    <tr>\n",
       "      <th>2016-01-06 11:41:28</th>\n",
       "      <td>-38.535303</td>\n",
       "      <td>176.182503</td>\n",
       "      <td>2.258</td>\n",
       "      <td>1.2</td>\n",
       "    </tr>\n",
       "  </tbody>\n",
       "</table>\n",
       "</div>"
      ],
      "text/plain": [
       "                      latitude   longitude      z   ml\n",
       "ot                                                    \n",
       "2016-01-03 21:10:36 -38.538131  176.180143  1.408  0.9\n",
       "2016-01-06 00:19:44 -38.535933  176.185010  3.672  0.6\n",
       "2016-01-06 07:43:40 -38.563688  176.193587  3.308  0.8\n",
       "2016-01-06 11:11:04 -38.534880  176.182926  2.310  1.2\n",
       "2016-01-06 11:41:28 -38.535303  176.182503  2.258  1.2"
      ]
     },
     "execution_count": 18,
     "metadata": {},
     "output_type": "execute_result"
    }
   ],
   "source": [
    "hyprpt.head()"
   ]
  },
  {
   "cell_type": "code",
   "execution_count": 19,
   "metadata": {},
   "outputs": [
    {
     "data": {
      "text/plain": [
       "265"
      ]
     },
     "execution_count": 19,
     "metadata": {},
     "output_type": "execute_result"
    }
   ],
   "source": [
    "len(hyprpt)"
   ]
  },
  {
   "cell_type": "code",
   "execution_count": 20,
   "metadata": {},
   "outputs": [
    {
     "data": {
      "text/plain": [
       "count    265.000000\n",
       "mean       1.112075\n",
       "std        0.312985\n",
       "min        0.400000\n",
       "25%        0.900000\n",
       "50%        1.100000\n",
       "75%        1.200000\n",
       "max        2.600000\n",
       "Name: ml, dtype: float64"
      ]
     },
     "execution_count": 20,
     "metadata": {},
     "output_type": "execute_result"
    }
   ],
   "source": [
    "hyprpt['ml'].describe()"
   ]
  },
  {
   "cell_type": "code",
   "execution_count": 23,
   "metadata": {
    "scrolled": true
   },
   "outputs": [
    {
     "data": {
      "text/html": [
       "<div>\n",
       "<style>\n",
       "    .dataframe thead tr:only-child th {\n",
       "        text-align: right;\n",
       "    }\n",
       "\n",
       "    .dataframe thead th {\n",
       "        text-align: left;\n",
       "    }\n",
       "\n",
       "    .dataframe tbody tr th {\n",
       "        vertical-align: top;\n",
       "    }\n",
       "</style>\n",
       "<table border=\"1\" class=\"dataframe\">\n",
       "  <thead>\n",
       "    <tr style=\"text-align: right;\">\n",
       "      <th></th>\n",
       "      <th>latitude</th>\n",
       "      <th>longitude</th>\n",
       "      <th>z</th>\n",
       "      <th>ml</th>\n",
       "    </tr>\n",
       "    <tr>\n",
       "      <th>ot</th>\n",
       "      <th></th>\n",
       "      <th></th>\n",
       "      <th></th>\n",
       "      <th></th>\n",
       "    </tr>\n",
       "  </thead>\n",
       "  <tbody>\n",
       "  </tbody>\n",
       "</table>\n",
       "</div>"
      ],
      "text/plain": [
       "Empty DataFrame\n",
       "Columns: [latitude, longitude, z, ml]\n",
       "Index: []"
      ]
     },
     "execution_count": 23,
     "metadata": {},
     "output_type": "execute_result"
    }
   ],
   "source": [
    "hyprpt[hyprpt['ml']>=3]"
   ]
  },
  {
   "cell_type": "code",
   "execution_count": 24,
   "metadata": {},
   "outputs": [
    {
     "data": {
      "text/html": [
       "<div>\n",
       "<style>\n",
       "    .dataframe thead tr:only-child th {\n",
       "        text-align: right;\n",
       "    }\n",
       "\n",
       "    .dataframe thead th {\n",
       "        text-align: left;\n",
       "    }\n",
       "\n",
       "    .dataframe tbody tr th {\n",
       "        vertical-align: top;\n",
       "    }\n",
       "</style>\n",
       "<table border=\"1\" class=\"dataframe\">\n",
       "  <thead>\n",
       "    <tr style=\"text-align: right;\">\n",
       "      <th></th>\n",
       "      <th>latitude</th>\n",
       "      <th>longitude</th>\n",
       "      <th>z</th>\n",
       "      <th>ml</th>\n",
       "    </tr>\n",
       "    <tr>\n",
       "      <th>ot</th>\n",
       "      <th></th>\n",
       "      <th></th>\n",
       "      <th></th>\n",
       "      <th></th>\n",
       "    </tr>\n",
       "  </thead>\n",
       "  <tbody>\n",
       "    <tr>\n",
       "      <th>2016-01-18 04:03:57</th>\n",
       "      <td>-38.574211</td>\n",
       "      <td>176.207780</td>\n",
       "      <td>3.298</td>\n",
       "      <td>2.6</td>\n",
       "    </tr>\n",
       "    <tr>\n",
       "      <th>2016-01-18 04:05:31</th>\n",
       "      <td>-38.575435</td>\n",
       "      <td>176.208643</td>\n",
       "      <td>2.942</td>\n",
       "      <td>2.1</td>\n",
       "    </tr>\n",
       "    <tr>\n",
       "      <th>2016-04-02 01:01:08</th>\n",
       "      <td>-38.536812</td>\n",
       "      <td>176.175391</td>\n",
       "      <td>1.639</td>\n",
       "      <td>2.6</td>\n",
       "    </tr>\n",
       "    <tr>\n",
       "      <th>2016-06-26 02:33:14</th>\n",
       "      <td>-38.534538</td>\n",
       "      <td>176.175000</td>\n",
       "      <td>2.433</td>\n",
       "      <td>2.2</td>\n",
       "    </tr>\n",
       "    <tr>\n",
       "      <th>2016-09-20 03:54:01</th>\n",
       "      <td>-38.536369</td>\n",
       "      <td>176.169824</td>\n",
       "      <td>2.091</td>\n",
       "      <td>2.2</td>\n",
       "    </tr>\n",
       "    <tr>\n",
       "      <th>2016-11-13 12:06:48</th>\n",
       "      <td>-38.573641</td>\n",
       "      <td>176.197852</td>\n",
       "      <td>3.405</td>\n",
       "      <td>2.0</td>\n",
       "    </tr>\n",
       "  </tbody>\n",
       "</table>\n",
       "</div>"
      ],
      "text/plain": [
       "                      latitude   longitude      z   ml\n",
       "ot                                                    \n",
       "2016-01-18 04:03:57 -38.574211  176.207780  3.298  2.6\n",
       "2016-01-18 04:05:31 -38.575435  176.208643  2.942  2.1\n",
       "2016-04-02 01:01:08 -38.536812  176.175391  1.639  2.6\n",
       "2016-06-26 02:33:14 -38.534538  176.175000  2.433  2.2\n",
       "2016-09-20 03:54:01 -38.536369  176.169824  2.091  2.2\n",
       "2016-11-13 12:06:48 -38.573641  176.197852  3.405  2.0"
      ]
     },
     "execution_count": 24,
     "metadata": {},
     "output_type": "execute_result"
    }
   ],
   "source": [
    "hyprpt[hyprpt['ml']>=2]"
   ]
  },
  {
   "cell_type": "markdown",
   "metadata": {},
   "source": [
    "**Plot hypocentres on Open Street Map basemap**"
   ]
  },
  {
   "cell_type": "code",
   "execution_count": 38,
   "metadata": {},
   "outputs": [
    {
     "data": {
      "image/png": "[encoded data removed]",
      "text/plain": [
       "<matplotlib.figure.Figure at 0x7fda2415a490>"
      ]
     },
     "metadata": {},
     "output_type": "display_data"
    }
   ],
   "source": [
    "#imagery\n",
    "imagery = OSM()\n",
    "ax = plt.axes(projection=imagery.crs)\n",
    "ax.set_extent([lonmin, lonmax, latmin, latmax])\n",
    "#ax.add_image(imagery, 15)\n",
    "ax.add_image(imagery, 13)\n",
    "#ax.gridlines()\n",
    "\n",
    "#hypocentres, symbol size=magnitude squared, as scatter symbol size is symbol area, square gives 'pleasing' image\n",
    "plt.scatter(hyprpt['longitude'], hyprpt['latitude'], color='red', marker='o', s=hyprpt['ml']**2, transform=ccrs.Geodetic())\n",
    "\n",
    "#plot wells\n",
    "names = ['lon', 'lat', 'name']\n",
    "wells = pd.read_csv('wells.dat', sep='\\s+', names=names)\n",
    "plt.scatter(wells['lon'], wells['lat'], color='black', marker='s', s=5, transform=ccrs.Geodetic())\n",
    "#transform coordinate system so can plot text below symbol\n",
    "geodetic_transform = ccrs.Geodetic()._as_mpl_transform(ax)\n",
    "text_transform = offset_copy(geodetic_transform, units='dots', y=-15)\n",
    "#plot text labels\n",
    "for index, row in wells.iterrows():\n",
    "    plt.text(row['lon'], row['lat'], row['name'], verticalalignment='top', horizontalalignment='center', transform=text_transform, fontsize=4)\n",
    "#section line\n",
    "plt.plot([176.1742,176.2024], [-38.5260,-38.5730], color='black', linestyle='--', marker='None', transform=ccrs.Geodetic())\n",
    "\n",
    "scale_bar(ax, ccrs.Mercator(), 1)\n",
    "\n",
    "plt.savefig('mercury_thisreport_map.png', dpi=400)"
   ]
  },
  {
   "cell_type": "markdown",
   "metadata": {},
   "source": [
    "**Plot northern area**"
   ]
  },
  {
   "cell_type": "code",
   "execution_count": 48,
   "metadata": {
    "scrolled": true
   },
   "outputs": [
    {
     "data": {
      "image/png": "[encoded data removed]",
      "text/plain": [
       "<matplotlib.figure.Figure at 0x7fda22573e10>"
      ]
     },
     "metadata": {},
     "output_type": "display_data"
    }
   ],
   "source": [
    "#imagery\n",
    "imagery = OSM()\n",
    "ax = plt.axes(projection=imagery.crs)\n",
    "ax.set_extent([northlonmin, northlonmax, northlatmin, northlatmax])\n",
    "#ax.add_image(imagery, 15)\n",
    "ax.add_image(imagery, 13)\n",
    "\n",
    "#hypocentres, symbol size=magnitude squared, as scatter symbol size is symbol area, square gives 'pleasing' image\n",
    "plt.scatter(hyprpt['longitude'], hyprpt['latitude'], color='red', marker='o', s=hyprpt['ml']**2, transform=ccrs.Geodetic())\n",
    "\n",
    "#plot wells\n",
    "names = ['lon', 'lat', 'name']\n",
    "wells = pd.read_csv('wellsnorth.dat', sep='\\s+', names=names)\n",
    "plt.scatter(wells['lon'], wells['lat'], color='black', marker='s', s=5, transform=ccrs.Geodetic())\n",
    "#transform coordinate system so can plot text below symbol\n",
    "geodetic_transform = ccrs.Geodetic()._as_mpl_transform(ax)\n",
    "text_transform = offset_copy(geodetic_transform, units='dots', y=-15)\n",
    "#plot text labels\n",
    "for index, row in wells.iterrows():\n",
    "    plt.text(row['lon'], row['lat'], row['name'], verticalalignment='top', horizontalalignment='center', transform=text_transform, fontsize=4)\n",
    "\n",
    "scale_bar(ax, ccrs.Mercator(), 1)\n",
    "\n",
    "plt.savefig('mercury_thisreport_map_north.png', dpi=400)"
   ]
  },
  {
   "cell_type": "markdown",
   "metadata": {},
   "source": [
    "**Plot southern area**"
   ]
  },
  {
   "cell_type": "code",
   "execution_count": 48,
   "metadata": {},
   "outputs": [
    {
     "data": {
      "image/png": "[encoded data removed]",
      "text/plain": [
       "<matplotlib.figure.Figure at 0x7fda22573e10>"
      ]
     },
     "metadata": {},
     "output_type": "display_data"
    }
   ],
   "source": [
    "#imagery\n",
    "imagery = OSM()\n",
    "ax = plt.axes(projection=imagery.crs)\n",
    "ax.set_extent([northlonmin, northlonmax, northlatmin, northlatmax])\n",
    "#ax.add_image(imagery, 15)\n",
    "ax.add_image(imagery, 13)\n",
    "\n",
    "#hypocentres, symbol size=magnitude squared, as scatter symbol size is symbol area, square gives 'pleasing' image\n",
    "plt.scatter(hyprpt['longitude'], hyprpt['latitude'], color='red', marker='o', s=hyprpt['ml']**2, transform=ccrs.Geodetic())\n",
    "\n",
    "#plot wells\n",
    "names = ['lon', 'lat', 'name']\n",
    "wells = pd.read_csv('wellsnorth.dat', sep='\\s+', names=names)\n",
    "plt.scatter(wells['lon'], wells['lat'], color='black', marker='s', s=5, transform=ccrs.Geodetic())\n",
    "#transform coordinate system so can plot text below symbol\n",
    "geodetic_transform = ccrs.Geodetic()._as_mpl_transform(ax)\n",
    "text_transform = offset_copy(geodetic_transform, units='dots', y=-15)\n",
    "#plot text labels\n",
    "for index, row in wells.iterrows():\n",
    "    plt.text(row['lon'], row['lat'], row['name'], verticalalignment='top', horizontalalignment='center', transform=text_transform, fontsize=4)\n",
    "\n",
    "scale_bar(ax, ccrs.Mercator(), 1)\n",
    "\n",
    "plt.savefig('mercury_thisreport_map_north.png', dpi=400)"
   ]
  },
  {
   "cell_type": "markdown",
   "metadata": {},
   "source": [
    "**Wells**"
   ]
  },
  {
   "cell_type": "code",
   "execution_count": 40,
   "metadata": {},
   "outputs": [
    {
     "data": {
      "text/html": [
       "<div>\n",
       "<style>\n",
       "    .dataframe thead tr:only-child th {\n",
       "        text-align: right;\n",
       "    }\n",
       "\n",
       "    .dataframe thead th {\n",
       "        text-align: left;\n",
       "    }\n",
       "\n",
       "    .dataframe tbody tr th {\n",
       "        vertical-align: top;\n",
       "    }\n",
       "</style>\n",
       "<table border=\"1\" class=\"dataframe\">\n",
       "  <thead>\n",
       "    <tr style=\"text-align: right;\">\n",
       "      <th></th>\n",
       "      <th>lon</th>\n",
       "      <th>lat</th>\n",
       "      <th>name</th>\n",
       "    </tr>\n",
       "  </thead>\n",
       "  <tbody>\n",
       "    <tr>\n",
       "      <th>0</th>\n",
       "      <td>176.196500</td>\n",
       "      <td>-38.567700</td>\n",
       "      <td>NM10</td>\n",
       "    </tr>\n",
       "    <tr>\n",
       "      <th>1</th>\n",
       "      <td>176.183760</td>\n",
       "      <td>-38.555403</td>\n",
       "      <td>NM12</td>\n",
       "    </tr>\n",
       "    <tr>\n",
       "      <th>2</th>\n",
       "      <td>176.184444</td>\n",
       "      <td>-38.538835</td>\n",
       "      <td>NM02</td>\n",
       "    </tr>\n",
       "    <tr>\n",
       "      <th>3</th>\n",
       "      <td>176.178131</td>\n",
       "      <td>-38.547050</td>\n",
       "      <td>NM03</td>\n",
       "    </tr>\n",
       "    <tr>\n",
       "      <th>4</th>\n",
       "      <td>176.179636</td>\n",
       "      <td>-38.528002</td>\n",
       "      <td>NM04</td>\n",
       "    </tr>\n",
       "    <tr>\n",
       "      <th>5</th>\n",
       "      <td>176.194408</td>\n",
       "      <td>-38.557069</td>\n",
       "      <td>NM05</td>\n",
       "    </tr>\n",
       "    <tr>\n",
       "      <th>6</th>\n",
       "      <td>176.190712</td>\n",
       "      <td>-38.547030</td>\n",
       "      <td>NM07</td>\n",
       "    </tr>\n",
       "    <tr>\n",
       "      <th>7</th>\n",
       "      <td>176.177982</td>\n",
       "      <td>-38.534617</td>\n",
       "      <td>NM08</td>\n",
       "    </tr>\n",
       "  </tbody>\n",
       "</table>\n",
       "</div>"
      ],
      "text/plain": [
       "          lon        lat  name\n",
       "0  176.196500 -38.567700  NM10\n",
       "1  176.183760 -38.555403  NM12\n",
       "2  176.184444 -38.538835  NM02\n",
       "3  176.178131 -38.547050  NM03\n",
       "4  176.179636 -38.528002  NM04\n",
       "5  176.194408 -38.557069  NM05\n",
       "6  176.190712 -38.547030  NM07\n",
       "7  176.177982 -38.534617  NM08"
      ]
     },
     "execution_count": 40,
     "metadata": {},
     "output_type": "execute_result"
    }
   ],
   "source": [
    "#wells for plotting\n",
    "names = ['lon', 'lat', 'name']\n",
    "wells = pd.read_csv('wells.dat', sep='\\s+', names=names)\n",
    "wells"
   ]
  },
  {
   "cell_type": "markdown",
   "metadata": {},
   "source": [
    "**Cross-section**"
   ]
  },
  {
   "cell_type": "code",
   "execution_count": null,
   "metadata": {
    "collapsed": true
   },
   "outputs": [],
   "source": [
    "#export data\n",
    "hyprpt.to_csv('section.csv', header=False)\n",
    "\n",
    "#run external program, temporary solution\n",
    "!section.csh"
   ]
  },
  {
   "cell_type": "code",
   "execution_count": null,
   "metadata": {
    "collapsed": true
   },
   "outputs": [],
   "source": [
    "#read output of external program\n",
    "names=['p', 'q', 'z', 'ml']\n",
    "seceqs = pd.read_csv('section.dat', sep='\\s+', names=names)\n",
    "#pq nomerclature is that used by GMT project command http://gmt.soest.hawaii.edu/doc/5.4.2/project.html"
   ]
  },
  {
   "cell_type": "code",
   "execution_count": null,
   "metadata": {
    "collapsed": true
   },
   "outputs": [],
   "source": [
    "seceqs.head()"
   ]
  },
  {
   "cell_type": "code",
   "execution_count": null,
   "metadata": {
    "collapsed": true
   },
   "outputs": [],
   "source": [
    "#read well data (pre-projected)\n",
    "names=['p', 'q', 'z']\n",
    "well04 = pd.read_csv('well_section_04.dat', sep='\\s+', names=names)\n",
    "well05 = pd.read_csv('well_section_05.dat', sep='\\s+', names=names)\n",
    "well06 = pd.read_csv('well_section_06.dat', sep='\\s+', names=names)\n",
    "well20 = pd.read_csv('well_section_20.dat', sep='\\s+', names=names)"
   ]
  },
  {
   "cell_type": "code",
   "execution_count": null,
   "metadata": {
    "collapsed": true
   },
   "outputs": [],
   "source": [
    "well04.head()"
   ]
  },
  {
   "cell_type": "code",
   "execution_count": null,
   "metadata": {
    "collapsed": true
   },
   "outputs": [],
   "source": [
    "#size scaled to give 1:1 ratio\n",
    "fig = plt.figure(figsize=(4.48,6.3))\n",
    "\n",
    "#earthquakes\n",
    "plt.scatter(x=seceqs['p'], y=seceqs['z'], s=2*seceqs['ml']**2, color='black', marker='o', linewidth=0.3)\n",
    "# wells\n",
    "plt.plot(well04['p'], well04['z'], color='red')\n",
    "plt.plot(well05['p'], well05['z'], color='red')\n",
    "plt.plot(well06['p'], well06['z'], color='red')\n",
    "plt.plot(well20['p'], well20['z'], color='red')\n",
    "#well labels\n",
    "plt.text(1.05, 0.1, 'RK04', verticalalignment='bottom', horizontalalignment='left', rotation='vertical', fontsize=8)\n",
    "plt.text(-0.18, 0.1, 'RK05', verticalalignment='bottom', horizontalalignment='left', rotation='vertical', fontsize=8)\n",
    "plt.text(-0.9, 0.1, 'RK06', verticalalignment='bottom', horizontalalignment='left', rotation='vertical', fontsize=8)\n",
    "plt.text(1.3, 0.1, 'RK20', verticalalignment='bottom', horizontalalignment='left', rotation='vertical', fontsize=8)\n",
    "#section orientations\n",
    "plt.text(-1.9, -0, 'NW', verticalalignment='bottom', horizontalalignment='left', fontsize=10)\n",
    "plt.text(2.4, -0, 'SE', verticalalignment='bottom', horizontalalignment='right', fontsize=10)\n",
    "\n",
    "plt.grid(b=True, which='major', color='b', linestyle='--', alpha=0.5)\n",
    "plt.xlim([-1.99,2.49])\n",
    "plt.ylim([-0.3,6])\n",
    "plt.ylabel('Depth (km)')\n",
    "plt.xlabel('Distance from RK05(km)')\n",
    "plt.gca().invert_yaxis()\n",
    "plt.tight_layout()\n",
    "\n",
    "plt.savefig('mercury_thisreport_section.png', dpi=200)"
   ]
  },
  {
   "cell_type": "markdown",
   "metadata": {},
   "source": [
    "**Magnitude-time - Reporting period only**"
   ]
  },
  {
   "cell_type": "code",
   "execution_count": null,
   "metadata": {
    "collapsed": true,
    "scrolled": true
   },
   "outputs": [],
   "source": [
    "#magnitude vs time\n",
    "ax = hyprpt.plot(y='ml', color='black', marker='o', linewidth=0.3, linestyle='None', legend=False, figsize=(15,5))\n",
    "ax.xaxis.grid()\n",
    "ax.yaxis.grid()\n",
    "\n",
    "ax.set_ylim([0,4.2])\n",
    "ax.set_ylabel('Magnitude')\n",
    "ax.tick_params(labelright = True)\n",
    "\n",
    "plt.tight_layout()\n",
    "plt.savefig('mercury_thisreport_time-series.png', dpi=200)"
   ]
  },
  {
   "cell_type": "markdown",
   "metadata": {},
   "source": [
    "**Magnitude-time and cumulative number - Complete period since 2008 & location within 5 km of reference point**"
   ]
  },
  {
   "cell_type": "code",
   "execution_count": null,
   "metadata": {
    "collapsed": true
   },
   "outputs": [],
   "source": [
    "#get hypodd and hyprot again, so am dealing with orginal data\n",
    "hypdd = pd.read_csv('rotnga_hypodd_all.csv', usecols=[3,4,5,6,7,8], parse_dates={\"ot\" : ['YYYY-MM-DD','hh:mm:sec']}, index_col='ot')\n",
    "names=['nzmg_e', 'nzmg_n', 'latitude', 'longitude', 'z', 'ml', 'date', 'time']\n",
    "hyprot = pd.read_csv('rotokawa_2008-2012-05-13.dat', usecols=[2,3,4,5,6,7], names=names, sep='\\s+', parse_dates={\"ot\" : ['date','time']}, index_col='ot')\n",
    "#append to get complete time-series\n",
    "hypall = hyprot.append(hypdd)"
   ]
  },
  {
   "cell_type": "code",
   "execution_count": null,
   "metadata": {
    "collapsed": true
   },
   "outputs": [],
   "source": [
    "#calculate distance from reference point\n",
    "hypall['dist'] = haversine_np(hypall['longitude'],hypall['latitude'],lonref,latref)\n",
    "len(hypall)"
   ]
  },
  {
   "cell_type": "code",
   "execution_count": null,
   "metadata": {
    "collapsed": true
   },
   "outputs": [],
   "source": [
    "#distance within 5 km\n",
    "hypall = hypall[hypall['dist']<=5]"
   ]
  },
  {
   "cell_type": "code",
   "execution_count": null,
   "metadata": {
    "collapsed": true
   },
   "outputs": [],
   "source": [
    "len(hypall)"
   ]
  },
  {
   "cell_type": "code",
   "execution_count": null,
   "metadata": {
    "collapsed": true
   },
   "outputs": [],
   "source": [
    "#eqs m>=0.8, magnitude of completeness in published study (2008-2012)\n",
    "hypcmp = hypall[hypall['ml']>=0.8]\n",
    "#make a column containing event number (should be a better way of doing this)\n",
    "hypcmp.reset_index(inplace=True)\n",
    "hypcmp['evnum'] = hypcmp.index+1\n",
    "hypcmp.set_index('ot', inplace=True, drop=True)"
   ]
  },
  {
   "cell_type": "code",
   "execution_count": null,
   "metadata": {
    "collapsed": true
   },
   "outputs": [],
   "source": [
    "hypcmp.head()"
   ]
  },
  {
   "cell_type": "code",
   "execution_count": null,
   "metadata": {
    "collapsed": true
   },
   "outputs": [],
   "source": [
    "fig, (ax1, ax2) = plt.subplots(nrows=2,ncols=1, sharex=True, figsize=(22,10))\n",
    "\n",
    "#distance vs time\n",
    "hypall.plot(y='ml', color='black', marker='o', linewidth=0.3, linestyle='None', legend=False, ax=ax1)\n",
    "\n",
    "#plot labels\n",
    "ax1.text('2008-09-01', 3.7, 'A', size=16)\n",
    "ax1.axvline(x='2010-02-01', color='blue', linestyle='--')\n",
    "ax1.text('2010-02-15', 4.0, 'Nga Awa Purua start', rotation='vertical', color='blue')\n",
    "\n",
    "ax1.xaxis.grid()\n",
    "ax1.yaxis.grid()\n",
    "ax1.set_ylim([0,4.2])\n",
    "ax1.set_ylabel('Magnitude')\n",
    "ax1.tick_params(labelright = True)\n",
    "\n",
    "#cumulative number vs time\n",
    "#make a column containing event number (should be a better way of doing this)\n",
    "hypall.reset_index(inplace=True)\n",
    "hypall['evnum'] = hypall.index+1\n",
    "nmax = hypall['evnum'].iloc[-1]\n",
    "hypall.set_index('ot', inplace=True, drop=True)\n",
    "\n",
    "#all eqs\n",
    "hypall.plot(y='evnum', color='black',ax=ax2, label='all events')\n",
    "ax2.set_ylim([0,nmax])\n",
    "\n",
    "#plot labels\n",
    "ax2.text('2009-06-01', 4000, 'B', size=16)\n",
    "ax2.axvline(x='2010-02-01', color='blue', linestyle='--')\n",
    "ax2.text('2010-02-15', 4800, 'Nga Awa Purua start', rotation='vertical', color='blue')\n",
    "\n",
    "#m>=0.8\n",
    "hypcmp.plot(y='evnum', color='red',ax=ax2, label='M>=0.8')\n",
    "ax2.xaxis.grid()\n",
    "ax2.yaxis.grid()\n",
    "ax2.set_ylabel('Cumulative number')\n",
    "\n",
    "#cumulative energy\n",
    "hypall['energy'] = pow(10,(1.44 * hypall['ml'] + 5.24))\n",
    "hypall['cumeng'] = hypall['energy'].cumsum()\n",
    "hypall['cumeng'] = 100 * hypall['cumeng'] / hypall['cumeng'].max()\n",
    "ax3= ax2.twinx()\n",
    "ax3.plot(hypall['cumeng'], color='blue', marker='None')\n",
    "ax3.tick_params(axis='y', colors='blue')\n",
    "ax3.set_ylabel('percent cumulative energy', color = 'blue')\n",
    "\n",
    "plt.tight_layout()\n",
    "plt.savefig('mercury_long-term_time-series.png', dpi=200)"
   ]
  },
  {
   "cell_type": "markdown",
   "metadata": {},
   "source": [
    "**Plot station map**"
   ]
  },
  {
   "cell_type": "markdown",
   "metadata": {},
   "source": [
    "**Seismographs**"
   ]
  },
  {
   "cell_type": "code",
   "execution_count": null,
   "metadata": {
    "collapsed": true
   },
   "outputs": [],
   "source": [
    "#rotokawa\n",
    "names = ['lon', 'lat', 'name', 'height']\n",
    "seis = pd.read_csv('seismograph_sites.dat', sep='\\s+', names=names)\n",
    "\n",
    "#ngatamariki\n",
    "names = ['name', 'lat', 'lon']\n",
    "seisng = pd.read_csv('seismograph_sites_ngatamariki.csv', names=names)"
   ]
  },
  {
   "cell_type": "code",
   "execution_count": null,
   "metadata": {
    "collapsed": true
   },
   "outputs": [],
   "source": [
    "seisng.head()"
   ]
  },
  {
   "cell_type": "markdown",
   "metadata": {},
   "source": [
    "**Station map plot area**"
   ]
  },
  {
   "cell_type": "code",
   "execution_count": null,
   "metadata": {
    "collapsed": true
   },
   "outputs": [],
   "source": [
    "slonmin = 176.15\n",
    "slonmax = 176.23\n",
    "slatmin = -38.66\n",
    "slatmax = -38.58"
   ]
  },
  {
   "cell_type": "code",
   "execution_count": null,
   "metadata": {
    "collapsed": true,
    "scrolled": true
   },
   "outputs": [],
   "source": [
    "#imagery\n",
    "imagery = OSM()\n",
    "ax = plt.axes(projection=imagery.crs)\n",
    "ax.set_extent([slonmin, slonmax, slatmin, slatmax])\n",
    "ax.add_image(imagery, 15)\n",
    "#ax.add_image(imagery, 10)\n",
    "#ax.gridlines()\n",
    "\n",
    "#seismographs rotokawa\n",
    "plt.plot(seis['lon'], seis['lat'], color='gray', markeredgewidth=0.0, linestyle='None', marker='^', markersize=5, transform=ccrs.Geodetic())\n",
    "#seismographs ngatamariki\n",
    "plt.plot(seisng['lon'], seisng['lat'], color='gray', markeredgewidth=0.0, linestyle='None', marker='^', markersize=5, transform=ccrs.Geodetic())\n",
    "#transform coordinate system so can plot text below symbol\n",
    "geodetic_transform = ccrs.Geodetic()._as_mpl_transform(ax)\n",
    "text_transform = offset_copy(geodetic_transform, units='dots', y=-40)\n",
    "#plot text labels\n",
    "for index, row in seis.iterrows():\n",
    "    plt.text(row['lon'], row['lat'], row['name'], verticalalignment='top', horizontalalignment='center', transform=text_transform, fontsize=4)\n",
    "\n",
    "#wells\n",
    "plt.plot(wells['lon'], wells['lat'], color='black', markeredgewidth=0.0, linestyle='None', marker='s', markersize=2, transform=ccrs.Geodetic())\n",
    "#plot text labels\n",
    "for index, row in wells.iterrows():\n",
    "    plt.text(row['lon'], row['lat'], row['name'], verticalalignment='top', horizontalalignment='center', transform=text_transform, fontsize=4)\n",
    "\n",
    "scale_bar(ax, ccrs.Mercator(), 1)\n",
    " \n",
    "plt.savefig('mercury_station_map.png', dpi=400)"
   ]
  },
  {
   "cell_type": "markdown",
   "metadata": {},
   "source": [
    "**Plot wide area station map, showing Ngatamariki and GeoNet**"
   ]
  },
  {
   "cell_type": "markdown",
   "metadata": {},
   "source": [
    "**GeoNet Seismographs**"
   ]
  },
  {
   "cell_type": "code",
   "execution_count": null,
   "metadata": {
    "collapsed": true
   },
   "outputs": [],
   "source": [
    "names = ['lon', 'lat', 'name']\n",
    "seisgn = pd.read_csv('geonet_sites.dat', sep='\\s+', names=names)"
   ]
  },
  {
   "cell_type": "code",
   "execution_count": null,
   "metadata": {
    "collapsed": true
   },
   "outputs": [],
   "source": [
    "seisgn.head()"
   ]
  },
  {
   "cell_type": "markdown",
   "metadata": {},
   "source": [
    "**Station map plot area**"
   ]
  },
  {
   "cell_type": "code",
   "execution_count": null,
   "metadata": {
    "collapsed": true
   },
   "outputs": [],
   "source": [
    "wlonmin = 175.95\n",
    "wlonmax = 176.43\n",
    "wlatmin = -38.73\n",
    "wlatmax = -38.45"
   ]
  },
  {
   "cell_type": "code",
   "execution_count": null,
   "metadata": {
    "collapsed": true
   },
   "outputs": [],
   "source": [
    "#imagery\n",
    "imagery = OSM()\n",
    "ax = plt.axes(projection=imagery.crs)\n",
    "ax.set_extent([wlonmin, wlonmax, wlatmin, wlatmax])\n",
    "#ax.add_image(imagery, 15)\n",
    "ax.add_image(imagery, 9)\n",
    "#ax.gridlines()\n",
    "\n",
    "#extents of detailed plot area\n",
    "boxlon = [lonmin, lonmin, lonmax, lonmax, lonmin]\n",
    "boxlat = [latmin, latmax, latmax, latmin, latmin]\n",
    "plt.plot(boxlon, boxlat, color='black', linestyle='-', marker='None', transform=ccrs.Geodetic())\n",
    "\n",
    "#seismographs rotokawa\n",
    "plt.plot(seis['lon'], seis['lat'], color='gray', markeredgewidth=0.2, linestyle='None', marker='^', markersize=3, transform=ccrs.Geodetic())\n",
    "#seismographs ngatamariki\n",
    "plt.plot(seisng['lon'], seisng['lat'], color='gray', markeredgewidth=0.0, linestyle='None', marker='o', markersize=3, transform=ccrs.Geodetic())\n",
    "#seismographs geonet\n",
    "plt.plot(seisgn['lon'], seisgn['lat'], color='black', markeredgewidth=0.0, linestyle='None', marker='o', markersize=4, transform=ccrs.Geodetic())\n",
    "\n",
    "#transform coordinate system so can plot text below symbol\n",
    "geodetic_transform = ccrs.Geodetic()._as_mpl_transform(ax)\n",
    "text_transform = offset_copy(geodetic_transform, units='dots', y=0, x=0)\n",
    "plt.text(176.200, -38.546, 'N', verticalalignment='center', horizontalalignment='center', transform=text_transform, fontsize=6)\n",
    "plt.text(176.200, -38.625, 'R', verticalalignment='center', horizontalalignment='center', transform=text_transform, fontsize=6)\n",
    "\n",
    "scale_bar(ax, ccrs.Mercator(), 5)\n",
    " \n",
    "plt.savefig('mercury_wide-station_map.png', dpi=400)"
   ]
  },
  {
   "cell_type": "markdown",
   "metadata": {},
   "source": [
    "## GeoNet seismicity"
   ]
  },
  {
   "cell_type": "code",
   "execution_count": null,
   "metadata": {
    "collapsed": true
   },
   "outputs": [],
   "source": [
    "#box for search area\n",
    "bbox = '176.0,-38.8,176.5,-38.3'\n",
    "maxdep = '20'\n",
    "\n",
    "url = 'http://quakesearch.geonet.org.nz/csv?bbox='+bbox+'&maxdepth='+maxdep+'&startdate='+start+'&enddate='+end"
   ]
  },
  {
   "cell_type": "code",
   "execution_count": null,
   "metadata": {
    "collapsed": true
   },
   "outputs": [],
   "source": [
    "eqs = pd.read_csv(url, parse_dates=['origintime'], index_col='origintime', usecols=[2,4,5,6,7])"
   ]
  },
  {
   "cell_type": "code",
   "execution_count": null,
   "metadata": {
    "collapsed": true
   },
   "outputs": [],
   "source": [
    "eqs.head()"
   ]
  },
  {
   "cell_type": "code",
   "execution_count": null,
   "metadata": {
    "collapsed": true
   },
   "outputs": [],
   "source": [
    "eqs['dist'] = haversine_np(eqs['longitude'],eqs[' latitude'],lonref,latref)"
   ]
  },
  {
   "cell_type": "code",
   "execution_count": null,
   "metadata": {
    "collapsed": true
   },
   "outputs": [],
   "source": [
    "eqs10 = eqs[eqs['dist']<10]"
   ]
  },
  {
   "cell_type": "code",
   "execution_count": null,
   "metadata": {
    "collapsed": true
   },
   "outputs": [],
   "source": [
    "eqs10['dist'].describe()"
   ]
  },
  {
   "cell_type": "code",
   "execution_count": null,
   "metadata": {
    "collapsed": true
   },
   "outputs": [],
   "source": [
    "eqs10.head()"
   ]
  },
  {
   "cell_type": "code",
   "execution_count": null,
   "metadata": {
    "collapsed": true
   },
   "outputs": [],
   "source": [
    "eqs10[eqs10[' magnitude']>=3]"
   ]
  },
  {
   "cell_type": "markdown",
   "metadata": {},
   "source": [
    "**Number of GeoNet earthquakes within 5 & 10 km during the report period**"
   ]
  },
  {
   "cell_type": "code",
   "execution_count": null,
   "metadata": {
    "collapsed": true
   },
   "outputs": [],
   "source": [
    "eqs[' magnitude'][(eqs['dist']<=10)&(eqs.index>=thisrpt)&(eqs.index<=end)].describe()"
   ]
  },
  {
   "cell_type": "code",
   "execution_count": null,
   "metadata": {
    "collapsed": true,
    "scrolled": true
   },
   "outputs": [],
   "source": [
    "eqs[' magnitude'][(eqs['dist']<=5)&(eqs.index>=thisrpt)&(eqs.index<=end)].describe()"
   ]
  },
  {
   "cell_type": "markdown",
   "metadata": {},
   "source": [
    "**And for the previous report period**"
   ]
  },
  {
   "cell_type": "code",
   "execution_count": null,
   "metadata": {
    "collapsed": true
   },
   "outputs": [],
   "source": [
    "eqs[' magnitude'][(eqs['dist']<=10)&(eqs.index>=lastrpt)&(eqs.index<=lastend)].describe()"
   ]
  },
  {
   "cell_type": "code",
   "execution_count": null,
   "metadata": {
    "collapsed": true,
    "scrolled": true
   },
   "outputs": [],
   "source": [
    "eqs[' magnitude'][(eqs['dist']<=5)&(eqs.index>=lastrpt)&(eqs.index<=lastend)].describe()"
   ]
  },
  {
   "cell_type": "markdown",
   "metadata": {},
   "source": [
    "**And the one before that**"
   ]
  },
  {
   "cell_type": "code",
   "execution_count": null,
   "metadata": {
    "collapsed": true
   },
   "outputs": [],
   "source": [
    "eqs[' magnitude'][(eqs['dist']<=10)&(eqs.index>=last2rpt)&(eqs.index<=last2end)].describe()"
   ]
  },
  {
   "cell_type": "code",
   "execution_count": null,
   "metadata": {
    "collapsed": true
   },
   "outputs": [],
   "source": [
    "eqs[' magnitude'][(eqs['dist']<=5)&(eqs.index>=last2rpt)&(eqs.index<=last2end)].describe()"
   ]
  },
  {
   "cell_type": "markdown",
   "metadata": {},
   "source": [
    "**Biggest events**"
   ]
  },
  {
   "cell_type": "code",
   "execution_count": null,
   "metadata": {
    "collapsed": true
   },
   "outputs": [],
   "source": [
    "eqs[eqs[' magnitude']>3.5]"
   ]
  },
  {
   "cell_type": "markdown",
   "metadata": {},
   "source": [
    "**Plots vs Time**"
   ]
  },
  {
   "cell_type": "code",
   "execution_count": null,
   "metadata": {
    "collapsed": true
   },
   "outputs": [],
   "source": [
    "fig, (ax1, ax2) = plt.subplots(nrows=2,ncols=1, sharex=True, figsize=(22,10))\n",
    "\n",
    "#distance vs time\n",
    "eqs10.plot(y='dist', marker='o', markersize=5, linestyle='None', color='black', legend=False, ax=ax1)\n",
    "\n",
    "#plot label A\n",
    "ax1.text('2004-03-01', 9, 'A', size=16)\n",
    "\n",
    "#yearly ticks and grid\n",
    "majorTick = mpl.dates.YearLocator(1)\n",
    "majorFormat = mpl.dates.DateFormatter('%Y')\n",
    "ax1.xaxis.set_major_locator(majorTick)\n",
    "ax1.xaxis.set_major_formatter(majorFormat)\n",
    "ax1.xaxis.grid()\n",
    "ax1.yaxis.grid()\n",
    "\n",
    "ax1.set_ylabel('Distance (km)')\n",
    "\n",
    "ax1.tick_params(labelright = True)\n",
    "\n",
    "#dashed line at dist=5 km\n",
    "ax1.axhline(y=5, color='blue', linestyle='--')\n",
    "\n",
    "#greyed areas\n",
    "ax1.axvspan('2005-05-09', '2005-06-30', alpha=0.2, color='gray', label='not used')\n",
    "ax1.axvspan('2006-04-04', '2006-08-06', alpha=0.2, color='gray')\n",
    "ax1.axvspan('2008-07-01', end, alpha=0.2, color='gray')\n",
    "\n",
    "#magnitude vs time\n",
    "eqs10.plot(y=' magnitude', marker='o', markersize=5, linestyle='None', color='black', legend=False, ax=ax2)\n",
    "\n",
    "#plot label 8\n",
    "ax2.text('2004-03-01', 3.7, 'B', size=16)\n",
    "\n",
    "#yearly ticks and grid\n",
    "ax2.xaxis.set_major_locator(majorTick)\n",
    "ax2.xaxis.set_major_formatter(majorFormat)\n",
    "ax2.xaxis.grid()\n",
    "ax2.yaxis.grid()\n",
    "\n",
    "ax2.set_ylim([0,4.2])\n",
    "ax2.set_ylabel('Magnitude')\n",
    "ax2.tick_params(labelright = True)\n",
    "\n",
    "#dashed line at magnitude=2, about felt threshold\n",
    "ax2.axhline(y=2, color='blue', linestyle='--')\n",
    "\n",
    "#greyed areas\n",
    "ax2.axvspan('2005-05-09', '2005-06-30', alpha=0.2, color='gray', label='not used')\n",
    "ax2.axvspan('2006-04-04', '2006-08-06', alpha=0.2, color='gray')\n",
    "ax2.axvspan('2008-07-01', end, alpha=0.2, color='gray')\n",
    "\n",
    "#indicate start of SC3\n",
    "ax2.axvline(x='2012-01-01', color='blue', linestyle='--')\n",
    "ax2.text('2012-01-05', 0.5, 'GeoNet SC3', color='blue')\n",
    "ax2.arrow('2012-01-05', 0.7, 100, 0, head_width=0.1, head_length=20, fc='blue', ec='blue')\n",
    "\n",
    "#indicate this report\n",
    "ax2.axvline(x=thisrpt, color='blue', linestyle='--')\n",
    "ax2.text(thisrpt, 0.5, 'this report', color='blue')\n",
    "ax2.arrow(thisrpt, 0.7, 100, 0, head_width=0.1, head_length=20, fc='blue', ec='blue')\n",
    "\n",
    "plt.tight_layout()\n",
    "plt.savefig('geonet_long-term_time-series.png', dpi=200)"
   ]
  }
 ],
 "metadata": {
  "kernelspec": {
   "display_name": "Python 2",
   "language": "python",
   "name": "python2"
  },
  "language_info": {
   "codemirror_mode": {
    "name": "ipython",
    "version": 2
   },
   "file_extension": ".py",
   "mimetype": "text/x-python",
   "name": "python",
   "nbconvert_exporter": "python",
   "pygments_lexer": "ipython2",
   "version": "2.7.12"
  }
 },
 "nbformat": 4,
 "nbformat_minor": 2
}
