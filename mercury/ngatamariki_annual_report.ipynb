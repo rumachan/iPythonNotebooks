{
 "cells": [
  {
   "cell_type": "markdown",
   "metadata": {},
   "source": [
    "# Ngatamariki Microseismicity Annual Report Data Plots, for Mercury Energy"
   ]
  },
  {
   "cell_type": "code",
   "execution_count": null,
   "metadata": {},
   "outputs": [],
   "source": [
    "%%javascript\n",
    "IPython.OutputArea.prototype._should_scroll = function(lines) {\n",
    "    return false;\n",
    "}"
   ]
  },
  {
   "cell_type": "markdown",
   "metadata": {},
   "source": [
    "**Import modules, etc**"
   ]
  },
  {
   "cell_type": "code",
   "execution_count": null,
   "metadata": {},
   "outputs": [],
   "source": [
    "#import cartopy\n",
    "import cartopy.crs as ccrs\n",
    "#import cartopy.io.img_tiles as cimgt\n",
    "from cartopy.io.img_tiles import OSM\n",
    "#from cartopy.io.img_tiles import StamenTerrain\n",
    "from cartopy.io.img_tiles import QuadtreeTiles\n",
    "\n",
    "import pandas as pd\n",
    "import numpy as np\n",
    "import pyproj\n",
    "from math import floor\n",
    "\n",
    "import matplotlib as mpl\n",
    "import matplotlib.pyplot as plt\n",
    "import matplotlib.lines as mlines\n",
    "from matplotlib.transforms import offset_copy\n",
    "from matplotlib import patheffects\n",
    "import matplotlib.gridspec as gridspec\n",
    "import warnings; warnings.simplefilter('ignore')\n",
    "\n",
    "%matplotlib inline"
   ]
  },
  {
   "cell_type": "markdown",
   "metadata": {},
   "source": [
    "**Full width notebook display**"
   ]
  },
  {
   "cell_type": "code",
   "execution_count": null,
   "metadata": {},
   "outputs": [],
   "source": [
    "#full width notebook display\n",
    "from IPython.core.display import display, HTML\n",
    "display(HTML(\"<style>.container { width:100% !important; }</style>\"))"
   ]
  },
  {
   "cell_type": "markdown",
   "metadata": {},
   "source": [
    "## Functions"
   ]
  },
  {
   "cell_type": "markdown",
   "metadata": {},
   "source": [
    "**Array version of Haversine formula to calculate distance between two points**"
   ]
  },
  {
   "cell_type": "code",
   "execution_count": null,
   "metadata": {},
   "outputs": [],
   "source": [
    "def haversine_np(lon1, lat1, lon2, lat2):\n",
    "    \"\"\"\n",
    "    Calculate the great circle distance between two points\n",
    "    on the earth (specified in decimal degrees)\n",
    "\n",
    "    All args must be of equal length.    \n",
    "\n",
    "    \"\"\"\n",
    "    lon1, lat1, lon2, lat2 = map(np.radians, [lon1, lat1, lon2, lat2])\n",
    "\n",
    "    dlon = lon2 - lon1\n",
    "    dlat = lat2 - lat1\n",
    "\n",
    "    a = np.sin(dlat/2.0)**2 + np.cos(lat1) * np.cos(lat2) * np.sin(dlon/2.0)**2\n",
    "\n",
    "    c = 2 * np.arcsin(np.sqrt(a))\n",
    "    km = 6367 * c\n",
    "    return km"
   ]
  },
  {
   "cell_type": "markdown",
   "metadata": {},
   "source": [
    "**Plot distance scale (and north arrow) on plot. Reference in scale_bar function documentation**"
   ]
  },
  {
   "cell_type": "code",
   "execution_count": null,
   "metadata": {},
   "outputs": [],
   "source": [
    "def utm_from_lon(lon):\n",
    "    \"\"\"\n",
    "    utm_from_lon - UTM zone for a longitude\n",
    "\n",
    "    Not right for some polar regions (Norway, Svalbard, Antartica)\n",
    "\n",
    "    :param float lon: longitude\n",
    "    :return: UTM zone number\n",
    "    :rtype: int\n",
    "    \"\"\"\n",
    "    return floor( ( lon + 180 ) / 6) + 1\n",
    "\n",
    "def scale_bar(ax, proj, length, location=(0.5, 0.05), linewidth=1.5,\n",
    "              units='km', m_per_unit=1000):\n",
    "    \"\"\"\n",
    "\n",
    "    http://stackoverflow.com/a/35705477/1072212\n",
    "    ax is the axes to draw the scalebar on.\n",
    "    proj is the projection the axes are in\n",
    "    location is center of the scalebar in axis coordinates ie. 0.5 is the middle of the plot\n",
    "    length is the length of the scalebar in km.\n",
    "    linewidth is the thickness of the scalebar.\n",
    "    units is the name of the unit\n",
    "    m_per_unit is the number of meters in a unit\n",
    "    \"\"\"\n",
    "    # find lat/lon center to find best UTM zone\n",
    "    x0, x1, y0, y1 = ax.get_extent(proj.as_geodetic())\n",
    "    # Projection in metres\n",
    "    utm = ccrs.UTM(utm_from_lon((x0+x1)/2))\n",
    "    # Get the extent of the plotted area in coordinates in metres\n",
    "    x0, x1, y0, y1 = ax.get_extent(utm)\n",
    "    # Turn the specified scalebar location into coordinates in metres\n",
    "    sbcx, sbcy = x0 + (x1 - x0) * location[0], y0 + (y1 - y0) * location[1]\n",
    "    # Generate the x coordinate for the ends of the scalebar\n",
    "    bar_xs = [sbcx - length * m_per_unit/2, sbcx + length * m_per_unit/2]\n",
    "    # buffer for scalebar\n",
    "    buffer = [patheffects.withStroke(linewidth=3, foreground=\"w\")]\n",
    "    # Plot the scalebar with buffer\n",
    "    ax.plot(bar_xs, [sbcy, sbcy], transform=utm, color='k',\n",
    "        linewidth=linewidth, path_effects=buffer)\n",
    "    # buffer for text\n",
    "    buffer = [patheffects.withStroke(linewidth=3, foreground=\"w\")]\n",
    "    # Plot the scalebar label\n",
    "    t0 = ax.text(sbcx, sbcy, str(length) + ' ' + units, transform=utm,\n",
    "        horizontalalignment='center', verticalalignment='bottom',\n",
    "        path_effects=buffer, zorder=2)\n",
    "    left = x0+(x1-x0)*0.05\n",
    "    # Plot the N arrow\n",
    "    t1 = ax.text(left, sbcy, u'\\u25B2\\nN', transform=utm,\n",
    "        horizontalalignment='center', verticalalignment='bottom',\n",
    "        path_effects=buffer, zorder=2)\n",
    "    # Plot the scalebar without buffer, in case covered by text buffer\n",
    "    ax.plot(bar_xs, [sbcy, sbcy], transform=utm, color='k',\n",
    "        linewidth=linewidth, zorder=3)\n",
    "    \n",
    "# or to use m instead of km\n",
    "# scale_bar(ax, ccrs.Mercator(), 100000, m_per_unit=1, units='m')\n",
    "# or to use miles instead of km\n",
    "# scale_bar(ax, ccrs.Mercator(), 60, m_per_unit=1609.34, units='miles')\n",
    "\n",
    "#need specific font to show triangle for north arrow\n",
    "mpl.rc('font', family='DejaVu Sans')"
   ]
  },
  {
   "cell_type": "markdown",
   "metadata": {},
   "source": [
    "## Set Up Parameters"
   ]
  },
  {
   "cell_type": "markdown",
   "metadata": {},
   "source": [
    "**Plot area**"
   ]
  },
  {
   "cell_type": "code",
   "execution_count": null,
   "metadata": {},
   "outputs": [],
   "source": [
    "lonmin = 176.147\n",
    "lonmax = 176.243\n",
    "latmin = -38.586\n",
    "latmax = -38.510\n",
    "\n",
    "#northern map extents\n",
    "northlonmin = 176.164\n",
    "northlonmax = 176.194\n",
    "northlatmin = -38.542\n",
    "northlatmax = -38.525\n",
    "\n",
    "#southern map extents\n",
    "southlonmin = 176.181\n",
    "southlonmax = 176.204\n",
    "southlatmin = -38.573\n",
    "southlatmax = -38.552"
   ]
  },
  {
   "cell_type": "markdown",
   "metadata": {},
   "source": [
    "**Times**"
   ]
  },
  {
   "cell_type": "code",
   "execution_count": null,
   "metadata": {},
   "outputs": [],
   "source": [
    "start = '2012-05-15T00:00:00'\n",
    "thisrpt = '2017-01-01T00:00:00'\n",
    "end = '2018-01-01T00:00:00'\n",
    "\n",
    "#previous report period\n",
    "lastrpt = '2016-01-01T00:00:00'\n",
    "lastend = '2017-01-01T00:00:00'\n",
    "\n",
    "#report period before that\n",
    "last2rpt = '2015-01-01T00:00:00'\n",
    "last2end = '2016-01-01T00:00:00'"
   ]
  },
  {
   "cell_type": "markdown",
   "metadata": {},
   "source": [
    "## Seismographs"
   ]
  },
  {
   "cell_type": "code",
   "execution_count": null,
   "metadata": {},
   "outputs": [],
   "source": [
    "#rotokawa\n",
    "names = ['lon', 'lat', 'name', 'height']\n",
    "seisrt = pd.read_csv('seismograph_sites_rotokawa.dat', sep='\\s+', names=names)\n",
    "\n",
    "#ngatamariki\n",
    "names = ['name', 'lat', 'lon']\n",
    "seisng = pd.read_csv('seismograph_sites_ngatamariki.csv', names=names)"
   ]
  },
  {
   "cell_type": "code",
   "execution_count": null,
   "metadata": {},
   "outputs": [],
   "source": [
    "seisng.head()"
   ]
  },
  {
   "cell_type": "code",
   "execution_count": null,
   "metadata": {},
   "outputs": [],
   "source": [
    "seisrt.head()"
   ]
  },
  {
   "cell_type": "markdown",
   "metadata": {},
   "source": [
    "**GeoNet Seismographs**"
   ]
  },
  {
   "cell_type": "code",
   "execution_count": null,
   "metadata": {},
   "outputs": [],
   "source": [
    "names = ['lon', 'lat', 'name']\n",
    "seisgn = pd.read_csv('geonet_sites.dat', sep='\\s+', names=names)"
   ]
  },
  {
   "cell_type": "code",
   "execution_count": null,
   "metadata": {},
   "outputs": [],
   "source": [
    "seisgn"
   ]
  },
  {
   "cell_type": "markdown",
   "metadata": {},
   "source": [
    "## Seismicity from Local Network"
   ]
  },
  {
   "cell_type": "markdown",
   "metadata": {},
   "source": [
    "**HypoDD hypocentres for rotnga, first event 2015-05-15**"
   ]
  },
  {
   "cell_type": "code",
   "execution_count": null,
   "metadata": {},
   "outputs": [],
   "source": [
    "#this file needs to be kept up to date as new data are processed\n",
    "hypdd = pd.read_csv('rotnga_hypodd_all.csv', usecols=[3,4,5,6,7,8], parse_dates={\"ot\" : ['YYYY-MM-DD','hh:mm:sec']}, index_col='ot')\n",
    "hypdd.sort_index(inplace=True)"
   ]
  },
  {
   "cell_type": "code",
   "execution_count": null,
   "metadata": {
    "scrolled": false
   },
   "outputs": [],
   "source": [
    "print (hypdd.head())\n",
    "print (hypdd.tail())"
   ]
  },
  {
   "cell_type": "code",
   "execution_count": null,
   "metadata": {},
   "outputs": [],
   "source": [
    "len(hypdd)"
   ]
  },
  {
   "cell_type": "markdown",
   "metadata": {},
   "source": [
    "**Filter for plotting area**"
   ]
  },
  {
   "cell_type": "code",
   "execution_count": null,
   "metadata": {},
   "outputs": [],
   "source": [
    "#filter hypocentres to plot area, to just get ngatamariki\n",
    "hypdd = hypdd[(hypdd['longitude']>lonmin)&(hypdd['longitude']<lonmax)&(hypdd['latitude']>latmin)&(hypdd['latitude']<latmax)]"
   ]
  },
  {
   "cell_type": "code",
   "execution_count": null,
   "metadata": {},
   "outputs": [],
   "source": [
    "len(hypdd)"
   ]
  },
  {
   "cell_type": "code",
   "execution_count": null,
   "metadata": {},
   "outputs": [],
   "source": [
    "#filter hypocentres for reporting period, to get ngatamariki for just reporting period\n",
    "hyprpt = hypdd[(hypdd.index>thisrpt)&(hypdd.index<end)]"
   ]
  },
  {
   "cell_type": "code",
   "execution_count": null,
   "metadata": {},
   "outputs": [],
   "source": [
    "len(hyprpt)"
   ]
  },
  {
   "cell_type": "code",
   "execution_count": null,
   "metadata": {},
   "outputs": [],
   "source": [
    "#unset ml shows as -9, which plots as M9 symbol, remove\n",
    "hyprpt = hyprpt[hyprpt['ml']>0]"
   ]
  },
  {
   "cell_type": "code",
   "execution_count": null,
   "metadata": {
    "scrolled": false
   },
   "outputs": [],
   "source": [
    "hyprpt['ml'].describe()"
   ]
  },
  {
   "cell_type": "code",
   "execution_count": null,
   "metadata": {
    "scrolled": true
   },
   "outputs": [],
   "source": [
    "hyprpt[hyprpt['ml']>=3]"
   ]
  },
  {
   "cell_type": "code",
   "execution_count": null,
   "metadata": {},
   "outputs": [],
   "source": [
    "hyprpt[hyprpt['ml']>=2]"
   ]
  },
  {
   "cell_type": "markdown",
   "metadata": {},
   "source": [
    "**Hypocentre dataframes by magnitude**"
   ]
  },
  {
   "cell_type": "code",
   "execution_count": null,
   "metadata": {},
   "outputs": [],
   "source": [
    "#m1\n",
    "hyprptm0 = hyprpt[hyprpt['ml']<1]\n",
    "#m1\n",
    "hyprptm1 = hyprpt[(hyprpt['ml']>=1)&(hyprpt['ml']<2)]\n",
    "#m2\n",
    "hyprptm2 = hyprpt[(hyprpt['ml']>=2)&(hyprpt['ml']<3)]\n",
    "#m3\n",
    "hyprptm3 = hyprpt[hyprpt['ml']>=3]"
   ]
  },
  {
   "cell_type": "markdown",
   "metadata": {},
   "source": [
    "**Plot hypocentres on Quadtree basemap, this is like GoogleEarth**"
   ]
  },
  {
   "cell_type": "code",
   "execution_count": null,
   "metadata": {},
   "outputs": [],
   "source": [
    "#imagery\n",
    "imagery = QuadtreeTiles()\n",
    "ax = plt.axes(projection=imagery.crs)\n",
    "ax.set_extent([lonmin, lonmax, latmin, latmax])\n",
    "ax.add_image(imagery, 14)\n",
    "#ax.gridlines()\n",
    "\n",
    "#hypocentres, symbol coloured is determined by magnitude, with a constant symbol size\n",
    "#plot in order of increasing magnitude so larger events plot on top\n",
    "plt.scatter(hyprptm0['longitude'], hyprptm0['latitude'], color='white', marker='o', s=2, transform=ccrs.Geodetic())\n",
    "plt.scatter(hyprptm1['longitude'], hyprptm1['latitude'], color='yellow', marker='o', s=2, transform=ccrs.Geodetic())\n",
    "#m2 and m3 may not exist\n",
    "if len(hyprptm2) != 0:\n",
    "    plt.scatter(hyprptm2['longitude'], hyprptm2['latitude'], color='darkorange', marker='o', s=2, transform=ccrs.Geodetic())\n",
    "if len(hyprptm3) != 0:\n",
    "    plt.scatter(hyprptm3['longitude'], hyprptm3['latitude'], color='red', marker='o', s=2, transform=ccrs.Geodetic())\n",
    "\n",
    "#plot wells\n",
    "names = ['lon', 'lat', 'name']\n",
    "wells = pd.read_csv('wells.dat', sep='\\s+', names=names)\n",
    "plt.scatter(wells['lon'], wells['lat'], color='black', marker='s', s=5, transform=ccrs.Geodetic())\n",
    "#transform coordinate system so can plot text below symbol\n",
    "geodetic_transform = ccrs.Geodetic()._as_mpl_transform(ax)\n",
    "text_transform = offset_copy(geodetic_transform, units='dots', y=-15)\n",
    "#plot text labels\n",
    "for index, row in wells.iterrows():\n",
    "    plt.text(row['lon'], row['lat'], row['name'], verticalalignment='top', horizontalalignment='center', transform=text_transform, fontsize=4)\n",
    "\n",
    "#seismographs\n",
    "#ngatamariki\n",
    "plt.plot(seisng['lon'], seisng['lat'], color='gray', markeredgecolor='black', markeredgewidth=0.2, linestyle='None', marker='^', markersize=4, transform=ccrs.Geodetic())\n",
    "#rotokawa\n",
    "plt.plot(seisrt['lon'], seisrt['lat'], color='gray', markeredgecolor='black', markeredgewidth=0.2, linestyle='None', marker='^', markersize=4, transform=ccrs.Geodetic())\n",
    "#geonet\n",
    "plt.plot(seisgn['lon'], seisgn['lat'], color='black', markeredgewidth=0, linestyle='None', marker='^', markersize=4, transform=ccrs.Geodetic())\n",
    "#plot text labels\n",
    "for index, row in seisng.iterrows():\n",
    "    plt.text(row['lon'], row['lat'], row['name'], verticalalignment='top', color='white', horizontalalignment='center', transform=text_transform, fontsize=4)\n",
    "for index, row in seisrt.iterrows():\n",
    "    plt.text(row['lon'], row['lat'], row['name'], verticalalignment='top', color='white', horizontalalignment='center', transform=text_transform, fontsize=4)\n",
    "for index, row in seisgn.iterrows():\n",
    "    plt.text(row['lon'], row['lat'], row['name'], verticalalignment='top', color='white', horizontalalignment='center', transform=text_transform, fontsize=4)\n",
    "#section line\n",
    "plt.plot([176.1742,176.2024], [-38.5260,-38.5730], color='black', linestyle='--', marker='None', transform=ccrs.Geodetic())\n",
    "\n",
    "scale_bar(ax, ccrs.Mercator(), 1)\n",
    "\n",
    "#legend\n",
    "#magnitude\n",
    "m0 = mlines.Line2D([], [], color='white', marker='o', linestyle='None', markersize=5, label=r'$M<1$')\n",
    "m1 = mlines.Line2D([], [], color='yellow', marker='o', linestyle='None', markersize=5, label=r'$M=1-2$')\n",
    "m2 = mlines.Line2D([], [], color='darkorange', marker='o', linestyle='None', markersize=5, label=r'$M=2-3$')\n",
    "m3 = mlines.Line2D([], [], color='red', marker='o', linestyle='None', markersize=5, label=r'$M\\geq3$')\n",
    "#seismographs\n",
    "ng = mlines.Line2D([], [], color='gray', markeredgecolor='black', markeredgewidth=0.2, linestyle='None', marker='^', markersize=4, label=r'$Mercury seis$')\n",
    "gn = mlines.Line2D([], [], color='gray', markeredgewidth=0, linestyle='None', marker='^', markersize=4, label=r'$GeoNet seis$')\n",
    "#wells\n",
    "wl = mlines.Line2D([], [], color='black', markeredgewidth=0, linestyle='None', marker='s', markersize=4, label=r'$Wells$')\n",
    "plt.legend(handles=[m0, m1, m2, m3, ng, gn, wl], fontsize='xx-small', loc='upper right', numpoints=1)\n",
    "\n",
    "plt.savefig('mercury_thisreport_map.png', dpi=400)"
   ]
  },
  {
   "cell_type": "markdown",
   "metadata": {},
   "source": [
    "**Trim map in bash as matplotlib function does not work**"
   ]
  },
  {
   "cell_type": "code",
   "execution_count": null,
   "metadata": {
    "scrolled": true
   },
   "outputs": [],
   "source": [
    "%%bash\n",
    "convert mercury_thisreport_map.png -trim +repage mercury_thisreport_map.png"
   ]
  },
  {
   "cell_type": "markdown",
   "metadata": {},
   "source": [
    "**Plot northern area**"
   ]
  },
  {
   "cell_type": "code",
   "execution_count": null,
   "metadata": {},
   "outputs": [],
   "source": [
    "#imagery\n",
    "imagery = QuadtreeTiles()\n",
    "ax = plt.axes(projection=imagery.crs)\n",
    "ax.set_extent([northlonmin, northlonmax, northlatmin, northlatmax])\n",
    "ax.add_image(imagery, 16)\n",
    "\n",
    "#hypocentres, symbol coloured is determined by magnitude, with a constant symbol size\n",
    "#plot in order of increasing magnitude so larger events plot on top\n",
    "plt.scatter(hyprptm0['longitude'], hyprptm0['latitude'], color='white', marker='o', s=2, transform=ccrs.Geodetic())\n",
    "plt.scatter(hyprptm1['longitude'], hyprptm1['latitude'], color='yellow', marker='o', s=2, transform=ccrs.Geodetic())\n",
    "#m2 and m3 may not exist\n",
    "if len(hyprptm2) != 0:\n",
    "    plt.scatter(hyprptm2['longitude'], hyprptm2['latitude'], color='darkorange', marker='o', s=2, transform=ccrs.Geodetic())\n",
    "if len(hyprptm3) != 0:\n",
    "    plt.scatter(hyprptm3['longitude'], hyprptm3['latitude'], color='red', marker='o', s=2, transform=ccrs.Geodetic())\n",
    "\n",
    "#plot wells\n",
    "names = ['lon', 'lat', 'name']\n",
    "wells = pd.read_csv('wellsnorth.dat', sep='\\s+', names=names)\n",
    "plt.scatter(wells['lon'], wells['lat'], color='black', marker='s', s=5, transform=ccrs.Geodetic())\n",
    "#transform coordinate system so can plot text below symbol\n",
    "geodetic_transform = ccrs.Geodetic()._as_mpl_transform(ax)\n",
    "text_transform = offset_copy(geodetic_transform, units='dots', y=-15)\n",
    "#plot text labels\n",
    "for index, row in wells.iterrows():\n",
    "    plt.text(row['lon'], row['lat'], row['name'], verticalalignment='top', horizontalalignment='center', transform=text_transform, fontsize=5)\n",
    "\n",
    "#seismographs\n",
    "#ngatamariki\n",
    "plt.plot(seisng['lon'], seisng['lat'], color='gray', markeredgecolor='black', markeredgewidth=0.2, linestyle='None', marker='^', markersize=4, transform=ccrs.Geodetic())\n",
    "#geonet\n",
    "plt.plot(seisgn['lon'], seisgn['lat'], color='black', markeredgewidth=0, linestyle='None', marker='^', markersize=4, transform=ccrs.Geodetic())\n",
    "#plot text labels\n",
    "for index, row in seisng.iterrows():\n",
    "    plt.text(row['lon'], row['lat'], row['name'], verticalalignment='top', color='white', horizontalalignment='center', transform=text_transform, fontsize=4)\n",
    "for index, row in seisgn.iterrows():\n",
    "    plt.text(row['lon'], row['lat'], row['name'], verticalalignment='top', color='white', horizontalalignment='center', transform=text_transform, fontsize=4)\n",
    "\n",
    "#legend\n",
    "#magnitude\n",
    "m0 = mlines.Line2D([], [], color='white', marker='o', linestyle='None', markersize=5, label=r'$M<1$')\n",
    "m1 = mlines.Line2D([], [], color='yellow', marker='o', linestyle='None', markersize=5, label=r'$M=1-2$')\n",
    "m2 = mlines.Line2D([], [], color='darkorange', marker='o', linestyle='None', markersize=5, label=r'$M=2-3$')\n",
    "m3 = mlines.Line2D([], [], color='red', marker='o', linestyle='None', markersize=5, label=r'$M\\geq3$')\n",
    "#seismographs\n",
    "ng = mlines.Line2D([], [], color='gray', markeredgecolor='black', markeredgewidth=0.2, linestyle='None', marker='^', markersize=4, label=r'$Mercury seis$')\n",
    "gn = mlines.Line2D([], [], color='gray', markeredgewidth=0, linestyle='None', marker='^', markersize=4, label=r'$GeoNet seis$')\n",
    "#wells\n",
    "wl = mlines.Line2D([], [], color='black', markeredgewidth=0, linestyle='None', marker='s', markersize=4, label=r'$Wells$')\n",
    "plt.legend(handles=[m0, m1, m2, m3, ng, gn, wl], fontsize='xx-small', loc='upper right', numpoints=1)\n",
    "\n",
    "scale_bar(ax, ccrs.Mercator(), 1)\n",
    "\n",
    "plt.savefig('mercury_thisreport_map_north.png', dpi=400)"
   ]
  },
  {
   "cell_type": "markdown",
   "metadata": {},
   "source": [
    "**Trim map in bash as matplotlib function does not work**"
   ]
  },
  {
   "cell_type": "code",
   "execution_count": null,
   "metadata": {
    "scrolled": true
   },
   "outputs": [],
   "source": [
    "%%bash\n",
    "convert mercury_thisreport_map_north.png -trim +repage mercury_thisreport_map_north.png"
   ]
  },
  {
   "cell_type": "markdown",
   "metadata": {},
   "source": [
    "**Plot southern area**"
   ]
  },
  {
   "cell_type": "code",
   "execution_count": null,
   "metadata": {},
   "outputs": [],
   "source": [
    "#imagery\n",
    "imagery = QuadtreeTiles()\n",
    "ax = plt.axes(projection=imagery.crs)\n",
    "ax.set_extent([southlonmin, southlonmax, southlatmin, southlatmax])\n",
    "ax.add_image(imagery, 16)\n",
    "\n",
    "#hypocentres, symbol coloured is determined by magnitude, with a constant symbol size\n",
    "#plot in order of increasing magnitude so larger events plot on top\n",
    "plt.scatter(hyprptm0['longitude'], hyprptm0['latitude'], color='white', marker='o', s=2, transform=ccrs.Geodetic())\n",
    "plt.scatter(hyprptm1['longitude'], hyprptm1['latitude'], color='yellow', marker='o', s=2, transform=ccrs.Geodetic())\n",
    "#m2 and m3 may not exist\n",
    "if len(hyprptm2) != 0:\n",
    "    plt.scatter(hyprptm2['longitude'], hyprptm2['latitude'], color='darkorange', marker='o', s=2, transform=ccrs.Geodetic())\n",
    "if len(hyprptm3) != 0:\n",
    "    plt.scatter(hyprptm3['longitude'], hyprptm3['latitude'], color='red', marker='o', s=2, transform=ccrs.Geodetic())\n",
    "\n",
    "#plot wells\n",
    "names = ['lon', 'lat', 'name']\n",
    "wells = pd.read_csv('wellssouth.dat', sep='\\s+', names=names)\n",
    "plt.scatter(wells['lon'], wells['lat'], color='black', marker='s', s=5, transform=ccrs.Geodetic())\n",
    "#transform coordinate system so can plot text below symbol\n",
    "geodetic_transform = ccrs.Geodetic()._as_mpl_transform(ax)\n",
    "text_transform = offset_copy(geodetic_transform, units='dots', y=-15)\n",
    "#plot text labels\n",
    "for index, row in wells.iterrows():\n",
    "    plt.text(row['lon'], row['lat'], row['name'], verticalalignment='top', horizontalalignment='center', transform=text_transform, fontsize=4)\n",
    "#plot deviated well NM10\n",
    "names = ['lon', 'lat', 'dep']\n",
    "nm10 = pd.read_csv('well_nm10.dat', sep='\\s+', names=names)\n",
    "plt.plot(nm10['lon'], nm10['lat'], color='black', linestyle='-', marker='None', transform=ccrs.Geodetic())\n",
    "\n",
    "#seismographs\n",
    "#ngatamariki\n",
    "plt.plot(seisng['lon'], seisng['lat'], color='gray', markeredgecolor='black', markeredgewidth=0.2, linestyle='None', marker='^', markersize=4, transform=ccrs.Geodetic())\n",
    "#geonet\n",
    "plt.plot(seisgn['lon'], seisgn['lat'], color='black', markeredgewidth=0, linestyle='None', marker='^', markersize=4, transform=ccrs.Geodetic())\n",
    "#plot text labels\n",
    "for index, row in seisng.iterrows():\n",
    "    plt.text(row['lon'], row['lat'], row['name'], verticalalignment='top', color='white', horizontalalignment='center', transform=text_transform, fontsize=4)\n",
    "for index, row in seisgn.iterrows():\n",
    "    plt.text(row['lon'], row['lat'], row['name'], verticalalignment='top', color='white', horizontalalignment='center', transform=text_transform, fontsize=4)\n",
    "\n",
    "#legend\n",
    "#magnitude\n",
    "m0 = mlines.Line2D([], [], color='white', marker='o', linestyle='None', markersize=5, label=r'$M<1$')\n",
    "m1 = mlines.Line2D([], [], color='yellow', marker='o', linestyle='None', markersize=5, label=r'$M=1-2$')\n",
    "m2 = mlines.Line2D([], [], color='darkorange', marker='o', linestyle='None', markersize=5, label=r'$M=2-3$')\n",
    "m3 = mlines.Line2D([], [], color='red', marker='o', linestyle='None', markersize=5, label=r'$M\\geq3$')\n",
    "#seismographs\n",
    "ng = mlines.Line2D([], [], color='gray', markeredgecolor='black', markeredgewidth=0.2, linestyle='None', marker='^', markersize=4, label=r'$Mercury seis$')\n",
    "gn = mlines.Line2D([], [], color='gray', markeredgewidth=0, linestyle='None', marker='^', markersize=4, label=r'$GeoNet seis$')\n",
    "#wells\n",
    "wl = mlines.Line2D([], [], color='black', markeredgewidth=0, linestyle='None', marker='s', markersize=4, label=r'$Wells$')\n",
    "plt.legend(handles=[m0, m1, m2, m3, ng, gn, wl], fontsize='xx-small', loc='upper right', numpoints=1)\n",
    "    \n",
    "scale_bar(ax, ccrs.Mercator(), 1)\n",
    "\n",
    "plt.savefig('mercury_thisreport_map_south.png', dpi=400)"
   ]
  },
  {
   "cell_type": "markdown",
   "metadata": {},
   "source": [
    "**Trim map in bash as matplotlib function does not work**"
   ]
  },
  {
   "cell_type": "code",
   "execution_count": null,
   "metadata": {
    "scrolled": true
   },
   "outputs": [],
   "source": [
    "%%bash\n",
    "convert mercury_thisreport_map_south.png -trim +repage mercury_thisreport_map_south.png"
   ]
  },
  {
   "cell_type": "markdown",
   "metadata": {},
   "source": [
    "**Cross-section, within 1.5 km of the line**"
   ]
  },
  {
   "cell_type": "code",
   "execution_count": null,
   "metadata": {},
   "outputs": [],
   "source": [
    "#export data\n",
    "hyprpt.to_csv('section.csv', header=False)\n",
    "\n",
    "#run external program, temporary solution\n",
    "!section.csh"
   ]
  },
  {
   "cell_type": "code",
   "execution_count": null,
   "metadata": {},
   "outputs": [],
   "source": [
    "#read output of external program\n",
    "names=['p', 'q', 'z', 'ml']\n",
    "seceqs = pd.read_csv('section.dat', sep='\\s+', names=names)\n",
    "#pq nomerclature is that used by GMT project command http://gmt.soest.hawaii.edu/doc/5.4.2/project.html"
   ]
  },
  {
   "cell_type": "code",
   "execution_count": null,
   "metadata": {
    "scrolled": true
   },
   "outputs": [],
   "source": [
    "seceqs.head()"
   ]
  },
  {
   "cell_type": "markdown",
   "metadata": {},
   "source": [
    "**By magnitude**"
   ]
  },
  {
   "cell_type": "code",
   "execution_count": null,
   "metadata": {},
   "outputs": [],
   "source": [
    "#m1\n",
    "secm0 = seceqs[seceqs['ml']<1]\n",
    "#m1\n",
    "secm1 = seceqs[(seceqs['ml']>=1)&(seceqs['ml']<2)]\n",
    "#m2\n",
    "secm2 = seceqs[(seceqs['ml']>=2)&(seceqs['ml']<3)]\n",
    "#m3\n",
    "secm3 = seceqs[seceqs['ml']>=3]"
   ]
  },
  {
   "cell_type": "code",
   "execution_count": null,
   "metadata": {},
   "outputs": [],
   "source": [
    "#read well data (pre-projected using well_section.csh)\n",
    "names=['p', 'q', 'z']\n",
    "well01 = pd.read_csv('well_section_01.dat', sep='\\s+', names=names)\n",
    "well02 = pd.read_csv('well_section_02.dat', sep='\\s+', names=names)\n",
    "well03 = pd.read_csv('well_section_03.dat', sep='\\s+', names=names)\n",
    "well04 = pd.read_csv('well_section_04.dat', sep='\\s+', names=names)\n",
    "well05 = pd.read_csv('well_section_05.dat', sep='\\s+', names=names)\n",
    "well06 = pd.read_csv('well_section_06.dat', sep='\\s+', names=names)\n",
    "well07 = pd.read_csv('well_section_07.dat', sep='\\s+', names=names)\n",
    "well08 = pd.read_csv('well_section_08.dat', sep='\\s+', names=names)\n",
    "well09 = pd.read_csv('well_section_09.dat', sep='\\s+', names=names)\n",
    "well10 = pd.read_csv('well_section_10.dat', sep='\\s+', names=names)\n",
    "well11 = pd.read_csv('well_section_11.dat', sep='\\s+', names=names)\n",
    "well12 = pd.read_csv('well_section_12.dat', sep='\\s+', names=names)"
   ]
  },
  {
   "cell_type": "code",
   "execution_count": null,
   "metadata": {},
   "outputs": [],
   "source": [
    "#size scaled to give 1:1 ratio\n",
    "fig = plt.figure(figsize=(6,5.3))\n",
    "\n",
    "#earthquakes\n",
    "#plt.scatter(x=seceqs['p'], y=seceqs['z'], s=2*seceqs['ml']**2, color='red', marker='o', linewidth=0.3)\n",
    "#hypocentres, symbol coloured is determined by magnitude, with a constant symbol size\n",
    "#plot in order of increasing magnitude so larger events plot on top\n",
    "plt.scatter(secm0['p'], secm0['z'], color='white', edgecolors='black', marker='o', s=4, linewidth=0.3)\n",
    "plt.scatter(secm1['p'], secm1['z'], color='yellow', marker='o', s=4)\n",
    "#m2 and m3 may not exist\n",
    "if len(secm2) != 0:\n",
    "    plt.scatter(secm2['p'], secm2['z'], color='darkorange', marker='o', s=4)\n",
    "if len(secm3) != 0:\n",
    "    plt.scatter(secm3['p'], secm3['z'], color='red', marker='o', s=4)\n",
    "# wells\n",
    "plt.plot(well01['p'], well01['z'], color='black')\n",
    "plt.plot(well02['p'], well02['z'], color='black')\n",
    "plt.plot(well03['p'], well03['z'], color='black')\n",
    "plt.plot(well04['p'], well04['z'], color='black')\n",
    "plt.plot(well05['p'], well05['z'], color='black')\n",
    "plt.plot(well06['p'], well06['z'], color='black')\n",
    "plt.plot(well07['p'], well07['z'], color='black')\n",
    "plt.plot(well08['p'], well08['z'], color='black')\n",
    "plt.plot(well09['p'], well09['z'], color='black')\n",
    "plt.plot(well10['p'], well10['z'], color='black')\n",
    "plt.plot(well11['p'], well11['z'], color='black')\n",
    "plt.plot(well12['p'], well12['z'], color='black')\n",
    "#well labels\n",
    "plt.text(-2.1, 0.1, 'NM01', verticalalignment='bottom', horizontalalignment='left', rotation='vertical', fontsize=8)\n",
    "plt.text(-1.45, 0.1, 'NM02', verticalalignment='bottom', horizontalalignment='left', rotation='vertical', fontsize=8)\n",
    "plt.text(-0.85, 0.1, 'NM03', verticalalignment='bottom', horizontalalignment='left', rotation='vertical', fontsize=8)\n",
    "plt.text(-2.7, 0.1, 'NM04', verticalalignment='bottom', horizontalalignment='left', rotation='vertical', fontsize=8)\n",
    "plt.text(0.9, 0.1, 'NM05', verticalalignment='bottom', horizontalalignment='left', rotation='vertical', fontsize=8)\n",
    "plt.text(2.05, 0.1, 'NM06', verticalalignment='bottom', horizontalalignment='left', rotation='vertical', fontsize=8)\n",
    "plt.text(-0.4, 0.1, 'NM07', verticalalignment='bottom', horizontalalignment='left', rotation='vertical', fontsize=8)\n",
    "plt.text(-2.1, 0.5, 'NM08', verticalalignment='bottom', horizontalalignment='left', rotation='vertical', fontsize=8)\n",
    "plt.text(-1.95, 0.1, 'NM09', verticalalignment='bottom', horizontalalignment='left', rotation='vertical', fontsize=8)\n",
    "plt.text(1.9, 0.1, 'NM10', verticalalignment='bottom', horizontalalignment='left', rotation='vertical', fontsize=8)\n",
    "plt.text(0.75, 0.1, 'NM11', verticalalignment='bottom', horizontalalignment='left', rotation='vertical', fontsize=8)\n",
    "plt.text(0.2, 0.1, 'NM12', verticalalignment='bottom', horizontalalignment='left', rotation='vertical', fontsize=8)\n",
    "#section orientations\n",
    "plt.text(-2.9, -0, 'N', verticalalignment='bottom', horizontalalignment='left', fontsize=10)\n",
    "plt.text(2.9, -0, 'S', verticalalignment='bottom', horizontalalignment='right', fontsize=10)\n",
    "\n",
    "#legend\n",
    "#magnitude\n",
    "m0 = mlines.Line2D([], [], color='white', marker='o', markeredgecolor='black', linestyle='None', markersize=3, label=r'$M<1$')\n",
    "m1 = mlines.Line2D([], [], color='yellow', marker='o', linestyle='None', markersize=3, label=r'$M=1-2$')\n",
    "m2 = mlines.Line2D([], [], color='darkorange', marker='o', linestyle='None', markersize=3, label=r'$M=2-3$')\n",
    "m3 = mlines.Line2D([], [], color='red', marker='o', linestyle='None', markersize=3, label=r'$M\\geq3$')\n",
    "plt.legend(handles=[m0, m1, m2, m3], fontsize='xx-small', loc='lower right', numpoints=1)\n",
    "\n",
    "plt.grid(b=True, which='major', color='b', linestyle='--', alpha=0.5)\n",
    "plt.xlim([-3,3])\n",
    "plt.ylim([-0.3,5])\n",
    "plt.ylabel('Depth (km)')\n",
    "plt.xlabel('Distance from field \"centre\" (km)')\n",
    "plt.gca().invert_yaxis()\n",
    "plt.tight_layout()\n",
    "\n",
    "plt.savefig('mercury_thisreport_section.png', dpi=200)"
   ]
  },
  {
   "cell_type": "markdown",
   "metadata": {},
   "source": [
    "**Magnitude-time - Reporting period only**"
   ]
  },
  {
   "cell_type": "code",
   "execution_count": null,
   "metadata": {
    "scrolled": true
   },
   "outputs": [],
   "source": [
    "from datetime import datetime\n",
    "\n",
    "#divide into north and south clusters, latitude is that on power station\n",
    "hyprptnorth = hyprpt[hyprpt['latitude']>-38.546]\n",
    "hyprptsouth = hyprpt[hyprpt['latitude']<-38.546]\n",
    "\n",
    "#magnitude vs time\n",
    "ax = hyprptnorth.plot(y='ml', color='red', marker='o', linewidth=0.3, linestyle='None', label='north', figsize=(10,5))\n",
    "hyprptsouth.plot(ax=ax, y='ml', color='black', marker='o', linewidth=0.3, linestyle='None', label='south')\n",
    "ax.xaxis.grid()\n",
    "ax.yaxis.grid()\n",
    "\n",
    "ax.set_ylim([0,3.0])\n",
    "ax.set_xlim([thisrpt,end])\n",
    "ax.set_ylabel('Magnitude')\n",
    "ax.tick_params(labelright = True)\n",
    "\n",
    "plt.xlabel(\"\") #get rid of useless 'date' label\n",
    "plt.legend(loc='best')\n",
    "plt.tight_layout()\n",
    "plt.savefig('mercury_thisreport_time-series.png', dpi=200)"
   ]
  },
  {
   "cell_type": "code",
   "execution_count": null,
   "metadata": {},
   "outputs": [],
   "source": [
    "print (len(hyprptnorth))\n",
    "print (len(hyprptsouth))"
   ]
  },
  {
   "cell_type": "markdown",
   "metadata": {},
   "source": [
    "**Total events per year, divided into north and south**"
   ]
  },
  {
   "cell_type": "code",
   "execution_count": null,
   "metadata": {},
   "outputs": [],
   "source": [
    "#divide into north and south clusters, latitude is that of power station\n",
    "#hypdd is events within Ngatamariki area\n",
    "\n",
    "hypdd = hypdd[hypdd.index < end]\n",
    "\n",
    "north = hypdd[hypdd['latitude']>-38.546]\n",
    "south = hypdd[hypdd['latitude']<-38.546]\n",
    "\n",
    "annualnorth = north['latitude'].groupby([north.index.year]).agg('count')\n",
    "annualsouth = south['latitude'].groupby([south.index.year]).agg('count')\n",
    "\n",
    "annual = pd.concat([annualnorth, annualsouth], axis=1)\n",
    "annual.columns=['north', 'south']"
   ]
  },
  {
   "cell_type": "code",
   "execution_count": null,
   "metadata": {
    "scrolled": true
   },
   "outputs": [],
   "source": [
    "an = annual.plot.bar(color=['red', 'black'])\n",
    "an.set_ylabel('Number per year')\n",
    "an.set_xlabel('Year')\n",
    "\n",
    "fig = an.get_figure()\n",
    "fig.savefig('annual_meqs.png', dpi=200)"
   ]
  },
  {
   "cell_type": "markdown",
   "metadata": {},
   "source": [
    "**Plot wide area station map, showing Rotokawa and GeoNet**"
   ]
  },
  {
   "cell_type": "markdown",
   "metadata": {},
   "source": [
    "**Station map plot area**"
   ]
  },
  {
   "cell_type": "code",
   "execution_count": null,
   "metadata": {},
   "outputs": [],
   "source": [
    "wlonmin = 176.116\n",
    "wlonmax = 176.419\n",
    "wlatmin = -38.678\n",
    "wlatmax = -38.370"
   ]
  },
  {
   "cell_type": "code",
   "execution_count": null,
   "metadata": {},
   "outputs": [],
   "source": [
    "#imagery\n",
    "imagery = OSM()\n",
    "ax = plt.axes(projection=imagery.crs)\n",
    "ax.set_extent([wlonmin, wlonmax, wlatmin, wlatmax])\n",
    "ax.add_image(imagery, 10)\n",
    "#ax.gridlines()\n",
    "\n",
    "#extents of detailed plot area\n",
    "boxlon = [lonmin, lonmin, lonmax, lonmax, lonmin]\n",
    "boxlat = [latmin, latmax, latmax, latmin, latmin]\n",
    "plt.plot(boxlon, boxlat, color='black', linestyle='-', marker='None', transform=ccrs.Geodetic())\n",
    "\n",
    "#seismographs ngatamariki\n",
    "plt.plot(seisng['lon'], seisng['lat'], color='gray', markeredgewidth=0.2, linestyle='None', marker='^', markersize=3, transform=ccrs.Geodetic())\n",
    "geodetic_transform = ccrs.Geodetic()._as_mpl_transform(ax)\n",
    "text_transform = offset_copy(geodetic_transform, units='dots', y=-10)\n",
    "#plot text labels\n",
    "for index, row in seisng.iterrows():\n",
    "    plt.text(row['lon'], row['lat'], row['name'], verticalalignment='top', horizontalalignment='center', transform=text_transform, fontsize=3)\n",
    "#seismographs rotokawa\n",
    "plt.plot(seisrt['lon'], seisrt['lat'], color='gray', markeredgewidth=0.0, linestyle='None', marker='o', markersize=3, transform=ccrs.Geodetic())\n",
    "#seismographs geonet\n",
    "plt.plot(seisgn['lon'], seisgn['lat'], color='black', markeredgewidth=0.0, linestyle='None', marker='o', markersize=4, transform=ccrs.Geodetic())\n",
    "\n",
    "#transform coordinate system so can plot text below symbol\n",
    "geodetic_transform = ccrs.Geodetic()._as_mpl_transform(ax)\n",
    "text_transform = offset_copy(geodetic_transform, units='dots', y=0, x=0)\n",
    "plt.text(176.200, -38.546, 'N', verticalalignment='center', horizontalalignment='center', transform=text_transform, fontsize=6)\n",
    "plt.text(176.200, -38.625, 'R', verticalalignment='center', horizontalalignment='center', transform=text_transform, fontsize=6)\n",
    "\n",
    "#legend\n",
    "ng = mlines.Line2D([], [], color='gray', markeredgecolor='black', markeredgewidth=0.2, linestyle='None', marker='^', markersize=3, label='Ngatamariki')\n",
    "rt = mlines.Line2D([], [], color='gray', markeredgewidth=0, linestyle='None', marker='o', markersize=3, label='Rotokawa')\n",
    "gn = mlines.Line2D([], [], color='black', markeredgewidth=0, linestyle='None', marker='o', markersize=3, label='GeoNet')\n",
    "\n",
    "plt.legend(handles=[ng, rt, gn], fontsize='xx-small', loc='upper left', numpoints=1)\n",
    "\n",
    "scale_bar(ax, ccrs.Mercator(), 5)\n",
    " \n",
    "plt.savefig('mercury_wide-station_map.png', dpi=400)"
   ]
  },
  {
   "cell_type": "markdown",
   "metadata": {},
   "source": [
    "**Trim map in bash as matplotlib function does not work**"
   ]
  },
  {
   "cell_type": "code",
   "execution_count": null,
   "metadata": {
    "scrolled": true
   },
   "outputs": [],
   "source": [
    "%%bash\n",
    "convert mercury_wide-station_map.png -trim +repage mercury_wide-station_map.png"
   ]
  },
  {
   "cell_type": "markdown",
   "metadata": {},
   "source": [
    "## GeoNet seismicity"
   ]
  },
  {
   "cell_type": "code",
   "execution_count": null,
   "metadata": {},
   "outputs": [],
   "source": [
    "#box for search area, this is plenty big enough to les get events within 10 km of reference point\n",
    "bbox = '176.0,-38.8,176.5,-38.3'\n",
    "maxdep = '20'\n",
    "\n",
    "url = 'https://quakesearch.geonet.org.nz/csv?bbox='+bbox+'&maxdepth='+maxdep+'&startdate='+start+'&enddate='+end"
   ]
  },
  {
   "cell_type": "code",
   "execution_count": null,
   "metadata": {},
   "outputs": [],
   "source": [
    "eqs = pd.read_csv(url, parse_dates=['origintime'], index_col='origintime', usecols=[2,4,5,6,7])"
   ]
  },
  {
   "cell_type": "code",
   "execution_count": null,
   "metadata": {},
   "outputs": [],
   "source": [
    "eqs.head()"
   ]
  },
  {
   "cell_type": "code",
   "execution_count": null,
   "metadata": {},
   "outputs": [],
   "source": [
    "#reference point (Ngatamariki power station)\n",
    "latref = -38.546143\n",
    "lonref = 176.195504"
   ]
  },
  {
   "cell_type": "code",
   "execution_count": null,
   "metadata": {},
   "outputs": [],
   "source": [
    "eqs['dist'] = haversine_np(eqs['longitude'],eqs[' latitude'],lonref,latref)"
   ]
  },
  {
   "cell_type": "code",
   "execution_count": null,
   "metadata": {},
   "outputs": [],
   "source": [
    "eqs10 = eqs[eqs['dist']<10]"
   ]
  },
  {
   "cell_type": "code",
   "execution_count": null,
   "metadata": {},
   "outputs": [],
   "source": [
    "eqs10['dist'].describe()"
   ]
  },
  {
   "cell_type": "code",
   "execution_count": null,
   "metadata": {},
   "outputs": [],
   "source": [
    "eqs10.head()"
   ]
  },
  {
   "cell_type": "code",
   "execution_count": null,
   "metadata": {},
   "outputs": [],
   "source": [
    "eqs10[eqs10[' magnitude']>=3]"
   ]
  },
  {
   "cell_type": "markdown",
   "metadata": {},
   "source": [
    "**Number of GeoNet earthquakes within 5 & 10 km during the report period**"
   ]
  },
  {
   "cell_type": "code",
   "execution_count": null,
   "metadata": {},
   "outputs": [],
   "source": [
    "eqs[' magnitude'][(eqs['dist']<=10)&(eqs.index>=thisrpt)&(eqs.index<=end)].describe()"
   ]
  },
  {
   "cell_type": "code",
   "execution_count": null,
   "metadata": {},
   "outputs": [],
   "source": [
    "eqs[' magnitude'][(eqs['dist']<=5)&(eqs.index>=thisrpt)&(eqs.index<=end)].describe()"
   ]
  },
  {
   "cell_type": "markdown",
   "metadata": {},
   "source": [
    "**And for the previous report period**"
   ]
  },
  {
   "cell_type": "code",
   "execution_count": null,
   "metadata": {},
   "outputs": [],
   "source": [
    "eqs[' magnitude'][(eqs['dist']<=10)&(eqs.index>=lastrpt)&(eqs.index<=lastend)].describe()"
   ]
  },
  {
   "cell_type": "code",
   "execution_count": null,
   "metadata": {},
   "outputs": [],
   "source": [
    "eqs[' magnitude'][(eqs['dist']<=5)&(eqs.index>=lastrpt)&(eqs.index<=lastend)].describe()"
   ]
  },
  {
   "cell_type": "markdown",
   "metadata": {},
   "source": [
    "**And the one before that**"
   ]
  },
  {
   "cell_type": "code",
   "execution_count": null,
   "metadata": {},
   "outputs": [],
   "source": [
    "eqs[' magnitude'][(eqs['dist']<=10)&(eqs.index>=last2rpt)&(eqs.index<=last2end)].describe()"
   ]
  },
  {
   "cell_type": "code",
   "execution_count": null,
   "metadata": {},
   "outputs": [],
   "source": [
    "eqs[' magnitude'][(eqs['dist']<=5)&(eqs.index>=last2rpt)&(eqs.index<=last2end)].describe()"
   ]
  },
  {
   "cell_type": "markdown",
   "metadata": {},
   "source": [
    "**Biggest events**"
   ]
  },
  {
   "cell_type": "code",
   "execution_count": null,
   "metadata": {},
   "outputs": [],
   "source": [
    "eqs[eqs[' magnitude']>3.5]"
   ]
  },
  {
   "cell_type": "markdown",
   "metadata": {},
   "source": [
    "**Plots vs Time**"
   ]
  },
  {
   "cell_type": "code",
   "execution_count": null,
   "metadata": {},
   "outputs": [],
   "source": [
    "fig, (ax1, ax2) = plt.subplots(nrows=2,ncols=1, sharex=True, figsize=(22,10))\n",
    "\n",
    "#distance vs time\n",
    "eqs10.plot(y='dist', marker='o', markersize=5, linestyle='None', color='black', legend=False, ax=ax1)\n",
    "\n",
    "#plot label A\n",
    "ax1.text('2012-06-01', 9, 'A', size=16)\n",
    "\n",
    "#yearly ticks and grid\n",
    "majorTick = mpl.dates.YearLocator(1)\n",
    "majorFormat = mpl.dates.DateFormatter('%Y')\n",
    "ax1.xaxis.set_major_locator(majorTick)\n",
    "ax1.xaxis.set_major_formatter(majorFormat)\n",
    "ax1.xaxis.grid()\n",
    "ax1.yaxis.grid()\n",
    "\n",
    "ax1.set_ylabel('Distance (km)')\n",
    "\n",
    "ax1.tick_params(labelright = True)\n",
    "\n",
    "#dashed line at dist=5 km\n",
    "ax1.axhline(y=5, color='blue', linestyle='--')\n",
    "\n",
    "#magnitude vs time\n",
    "eqs10.plot(y=' magnitude', marker='o', markersize=5, linestyle='None', color='black', legend=False, ax=ax2)\n",
    "\n",
    "#plot label 8\n",
    "ax2.text('2012-06-01', 3.7, 'B', size=16)\n",
    "\n",
    "#yearly ticks and grid\n",
    "ax2.xaxis.set_major_locator(majorTick)\n",
    "ax2.xaxis.set_major_formatter(majorFormat)\n",
    "ax2.xaxis.grid()\n",
    "ax2.yaxis.grid()\n",
    "\n",
    "ax2.set_ylim([0,4.2])\n",
    "ax2.set_xlim(start, end)\n",
    "ax2.set_ylabel('Magnitude')\n",
    "ax2.tick_params(labelright = True)\n",
    "\n",
    "#dashed line at magnitude=2, about felt threshold\n",
    "ax2.axhline(y=2, color='blue', linestyle='--')\n",
    "\n",
    "#indicate this report\n",
    "ax2.axvline(x=thisrpt, color='blue', linestyle='--')\n",
    "ax2.text(thisrpt, 0.5, 'this report', color='blue')\n",
    "ax2.arrow(thisrpt, 0.7, 100, 0, head_width=0.1, head_length=20, fc='blue', ec='blue')\n",
    "\n",
    "plt.tight_layout()\n",
    "plt.savefig('geonet_long-term_time-series.png', dpi=200)"
   ]
  }
 ],
 "metadata": {
  "kernelspec": {
   "display_name": "Python 3",
   "language": "python",
   "name": "python3"
  },
  "language_info": {
   "codemirror_mode": {
    "name": "ipython",
    "version": 3
   },
   "file_extension": ".py",
   "mimetype": "text/x-python",
   "name": "python",
   "nbconvert_exporter": "python",
   "pygments_lexer": "ipython3",
   "version": "3.6.7"
  }
 },
 "nbformat": 4,
 "nbformat_minor": 2
}
