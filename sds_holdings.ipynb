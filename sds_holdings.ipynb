{
 "cells": [
  {
   "cell_type": "markdown",
   "metadata": {},
   "source": [
    "SDS Data Holdings\n",
    "--"
   ]
  },
  {
   "cell_type": "markdown",
   "metadata": {},
   "source": [
    "This is a replacement for the various versions of data_list, a c-shell script written in about 2001. It searches a SDS directory for data files and colates what is found, including plotting the results. The existance of data is determined simply by the existance of a file, there is no check on the data within the file.\n",
    "\n",
    "ObsPy contains a script obspy-scan http://docs.obspy.org/tutorial/code_snippets/visualize_data_availability_of_local_waveform_archive.html, but this is not always suitable for the needs."
   ]
  },
  {
   "cell_type": "code",
   "execution_count": 1,
   "metadata": {},
   "outputs": [
    {
     "data": {
      "application/javascript": [
       "IPython.OutputArea.prototype._should_scroll = function(lines) {\n",
       "    return false;\n",
       "}\n"
      ],
      "text/plain": [
       "<IPython.core.display.Javascript object>"
      ]
     },
     "metadata": {},
     "output_type": "display_data"
    }
   ],
   "source": [
    "%%javascript\n",
    "IPython.OutputArea.prototype._should_scroll = function(lines) {\n",
    "    return false;\n",
    "}"
   ]
  },
  {
   "cell_type": "code",
   "execution_count": 2,
   "metadata": {},
   "outputs": [],
   "source": [
    "import os\n",
    "from datetime import datetime\n",
    "import pandas as pd\n",
    "import matplotlib.pyplot as plt\n",
    "\n",
    "%matplotlib inline"
   ]
  },
  {
   "cell_type": "markdown",
   "metadata": {},
   "source": [
    "**Setup parameters**"
   ]
  },
  {
   "cell_type": "code",
   "execution_count": 3,
   "metadata": {},
   "outputs": [],
   "source": [
    "#sds folder\n",
    "sds = '/run/user/4007/gvfs/sftp:host=waihaha.gns.cri.nz,user=sherburn/home/sherburn/data1/my_sds'\n",
    "# sds = '/run/user/4007/gvfs/sftp:host=rotokawa.gns.cri.nz/home/seisdata/data/AP1/mokai_portable/mseed_sds'\n",
    "# sds = '/run/user/4007/gvfs/sftp:host=waihaha.gns.cri.nz,user=sherburn/home/sherburn/data4/SDS/geonet_sds'\n",
    "\n",
    "#station list to check\n",
    "stations_rot = ['NZ.RT01.10.EHZ', 'NZ.RT02.10.EHZ', 'NZ.RT03.10.EHZ', 'NZ.RT04.10.EHZ', 'NZ.RT05.10.EHZ', 'NZ.RT06.10.EHZ', 'NZ.RT07.10.EHZ', 'NZ.RT08.10.EHZ', 'NZ.RT09.10.EHZ', 'NZ.RT10.10.EHZ', 'NZ.RT11.10.EHZ', 'NZ.RT12.10.EHZ', 'NZ.RT13.10.EHZ', 'NZ.RT14.10.EHZ', 'NZ.RT15.10.EHZ', 'NZ.RT16.10.EHZ', 'NZ.RT17.10.EHZ', 'NZ.RT18.10.EHZ', 'NZ.RT19.10.EHZ', 'NZ.RT20.10.EHZ', 'NZ.RT21.10.EHZ', 'NZ.RT22.10.EHZ', 'NZ.RT23.10.EHZ', 'NZ.RT24.10.EHZ']\n",
    "stations_nga = ['NZ.NS01.10.EHZ', 'NZ.NS02.10.EHZ', 'NZ.NS03.10.EHZ', 'NZ.NS04.10.EHZ', 'NZ.NS05.10.EHZ', 'NZ.NS06.10.EHZ', 'NZ.NS07.10.EHZ', 'NZ.NS08.10.EHZ', 'NZ.NS09.10.EHZ', 'NZ.NS10.10.EHZ', 'NZ.NS11.10.EHZ', 'NZ.NS12.10.EHZ', 'NZ.NS13.10.EHZ', 'NZ.NS14.10.EHZ', 'NZ.NS15.10.EHZ', 'NZ.NS16.10.EHZ', 'NZ.NS17.10.EHZ', 'NZ.NS18.10.EHZ']\n",
    "stations_rotnga = stations_rot + stations_nga\n",
    "stations_mok = ['NZ.SM01.10.EHZ', 'NZ.SM02.10.EHZ', 'NZ.SM03.10.EHZ', 'NZ.SM04.10.EHZ', 'NZ.SM05.10.EHZ', 'NZ.SM06.10.EHZ', 'NZ.SM07.10.EHZ', 'NZ.SM08.10.EHZ', 'NZ.SM09.10.EHZ', 'NZ.SM10.10.EHZ', 'NZ.SM11.10.EHZ', 'NZ.SM12.10.EHZ', 'NZ.SM13.10.EHZ', 'NZ.SM14.10.EHZ', 'NZ.SM15.10.EHZ', 'NZ.SM16.10.EHZ', 'NZ.SM17.10.EHZ', 'NZ.SM18.10.EHZ']\n",
    "stations_tilt = ['NZ.COVZ.90.LAX']\n",
    "stations_geonet = ['NZ.KUTZ.10.EHZ', 'NZ.HRRZ.10.EHZ', 'NZ.ALRZ.10.EHZ', 'NZ.PRRZ.10.EHZ', 'NZ.WPRZ.10.EHZ', 'NZ.THQ2.10.EHZ', 'NZ.ARAZ.10.EHZ']\n",
    "stations = stations_rotnga\n",
    "\n",
    "#first and last dates to check\n",
    "date1 = '2019-01-01'\n",
    "date2 = '2019-12-31'\n",
    "\n",
    "dstart = datetime.strptime(date1, '%Y-%m-%d')\n",
    "dend = datetime.strptime(date2, '%Y-%m-%d')\n",
    "dates = pd.date_range(start=dstart, end=dend, freq='1D')\n",
    "\n",
    "#number of days\n",
    "ndays = (dend - dstart).days + 1"
   ]
  },
  {
   "cell_type": "markdown",
   "metadata": {},
   "source": [
    "**Store file search results in a pandas dataframe for easy manipulation**"
   ]
  },
  {
   "cell_type": "code",
   "execution_count": 4,
   "metadata": {},
   "outputs": [],
   "source": [
    "files = pd.DataFrame()"
   ]
  },
  {
   "cell_type": "markdown",
   "metadata": {},
   "source": [
    "**Loop through files, adding information to dataframe if a file is found**"
   ]
  },
  {
   "cell_type": "code",
   "execution_count": 5,
   "metadata": {},
   "outputs": [],
   "source": [
    "if os.path.isdir(sds):\n",
    "    #sds folder exists, start processing\n",
    "    for station in stations:\n",
    "        #print ('checking station: '+station)\n",
    "        (net, sta, loc, cmp) = station.split('.')\n",
    "        #sta = station.split('.')[1]\n",
    "        #loc = station.split('.')[2]\n",
    "        #cmp = station.split('.')[3]\n",
    "        \n",
    "        #loop through dates\n",
    "        for date in dates:\n",
    "            year = date.timetuple().tm_year\n",
    "            yday = date.timetuple().tm_yday\n",
    "            #print ('checking date: '+str(year)+', '+str(yday).zfill(3))\n",
    "            folder = os.path.join(sds, str(year), str(net), str(sta), str(cmp)+'.D')\n",
    "            file = os.path.join(folder, station+'.D.'+str(year)+'.'+str(yday).zfill(3))\n",
    "            \n",
    "            if os.path.isfile(file):\n",
    "                files = files.append({'date':date, 'site':str(sta)}, ignore_index=True)\n",
    "else:\n",
    "    print ('error: sds folder does not exist', sds)\n"
   ]
  },
  {
   "cell_type": "markdown",
   "metadata": {},
   "source": [
    "**Plot the 'standard' time series**"
   ]
  },
  {
   "cell_type": "code",
   "execution_count": 6,
   "metadata": {},
   "outputs": [
    {
     "data": {
      "image/png": "[encoded data removed]",
      "text/plain": [
       "<Figure size 1080x540 with 1 Axes>"
      ]
     },
     "metadata": {
      "needs_background": "light"
     },
     "output_type": "display_data"
    }
   ],
   "source": [
    "#setup dictionary of station name vs yvalue, for stations that have files\n",
    "station_list = files.site.unique()\n",
    "yvals = range(1,(1+len(files.site.unique())))\n",
    "stavals = dict(zip(station_list, yvals))\n",
    "\n",
    "#add column to dataframe based on dictionary key:value pairs\n",
    "files['yval'] = files['site'].map(stavals)\n",
    "\n",
    "#plot\n",
    "pl = files.plot(x='date', y='yval', marker='.', markersize=1.5, linestyle='None', color = 'red', figsize=(15,7.5), legend=False)\n",
    "pl.set_ylim(0.5, len(files.site.unique())+0.5)\n",
    "pl.set_xlim(date1, date2)\n",
    "\n",
    "#turn off y-axis tick labels\n",
    "cur_axes = plt.gca()\n",
    "cur_axes.axes.get_yaxis().set_ticklabels([])\n",
    "\n",
    "#x-axis label off\n",
    "plt.xlabel(\"\") #get rid of useless 'date' label\n",
    "\n",
    "#add station names as label text\n",
    "for lab,y in stavals.items():\n",
    "    pl.text(dstart, y, lab, fontsize=12, horizontalalignment='right', verticalalignment='center')  \n",
    "\n",
    "#title\n",
    "title = 'SDS data holdings for '+date1+' to '+date2\n",
    "plt.title(title)\n",
    "    \n",
    "#output\n",
    "plt.savefig('sds_holdings.png', dpi=200)"
   ]
  },
  {
   "cell_type": "markdown",
   "metadata": {},
   "source": [
    "**Plot data holding percentage**"
   ]
  },
  {
   "cell_type": "code",
   "execution_count": 7,
   "metadata": {},
   "outputs": [],
   "source": [
    "percent = pd.DataFrame()"
   ]
  },
  {
   "cell_type": "code",
   "execution_count": 8,
   "metadata": {},
   "outputs": [],
   "source": [
    "#loop through stations, calculating percentage data holdings\n",
    "for site in station_list:\n",
    "    pc = float(len(files[files.site == site])) / float(ndays) * 100 \n",
    "    percent = percent.append({'site':site, 'percent':pc}, ignore_index=True)\n",
    "\n",
    "percent.set_index('site', inplace=True)"
   ]
  },
  {
   "cell_type": "code",
   "execution_count": 10,
   "metadata": {},
   "outputs": [
    {
     "data": {
      "image/png": "[encoded data removed]",
      "text/plain": [
       "<Figure size 720x360 with 1 Axes>"
      ]
     },
     "metadata": {
      "needs_background": "light"
     },
     "output_type": "display_data"
    }
   ],
   "source": [
    "pcp = percent.plot.barh(figsize=(10,5), width=0.1, legend=False, color='red', edgecolor='None')\n",
    "pcp.set_xlabel('Percentage data held')\n",
    "plt.ylabel(\"\")\n",
    "pcp.set_xlim(0,100)\n",
    "title = 'Percentage SDS data holdings for '+date1+' to '+date2\n",
    "plt.title(title)\n",
    "#output\n",
    "plt.savefig('sds_percent_holdings.png', dpi=200)"
   ]
  },
  {
   "cell_type": "markdown",
   "metadata": {},
   "source": [
    "**Mean data holdings, useful as a 'recovery' measure from a survey**"
   ]
  },
  {
   "cell_type": "code",
   "execution_count": 12,
   "metadata": {},
   "outputs": [
    {
     "data": {
      "text/plain": [
       "96.93648816936488"
      ]
     },
     "execution_count": 12,
     "metadata": {},
     "output_type": "execute_result"
    }
   ],
   "source": [
    "percent.percent.mean()"
   ]
  }
 ],
 "metadata": {
  "kernelspec": {
   "display_name": "Python 3",
   "language": "python",
   "name": "python3"
  },
  "language_info": {
   "codemirror_mode": {
    "name": "ipython",
    "version": 3
   },
   "file_extension": ".py",
   "mimetype": "text/x-python",
   "name": "python",
   "nbconvert_exporter": "python",
   "pygments_lexer": "ipython3",
   "version": "3.7.3"
  }
 },
 "nbformat": 4,
 "nbformat_minor": 4
}
