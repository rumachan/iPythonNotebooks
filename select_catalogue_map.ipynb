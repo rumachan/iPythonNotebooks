{
 "cells": [
  {
   "cell_type": "markdown",
   "metadata": {},
   "source": [
    "Selectable earthquake catalogue search producing time-series plots\n",
    "--\n",
    "\n",
    "Select a date range, and use a map to select a polygon of interest. The polygon can be quite complex. The polygon and date range are used for a QuakeSearch, which provides data for time-series plots. An epicentre map is provided to show what events are included in the time-series plots.\n",
    "\n",
    "\n",
    "This uses https://github.com/ellisonbg/ipyleaflet, in particular this example https://github.com/ellisonbg/ipyleaflet/blob/master/examples/DrawControl.ipynb\n",
    "jupyter nbextension enable --py --sys-prefix ipyleaflet"
   ]
  },
  {
   "cell_type": "markdown",
   "metadata": {},
   "source": [
    "Run all the cells in this notebook\n",
    "--\n",
    "1. **Click on Cell -> Run All**\n",
    "\n",
    "Then\n",
    "--\n",
    "1. **Using the date widgets, select the start and end dates for catalogue search, and the depth range**\n",
    "2. **Use the polgyon tool to draw the search area. The tool provides instructions.**\n",
    "3. **Click on the widget 'Search and plot'**"
   ]
  },
  {
   "cell_type": "code",
   "execution_count": null,
   "metadata": {},
   "outputs": [],
   "source": [
    "%%javascript\n",
    "IPython.OutputArea.prototype._should_scroll = function(lines) {\n",
    "    return false;\n",
    "}"
   ]
  },
  {
   "cell_type": "code",
   "execution_count": null,
   "metadata": {},
   "outputs": [],
   "source": [
    "from IPython.core.display import display, HTML\n",
    "display(HTML(\"<style>.container { width:100% !important; }</style>\"))"
   ]
  },
  {
   "cell_type": "code",
   "execution_count": null,
   "metadata": {},
   "outputs": [],
   "source": [
    "from ipyleaflet import (\n",
    "    Map,\n",
    "    Marker,\n",
    "    TileLayer, ImageOverlay,\n",
    "    Polyline, Polygon, Rectangle, Circle, CircleMarker,\n",
    "    GeoJSON,\n",
    "    DrawControl\n",
    ")\n",
    "from ipywidgets import interact, interactive, fixed, interact_manual\n",
    "import ipywidgets as widgets\n",
    "from ipywidgets import Button, Layout\n",
    "import matplotlib.pyplot as plt\n",
    "%matplotlib inline\n",
    "import pandas as pd\n",
    "import datetime\n",
    "from IPython.display import HTML\n",
    "import folium\n",
    "import os"
   ]
  },
  {
   "cell_type": "code",
   "execution_count": null,
   "metadata": {},
   "outputs": [],
   "source": [
    "HTML('''<script>\n",
    "code_show=true;\n",
    "function code_toggle() {\n",
    " if (code_show){\n",
    " $('div.input').hide();\n",
    " } else {\n",
    " $('div.input').show();\n",
    " }\n",
    " code_show = !code_show\n",
    "} \n",
    "$( document ).ready(code_toggle);\n",
    "</script>\n",
    "The raw code for this Jupyter notebook is by default hidden for easier reading.\n",
    "To toggle on/off the raw code, click <a href=\"javascript:code_toggle()\">here</a>.''')"
   ]
  },
  {
   "cell_type": "code",
   "execution_count": null,
   "metadata": {},
   "outputs": [],
   "source": [
    "#map needs an initial centre and zoom\n",
    "center = [-38.6892,176.0930]\n",
    "zoom = 10\n",
    "\n",
    "#default depth range (km)\n",
    "dep1 = 0\n",
    "dep2 = 20\n",
    "dp1 = str(dep1)\n",
    "dp2 = str(dep2)"
   ]
  },
  {
   "cell_type": "code",
   "execution_count": null,
   "metadata": {},
   "outputs": [],
   "source": [
    "def querypoly (gj):\n",
    "    \"\"\"form a query polygon for WFS from GEOJSON\"\"\"\n",
    "    polygon = ''\n",
    "    for c in gj['geometry']['coordinates'][0]:\n",
    "        lon = c[0]\n",
    "        lat = c[1]\n",
    "        coord = str(lon)+'+'+str(lat)+','\n",
    "        polygon += coord\n",
    "    polygon = polygon[:-1]\n",
    "    return polygon"
   ]
  },
  {
   "cell_type": "code",
   "execution_count": null,
   "metadata": {},
   "outputs": [],
   "source": [
    "def mappoly (gj):\n",
    "    \"\"\"form a list of coordinate pairs for plotting on a folium map from GEOJSON\"\"\"\n",
    "    polygon = []\n",
    "    for c in gj['geometry']['coordinates'][0]:\n",
    "        lon = c[0]\n",
    "        lat = c[1]\n",
    "        polygon.append((lat,lon))\n",
    "    return polygon"
   ]
  },
  {
   "cell_type": "code",
   "execution_count": null,
   "metadata": {},
   "outputs": [],
   "source": [
    "#ipwidget functions\n",
    "def seldate1(d1):\n",
    "  global date1\n",
    "  date1 = d1['new']\n",
    "  date1 = date1.strftime(\"%Y-%m-%d\")\n",
    "\n",
    "def seldate2(d2):\n",
    "  global date2\n",
    "  date2 = d2['new']\n",
    "  date2 = date2.strftime(\"%Y-%m-%d\")\n",
    "\n",
    "def deprng(d):\n",
    "  global dp1, dp2\n",
    "  dp1, dp2  = d['new']\n",
    "  dp1 = str(dp1)\n",
    "  dp2 = str(dp2)"
   ]
  },
  {
   "cell_type": "code",
   "execution_count": null,
   "metadata": {},
   "outputs": [],
   "source": [
    "def plot(p):\n",
    "    global cat\n",
    "    \n",
    "    gj = dc.last_draw\n",
    "    qpoly = querypoly(gj)\n",
    "    print ('polygon is', qpoly) #this cell is the polygon, the format is suitable for a GeoNet search\n",
    "    \n",
    "    #get data\n",
    "    url = \"http://wfs.geonet.org.nz/geonet/ows?service=WFS&version=1.0.0&request=GetFeature&typeName=geonet:quake_search_v1&outputFormat=csv&cql_filter=origintime>=\"+date1+\"+AND+origintime<=\"+date2+\"+AND+WITHIN(origin_geom,POLYGON((\" + qpoly + \"+)))+AND+depth>=\"+dp1+\"+AND+depth<=\"+dp2\n",
    "    cat = pd.read_csv(url, parse_dates=['origintime'], index_col='origintime')\n",
    "    cat.sort_index(ascending=True, inplace=True) # sort by origintime(index), so events in time order\n",
    "   \n",
    "    #plot\n",
    "    fig = plt.figure(figsize=(10, 10))\n",
    "\n",
    "    d1 = datetime.datetime.strptime(date1, \"%Y-%m-%d\")\n",
    "    d2 = datetime.datetime.strptime(date2, \"%Y-%m-%d\")\n",
    "\n",
    "    # magnitude vs time\n",
    "    ax1 = fig.add_subplot(3, 1, 1)\n",
    "    ymax = 1.1 * cat.magnitude.max()\n",
    "    ax1.set_ylim([0, ymax])\n",
    "    # automatic locations\n",
    "    automatic = cat.magnitude[cat['evaluationmode'] == 'automatic']\n",
    "    ax1.plot(automatic, marker='o', color='red', linestyle='None', label='automatic')\n",
    "    # manual locations\n",
    "    manual = cat.magnitude[cat['evaluationmode'] == 'manual']\n",
    "    ax1.plot(manual, marker='o', color='blue', linestyle='None', label='manual')\n",
    "    plt.ylabel('magnitude')\n",
    "    plt.legend(loc='best')\n",
    "\n",
    "    # cumulative number\n",
    "    ax2 = fig.add_subplot(3, 1, 2, sharex=ax1)\n",
    "    ax2.plot(cat.index, cat.reset_index().index, color='red', marker='None', label='cumnum')\n",
    "    ax2.tick_params(axis='y', colors='red')\n",
    "    ax2.set_ylabel('cumulative number', color='red')\n",
    "\n",
    "    # cumulative energy (normalised to 1.0), on same plot\n",
    "    ax2a = ax2.twinx()\n",
    "    ax2a.set_ylim([0, 1])\n",
    "    cat['energy'] = pow(10, (1.44 * cat['magnitude'] + 5.24))\n",
    "    cat['cumeng'] = cat['energy'].cumsum()\n",
    "    cat['cumeng'] = cat['cumeng'] / cat['cumeng'].max()\n",
    "    ax2a.plot(cat.cumeng, color='blue', marker='None', label='cumeng')\n",
    "    ax2a.tick_params(axis='y', colors='blue')\n",
    "    ax2a.set_ylabel('normalised cumulative energy', color='blue')\n",
    "\n",
    "    # depth\n",
    "    ax3 = fig.add_subplot(3, 1, 3, sharex=ax1)\n",
    "    ax3.set_ylim([int(dp1), int(dp2)])\n",
    "    ax3.set_xlim([d1,d2])\n",
    "    # automatic locations\n",
    "    automatic = cat.depth[cat['evaluationmode'] == 'automatic']\n",
    "    ax3.plot(automatic, color='red', marker='o', linestyle='None', label='automatic')\n",
    "    # manual locations\n",
    "    manual = cat.depth[cat['evaluationmode'] == 'manual']\n",
    "    ax3.plot(manual, color='blue', marker='o', linestyle='None', label='manual')\n",
    "    plt.gca().invert_yaxis()\n",
    "    ax3.set_ylabel('depth(km)')\n",
    "    plt.legend(loc='best')\n",
    "\n",
    "    plt.savefig('catevents.png', dpi=200)\n",
    "    try:\n",
    "        os.chmod('catevents.png', 0o666) #set writable by all\n",
    "    except:\n",
    "        pass\n",
    "     \n",
    "    #epicentre map\n",
    "    area = mappoly(gj)\n",
    "    new_cent = list(tuple(map(lambda y: sum(y) / float(len(y)), zip(*area)))) #new map centre, polygon average\n",
    "    emap = folium.Map(location=new_cent, width=400, height=400, zoom_start=zoom, control_scale=True)\n",
    "    folium.PolyLine(area, color=\"blue\", weight=5, opacity=0.5).add_to(emap)\n",
    "    for lat, lon, mag, id in zip(cat['latitude'], cat['longitude'], cat['magnitude'], cat['publicid']):\n",
    "        folium.CircleMarker(\n",
    "            location=[lat, lon],\n",
    "            radius=mag,\n",
    "            popup=id,\n",
    "            color='red',\n",
    "            fill=True,\n",
    "            fill_color='red'\n",
    "        ).add_to(emap)\n",
    "    display(emap)"
   ]
  },
  {
   "cell_type": "code",
   "execution_count": null,
   "metadata": {
    "scrolled": true
   },
   "outputs": [],
   "source": [
    "d1 = widgets.DatePicker(description='Search start date:')\n",
    "d1.observe(seldate1, names='value')\n",
    "\n",
    "d2 = widgets.DatePicker(description='Search end date:')\n",
    "d2.observe(seldate2, names='value')\n",
    "\n",
    "d = widgets.IntRangeSlider(\n",
    "    #default depth range\n",
    "    value=[dep1, dep2],\n",
    "    min=0,\n",
    "    max=100,\n",
    "    step=1,\n",
    "    description='Depth range:',\n",
    "    disabled=False,\n",
    "    continuous_update=False,\n",
    "    orientation='horizontal',\n",
    "    readout=True,\n",
    "    readout_format='d')\n",
    "d.observe(deprng, names='value')\n",
    "\n",
    "widgets.HBox([d1, d2, d])"
   ]
  },
  {
   "cell_type": "code",
   "execution_count": null,
   "metadata": {},
   "outputs": [],
   "source": [
    "m = Map(center=center, zoom=zoom, layout=dict(width='500px', height='500px'))\n",
    "m"
   ]
  },
  {
   "cell_type": "code",
   "execution_count": null,
   "metadata": {},
   "outputs": [],
   "source": [
    "dc = DrawControl()\n",
    "\n",
    "def handle_draw(self, action, geo_json):\n",
    "    print(action)\n",
    "    print(geo_json)\n",
    "\n",
    "m.add_control(dc)"
   ]
  },
  {
   "cell_type": "code",
   "execution_count": null,
   "metadata": {
    "scrolled": true
   },
   "outputs": [],
   "source": [
    "#search and plot\n",
    "p=widgets.Button(\n",
    "    description='Search and plot',\n",
    "    disabled=False,\n",
    "    button_style='success',\n",
    "    tooltip='Click here')\n",
    "p.on_click(plot)\n",
    "\n",
    "widgets.HBox([p])"
   ]
  }
 ],
 "metadata": {
  "kernelspec": {
   "display_name": "Python 3",
   "language": "python",
   "name": "python3"
  },
  "language_info": {
   "codemirror_mode": {
    "name": "ipython",
    "version": 3
   },
   "file_extension": ".py",
   "mimetype": "text/x-python",
   "name": "python",
   "nbconvert_exporter": "python",
   "pygments_lexer": "ipython3",
   "version": "3.6.4"
  }
 },
 "nbformat": 4,
 "nbformat_minor": 2
}
