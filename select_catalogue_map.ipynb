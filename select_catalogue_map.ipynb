{
 "cells": [
  {
   "cell_type": "markdown",
   "metadata": {},
   "source": [
    "Use of ipyleaflet to select a map area and produce an earthquake catalogue, which is plotted\n",
    "--\n",
    "\n",
    "This uses https://github.com/ellisonbg/ipyleaflet, in particular this example https://github.com/ellisonbg/ipyleaflet/blob/master/examples/DrawControl.ipynb\n",
    "\n",
    "\n",
    "\n",
    "jupyter nbextension enable --py --sys-prefix ipyleaflet"
   ]
  },
  {
   "cell_type": "code",
   "execution_count": 40,
   "metadata": {},
   "outputs": [
    {
     "data": {
      "application/javascript": [
       "IPython.OutputArea.prototype._should_scroll = function(lines) {\n",
       "    return false;\n",
       "}"
      ],
      "text/plain": [
       "<IPython.core.display.Javascript object>"
      ]
     },
     "metadata": {},
     "output_type": "display_data"
    }
   ],
   "source": [
    "%%javascript\n",
    "IPython.OutputArea.prototype._should_scroll = function(lines) {\n",
    "    return false;\n",
    "}"
   ]
  },
  {
   "cell_type": "code",
   "execution_count": 41,
   "metadata": {},
   "outputs": [
    {
     "data": {
      "text/html": [
       "<style>.container { width:100% !important; }</style>"
      ],
      "text/plain": [
       "<IPython.core.display.HTML object>"
      ]
     },
     "metadata": {},
     "output_type": "display_data"
    }
   ],
   "source": [
    "from IPython.core.display import display, HTML\n",
    "display(HTML(\"<style>.container { width:100% !important; }</style>\"))"
   ]
  },
  {
   "cell_type": "code",
   "execution_count": 42,
   "metadata": {
    "collapsed": true
   },
   "outputs": [],
   "source": [
    "from ipyleaflet import (\n",
    "    Map,\n",
    "    Marker,\n",
    "    TileLayer, ImageOverlay,\n",
    "    Polyline, Polygon, Rectangle, Circle, CircleMarker,\n",
    "    GeoJSON,\n",
    "    DrawControl\n",
    ")\n",
    "from ipywidgets import interact, interactive, fixed, interact_manual\n",
    "import ipywidgets as widgets\n",
    "from ipywidgets import Button, Layout\n",
    "import matplotlib.pyplot as plt\n",
    "%matplotlib inline\n",
    "import pandas as pd\n",
    "import datetime"
   ]
  },
  {
   "cell_type": "markdown",
   "metadata": {},
   "source": [
    "**Initialise some values**"
   ]
  },
  {
   "cell_type": "code",
   "execution_count": 43,
   "metadata": {
    "collapsed": true
   },
   "outputs": [],
   "source": [
    "#map needs an initial centre and zoom\n",
    "center = [-38.6892,176.0930]\n",
    "zoom = 10\n",
    "\n",
    "#default depth range (km)\n",
    "dep1 = 0\n",
    "dep2 = 20\n",
    "dp1 = str(dep1)\n",
    "dp2 = str(dep2)"
   ]
  },
  {
   "cell_type": "code",
   "execution_count": 44,
   "metadata": {
    "collapsed": true
   },
   "outputs": [],
   "source": [
    "def querypoly (gj):\n",
    "    \"\"\"form a query polygon for WFS from GEOJSON\"\"\"\n",
    "    polygon = ''\n",
    "    for c in gj['geometry']['coordinates'][0]:\n",
    "        lon = c[0]\n",
    "        lat = c[1]\n",
    "        coord = str(lon)+'+'+str(lat)+','\n",
    "        polygon += coord\n",
    "    polygon = polygon[:-1]\n",
    "    return polygon"
   ]
  },
  {
   "cell_type": "code",
   "execution_count": 45,
   "metadata": {
    "collapsed": true
   },
   "outputs": [],
   "source": [
    "#ipwidget functions\n",
    "def seldate1(d1):\n",
    "  global date1\n",
    "  date1 = d1['new']\n",
    "  #date1 = date1.strftime(\"%Y-%m-%dT00:00:00.000Z\")\n",
    "  date1 = date1.strftime(\"%Y-%m-%d\")\n",
    "\n",
    "def seldate2(d2):\n",
    "  global date2\n",
    "  date2 = d2['new']\n",
    "  #date2 = date2.strftime(\"%Y-%m-%dT00:00:00.000Z\")\n",
    "  date2 = date2.strftime(\"%Y-%m-%d\")\n",
    "\n",
    "def deprng(d):\n",
    "  global dp1, dp2\n",
    "  dp1, dp2  = d['new']\n",
    "  dp1 = str(dp1)\n",
    "  dp2 = str(dp2)"
   ]
  },
  {
   "cell_type": "code",
   "execution_count": 46,
   "metadata": {
    "collapsed": true,
    "scrolled": true
   },
   "outputs": [],
   "source": [
    "def plot(p):\n",
    "    #get data\n",
    "    url = \"http://wfs.geonet.org.nz/geonet/ows?service=WFS&version=1.0.0&request=GetFeature&typeName=geonet:quake_search_v1&outputFormat=csv&cql_filter=origintime>=\"+date1+\"+AND+origintime<=\"+date2+\"+AND+WITHIN(origin_geom,POLYGON((\" + qpoly + \"+)))+AND+depth>=\"+dp1+\"+AND+depth<=\"+dp2\n",
    "    cat = pd.read_csv(url, parse_dates=['origintime'], index_col='origintime')\n",
    "    cat.sort_index(ascending=True, inplace=True) # sort by origintime(index), so events in time order\n",
    "\n",
    "    #plot\n",
    "    fig = plt.figure(figsize=(15, 15))\n",
    "\n",
    "    d1 = datetime.datetime.strptime(date1, \"%Y-%m-%d\")\n",
    "    d2 = datetime.datetime.strptime(date2, \"%Y-%m-%d\")\n",
    "\n",
    "    # magnitude vs time\n",
    "    ax1 = fig.add_subplot(3, 1, 1)\n",
    "    ax1.set_xlim([d1,d2])\n",
    "    ymax = 1.1 * cat.magnitude.max()\n",
    "    ax1.set_ylim([0, ymax])\n",
    "    # automatic locations\n",
    "    automatic = cat.magnitude[cat['evaluationmode'] == 'automatic']\n",
    "    ax1.plot(automatic, marker='o', color='red', linestyle='None', label='automatic')\n",
    "    # manual locations\n",
    "    manual = cat.magnitude[cat['evaluationmode'] == 'manual']\n",
    "    ax1.plot(manual, marker='o', color='blue', linestyle='None', label='manual')\n",
    "    plt.ylabel('magnitude')\n",
    "    plt.legend(loc='best')\n",
    "\n",
    "    # cumulative number\n",
    "    ax2 = fig.add_subplot(3, 1, 2, sharex=ax1)\n",
    "    ax2.plot(cat.index, cat.reset_index().index, color='red', marker='None', label='cumnum')\n",
    "    ax2.tick_params(axis='y', colors='red')\n",
    "    ax2.set_ylabel('cumulative number', color='red')\n",
    "\n",
    "    # cumulative energy (normalised to 1.0), on same plot\n",
    "    ax2a = ax2.twinx()\n",
    "    ax2a.set_xlim([d1,d2])\n",
    "    ax2a.set_ylim([0, 1])\n",
    "    cat['energy'] = pow(10, (1.44 * cat['magnitude'] + 5.24))\n",
    "    cat['cumeng'] = cat['energy'].cumsum()\n",
    "    cat['cumeng'] = cat['cumeng'] / cat['cumeng'].max()\n",
    "    ax2a.plot(cat.cumeng, color='blue', marker='None', label='cumeng')\n",
    "    ax2a.tick_params(axis='y', colors='blue')\n",
    "    ax2a.set_ylabel('normalised cumulative energy', color='blue')\n",
    "\n",
    "    # depth\n",
    "    ax3 = fig.add_subplot(3, 1, 3, sharex=ax1)\n",
    "    ax3.set_ylim([int(dp1), int(dp2)])\n",
    "    # automatic locations\n",
    "    automatic = cat.depth[cat['evaluationmode'] == 'automatic']\n",
    "    ax3.plot(automatic, color='red', marker='o', linestyle='None', label='automatic')\n",
    "    # manual locations\n",
    "    manual = cat.depth[cat['evaluationmode'] == 'manual']\n",
    "    ax3.plot(manual, color='blue', marker='o', linestyle='None', label='manual')\n",
    "    plt.gca().invert_yaxis()\n",
    "    ax3.set_ylabel('depth(km)')\n",
    "    plt.legend(loc='best')\n",
    "\n",
    "    plt.savefig('catevents.png', dpi=200)"
   ]
  },
  {
   "cell_type": "code",
   "execution_count": 47,
   "metadata": {},
   "outputs": [
    {
     "data": {
      "application/vnd.jupyter.widget-view+json": {
       "model_id": "1ef9a93b61274d2c9d3b44290f9361a9",
       "version_major": 2,
       "version_minor": 0
      },
      "text/html": [
       "<p>Failed to display Jupyter Widget of type <code>Map</code>.</p>\n",
       "<p>\n",
       "  If you're reading this message in the Jupyter Notebook or JupyterLab Notebook, it may mean\n",
       "  that the widgets JavaScript is still loading. If this message persists, it\n",
       "  likely means that the widgets JavaScript library is either not installed or\n",
       "  not enabled. See the <a href=\"https://ipywidgets.readthedocs.io/en/stable/user_install.html\">Jupyter\n",
       "  Widgets Documentation</a> for setup instructions.\n",
       "</p>\n",
       "<p>\n",
       "  If you're reading this message in another frontend (for example, a static\n",
       "  rendering on GitHub or <a href=\"https://nbviewer.jupyter.org/\">NBViewer</a>),\n",
       "  it may mean that your frontend doesn't currently support widgets.\n",
       "</p>\n"
      ],
      "text/plain": [
       "Map(center=[-38.6892, 176.093], layers=(TileLayer(attribution=u'Map data (c) <a href=\"https://openstreetmap.org\">OpenStreetMap</a> contributors', options=[u'opacity', u'attribution', u'max_zoom', u'detect_retina', u'min_zoom', u'tile_size'], url=u'https://{s}.tile.openstreetmap.org/{z}/{x}/{y}.png'),), layout=Layout(height=u'600px', width=u'600px'), options=[u'keyboard_pan_offset', u'tap', u'attribution_control', u'max_zoom', u'min_zoom', u'bounce_at_zoom_limits', u'keyboard', u'scroll_wheel_zoom', u'dragging', u'inertia_max_speed', u'close_popup_on_click', u'zoom_control', u'box_zoom', u'double_click_zoom', u'tap_tolerance', u'zoom_start', u'keyboard_zoom_offset', u'inertia_deceleration', u'inertia', u'center', u'zoom', u'world_copy_jump', u'zoom_animation_threshold', u'touch_zoom'], zoom=10)"
      ]
     },
     "metadata": {},
     "output_type": "display_data"
    }
   ],
   "source": [
    "m = Map(center=center, zoom=zoom, layout=dict(width='600px', height='600px'))\n",
    "m"
   ]
  },
  {
   "cell_type": "code",
   "execution_count": 48,
   "metadata": {
    "collapsed": true
   },
   "outputs": [],
   "source": [
    "dc = DrawControl()\n",
    "\n",
    "def handle_draw(self, action, geo_json):\n",
    "    print(action)\n",
    "    print(geo_json)\n",
    "\n",
    "m.add_control(dc)"
   ]
  },
  {
   "cell_type": "markdown",
   "metadata": {},
   "source": [
    "1. **Run the cells above here. Hint: from the menu, click on Cell -> Run All Above**\n",
    "2. **Use the polgyon tool to draw the search area. The tool provides instructions.**\n",
    "3. **Run the cell below. Hint: click in the cell, then hit Ctrl-Enter. This finds the coordinates of your polygon.**\n",
    "4. **Using the date widgets, select the start and end dates for catalogue search, and the depth range**"
   ]
  },
  {
   "cell_type": "code",
   "execution_count": 49,
   "metadata": {
    "scrolled": true
   },
   "outputs": [
    {
     "data": {
      "text/plain": [
       "'175.919137+-38.535981,176.236367+-38.55424,176.234994+-38.752644,175.908151+-38.790118,175.919137+-38.535981'"
      ]
     },
     "execution_count": 49,
     "metadata": {},
     "output_type": "execute_result"
    }
   ],
   "source": [
    "#get the polgyon coordinates\n",
    "\n",
    "gj = dc.last_draw\n",
    "qpoly = querypoly(gj)\n",
    "\n",
    "qpoly #this cell is the polygon, the format is suitable for a GeoNet search"
   ]
  },
  {
   "cell_type": "markdown",
   "metadata": {},
   "source": [
    "**Use the selected polygon**"
   ]
  },
  {
   "cell_type": "code",
   "execution_count": 50,
   "metadata": {
    "scrolled": true
   },
   "outputs": [
    {
     "data": {
      "application/vnd.jupyter.widget-view+json": {
       "model_id": "b13ac61645984332b32b7a0584bd6aae",
       "version_major": 2,
       "version_minor": 0
      },
      "text/html": [
       "<p>Failed to display Jupyter Widget of type <code>HBox</code>.</p>\n",
       "<p>\n",
       "  If you're reading this message in the Jupyter Notebook or JupyterLab Notebook, it may mean\n",
       "  that the widgets JavaScript is still loading. If this message persists, it\n",
       "  likely means that the widgets JavaScript library is either not installed or\n",
       "  not enabled. See the <a href=\"https://ipywidgets.readthedocs.io/en/stable/user_install.html\">Jupyter\n",
       "  Widgets Documentation</a> for setup instructions.\n",
       "</p>\n",
       "<p>\n",
       "  If you're reading this message in another frontend (for example, a static\n",
       "  rendering on GitHub or <a href=\"https://nbviewer.jupyter.org/\">NBViewer</a>),\n",
       "  it may mean that your frontend doesn't currently support widgets.\n",
       "</p>\n"
      ],
      "text/plain": [
       "HBox(children=(DatePicker(value=None, description=u'Search start date:'), DatePicker(value=None, description=u'Search end date:'), IntRangeSlider(value=(0, 20), continuous_update=False, description=u'Depth range:')))"
      ]
     },
     "metadata": {},
     "output_type": "display_data"
    }
   ],
   "source": [
    "d1 = widgets.DatePicker(description='Search start date:')\n",
    "d1.observe(seldate1, names='value')\n",
    "\n",
    "d2 = widgets.DatePicker(description='Search end date:')\n",
    "d2.observe(seldate2, names='value')\n",
    "\n",
    "d = widgets.IntRangeSlider(\n",
    "    #default depth range\n",
    "    value=[dep1, dep2],\n",
    "    min=0,\n",
    "    max=100,\n",
    "    step=1,\n",
    "    description='Depth range:',\n",
    "    disabled=False,\n",
    "    continuous_update=False,\n",
    "    orientation='horizontal',\n",
    "    readout=True,\n",
    "    readout_format='d')\n",
    "d.observe(deprng, names='value')\n",
    "\n",
    "widgets.HBox([d1, d2, d])"
   ]
  },
  {
   "cell_type": "code",
   "execution_count": 51,
   "metadata": {
    "scrolled": false
   },
   "outputs": [
    {
     "name": "stdout",
     "output_type": "stream",
     "text": [
      "search date range: 2017-12-01 to 2018-01-26\n",
      "search depth range: 0 to 20\n"
     ]
    }
   ],
   "source": [
    "print ('search date range: '+date1+' to '+date2)\n",
    "print ('search depth range: '+dp1+' to '+dp2)"
   ]
  },
  {
   "cell_type": "code",
   "execution_count": 52,
   "metadata": {
    "scrolled": true
   },
   "outputs": [
    {
     "data": {
      "application/vnd.jupyter.widget-view+json": {
       "model_id": "cc79c03c2879466c9c468c15d7192289",
       "version_major": 2,
       "version_minor": 0
      },
      "text/html": [
       "<p>Failed to display Jupyter Widget of type <code>HBox</code>.</p>\n",
       "<p>\n",
       "  If you're reading this message in the Jupyter Notebook or JupyterLab Notebook, it may mean\n",
       "  that the widgets JavaScript is still loading. If this message persists, it\n",
       "  likely means that the widgets JavaScript library is either not installed or\n",
       "  not enabled. See the <a href=\"https://ipywidgets.readthedocs.io/en/stable/user_install.html\">Jupyter\n",
       "  Widgets Documentation</a> for setup instructions.\n",
       "</p>\n",
       "<p>\n",
       "  If you're reading this message in another frontend (for example, a static\n",
       "  rendering on GitHub or <a href=\"https://nbviewer.jupyter.org/\">NBViewer</a>),\n",
       "  it may mean that your frontend doesn't currently support widgets.\n",
       "</p>\n"
      ],
      "text/plain": [
       "HBox(children=(Button(button_style=u'success', description=u'Plot', style=ButtonStyle(), tooltip=u'Click to plot'),))"
      ]
     },
     "metadata": {},
     "output_type": "display_data"
    },
    {
     "data": {
      "image/png": "[encoded data removed]",
      "text/plain": [
       "<matplotlib.figure.Figure at 0x7fd0d41bc810>"
      ]
     },
     "metadata": {},
     "output_type": "display_data"
    }
   ],
   "source": [
    "p=widgets.Button(\n",
    "    description='Plot',\n",
    "    disabled=False,\n",
    "    button_style='success',\n",
    "    tooltip='Click to plot')\n",
    "p.on_click(plot)\n",
    "\n",
    "widgets.HBox([p])"
   ]
  }
 ],
 "metadata": {
  "kernelspec": {
   "display_name": "Python 2",
   "language": "python",
   "name": "python2"
  },
  "language_info": {
   "codemirror_mode": {
    "name": "ipython",
    "version": 2
   },
   "file_extension": ".py",
   "mimetype": "text/x-python",
   "name": "python",
   "nbconvert_exporter": "python",
   "pygments_lexer": "ipython2",
   "version": "2.7.12"
  }
 },
 "nbformat": 4,
 "nbformat_minor": 2
}
