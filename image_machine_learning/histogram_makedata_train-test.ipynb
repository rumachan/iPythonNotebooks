{
 "cells": [
  {
   "cell_type": "markdown",
   "metadata": {},
   "source": [
    "Create a dataset for finding steamy images\n",
    "--\n",
    "\n",
    "Images have been pre-classified and put into one of two folders - clear and steam. For images in each folder, calculate the metrics and load into a dataframe."
   ]
  },
  {
   "cell_type": "code",
   "execution_count": 1,
   "metadata": {
    "collapsed": true
   },
   "outputs": [],
   "source": [
    "import cv2\n",
    "import matplotlib.pyplot as plt\n",
    "import numpy as np\n",
    "import os\n",
    "import pandas as pd\n",
    "\n",
    "%matplotlib inline"
   ]
  },
  {
   "cell_type": "code",
   "execution_count": 2,
   "metadata": {
    "collapsed": true
   },
   "outputs": [],
   "source": [
    "def hist_wid(hist):\n",
    "    minnonz = np.flatnonzero(hist).min()\n",
    "    maxnonz = np.flatnonzero(hist).max()\n",
    "    return (maxnonz - minnonz)"
   ]
  },
  {
   "cell_type": "code",
   "execution_count": 3,
   "metadata": {
    "collapsed": true
   },
   "outputs": [],
   "source": [
    "def hist_std(hist):\n",
    "    std = np.std(np.flatnonzero(hist))\n",
    "    return (std)"
   ]
  },
  {
   "cell_type": "code",
   "execution_count": 4,
   "metadata": {
    "collapsed": true
   },
   "outputs": [],
   "source": [
    "def hist_max(hist):\n",
    "    max = np.argmax(hist)\n",
    "    return (max)"
   ]
  },
  {
   "cell_type": "code",
   "execution_count": 5,
   "metadata": {
    "collapsed": true
   },
   "outputs": [],
   "source": [
    "def imfdtstr(imfile):\n",
    "    #gets the datetime of an image file named like 20180101001002WIWR.jpg as a string, for labelling only\n",
    "    dt = imfile[:14]\n",
    "    return (dt)"
   ]
  },
  {
   "cell_type": "code",
   "execution_count": 6,
   "metadata": {
    "collapsed": true
   },
   "outputs": [],
   "source": [
    "cleardir  = '/home/ruma/geonet/volcam_images/crop/clarity/clear'\n",
    "steamdir = '/home/ruma/geonet/volcam_images/crop/clarity/steam'"
   ]
  },
  {
   "cell_type": "markdown",
   "metadata": {},
   "source": [
    "**clear**"
   ]
  },
  {
   "cell_type": "code",
   "execution_count": 30,
   "metadata": {
    "collapsed": true
   },
   "outputs": [],
   "source": [
    "clear = pd.DataFrame()\n",
    "\n",
    "for file in sorted(os.listdir(cleardir)):\n",
    "        if file.endswith('.jpg'):\n",
    "            #print (file)\n",
    "            imfile = os.path.join(cleardir, file)\n",
    "            img = cv2.imread(imfile)\n",
    "            imtime = imfdtstr(file)\n",
    "            #calculate histogram\n",
    "            hist = cv2.calcHist([img],[0],None,[256],[0,256])\n",
    "            wid = hist_wid(hist) #width\n",
    "            std = hist_std(hist) #standard deviation\n",
    "            hmax = hist_max(hist) #index of maximum\n",
    "            clarity = 'clear'\n",
    "            d = {'wid':wid, 'std':std, 'hmax':hmax, 'type':clarity}\n",
    "            df = pd.DataFrame(d, index=[imtime])\n",
    "            clear = clear.append(df)"
   ]
  },
  {
   "cell_type": "markdown",
   "metadata": {},
   "source": [
    "**steam**"
   ]
  },
  {
   "cell_type": "code",
   "execution_count": 34,
   "metadata": {
    "collapsed": true
   },
   "outputs": [],
   "source": [
    "steam = pd.DataFrame()\n",
    "\n",
    "for file in sorted(os.listdir(steamdir)):\n",
    "        if file.endswith('.jpg'):\n",
    "            #print (file)\n",
    "            imfile = os.path.join(steamdir, file)\n",
    "            img = cv2.imread(imfile)\n",
    "            imtime = imfdtstr(file)\n",
    "            #calculate histogram\n",
    "            hist = cv2.calcHist([img],[0],None,[256],[0,256])\n",
    "            wid = hist_wid(hist) #width\n",
    "            std = hist_std(hist) #standard deviation\n",
    "            hmax = hist_max(hist) #index of maximum\n",
    "            clarity = 'steam'\n",
    "            d = {'wid':wid, 'std':std, 'hmax':hmax, 'type':clarity}\n",
    "            df = pd.DataFrame(d, index=[imtime])\n",
    "            steam = steam.append(df)"
   ]
  },
  {
   "cell_type": "markdown",
   "metadata": {},
   "source": [
    "**merge clear and steam and save**"
   ]
  },
  {
   "cell_type": "code",
   "execution_count": 70,
   "metadata": {
    "collapsed": true
   },
   "outputs": [],
   "source": [
    "frames = [clear, steam]\n",
    "result = pd.concat(frames)\n",
    "result.to_csv('image_data.csv', columns=['wid', 'std', 'type'])"
   ]
  },
  {
   "cell_type": "markdown",
   "metadata": {},
   "source": [
    "**plot width**"
   ]
  },
  {
   "cell_type": "code",
   "execution_count": 61,
   "metadata": {},
   "outputs": [
    {
     "data": {
      "text/plain": [
       "<matplotlib.legend.Legend at 0x7f6d8a71d908>"
      ]
     },
     "execution_count": 61,
     "metadata": {},
     "output_type": "execute_result"
    },
    {
     "data": {
      "image/png": "[encoded data removed]",
      "text/plain": [
       "<matplotlib.figure.Figure at 0x7f6d8a72f7b8>"
      ]
     },
     "metadata": {},
     "output_type": "display_data"
    }
   ],
   "source": [
    "bins=np.arange(10,120, 10)\n",
    "wid = steam['wid'].plot.hist(alpha=0.5, bins=bins, label='steam')\n",
    "clear['wid'].plot.hist(ax=wid, alpha=0.5, label='clear')\n",
    "wid.set_xlabel('histogram width')\n",
    "wid.legend(loc='best')"
   ]
  },
  {
   "cell_type": "markdown",
   "metadata": {},
   "source": [
    "**plot standard deviation**"
   ]
  },
  {
   "cell_type": "code",
   "execution_count": 64,
   "metadata": {
    "scrolled": true
   },
   "outputs": [
    {
     "data": {
      "text/plain": [
       "<matplotlib.legend.Legend at 0x7f6d8ac07160>"
      ]
     },
     "execution_count": 64,
     "metadata": {},
     "output_type": "execute_result"
    },
    {
     "data": {
      "image/png": "[encoded data removed]",
      "text/plain": [
       "<matplotlib.figure.Figure at 0x7f6d8a7e4cf8>"
      ]
     },
     "metadata": {},
     "output_type": "display_data"
    }
   ],
   "source": [
    "bins=np.arange(0,40, 5)\n",
    "std = steam['std'].plot.hist(alpha=0.5, bins=bins, label='steam')\n",
    "clear['std'].plot.hist(ax=std, alpha=0.5, label='clear')\n",
    "std.set_xlabel('histogram standard deviation')\n",
    "std.legend(loc='best')"
   ]
  },
  {
   "cell_type": "code",
   "execution_count": 66,
   "metadata": {
    "scrolled": true
   },
   "outputs": [
    {
     "data": {
      "text/plain": [
       "186"
      ]
     },
     "execution_count": 66,
     "metadata": {},
     "output_type": "execute_result"
    }
   ],
   "source": [
    "clear['hmax'].max()"
   ]
  },
  {
   "cell_type": "markdown",
   "metadata": {},
   "source": [
    "**plot position of max**\n",
    "\n",
    "This metric has a lot of overlap, so is not a good discriminant"
   ]
  },
  {
   "cell_type": "code",
   "execution_count": 67,
   "metadata": {},
   "outputs": [
    {
     "data": {
      "text/plain": [
       "<matplotlib.legend.Legend at 0x7f6de65c8c50>"
      ]
     },
     "execution_count": 67,
     "metadata": {},
     "output_type": "execute_result"
    },
    {
     "data": {
      "image/png": "[encoded data removed]",
      "text/plain": [
       "<matplotlib.figure.Figure at 0x7f6d8aa44860>"
      ]
     },
     "metadata": {},
     "output_type": "display_data"
    }
   ],
   "source": [
    "bins=np.arange(100,200, 10)\n",
    "hmax = steam['hmax'].plot.hist(alpha=0.5, bins=bins, label='steam')\n",
    "clear['hmax'].plot.hist(ax=hmax, alpha=0.5, label='clear')\n",
    "hmax.set_xlabel('histogram peak position')\n",
    "hmax.legend(loc='best')"
   ]
  }
 ],
 "metadata": {
  "kernelspec": {
   "display_name": "Python 2",
   "language": "python",
   "name": "python2"
  },
  "language_info": {
   "codemirror_mode": {
    "name": "ipython",
    "version": 2
   },
   "file_extension": ".py",
   "mimetype": "text/x-python",
   "name": "python",
   "nbconvert_exporter": "python",
   "pygments_lexer": "ipython2",
   "version": "2.7.12"
  }
 },
 "nbformat": 4,
 "nbformat_minor": 2
}
