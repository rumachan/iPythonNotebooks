{
 "cells": [
  {
   "cell_type": "markdown",
   "metadata": {},
   "source": [
    "# White Island Soil Gas Variation Plot\n",
    "\n",
    "## Purpose: ##\n",
    "Show all observations as a pseudo-xy plot. The x-axis represents the site (siteID), the y-axis represents the flux. Each plotted line represents the values from a single survey. The values from the latest survey are shown in a distinguishing colour.\n",
    "\n",
    "## Author: ##\n",
    "Steven Sherburn\n",
    "\n",
    "## Date: ##\n",
    "July 2018"
   ]
  },
  {
   "cell_type": "code",
   "execution_count": null,
   "metadata": {},
   "outputs": [],
   "source": [
    "import pandas as pd\n",
    "import matplotlib\n",
    "import matplotlib.cm as cm\n",
    "import matplotlib.pyplot as plt\n",
    "from matplotlib.transforms import offset_copy\n",
    "import requests\n",
    "\n",
    "%matplotlib inline"
   ]
  },
  {
   "cell_type": "code",
   "execution_count": null,
   "metadata": {},
   "outputs": [],
   "source": [
    "#full width notebook display\n",
    "from IPython.core.display import display, HTML\n",
    "display(HTML(\"<style>.container { width:100% !important; }</style>\"))"
   ]
  },
  {
   "cell_type": "code",
   "execution_count": null,
   "metadata": {},
   "outputs": [],
   "source": [
    "%%javascript\n",
    "IPython.OutputArea.prototype._should_scroll = function(lines) {\n",
    "    return false;\n",
    "}"
   ]
  },
  {
   "cell_type": "markdown",
   "metadata": {},
   "source": [
    "**Data search parameters**"
   ]
  },
  {
   "cell_type": "code",
   "execution_count": null,
   "metadata": {},
   "outputs": [],
   "source": [
    "typeID = 'CO2-flux-e'\n",
    "methodID = 'chmb'\n",
    "latmin = '-37.528'\n",
    "latmax = '-37.518'\n",
    "lonmin = '177.184'\n",
    "lonmax = '177.196'\n",
    "\n",
    "within = 'POLYGON(('+lonmin+'+'+latmax+','+lonmin+'+'+latmin+','+lonmax+'+'+latmin+','+lonmax+'+'+latmax+','+lonmin+'+'+latmax+'))'\n",
    "\n",
    "startdate = '2017-01-26'"
   ]
  },
  {
   "cell_type": "markdown",
   "metadata": {},
   "source": [
    "**Query**"
   ]
  },
  {
   "cell_type": "code",
   "execution_count": null,
   "metadata": {},
   "outputs": [],
   "source": [
    "url = 'http://fits.geonet.org.nz/site'\n",
    "payload = {'typeID': typeID, 'methodID': methodID, 'within': within}"
   ]
  },
  {
   "cell_type": "markdown",
   "metadata": {},
   "source": [
    "**Get sites from site query**"
   ]
  },
  {
   "cell_type": "code",
   "execution_count": null,
   "metadata": {},
   "outputs": [],
   "source": [
    "r = requests.get(url,params=payload)\n",
    "jdata = r.json()\n",
    "features = jdata['features']\n",
    "dfsite = pd.DataFrame() #empty dataframe\n",
    "for i, val in enumerate(features):\n",
    "  geometry = val['geometry']\n",
    "  lon = geometry['coordinates'][0]\n",
    "  lat = geometry['coordinates'][1]\n",
    "  properties = val['properties']\n",
    "  siteID = properties['siteID']\n",
    "  height = properties['height']\n",
    "  name = properties['name']\n",
    "  #append these to df\n",
    "  dfsite = dfsite.append({'siteID': siteID, 'lon': lon, 'lat': lat, 'height': height, 'name': name}, ignore_index=True)"
   ]
  },
  {
   "cell_type": "code",
   "execution_count": null,
   "metadata": {},
   "outputs": [],
   "source": [
    "dfsite.tail()"
   ]
  },
  {
   "cell_type": "markdown",
   "metadata": {},
   "source": [
    "**For each siteID, get time-series data and accumulate**"
   ]
  },
  {
   "cell_type": "code",
   "execution_count": null,
   "metadata": {},
   "outputs": [],
   "source": [
    "names = ['dt', 'obs', 'err']\n",
    "dfts = pd.DataFrame()   #empty dataframe"
   ]
  },
  {
   "cell_type": "code",
   "execution_count": null,
   "metadata": {},
   "outputs": [],
   "source": [
    "for site in dfsite['siteID']:\n",
    "  #site = site.encode('ascii','ignore')\n",
    "  #print site, network\n",
    "  url= 'https://fits.geonet.org.nz/observation?typeID='+typeID+'&siteID='+site+'&methodID='+methodID\n",
    "  df = pd.read_csv(url, names=names, skiprows=1, parse_dates={\"Datetime\" : ['dt']})\n",
    "  df['siteID'] = site\n",
    "  dfts = dfts.append(df, ignore_index=True)"
   ]
  },
  {
   "cell_type": "markdown",
   "metadata": {},
   "source": [
    "**Merge the two dataframes on siteID, keep only those after specified time**"
   ]
  },
  {
   "cell_type": "code",
   "execution_count": null,
   "metadata": {},
   "outputs": [],
   "source": [
    "dfall = pd.merge(dfsite, dfts, on='siteID')\n",
    "dfall = dfall[dfall['Datetime']>startdate]\n",
    "\n",
    "dfall.drop(['height', 'lat', 'lon', 'name', 'err'], axis='columns', inplace=True)"
   ]
  },
  {
   "cell_type": "markdown",
   "metadata": {},
   "source": [
    "**Get final observations**"
   ]
  },
  {
   "cell_type": "code",
   "execution_count": null,
   "metadata": {},
   "outputs": [],
   "source": [
    "dates = dfall['Datetime'].unique()\n",
    "datelist = dates.astype('datetime64[D]').astype('str').tolist()\n",
    "datelist.sort()\n",
    "\n",
    "#date of last values\n",
    "last = datelist[-1]\n",
    "\n",
    "dflast = dfall[dfall['Datetime']==last]\n",
    "\n",
    "dflast.tail()"
   ]
  },
  {
   "cell_type": "code",
   "execution_count": null,
   "metadata": {},
   "outputs": [],
   "source": [
    "#index from 1 to n\n",
    "# dflast.index = range(1,len(dflast)+1)\n",
    "dflast.index = range(len(dflast))"
   ]
  },
  {
   "cell_type": "code",
   "execution_count": null,
   "metadata": {},
   "outputs": [],
   "source": [
    "dfall.groupby('siteID')['obs'].count().head()"
   ]
  },
  {
   "cell_type": "code",
   "execution_count": null,
   "metadata": {},
   "outputs": [],
   "source": [
    "fig, ax = plt.subplots(figsize=(25,5))\n",
    "for date in datelist:\n",
    "    d = dfall[dfall['Datetime']==date]\n",
    "    ax.plot(d['siteID'], d['obs'], color='blue', alpha=0.5, label='')\n",
    "    \n",
    "#overplot last data\n",
    "dflast['obs'].plot(ax=ax, color='red', rot=90, label='Latest')\n",
    "\n",
    "ax.set_title('White Island Soil Gas Flux, All Data By SiteID', fontsize=16)\n",
    "ax.set_ylabel('Flux (g/m^2/d)')\n",
    "plt.legend()\n",
    "\n",
    "plt.savefig('soilgas_all_by_siteid.png')"
   ]
  }
 ],
 "metadata": {
  "kernelspec": {
   "display_name": "Python 3",
   "language": "python",
   "name": "python3"
  },
  "language_info": {
   "codemirror_mode": {
    "name": "ipython",
    "version": 3
   },
   "file_extension": ".py",
   "mimetype": "text/x-python",
   "name": "python",
   "nbconvert_exporter": "python",
   "pygments_lexer": "ipython3",
   "version": "3.6.5"
  },
  "widgets": {
   "state": {
    "4e6db707d70e4e1aac90b595e52f7d40": {
     "views": [
      {
       "cell_index": 21
      }
     ]
    }
   },
   "version": "1.2.0"
  }
 },
 "nbformat": 4,
 "nbformat_minor": 2
}
