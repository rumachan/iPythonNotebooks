{
 "cells": [
  {
   "cell_type": "markdown",
   "metadata": {},
   "source": [
    "Wairakei-Tauhara Annual Seismic Report for Contact Energy\n",
    "--"
   ]
  },
  {
   "cell_type": "code",
   "execution_count": null,
   "metadata": {},
   "outputs": [],
   "source": [
    "import pandas as pd\n",
    "\n",
    "import matplotlib.pyplot as plt\n",
    "import matplotlib.gridspec as gridspec\n",
    "import matplotlib as mpl\n",
    "from matplotlib.transforms import offset_copy\n",
    "from matplotlib import patheffects\n",
    "import matplotlib.ticker as mticker\n",
    "\n",
    "import numpy as np\n",
    "\n",
    "import cartopy.crs as ccrs\n",
    "import cartopy.io.img_tiles as cimgt\n",
    "from cartopy.io.img_tiles import OSM\n",
    "\n",
    "import warnings; warnings.simplefilter('ignore')\n",
    "\n",
    "%matplotlib inline"
   ]
  },
  {
   "cell_type": "markdown",
   "metadata": {},
   "source": [
    "**Functions for scale bar**"
   ]
  },
  {
   "cell_type": "code",
   "execution_count": null,
   "metadata": {
    "collapsed": true
   },
   "outputs": [],
   "source": [
    "def utm_from_lon(lon):\n",
    "    \"\"\"\n",
    "    utm_from_lon - UTM zone for a longitude\n",
    "\n",
    "    Not right for some polar regions (Norway, Svalbard, Antartica)\n",
    "\n",
    "    :param float lon: longitude\n",
    "    :return: UTM zone number\n",
    "    :rtype: int\n",
    "    \"\"\"\n",
    "    return np.floor( ( lon + 180 ) / 6) + 1\n",
    "\n",
    "def scale_bar(ax, proj, length, location=(0.5, 0.05), linewidth=3,\n",
    "              units='km', m_per_unit=1000):\n",
    "    \"\"\"\n",
    "\n",
    "    http://stackoverflow.com/a/35705477/1072212\n",
    "    ax is the axes to draw the scalebar on.\n",
    "    proj is the projection the axes are in\n",
    "    location is center of the scalebar in axis coordinates ie. 0.5 is the middle of the plot\n",
    "    length is the length of the scalebar in km.\n",
    "    linewidth is the thickness of the scalebar.\n",
    "    units is the name of the unit\n",
    "    m_per_unit is the number of meters in a unit\n",
    "    \"\"\"\n",
    "    # find lat/lon center to find best UTM zone\n",
    "    x0, x1, y0, y1 = ax.get_extent(proj.as_geodetic())\n",
    "    # Projection in metres\n",
    "    utm = ccrs.UTM(utm_from_lon((x0+x1)/2))\n",
    "    # Get the extent of the plotted area in coordinates in metres\n",
    "    x0, x1, y0, y1 = ax.get_extent(utm)\n",
    "    # Turn the specified scalebar location into coordinates in metres\n",
    "    sbcx, sbcy = x0 + (x1 - x0) * location[0], y0 + (y1 - y0) * location[1]\n",
    "    # Generate the x coordinate for the ends of the scalebar\n",
    "    bar_xs = [sbcx - length * m_per_unit/2, sbcx + length * m_per_unit/2]\n",
    "    # buffer for scalebar\n",
    "    buffer = [patheffects.withStroke(linewidth=5, foreground=\"w\")]\n",
    "    # Plot the scalebar with buffer\n",
    "    ax.plot(bar_xs, [sbcy, sbcy], transform=utm, color='k',\n",
    "        linewidth=linewidth, path_effects=buffer)\n",
    "    # buffer for text\n",
    "    buffer = [patheffects.withStroke(linewidth=3, foreground=\"w\")]\n",
    "    # Plot the scalebar label\n",
    "    t0 = ax.text(sbcx, sbcy, str(length) + ' ' + units, transform=utm,\n",
    "        horizontalalignment='center', verticalalignment='bottom',\n",
    "        path_effects=buffer, zorder=2)\n",
    "    left = x0+(x1-x0)*0.05\n",
    "    # Plot the N arrow\n",
    "    t1 = ax.text(left, sbcy, u'\\u25B2\\nN', transform=utm,\n",
    "        horizontalalignment='center', verticalalignment='bottom',\n",
    "        path_effects=buffer, zorder=2)\n",
    "    # Plot the scalebar without buffer, in case covered by text buffer\n",
    "    ax.plot(bar_xs, [sbcy, sbcy], transform=utm, color='k',\n",
    "        linewidth=linewidth, zorder=3)\n",
    "    \n",
    "# or to use m instead of km\n",
    "# scale_bar(ax, ccrs.Mercator(), 100000, m_per_unit=1, units='m')\n",
    "# or to use miles instead of km\n",
    "# scale_bar(ax, ccrs.Mercator(), 60, m_per_unit=1609.34, units='miles')\n",
    "\n",
    "#need specific font to show triangle for north arrow\n",
    "mpl.rc('font', family='DejaVu Sans')"
   ]
  },
  {
   "cell_type": "code",
   "execution_count": null,
   "metadata": {},
   "outputs": [],
   "source": [
    "#notebook uses full screen width\n",
    "from IPython.core.display import display, HTML\n",
    "display(HTML(\"<style>.container { width:100% !important; }</style>\"))"
   ]
  },
  {
   "cell_type": "code",
   "execution_count": null,
   "metadata": {
    "collapsed": true
   },
   "outputs": [],
   "source": [
    "#box for search and map area\n",
    "bbox = '175.85,-38.8,176.30,-38.45'\n",
    "lonmin = 175.85\n",
    "lonmax = 176.30\n",
    "latmin = -38.8\n",
    "latmax = -38.45\n",
    "\n",
    "maxdepth = 20"
   ]
  },
  {
   "cell_type": "markdown",
   "metadata": {},
   "source": [
    "**Edit this cell to set the current year for the report**"
   ]
  },
  {
   "cell_type": "code",
   "execution_count": null,
   "metadata": {
    "collapsed": true
   },
   "outputs": [],
   "source": [
    "startyear = '2016-01-01T00:00:00'\n",
    "endyear = '2017-01-01T00:00:00'\n",
    "\n",
    "#as well as annual data, show number of events since 1996\n",
    "startall = '1996-01-01T00:00:00'"
   ]
  },
  {
   "cell_type": "markdown",
   "metadata": {},
   "source": [
    "**Quake search, get all events since startall**"
   ]
  },
  {
   "cell_type": "code",
   "execution_count": null,
   "metadata": {
    "collapsed": true
   },
   "outputs": [],
   "source": [
    "url = 'http://quakesearch.geonet.org.nz/csv?bbox='+bbox+'&startdate='+startall+'&enddate='+endyear+'&maxdepth='+str(maxdepth)"
   ]
  },
  {
   "cell_type": "code",
   "execution_count": null,
   "metadata": {
    "collapsed": true
   },
   "outputs": [],
   "source": [
    "eqs = pd.read_csv(url, parse_dates=['origintime'], index_col='origintime')"
   ]
  },
  {
   "cell_type": "code",
   "execution_count": null,
   "metadata": {
    "scrolled": true
   },
   "outputs": [],
   "source": [
    "eqs.head()"
   ]
  },
  {
   "cell_type": "markdown",
   "metadata": {},
   "source": [
    "**Map for the reporting year**"
   ]
  },
  {
   "cell_type": "code",
   "execution_count": null,
   "metadata": {
    "collapsed": true
   },
   "outputs": [],
   "source": [
    "#select just events with an origintime (index) in the reporting year\n",
    "eqsyr = eqs[(eqs.index>startyear)&(eqs.index<endyear)]"
   ]
  },
  {
   "cell_type": "code",
   "execution_count": null,
   "metadata": {
    "scrolled": true
   },
   "outputs": [],
   "source": [
    "#plot map\n",
    "fig = plt.figure(dpi=200)\n",
    "\n",
    "#imagery\n",
    "imagery = OSM()\n",
    "ax = plt.axes(projection=imagery.crs)\n",
    "ax.set_extent([lonmin, lonmax, latmin, latmax])\n",
    "ax.add_image(imagery, 10)\n",
    "\n",
    "#seismographs\n",
    "names = ['lon', 'lat', 'code']\n",
    "seis = pd.read_csv('seis.dat', sep='\\s+', names=names)\n",
    "plt.plot(seis['lon'], seis['lat'], color='blue', marker='^', markersize=4, linestyle='none', transform=ccrs.Geodetic())\n",
    "#transform coordinate system so can plot text below symbol\n",
    "geodetic_transform = ccrs.Geodetic()._as_mpl_transform(ax)\n",
    "text_transform = offset_copy(geodetic_transform, units='dots', y=-12)\n",
    "#text labels\n",
    "for index, row in seis.iterrows():\n",
    "    plt.text(row['lon'], row['lat'], row['code'], verticalalignment='top', horizontalalignment='center', transform=text_transform, fontsize=4)\n",
    "    \n",
    "#power stations\n",
    "names = ['lon', 'lat', 'let']\n",
    "powst = pd.read_csv('powst.dat', sep='\\s+', names=names)\n",
    "plt.plot(powst['lon'], powst['lat'], color='black', marker='s', alpha=0.8, markersize=4, markeredgewidth=0, linestyle='none', transform=ccrs.Geodetic())\n",
    "#transform coordinate system so can plot text below symbol\n",
    "geodetic_transform = ccrs.Geodetic()._as_mpl_transform(ax)\n",
    "text_transform = offset_copy(geodetic_transform, units='dots', y=0)\n",
    "#text labels\n",
    "for index, row in powst.iterrows():\n",
    "    plt.text(row['lon'], row['lat'], row['let'], verticalalignment='center', horizontalalignment='center', color='white', transform=text_transform, fontsize=4)\n",
    "    \n",
    "#huka falls and 7 km radius round huka falls\n",
    "hukalon = 176.090\n",
    "hukalat = -38.6488\n",
    "plt.plot(hukalon, hukalat, color='gray', marker='s', alpha=0.8, markersize=5, markeredgewidth=0, linestyle='none', transform=ccrs.Geodetic())\n",
    "plt.text(hukalon, hukalat, 'HF', verticalalignment='center', horizontalalignment='center', color='black', transform=text_transform, fontsize=4)\n",
    "names = ['lon', 'lat']\n",
    "hfrad = pd.read_csv('hukafalls7km.lonlat', sep='\\s+', names=names)\n",
    "plt.plot(hfrad['lon'], hfrad['lat'], color='black', alpha=0.5, linestyle='--', linewidth=0.5, transform=ccrs.Geodetic())\n",
    "\n",
    "#hypocentres, symbol size=magnitude squared, as scatter symbol size is symbol area, square gives 'pleasing' image\n",
    "plt.scatter(eqsyr['longitude'], eqsyr[' latitude'], color='red', marker='o', s=eqsyr[' magnitude']**2, transform=ccrs.Geodetic())\n",
    "\n",
    "scale_bar(ax, ccrs.Mercator(), 2)\n",
    "plt.tight_layout()\n",
    "plt.savefig('wairakei-tauhara_map.png', dpi=200)"
   ]
  },
  {
   "cell_type": "markdown",
   "metadata": {},
   "source": [
    "**Numbers, etc for the reporting year**"
   ]
  },
  {
   "cell_type": "code",
   "execution_count": null,
   "metadata": {},
   "outputs": [],
   "source": [
    "#total events in the \"Wairakei area\", corresponding to the map\n",
    "eqsyr[' depth'].count()"
   ]
  },
  {
   "cell_type": "code",
   "execution_count": null,
   "metadata": {
    "scrolled": true
   },
   "outputs": [],
   "source": [
    "#events M>=3 so can give numbers\n",
    "eqsyr[eqsyr[' magnitude']>=3]"
   ]
  },
  {
   "cell_type": "code",
   "execution_count": null,
   "metadata": {},
   "outputs": [],
   "source": [
    "#minimum and maximum magnitude\n",
    "min = eqsyr[' magnitude'].min()\n",
    "max = eqsyr[' magnitude'].max()\n",
    "print (min, max)"
   ]
  },
  {
   "cell_type": "code",
   "execution_count": null,
   "metadata": {
    "scrolled": true
   },
   "outputs": [],
   "source": [
    "#plot events M>=3 so can describe locations\n",
    "fig = plt.figure(dpi=100)\n",
    "\n",
    "#imagery\n",
    "imagery = OSM()\n",
    "ax = plt.axes(projection=imagery.crs)\n",
    "ax.set_extent([lonmin, lonmax, latmin, latmax])\n",
    "ax.add_image(imagery, 10)\n",
    "\n",
    "plt.scatter(eqsyr[eqsyr[' magnitude']>=3]['longitude'], eqsyr[eqsyr[' magnitude']>=3][' latitude'], color='red', marker='o', s=eqsyr[' magnitude']**2, transform=ccrs.Geodetic())"
   ]
  },
  {
   "cell_type": "markdown",
   "metadata": {},
   "source": [
    "**Earthquakes per month since 1996**"
   ]
  },
  {
   "cell_type": "code",
   "execution_count": null,
   "metadata": {
    "collapsed": true
   },
   "outputs": [],
   "source": [
    "#by magnitude\n",
    "eqsm2 = eqs[eqs[' magnitude']>=2]\n",
    "eqsm3 = eqs[eqs[' magnitude']>=3]"
   ]
  },
  {
   "cell_type": "code",
   "execution_count": null,
   "metadata": {
    "scrolled": true
   },
   "outputs": [],
   "source": [
    "fig, (ax1, ax2, ax3) = plt.subplots(nrows=3,ncols=1, sharex=True, figsize=(15,10))\n",
    "\n",
    "mcount = eqsm3.resample('1M', label='left', closed='left').count()\n",
    "ax1.grid(b=True, which='major', color='b', linestyle='--', alpha=0.5)\n",
    "ax1.bar(mcount.index, mcount.publicid, width = 10, color='blue', edgecolor='blue', align='edge', label='M>=3 earthquakes')\n",
    "ax1.legend(loc='upper left')\n",
    "ax1.set_ylim([0,3])\n",
    "mcount = eqsm2.resample('1M', label='left', closed='left').count()\n",
    "ax2.grid(b=True, which='major', color='b', linestyle='--', alpha=0.5)\n",
    "ax2.bar(mcount.index, mcount.publicid, width = 10, color='green', edgecolor='green', align='edge', label='M>=2 earthquakes')\n",
    "ax2.legend(loc='upper left')\n",
    "ax2.set_ylim([0,50])\n",
    "mcount = eqs.resample('1M', label='left', closed='left').count()\n",
    "ax3.grid(b=True, which='major', color='b', linestyle='--', alpha=0.5)\n",
    "ax3.bar(mcount.index, mcount.publicid, width = 10, color='red', edgecolor='red', align='edge', label='all earthquakes')\n",
    "ax3.legend(loc='upper left')\n",
    "ax3.set_ylim([0,220])\n",
    "plt.autoscale(enable=True, axis='x', tight=True)#tight on x data limits\n",
    "plt.tight_layout()\n",
    "fig.savefig('wairakei-tauhara_monthly.png', dpi=200)"
   ]
  },
  {
   "cell_type": "markdown",
   "metadata": {},
   "source": [
    "**Earthquakes per month within 7 km of Huka Falls**"
   ]
  },
  {
   "cell_type": "code",
   "execution_count": null,
   "metadata": {
    "collapsed": true
   },
   "outputs": [],
   "source": [
    "#vectorised numpy version of haversine formula to calculate distance between geographic points\n",
    "def haversine_np(lon1, lat1, lon2, lat2):\n",
    "    \"\"\"\n",
    "    Calculate the great circle distance between two points\n",
    "    on the earth (specified in decimal degrees)\n",
    "\n",
    "    All args must be of equal length.    \n",
    "\n",
    "    \"\"\"\n",
    "    lon1 = np.radians(lon1)\n",
    "    lon2 = np.radians(lon2)\n",
    "    lat1 = np.radians(lat1)\n",
    "    lat2 = np.radians(lat2)\n",
    "\n",
    "    dlon = lon2 - lon1\n",
    "    dlat = lat2 - lat1\n",
    "\n",
    "    a = np.sin(dlat/2.0)**2 + np.cos(lat1) * np.cos(lat2) * np.sin(dlon/2.0)**2\n",
    "\n",
    "    c = 2 * np.arcsin(np.sqrt(a))\n",
    "    km = 6367 * c\n",
    "    return km"
   ]
  },
  {
   "cell_type": "code",
   "execution_count": null,
   "metadata": {
    "collapsed": true
   },
   "outputs": [],
   "source": [
    "#add distance (in km) from huka falls to eqs dataframe\n",
    "eqs['dist'] = haversine_np(hukalon, hukalat, eqs['longitude'], eqs[' latitude'])"
   ]
  },
  {
   "cell_type": "code",
   "execution_count": null,
   "metadata": {
    "collapsed": true
   },
   "outputs": [],
   "source": [
    "#by magnitude and distance from huka falls\n",
    "eqshfm2 = eqs[(eqs[' magnitude']>=2)&(eqs['dist']<=7)]\n",
    "eqshfm3 = eqs[(eqs[' magnitude']>=3)&(eqs['dist']<=7)]\n",
    "eqshf = eqs[eqs['dist']<=7]"
   ]
  },
  {
   "cell_type": "code",
   "execution_count": null,
   "metadata": {},
   "outputs": [],
   "source": [
    "fig, (ax1, ax2, ax3) = plt.subplots(nrows=3,ncols=1, sharex=True, figsize=(15,10))\n",
    "\n",
    "mcount = eqshfm3.resample('1M', label='left', closed='left').count()\n",
    "ax1.grid(b=True, which='major', color='b', linestyle='--', alpha=0.5)\n",
    "ax1.bar(mcount.index, mcount.publicid, width = 10, color='blue', edgecolor='blue', align='edge', label='M>=3 earthquakes')\n",
    "ax1.legend(loc='upper left')\n",
    "ax1.set_ylim([0,3])\n",
    "mcount = eqshfm2.resample('1M', label='left', closed='left').count()\n",
    "ax2.grid(b=True, which='major', color='b', linestyle='--', alpha=0.5)\n",
    "ax2.bar(mcount.index, mcount.publicid, width = 10, color='green', edgecolor='green', align='edge', label='M>=2 earthquakes')\n",
    "ax2.legend(loc='upper left')\n",
    "ax2.set_ylim([0,50])\n",
    "mcount = eqshf.resample('1M', label='left', closed='left').count()\n",
    "ax3.grid(b=True, which='major', color='b', linestyle='--', alpha=0.5)\n",
    "ax3.bar(mcount.index, mcount.publicid, width = 10, color='red', edgecolor='red', align='edge', label='all earthquakes')\n",
    "ax3.legend(loc='upper left')\n",
    "ax3.set_ylim([0,220])\n",
    "plt.autoscale(enable=True, axis='x', tight=True)#tight on x data limits\n",
    "plt.tight_layout()\n",
    "fig.savefig('wairakei-tauhara_monthly-hukafalls.png', dpi=200)"
   ]
  }
 ],
 "metadata": {
  "kernelspec": {
   "display_name": "Python 3",
   "language": "python",
   "name": "python3"
  },
  "language_info": {
   "codemirror_mode": {
    "name": "ipython",
    "version": 3
   },
   "file_extension": ".py",
   "mimetype": "text/x-python",
   "name": "python",
   "nbconvert_exporter": "python",
   "pygments_lexer": "ipython3",
   "version": "3.6.1"
  }
 },
 "nbformat": 4,
 "nbformat_minor": 2
}
