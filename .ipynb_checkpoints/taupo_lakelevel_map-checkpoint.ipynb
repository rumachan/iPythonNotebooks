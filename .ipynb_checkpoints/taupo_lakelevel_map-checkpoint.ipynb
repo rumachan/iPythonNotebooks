{
 "cells": [
  {
   "cell_type": "markdown",
   "metadata": {},
   "source": [
    "Lake Taupo Lake Levelling Data Maps\n",
    "--"
   ]
  },
  {
   "cell_type": "code",
   "execution_count": 36,
   "metadata": {
    "collapsed": true
   },
   "outputs": [],
   "source": [
    "import pandas as pd\n",
    "import matplotlib\n",
    "import matplotlib.cm as cm\n",
    "import matplotlib.pyplot as plt\n",
    "from matplotlib.transforms import offset_copy\n",
    "import requests\n",
    "\n",
    "import cartopy.crs as ccrs\n",
    "import cartopy.io.img_tiles as cimgt\n",
    "from cartopy.io.img_tiles import OSM\n",
    "from cartopy.io.img_tiles import StamenTerrain\n",
    "\n",
    "from ipywidgets import interact, interactive, fixed, interact_manual\n",
    "import ipywidgets as widgets\n",
    "from ipywidgets import Button, Layout\n",
    "\n",
    "%matplotlib inline"
   ]
  },
  {
   "cell_type": "code",
   "execution_count": 37,
   "metadata": {},
   "outputs": [
    {
     "data": {
      "text/html": [
       "<style>.container { width:100% !important; }</style>"
      ],
      "text/plain": [
       "<IPython.core.display.HTML object>"
      ]
     },
     "metadata": {},
     "output_type": "display_data"
    }
   ],
   "source": [
    "#full width notebook display\n",
    "from IPython.core.display import display, HTML\n",
    "display(HTML(\"<style>.container { width:100% !important; }</style>\"))"
   ]
  },
  {
   "cell_type": "markdown",
   "metadata": {},
   "source": [
    "**Widget functions**"
   ]
  },
  {
   "cell_type": "code",
   "execution_count": 38,
   "metadata": {
    "collapsed": true
   },
   "outputs": [],
   "source": [
    "def seld1(wd1):\n",
    "  global date1\n",
    "  date1 = wd1['new']\n",
    "    \n",
    "def seld2(wd2):\n",
    "  global date2\n",
    "  date2 = wd2['new']"
   ]
  },
  {
   "cell_type": "code",
   "execution_count": 39,
   "metadata": {
    "collapsed": true
   },
   "outputs": [],
   "source": [
    "def go(g):\n",
    "  global diff, signif\n",
    "  #dataframes for each date  \n",
    "  data1 = dfall[dfall['Datetime']==date1]\n",
    "  data2 = dfall[dfall['Datetime']==date2]\n",
    "  #difference dataframe, for plotting\n",
    "  diff = pd.merge(data2, data1, on='siteID')  \n",
    "  diff['diff'] = (diff['obs_x'] - diff['obs_y']) * 1000\n",
    "  \n",
    "  #plot map\n",
    "  #imagery\n",
    "  imagery = StamenTerrain()\n",
    "  #map  \n",
    "  ax = plt.axes(projection=imagery.crs)\n",
    "  ax.set_extent([float(lonmin), float(lonmax), float(latmin), float(latmax)])\n",
    "  ax.add_image(imagery, 10)\n",
    "\n",
    "  #observations as coloured points\n",
    "  plt.scatter(diff['lon_x'], diff['lat_x'], c=diff['diff'], s=100, marker='o', linewidth=0, cmap='seismic', vmin=vmin, vmax=vmax, norm=matplotlib.colors.Normalize(), transform=ccrs.Geodetic())\n",
    "  \n",
    "  ##value labels inside symbols\n",
    "  geodetic_transform = ccrs.Geodetic()._as_mpl_transform(ax)\n",
    "  text_transform = offset_copy(geodetic_transform, units='dots', x=0, y=0)\n",
    "  for value, x, y in zip(diff['diff'], diff['lon_x'], diff['lat_x']):\n",
    "    plt.text(x, y, str(int(value)), size=6, color='white', verticalalignment='center', horizontalalignment='center', transform=text_transform)\n",
    "\n",
    "  #colour bar\n",
    "  cb = plt.colorbar()\n",
    "  cb.set_label('Height change (mm)')\n",
    "\n",
    "  #title\n",
    "  title = date1+' to '+date2\n",
    "  plt.title(title)\n",
    "\n",
    "  #save as file\n",
    "  image = date1+'-'+date2+'.png'\n",
    "  plt.savefig(image, dpi=200)"
   ]
  },
  {
   "cell_type": "markdown",
   "metadata": {},
   "source": [
    "**Data search parameters**"
   ]
  },
  {
   "cell_type": "code",
   "execution_count": 40,
   "metadata": {
    "collapsed": true
   },
   "outputs": [],
   "source": [
    "typeID = 'z'\n",
    "methodID = 'lak'\n",
    "latmin = '-38.98'\n",
    "latmax = '-38.63'\n",
    "lonmin = '175.70'\n",
    "lonmax = '176.10'\n",
    "\n",
    "within = 'POLYGON(('+lonmin+'+'+latmax+','+lonmin+'+'+latmin+','+lonmax+'+'+latmin+','+lonmax+'+'+latmax+','+lonmin+'+'+latmax+'))'"
   ]
  },
  {
   "cell_type": "markdown",
   "metadata": {},
   "source": [
    "**Plot parameters**"
   ]
  },
  {
   "cell_type": "code",
   "execution_count": 41,
   "metadata": {
    "collapsed": true
   },
   "outputs": [],
   "source": [
    "vmin = -15\n",
    "vmax = +15\n",
    "err = 6 #error of individual observation, mm"
   ]
  },
  {
   "cell_type": "markdown",
   "metadata": {},
   "source": [
    "**Query**"
   ]
  },
  {
   "cell_type": "code",
   "execution_count": 42,
   "metadata": {
    "collapsed": true
   },
   "outputs": [],
   "source": [
    "url = 'http://fits.geonet.org.nz/site'\n",
    "payload = {'typeID': typeID, 'methodID': methodID, 'within': within}"
   ]
  },
  {
   "cell_type": "markdown",
   "metadata": {},
   "source": [
    "**Get sites from site query**"
   ]
  },
  {
   "cell_type": "code",
   "execution_count": 43,
   "metadata": {
    "collapsed": true
   },
   "outputs": [],
   "source": [
    "r = requests.get(url,params=payload)\n",
    "jdata = r.json()\n",
    "features = jdata['features']\n",
    "dfsite = pd.DataFrame() #empty dataframe\n",
    "for i, val in enumerate(features):\n",
    "  geometry = val['geometry']\n",
    "  lon = geometry['coordinates'][0]\n",
    "  lat = geometry['coordinates'][1]\n",
    "  properties = val['properties']\n",
    "  siteID = properties['siteID']\n",
    "  height = properties['height']\n",
    "  name = properties['name']\n",
    "  #append these to df\n",
    "  dfsite = dfsite.append({'siteID': siteID, 'lon': lon, 'lat': lat, 'height': height, 'name': name}, ignore_index=True)"
   ]
  },
  {
   "cell_type": "markdown",
   "metadata": {},
   "source": [
    "**For each siteID, get time-series data and accumulate**"
   ]
  },
  {
   "cell_type": "code",
   "execution_count": 44,
   "metadata": {
    "collapsed": true
   },
   "outputs": [],
   "source": [
    "names = ['dt', 'obs', 'err']\n",
    "dfts = pd.DataFrame()   #empty dataframe"
   ]
  },
  {
   "cell_type": "code",
   "execution_count": 45,
   "metadata": {},
   "outputs": [],
   "source": [
    "for site in dfsite['siteID']:\n",
    "  site = site.encode('ascii','ignore')\n",
    "  #print site, network\n",
    "  url= 'https://fits.geonet.org.nz/observation?typeID='+typeID+'&siteID='+site+'&methodID='+methodID\n",
    "  df = pd.read_csv(url, names=names, skiprows=1, parse_dates={\"Datetime\" : ['dt']})\n",
    "  df['siteID'] = site\n",
    "  dfts = dfts.append(df, ignore_index=True)"
   ]
  },
  {
   "cell_type": "markdown",
   "metadata": {},
   "source": [
    "**Merge the two dataframes on siteID**"
   ]
  },
  {
   "cell_type": "code",
   "execution_count": 46,
   "metadata": {
    "collapsed": true
   },
   "outputs": [],
   "source": [
    "dfall = pd.merge(dfsite, dfts, on='siteID')"
   ]
  },
  {
   "cell_type": "markdown",
   "metadata": {},
   "source": [
    "**Get a list of dates (as strings) for selection with a widget**"
   ]
  },
  {
   "cell_type": "code",
   "execution_count": 47,
   "metadata": {
    "collapsed": true
   },
   "outputs": [],
   "source": [
    "dates = dfall['Datetime'].unique()\n",
    "datestr = dates.astype('datetime64[D]').astype('str').tolist()\n",
    "datestr.sort()\n",
    "datestr.append('choose date')\n",
    "datestr.reverse()"
   ]
  },
  {
   "cell_type": "markdown",
   "metadata": {},
   "source": [
    "**Date selection section using widgets**"
   ]
  },
  {
   "cell_type": "code",
   "execution_count": 48,
   "metadata": {},
   "outputs": [
    {
     "data": {
      "application/vnd.jupyter.widget-view+json": {
       "model_id": "334049c54ae34777af229dd3f892251e"
      }
     },
     "metadata": {},
     "output_type": "display_data"
    },
    {
     "data": {
      "image/png": "[encoded data removed]",
      "text/plain": [
       "<matplotlib.figure.Figure at 0x7f2737cfe690>"
      ]
     },
     "metadata": {},
     "output_type": "display_data"
    }
   ],
   "source": [
    "wd1 = widgets.Select(\n",
    "    options= datestr,\n",
    "    description='earlier date:',\n",
    "    disabled=False\n",
    ")\n",
    "wd1.observe(seld1, names='value')\n",
    "\n",
    "wd2 = widgets.Select(\n",
    "    options= datestr,\n",
    "    description='later date:',\n",
    "    disabled=False\n",
    ")\n",
    "wd2.observe(seld2, names='value')\n",
    "\n",
    "g=widgets.Button(\n",
    "    description='Plot and make file',\n",
    "    disabled=False,\n",
    "    button_style='success',\n",
    "    tooltip='Click to plot')\n",
    "g.on_click(go)\n",
    "\n",
    "widgets.HBox([wd1, wd2, g])"
   ]
  },
  {
   "cell_type": "markdown",
   "metadata": {},
   "source": [
    "**Look at selected data in different ways**"
   ]
  },
  {
   "cell_type": "markdown",
   "metadata": {},
   "source": [
    "**Histogram of changes vs siteID**"
   ]
  },
  {
   "cell_type": "code",
   "execution_count": 53,
   "metadata": {
    "scrolled": true
   },
   "outputs": [
    {
     "data": {
      "text/plain": [
       "<matplotlib.text.Text at 0x7f2737954310>"
      ]
     },
     "execution_count": 53,
     "metadata": {},
     "output_type": "execute_result"
    },
    {
     "data": {
      "image/png": "[encoded data removed]",
      "text/plain": [
       "<matplotlib.figure.Figure at 0x7f273798e450>"
      ]
     },
     "metadata": {},
     "output_type": "display_data"
    }
   ],
   "source": [
    "dh = diff.plot(kind='bar', x='siteID', y='diff', legend=False)\n",
    "plt.axhline(0, color='black')\n",
    "plt.axhline(12, color='red', linestyle='--')\n",
    "plt.axhline(-12, color='red', linestyle='--')\n",
    "dh.set_ylabel('Height change (mm)')"
   ]
  },
  {
   "cell_type": "markdown",
   "metadata": {},
   "source": [
    "**SiteID vs site name, to help users**"
   ]
  },
  {
   "cell_type": "code",
   "execution_count": 54,
   "metadata": {
    "scrolled": true
   },
   "outputs": [
    {
     "data": {
      "text/html": [
       "<div>\n",
       "<style>\n",
       "    .dataframe thead tr:only-child th {\n",
       "        text-align: right;\n",
       "    }\n",
       "\n",
       "    .dataframe thead th {\n",
       "        text-align: left;\n",
       "    }\n",
       "\n",
       "    .dataframe tbody tr th {\n",
       "        vertical-align: top;\n",
       "    }\n",
       "</style>\n",
       "<table border=\"1\" class=\"dataframe\">\n",
       "  <thead>\n",
       "    <tr style=\"text-align: right;\">\n",
       "      <th></th>\n",
       "      <th>0</th>\n",
       "      <th>1</th>\n",
       "      <th>2</th>\n",
       "      <th>3</th>\n",
       "      <th>4</th>\n",
       "      <th>5</th>\n",
       "      <th>6</th>\n",
       "      <th>7</th>\n",
       "      <th>8</th>\n",
       "      <th>9</th>\n",
       "      <th>10</th>\n",
       "    </tr>\n",
       "  </thead>\n",
       "  <tbody>\n",
       "    <tr>\n",
       "      <th>siteID</th>\n",
       "      <td>TP001</td>\n",
       "      <td>TP002</td>\n",
       "      <td>TP003</td>\n",
       "      <td>TP004</td>\n",
       "      <td>TP005</td>\n",
       "      <td>TP007</td>\n",
       "      <td>TP008</td>\n",
       "      <td>TP012</td>\n",
       "      <td>TP015</td>\n",
       "      <td>TP016</td>\n",
       "      <td>TP021</td>\n",
       "    </tr>\n",
       "    <tr>\n",
       "      <th>name_x</th>\n",
       "      <td>Acacia Bay</td>\n",
       "      <td>Bulli Point</td>\n",
       "      <td>Horomatangi</td>\n",
       "      <td>Kawakawa</td>\n",
       "      <td>Kinloch</td>\n",
       "      <td>Motuoapa</td>\n",
       "      <td>Motutaiko</td>\n",
       "      <td>Rangatira</td>\n",
       "      <td>Scenic Bay</td>\n",
       "      <td>Te Itarata</td>\n",
       "      <td>Waikarariki</td>\n",
       "    </tr>\n",
       "  </tbody>\n",
       "</table>\n",
       "</div>"
      ],
      "text/plain": [
       "                0            1            2         3        4         5   \\\n",
       "siteID       TP001        TP002        TP003     TP004    TP005     TP007   \n",
       "name_x  Acacia Bay  Bulli Point  Horomatangi  Kawakawa  Kinloch  Motuoapa   \n",
       "\n",
       "               6          7           8           9            10  \n",
       "siteID      TP008      TP012       TP015       TP016        TP021  \n",
       "name_x  Motutaiko  Rangatira  Scenic Bay  Te Itarata  Waikarariki  "
      ]
     },
     "execution_count": 54,
     "metadata": {},
     "output_type": "execute_result"
    }
   ],
   "source": [
    "pd.set_option('display.max_columns', 23) #increase column numbers to show all\n",
    "text = diff[['siteID', 'name_x']].copy().transpose()\n",
    "text"
   ]
  },
  {
   "cell_type": "code",
   "execution_count": 55,
   "metadata": {
    "collapsed": true
   },
   "outputs": [],
   "source": [
    "#then reset\n",
    "pd.reset_option('display.max_columns')"
   ]
  },
  {
   "cell_type": "markdown",
   "metadata": {},
   "source": [
    "**Boxplot of all changes**"
   ]
  },
  {
   "cell_type": "code",
   "execution_count": 56,
   "metadata": {
    "scrolled": true
   },
   "outputs": [
    {
     "data": {
      "text/plain": [
       "<matplotlib.text.Text at 0x7f2735f99dd0>"
      ]
     },
     "execution_count": 56,
     "metadata": {},
     "output_type": "execute_result"
    },
    {
     "data": {
      "image/png": "[encoded data removed]",
      "text/plain": [
       "<matplotlib.figure.Figure at 0x7f27378f7110>"
      ]
     },
     "metadata": {},
     "output_type": "display_data"
    }
   ],
   "source": [
    "db = diff.plot(kind='box', y='diff', legend=False)\n",
    "plt.axhline(12, color='red', linestyle='--')\n",
    "plt.axhline(-12, color='red', linestyle='--')\n",
    "plt.axhline(0, color='red', linestyle='-')\n",
    "db.set_ylabel('Height change (mm)')"
   ]
  }
 ],
 "metadata": {
  "kernelspec": {
   "display_name": "Python 2",
   "language": "python",
   "name": "python2"
  },
  "language_info": {
   "codemirror_mode": {
    "name": "ipython",
    "version": 2
   },
   "file_extension": ".py",
   "mimetype": "text/x-python",
   "name": "python",
   "nbconvert_exporter": "python",
   "pygments_lexer": "ipython2",
   "version": "2.7.12"
  }
 },
 "nbformat": 4,
 "nbformat_minor": 2
}
