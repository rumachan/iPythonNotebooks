{
 "cells": [
  {
   "cell_type": "markdown",
   "metadata": {},
   "source": [
    "# Effect of under-sampling on a frequently sampled time series\n",
    "\n",
    "Just how much of an effect does under-sampling have on our capability to see what happens with a rapidly changing time-series? This is of particular importance for the degree of emphasis we put on time series such as:\n",
    "- sampling of Ruapehu crater lake\n",
    "- gas flux flights\n",
    "\n",
    "Two approaches are used:\n",
    "- synthtic data example, where the synthetic data is a series of spikes with a zero 'background\n",
    "- White Island SO2 flux data, estimating what gas flight values might see"
   ]
  },
  {
   "cell_type": "code",
   "execution_count": null,
   "metadata": {},
   "outputs": [],
   "source": [
    "%%javascript\n",
    "IPython.OutputArea.prototype._should_scroll = function(lines) {\n",
    "    return false;\n",
    "}"
   ]
  },
  {
   "cell_type": "code",
   "execution_count": null,
   "metadata": {},
   "outputs": [],
   "source": [
    "import pandas as pd\n",
    "import numpy as np\n",
    "%matplotlib inline"
   ]
  },
  {
   "cell_type": "markdown",
   "metadata": {},
   "source": [
    "**1. Synthetic data, a few short-term 'spike' signals.**"
   ]
  },
  {
   "cell_type": "markdown",
   "metadata": {},
   "source": [
    "Number of signals, signal value, and width"
   ]
  },
  {
   "cell_type": "code",
   "execution_count": null,
   "metadata": {},
   "outputs": [],
   "source": [
    "numsig = 5\n",
    "sigval = 100\n",
    "sigwid = 20"
   ]
  },
  {
   "cell_type": "markdown",
   "metadata": {},
   "source": [
    "Synthetic data, zero everywhere except where there is a signal. Triangular signal spread over several 'days'"
   ]
  },
  {
   "cell_type": "code",
   "execution_count": null,
   "metadata": {},
   "outputs": [],
   "source": [
    "zeros = np.zeros(shape=(1000,1))\n",
    "data = pd.DataFrame(zeros, columns=['obs'])\n",
    "\n",
    "signal = np.random.randint(20, len(data)-20, numsig) #signals locations\n",
    "data['obs'][signal] = sigval\n",
    "\n",
    "d = data.rolling(sigwid, win_type='triang', center=True).sum()\n",
    "d.fillna(0, inplace=True)"
   ]
  },
  {
   "cell_type": "code",
   "execution_count": null,
   "metadata": {},
   "outputs": [],
   "source": [
    "interval = 40 # mean sample interval\n",
    "sample = np.arange(20, len(d)-20, interval) #fixed sample times\n",
    "weather = np.random.randint(-10, 11, len(sample)) #random variation between -10 -> +10\n",
    "sample += weather #sample points are fixed + random (weather) component"
   ]
  },
  {
   "cell_type": "code",
   "execution_count": null,
   "metadata": {},
   "outputs": [],
   "source": [
    "#sample daily observations at the random sample points\n",
    "dsamp = d.iloc[sample]"
   ]
  },
  {
   "cell_type": "code",
   "execution_count": null,
   "metadata": {
    "scrolled": true
   },
   "outputs": [],
   "source": [
    "temp = d.plot(figsize=(15,5))\n",
    "dsamp.plot(ax=temp, marker='o', linestyle='--')\n",
    "temp.legend(['observation', 'sample'])"
   ]
  },
  {
   "cell_type": "markdown",
   "metadata": {},
   "source": [
    "**2. Approximately two years of data from the MDOAS at North East Point on White Island.**"
   ]
  },
  {
   "cell_type": "code",
   "execution_count": null,
   "metadata": {},
   "outputs": [],
   "source": [
    "names = ['date', 'obs']\n",
    "df = pd.read_csv('example_data.csv', skiprows=1, parse_dates=True, names=names, usecols=[0,1], index_col=0)"
   ]
  },
  {
   "cell_type": "markdown",
   "metadata": {},
   "source": [
    "Dataframe contains various numbers of observations each day"
   ]
  },
  {
   "cell_type": "code",
   "execution_count": null,
   "metadata": {},
   "outputs": [],
   "source": [
    "df.head()"
   ]
  },
  {
   "cell_type": "markdown",
   "metadata": {},
   "source": [
    "Downsample to a daily mean value. For days with no observations, use linear interpolation to fill"
   ]
  },
  {
   "cell_type": "code",
   "execution_count": null,
   "metadata": {},
   "outputs": [],
   "source": [
    "day = df.resample('D').mean()\n",
    "day.interpolate(inplace=True)"
   ]
  },
  {
   "cell_type": "code",
   "execution_count": null,
   "metadata": {},
   "outputs": [],
   "source": [
    "day.head()"
   ]
  },
  {
   "cell_type": "markdown",
   "metadata": {},
   "source": [
    "Set the row number as index as this makes random sampling easier"
   ]
  },
  {
   "cell_type": "code",
   "execution_count": null,
   "metadata": {},
   "outputs": [],
   "source": [
    "day.reset_index(inplace=True)"
   ]
  },
  {
   "cell_type": "code",
   "execution_count": null,
   "metadata": {},
   "outputs": [],
   "source": [
    "day.head()"
   ]
  },
  {
   "cell_type": "code",
   "execution_count": null,
   "metadata": {},
   "outputs": [],
   "source": [
    "interval = 40 # mean sample interval\n",
    "sample = np.arange(20, len(day)-20, interval) #fixed sample times\n",
    "weather = np.random.randint(-10, 11, len(sample)) #random variation between -10 -> +10\n",
    "sample += weather #sample points are fixed + random (weather) component"
   ]
  },
  {
   "cell_type": "code",
   "execution_count": null,
   "metadata": {},
   "outputs": [],
   "source": [
    "#sample daily observations at the random sample points\n",
    "dsamp = day.iloc[sample]"
   ]
  },
  {
   "cell_type": "code",
   "execution_count": null,
   "metadata": {},
   "outputs": [],
   "source": [
    "day.set_index('date', inplace=True)\n",
    "dsamp.set_index('date', inplace=True)"
   ]
  },
  {
   "cell_type": "code",
   "execution_count": null,
   "metadata": {},
   "outputs": [],
   "source": [
    "day.head()"
   ]
  },
  {
   "cell_type": "code",
   "execution_count": null,
   "metadata": {
    "scrolled": true
   },
   "outputs": [],
   "source": [
    "temp = day.plot(figsize=(15,5))\n",
    "dsamp.plot(ax=temp, marker='o', linestyle='--')\n",
    "temp.legend(['observation', 'sample'])"
   ]
  }
 ],
 "metadata": {
  "kernelspec": {
   "display_name": "Python 3",
   "language": "python",
   "name": "python3"
  },
  "language_info": {
   "codemirror_mode": {
    "name": "ipython",
    "version": 3
   },
   "file_extension": ".py",
   "mimetype": "text/x-python",
   "name": "python",
   "nbconvert_exporter": "python",
   "pygments_lexer": "ipython3",
   "version": "3.6.6"
  }
 },
 "nbformat": 4,
 "nbformat_minor": 2
}
