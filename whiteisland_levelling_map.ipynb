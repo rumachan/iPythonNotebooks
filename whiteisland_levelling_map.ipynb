{
 "cells": [
  {
   "cell_type": "markdown",
   "metadata": {},
   "source": [
    "White Island Levelling Data Maps\n",
    "--"
   ]
  },
  {
   "cell_type": "code",
   "execution_count": 1,
   "metadata": {
    "collapsed": true
   },
   "outputs": [],
   "source": [
    "import pandas as pd\n",
    "import matplotlib\n",
    "import matplotlib.cm as cm\n",
    "import matplotlib.pyplot as plt\n",
    "from matplotlib.transforms import offset_copy\n",
    "import requests\n",
    "\n",
    "import cartopy.crs as ccrs\n",
    "import cartopy.io.img_tiles as cimgt\n",
    "from cartopy.io.img_tiles import OSM\n",
    "from cartopy.io.img_tiles import StamenTerrain\n",
    "\n",
    "from ipywidgets import interact, interactive, fixed, interact_manual\n",
    "import ipywidgets as widgets\n",
    "from ipywidgets import Button, Layout\n",
    "\n",
    "%matplotlib inline"
   ]
  },
  {
   "cell_type": "code",
   "execution_count": 2,
   "metadata": {},
   "outputs": [
    {
     "data": {
      "text/html": [
       "<style>.container { width:100% !important; }</style>"
      ],
      "text/plain": [
       "<IPython.core.display.HTML object>"
      ]
     },
     "metadata": {},
     "output_type": "display_data"
    }
   ],
   "source": [
    "#full width notebook display\n",
    "from IPython.core.display import display, HTML\n",
    "display(HTML(\"<style>.container { width:100% !important; }</style>\"))"
   ]
  },
  {
   "cell_type": "markdown",
   "metadata": {},
   "source": [
    "**Widget functions**"
   ]
  },
  {
   "cell_type": "code",
   "execution_count": 3,
   "metadata": {
    "collapsed": true
   },
   "outputs": [],
   "source": [
    "def seld1(wd1):\n",
    "  global date1\n",
    "  date1 = wd1['new']\n",
    "    \n",
    "def seld2(wd2):\n",
    "  global date2\n",
    "  date2 = wd2['new']"
   ]
  },
  {
   "cell_type": "code",
   "execution_count": 28,
   "metadata": {
    "collapsed": true
   },
   "outputs": [],
   "source": [
    "def go(g):\n",
    "  global diff, signif\n",
    "  #dataframes for each date  \n",
    "  data1 = dfall[dfall['Datetime']==date1]\n",
    "  data2 = dfall[dfall['Datetime']==date2]\n",
    "  #difference dataframe, for plotting\n",
    "  diff = pd.merge(data2, data1, on='siteID')  \n",
    "  diff['diff'] = (diff['obs_x'] - diff['obs_y']) * 1000\n",
    "\n",
    "  maxval = max(abs(diff['diff'].min()), abs(diff['diff'].max()))\n",
    "  vmin = maxval * -1\n",
    "  vmax = maxval\n",
    "  \n",
    "  #plot map\n",
    "  fig = plt.figure()\n",
    "  \n",
    "  #imagery\n",
    "  imagery = OSM()  \n",
    "  ax = plt.axes(projection=imagery.crs)\n",
    "  ax.add_image(imagery, 14)\n",
    "  ax.set_extent([float(lonmin), float(lonmax), float(latmin), float(latmax)])\n",
    "      \n",
    "  #observations as coloured points\n",
    "  plt.scatter(diff['lon_x'], diff['lat_x'], c=diff['diff'], s=50, marker='o', linewidth=0, cmap='seismic', vmin=vmin, vmax=vmax, norm=matplotlib.colors.Normalize(), transform=ccrs.Geodetic())\n",
    "  \n",
    "  ##value labels inside symbols\n",
    "  geodetic_transform = ccrs.Geodetic()._as_mpl_transform(ax)\n",
    "  text_transform = offset_copy(geodetic_transform, units='dots', x=0, y=0)\n",
    "  for value, x, y in zip(diff['diff'], diff['lon_x'], diff['lat_x']):\n",
    "    plt.text(x, y, str(int(round(value))), size=4, color='white', verticalalignment='center', horizontalalignment='center', transform=text_transform)\n",
    "    \n",
    "  #plot reference site (WI100, A) as star\n",
    "  ref = diff[diff['siteID']=='WI100']\n",
    "  plt.plot(ref['lon_x'], ref['lat_x'], color='black', markersize=10, marker='*', linestyle='None', transform=ccrs.Geodetic())\n",
    "\n",
    "  #colour bar\n",
    "  cb = plt.colorbar()\n",
    "  cb.set_label('Height change (mm)')\n",
    "\n",
    "  #title\n",
    "  title = date1+' to '+date2\n",
    "  plt.title(title)\n",
    "\n",
    "  #save as file\n",
    "  image = date1+'-'+date2+'.png'\n",
    "  plt.savefig(image, dpi=200)"
   ]
  },
  {
   "cell_type": "markdown",
   "metadata": {},
   "source": [
    "**Data search parameters**"
   ]
  },
  {
   "cell_type": "code",
   "execution_count": 5,
   "metadata": {
    "collapsed": true
   },
   "outputs": [],
   "source": [
    "typeID = 'z'\n",
    "methodID = 'lev'\n",
    "latmin = '-37.528'\n",
    "latmax = '-37.518'\n",
    "lonmin = '177.184'\n",
    "lonmax = '177.196'\n",
    "\n",
    "within = 'POLYGON(('+lonmin+'+'+latmax+','+lonmin+'+'+latmin+','+lonmax+'+'+latmin+','+lonmax+'+'+latmax+','+lonmin+'+'+latmax+'))'"
   ]
  },
  {
   "cell_type": "markdown",
   "metadata": {},
   "source": [
    "**Query**"
   ]
  },
  {
   "cell_type": "code",
   "execution_count": 6,
   "metadata": {
    "collapsed": true
   },
   "outputs": [],
   "source": [
    "url = 'http://fits.geonet.org.nz/site'\n",
    "payload = {'typeID': typeID, 'methodID': methodID, 'within': within}"
   ]
  },
  {
   "cell_type": "markdown",
   "metadata": {},
   "source": [
    "**Get sites from site query**"
   ]
  },
  {
   "cell_type": "code",
   "execution_count": 7,
   "metadata": {
    "collapsed": true
   },
   "outputs": [],
   "source": [
    "r = requests.get(url,params=payload)\n",
    "jdata = r.json()\n",
    "features = jdata['features']\n",
    "dfsite = pd.DataFrame() #empty dataframe\n",
    "for i, val in enumerate(features):\n",
    "  geometry = val['geometry']\n",
    "  lon = geometry['coordinates'][0]\n",
    "  lat = geometry['coordinates'][1]\n",
    "  properties = val['properties']\n",
    "  siteID = properties['siteID']\n",
    "  height = properties['height']\n",
    "  name = properties['name']\n",
    "  #append these to df\n",
    "  dfsite = dfsite.append({'siteID': siteID, 'lon': lon, 'lat': lat, 'height': height, 'name': name}, ignore_index=True)"
   ]
  },
  {
   "cell_type": "code",
   "execution_count": 8,
   "metadata": {},
   "outputs": [
    {
     "data": {
      "text/html": [
       "<div>\n",
       "<style>\n",
       "    .dataframe thead tr:only-child th {\n",
       "        text-align: right;\n",
       "    }\n",
       "\n",
       "    .dataframe thead th {\n",
       "        text-align: left;\n",
       "    }\n",
       "\n",
       "    .dataframe tbody tr th {\n",
       "        vertical-align: top;\n",
       "    }\n",
       "</style>\n",
       "<table border=\"1\" class=\"dataframe\">\n",
       "  <thead>\n",
       "    <tr style=\"text-align: right;\">\n",
       "      <th></th>\n",
       "      <th>height</th>\n",
       "      <th>lat</th>\n",
       "      <th>lon</th>\n",
       "      <th>name</th>\n",
       "      <th>siteID</th>\n",
       "    </tr>\n",
       "  </thead>\n",
       "  <tbody>\n",
       "    <tr>\n",
       "      <th>0</th>\n",
       "      <td>0.000</td>\n",
       "      <td>-37.525886</td>\n",
       "      <td>177.191399</td>\n",
       "      <td>White Island Level A</td>\n",
       "      <td>WI100</td>\n",
       "    </tr>\n",
       "    <tr>\n",
       "      <th>1</th>\n",
       "      <td>5.777</td>\n",
       "      <td>-37.523688</td>\n",
       "      <td>177.188405</td>\n",
       "      <td>White Island Level C</td>\n",
       "      <td>WI102</td>\n",
       "    </tr>\n",
       "    <tr>\n",
       "      <th>2</th>\n",
       "      <td>7.869</td>\n",
       "      <td>-37.523524</td>\n",
       "      <td>177.187954</td>\n",
       "      <td>White Island Level D1</td>\n",
       "      <td>WI103-1</td>\n",
       "    </tr>\n",
       "    <tr>\n",
       "      <th>3</th>\n",
       "      <td>9.568</td>\n",
       "      <td>-37.523524</td>\n",
       "      <td>177.187954</td>\n",
       "      <td>White Island Level D2</td>\n",
       "      <td>WI103-2</td>\n",
       "    </tr>\n",
       "    <tr>\n",
       "      <th>4</th>\n",
       "      <td>10.429</td>\n",
       "      <td>-37.523524</td>\n",
       "      <td>177.187954</td>\n",
       "      <td>White Island Level D3</td>\n",
       "      <td>WI103-3</td>\n",
       "    </tr>\n",
       "  </tbody>\n",
       "</table>\n",
       "</div>"
      ],
      "text/plain": [
       "   height        lat         lon                   name   siteID\n",
       "0   0.000 -37.525886  177.191399   White Island Level A    WI100\n",
       "1   5.777 -37.523688  177.188405   White Island Level C    WI102\n",
       "2   7.869 -37.523524  177.187954  White Island Level D1  WI103-1\n",
       "3   9.568 -37.523524  177.187954  White Island Level D2  WI103-2\n",
       "4  10.429 -37.523524  177.187954  White Island Level D3  WI103-3"
      ]
     },
     "execution_count": 8,
     "metadata": {},
     "output_type": "execute_result"
    }
   ],
   "source": [
    "dfsite.head()"
   ]
  },
  {
   "cell_type": "markdown",
   "metadata": {},
   "source": [
    "**For each siteID, get time-series data and accumulate**"
   ]
  },
  {
   "cell_type": "code",
   "execution_count": 9,
   "metadata": {
    "collapsed": true
   },
   "outputs": [],
   "source": [
    "names = ['dt', 'obs', 'err']\n",
    "dfts = pd.DataFrame()   #empty dataframe"
   ]
  },
  {
   "cell_type": "code",
   "execution_count": 10,
   "metadata": {
    "collapsed": true
   },
   "outputs": [],
   "source": [
    "for site in dfsite['siteID']:\n",
    "  site = site.encode('ascii','ignore')\n",
    "  #print site, network\n",
    "  url= 'https://fits.geonet.org.nz/observation?typeID='+typeID+'&siteID='+site+'&methodID='+methodID\n",
    "  df = pd.read_csv(url, names=names, skiprows=1, parse_dates={\"Datetime\" : ['dt']})\n",
    "  df['siteID'] = site\n",
    "  dfts = dfts.append(df, ignore_index=True)"
   ]
  },
  {
   "cell_type": "markdown",
   "metadata": {},
   "source": [
    "**Merge the two dataframes on siteID**"
   ]
  },
  {
   "cell_type": "code",
   "execution_count": 11,
   "metadata": {
    "collapsed": true
   },
   "outputs": [],
   "source": [
    "dfall = pd.merge(dfsite, dfts, on='siteID')"
   ]
  },
  {
   "cell_type": "markdown",
   "metadata": {},
   "source": [
    "**Get a list of dates (as strings) for selection with a widget**"
   ]
  },
  {
   "cell_type": "code",
   "execution_count": 12,
   "metadata": {
    "collapsed": true
   },
   "outputs": [],
   "source": [
    "dates = dfall['Datetime'].unique()\n",
    "datestr = dates.astype('datetime64[D]').astype('str').tolist()\n",
    "datestr.sort()\n",
    "datestr.append('choose date')\n",
    "datestr.reverse()"
   ]
  },
  {
   "cell_type": "markdown",
   "metadata": {},
   "source": [
    "**Date selection section using widgets**"
   ]
  },
  {
   "cell_type": "code",
   "execution_count": 29,
   "metadata": {
    "scrolled": true
   },
   "outputs": [
    {
     "name": "stderr",
     "output_type": "stream",
     "text": [
      "Widget Javascript not detected.  It may not be installed or enabled properly.\n"
     ]
    },
    {
     "data": {
      "application/vnd.jupyter.widget-view+json": {
       "model_id": "e835a28172994a81b3802294ca10d09d"
      }
     },
     "metadata": {},
     "output_type": "display_data"
    },
    {
     "data": {
      "image/png": "[encoded data removed]",
      "text/plain": [
       "<matplotlib.figure.Figure at 0x7f418c280250>"
      ]
     },
     "metadata": {},
     "output_type": "display_data"
    }
   ],
   "source": [
    "wd1 = widgets.Select(\n",
    "    options= datestr,\n",
    "    description='earlier date:',\n",
    "    disabled=False\n",
    ")\n",
    "wd1.observe(seld1, names='value')\n",
    "\n",
    "wd2 = widgets.Select(\n",
    "    options= datestr,\n",
    "    description='later date:',\n",
    "    disabled=False\n",
    ")\n",
    "wd2.observe(seld2, names='value')\n",
    "\n",
    "g=widgets.Button(\n",
    "    description='Plot and make file',\n",
    "    disabled=False,\n",
    "    button_style='success',\n",
    "    tooltip='Click to plot')\n",
    "g.on_click(go)\n",
    "\n",
    "widgets.HBox([wd1, wd2, g])"
   ]
  },
  {
   "cell_type": "markdown",
   "metadata": {},
   "source": [
    "**Look at selected data in different ways**"
   ]
  },
  {
   "cell_type": "markdown",
   "metadata": {},
   "source": [
    "**Histogram of changes vs siteID**"
   ]
  },
  {
   "cell_type": "code",
   "execution_count": 14,
   "metadata": {
    "scrolled": true
   },
   "outputs": [
    {
     "ename": "NameError",
     "evalue": "name 'diff' is not defined",
     "output_type": "error",
     "traceback": [
      "\u001b[0;31m---------------------------------------------------------------------------\u001b[0m",
      "\u001b[0;31mNameError\u001b[0m                                 Traceback (most recent call last)",
      "\u001b[0;32m<ipython-input-14-2bab23eb9d76>\u001b[0m in \u001b[0;36m<module>\u001b[0;34m()\u001b[0m\n\u001b[0;32m----> 1\u001b[0;31m \u001b[0mdh\u001b[0m \u001b[0;34m=\u001b[0m \u001b[0mdiff\u001b[0m\u001b[0;34m.\u001b[0m\u001b[0mplot\u001b[0m\u001b[0;34m(\u001b[0m\u001b[0mkind\u001b[0m\u001b[0;34m=\u001b[0m\u001b[0;34m'bar'\u001b[0m\u001b[0;34m,\u001b[0m \u001b[0mx\u001b[0m\u001b[0;34m=\u001b[0m\u001b[0;34m'siteID'\u001b[0m\u001b[0;34m,\u001b[0m \u001b[0my\u001b[0m\u001b[0;34m=\u001b[0m\u001b[0;34m'diff'\u001b[0m\u001b[0;34m,\u001b[0m \u001b[0mlegend\u001b[0m\u001b[0;34m=\u001b[0m\u001b[0mFalse\u001b[0m\u001b[0;34m)\u001b[0m\u001b[0;34m\u001b[0m\u001b[0m\n\u001b[0m\u001b[1;32m      2\u001b[0m \u001b[0mplt\u001b[0m\u001b[0;34m.\u001b[0m\u001b[0maxhline\u001b[0m\u001b[0;34m(\u001b[0m\u001b[0;36m0\u001b[0m\u001b[0;34m,\u001b[0m \u001b[0mcolor\u001b[0m\u001b[0;34m=\u001b[0m\u001b[0;34m'black'\u001b[0m\u001b[0;34m)\u001b[0m\u001b[0;34m\u001b[0m\u001b[0m\n\u001b[1;32m      3\u001b[0m \u001b[0mplt\u001b[0m\u001b[0;34m.\u001b[0m\u001b[0maxhline\u001b[0m\u001b[0;34m(\u001b[0m\u001b[0;36m12\u001b[0m\u001b[0;34m,\u001b[0m \u001b[0mcolor\u001b[0m\u001b[0;34m=\u001b[0m\u001b[0;34m'red'\u001b[0m\u001b[0;34m,\u001b[0m \u001b[0mlinestyle\u001b[0m\u001b[0;34m=\u001b[0m\u001b[0;34m'--'\u001b[0m\u001b[0;34m)\u001b[0m\u001b[0;34m\u001b[0m\u001b[0m\n\u001b[1;32m      4\u001b[0m \u001b[0mplt\u001b[0m\u001b[0;34m.\u001b[0m\u001b[0maxhline\u001b[0m\u001b[0;34m(\u001b[0m\u001b[0;34m-\u001b[0m\u001b[0;36m12\u001b[0m\u001b[0;34m,\u001b[0m \u001b[0mcolor\u001b[0m\u001b[0;34m=\u001b[0m\u001b[0;34m'red'\u001b[0m\u001b[0;34m,\u001b[0m \u001b[0mlinestyle\u001b[0m\u001b[0;34m=\u001b[0m\u001b[0;34m'--'\u001b[0m\u001b[0;34m)\u001b[0m\u001b[0;34m\u001b[0m\u001b[0m\n\u001b[1;32m      5\u001b[0m \u001b[0mdh\u001b[0m\u001b[0;34m.\u001b[0m\u001b[0mset_ylabel\u001b[0m\u001b[0;34m(\u001b[0m\u001b[0;34m'Height change (mm)'\u001b[0m\u001b[0;34m)\u001b[0m\u001b[0;34m\u001b[0m\u001b[0m\n",
      "\u001b[0;31mNameError\u001b[0m: name 'diff' is not defined"
     ]
    }
   ],
   "source": [
    "dh = diff.plot(kind='bar', x='siteID', y='diff', legend=False)\n",
    "plt.axhline(0, color='black')\n",
    "plt.axhline(12, color='red', linestyle='--')\n",
    "plt.axhline(-12, color='red', linestyle='--')\n",
    "dh.set_ylabel('Height change (mm)')"
   ]
  },
  {
   "cell_type": "markdown",
   "metadata": {},
   "source": [
    "**SiteID vs site name, to help users**"
   ]
  },
  {
   "cell_type": "code",
   "execution_count": null,
   "metadata": {
    "collapsed": true,
    "scrolled": true
   },
   "outputs": [],
   "source": [
    "pd.set_option('display.max_columns', 23) #increase column numbers to show all\n",
    "text = diff[['siteID', 'name_x']].copy().transpose()\n",
    "text"
   ]
  },
  {
   "cell_type": "code",
   "execution_count": null,
   "metadata": {
    "collapsed": true
   },
   "outputs": [],
   "source": [
    "#then reset\n",
    "pd.reset_option('display.max_columns')"
   ]
  },
  {
   "cell_type": "markdown",
   "metadata": {},
   "source": [
    "**Boxplot of all changes**"
   ]
  },
  {
   "cell_type": "code",
   "execution_count": null,
   "metadata": {
    "collapsed": true,
    "scrolled": true
   },
   "outputs": [],
   "source": [
    "db = diff.plot(kind='box', y='diff', legend=False)\n",
    "plt.axhline(12, color='red', linestyle='--')\n",
    "plt.axhline(-12, color='red', linestyle='--')\n",
    "plt.axhline(0, color='red', linestyle='-')\n",
    "db.set_ylabel('Height change (mm)')"
   ]
  }
 ],
 "metadata": {
  "kernelspec": {
   "display_name": "Python 2",
   "language": "python",
   "name": "python2"
  },
  "language_info": {
   "codemirror_mode": {
    "name": "ipython",
    "version": 2
   },
   "file_extension": ".py",
   "mimetype": "text/x-python",
   "name": "python",
   "nbconvert_exporter": "python",
   "pygments_lexer": "ipython2",
   "version": "2.7.12"
  }
 },
 "nbformat": 4,
 "nbformat_minor": 2
}
