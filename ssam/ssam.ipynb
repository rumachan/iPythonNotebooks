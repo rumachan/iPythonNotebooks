{
 "cells": [
  {
   "cell_type": "markdown",
   "metadata": {},
   "source": [
    "SSAM\n",
    "--"
   ]
  },
  {
   "cell_type": "markdown",
   "metadata": {},
   "source": [
    "**Plots a spectrogram of single component of seismic (or acoustic) data. Can plot a single or multiple days of data. Plotting any more than three days is very slow, and is *not* recommended. Spectrogram data are *not* stored following plotting.**\n",
    "\n",
    "* Data are acquired from GeoNet's FDSN web servers, http://www.geonet.org.nz/data/tools/FDSN. The archive server is used as the first choice, and if that does not contain the data (it only keeps data older than 7 days) then the near real-time server will be used instead.\n",
    "* Data are decimated to 50 sps, giving a maximum displayed frequency of 25 Hz.\n",
    "* Data windows do not overlap.\n",
    "* Data window length is 3 minutes.\n",
    "* Frequency resolution is 0.1 Hz. Each FFT is resampled to achieve this.\n",
    "* Sensitivity is removed from the raw data to give m/s, then converted to nm/s.\n",
    "* Data gaps are interpolated as zeros, so time with a data gap gives zero FFT, hence a blank space in the spectrogram. \n",
    "* Colour map is bounded by 10 and 5e6. This is fixed so that all spectrogram have the same colour map."
   ]
  },
  {
   "cell_type": "code",
   "execution_count": null,
   "metadata": {
    "hide_input": false
   },
   "outputs": [],
   "source": [
    "#import modules\n",
    "import numpy as np\n",
    "from numpy.fft import rfft\n",
    "from obspy.core import read, Trace, Stream, UTCDateTime\n",
    "from obspy.signal.invsim import cosine_taper\n",
    "from obspy.clients.fdsn import Client\n",
    "import matplotlib.pyplot as plt\n",
    "import matplotlib\n",
    "import matplotlib.dates as dates\n",
    "from datetime import datetime, timedelta\n",
    "import pandas as pd\n",
    "\n",
    "%matplotlib inline"
   ]
  },
  {
   "cell_type": "code",
   "execution_count": null,
   "metadata": {},
   "outputs": [],
   "source": [
    "#data window (seconds), should be a finite fraction of an hour\n",
    "win = 180\n",
    "#frequency interval (hertz)\n",
    "fint = 0.1"
   ]
  },
  {
   "cell_type": "code",
   "execution_count": null,
   "metadata": {},
   "outputs": [],
   "source": [
    "#GeoNet's FDSN web servers\n",
    "arc_client = 'http://service.geonet.org.nz'\n",
    "nrt_client = 'http://service-nrt.geonet.org.nz'"
   ]
  },
  {
   "cell_type": "code",
   "execution_count": null,
   "metadata": {},
   "outputs": [],
   "source": [
    "#function to get a stream from an FDSN client\n",
    "def dayswave(date1, date2, net, sta, loc, cmp):\n",
    "  #get data from a FDSN web server for days date1 to date2 inclusive\n",
    "  global st\n",
    "  time1 = UTCDateTime(date1)\n",
    "  time2 = UTCDateTime(date2)\n",
    "  #st = client.get_waveforms(net, sta, loc, cmp, time1, time2 + 86400, attach_response=True)\n",
    "  try:\n",
    "    client = Client(arc_client)\n",
    "    st = client.get_waveforms(net, sta, loc, cmp, time1, time2 + 86400, attach_response=True)\n",
    "    print ('arc client successful')\n",
    "    #if this raises an exception, try the near real-time server\n",
    "  except:\n",
    "    client = Client(nrt_client)\n",
    "    st = client.get_waveforms(net, sta, loc, cmp, time1, time2 + 86400, attach_response=True)\n",
    "    print ('nrt client successful')"
   ]
  },
  {
   "cell_type": "markdown",
   "metadata": {},
   "source": [
    "<span style=\"color:red\">**This cell to be set by user**</span>"
   ]
  },
  {
   "cell_type": "code",
   "execution_count": null,
   "metadata": {},
   "outputs": [],
   "source": [
    "date1 = '2020-02-22' #(first date to plot)\n",
    "date2 = '2020-02-23' #(last date to plot)\n",
    "site = 'MAVZ.10.HHZ.NZ'\n",
    "normalise = 'log'\n",
    "#normalise = 'lin'"
   ]
  },
  {
   "cell_type": "code",
   "execution_count": null,
   "metadata": {},
   "outputs": [],
   "source": [
    "#split site into components\n",
    "sta = site.split('.')[0]\n",
    "loc = site.split('.')[1]\n",
    "cmp = site.split('.')[2]\n",
    "net = site.split('.')[3]"
   ]
  },
  {
   "cell_type": "code",
   "execution_count": null,
   "metadata": {},
   "outputs": [],
   "source": [
    "#get data stream\n",
    "dayswave(date1, date2, net, sta, loc, cmp)\n",
    "st.remove_sensitivity()\n",
    "\n",
    "#merge streams, fill gaps with zeros\n",
    "st.merge(fill_value = 0.0)\n",
    "tr = st[0]\n",
    "\n",
    "#decimate trace to 50 sps, no need for higher frequencies\n",
    "if (tr.stats.sampling_rate == 100.0):\n",
    "    tr.decimate(factor=2, strict_length=False)"
   ]
  },
  {
   "cell_type": "code",
   "execution_count": null,
   "metadata": {
    "scrolled": true
   },
   "outputs": [],
   "source": [
    "#set start,end times for the days, from input dates\n",
    "year1 = int(date1.split('-')[0])\n",
    "month1 = int(date1.split('-')[1])\n",
    "day1 = int(date1.split('-')[2])\n",
    "start = UTCDateTime(year1, month1, day1, 0, 0, 0)\n",
    "year2 = int(date2.split('-')[0])\n",
    "month2 = int(date2.split('-')[1])\n",
    "day2 = int(date2.split('-')[2])\n",
    "start2 = UTCDateTime(year2, month2, day2, 0, 0, 0)\n",
    "end = start2 + 86400\n",
    "\n",
    "#number of days of data\n",
    "ndays = int((end - start)/86400)"
   ]
  },
  {
   "cell_type": "code",
   "execution_count": null,
   "metadata": {},
   "outputs": [],
   "source": [
    "#create an empty 2d array of the required size and fill with zeros\n",
    "nwin = int(ndays*24*(3600/180)) #number windows in ndays hours\n",
    "z = np.zeros((249,nwin))"
   ]
  },
  {
   "cell_type": "code",
   "execution_count": null,
   "metadata": {
    "scrolled": true
   },
   "outputs": [],
   "source": [
    "#FFT for each window in data, load into an array z\n",
    "t = start\n",
    "#loop through data in 'win' sec blocks\n",
    "col = 0 #columns of 2d array\n",
    "while t < end:\n",
    "    #slice win seconds of data\n",
    "    tr10 = tr.slice(t, t + win)\n",
    "    #only proceed if have complete data for this time window\n",
    "    if (len(tr10) >= win * 50):\n",
    "     tr10.detrend(type='demean')\n",
    "     npts, nyq = tr10.stats.npts, int(tr10.stats.sampling_rate/2.0)\n",
    "     #cosine taper\n",
    "     tap = cosine_taper(npts,0.1)\n",
    "     #calculate fft\n",
    "     data = tr10.data * 1e9 #convert from m/s to nm/s\n",
    "     trf = rfft(data*tap)\n",
    "     a = abs(trf[1:])\n",
    "     #calculate frequencies for fft\n",
    "     freq = np.linspace(0,nyq,npts/2)\n",
    "     #interpolate to 0.1 Hz (lower resolution)\n",
    "     f = np.arange(0.1,nyq,0.1) #0.1 Hz frequencies\n",
    "     da = np.interp(f, freq, a)\n",
    "     #fill column with spectral data\n",
    "     z[:,col] = da\n",
    "    \n",
    "    #next window\n",
    "    col += 1\n",
    "    t += win"
   ]
  },
  {
   "cell_type": "code",
   "execution_count": null,
   "metadata": {
    "scrolled": true
   },
   "outputs": [],
   "source": [
    "#array for x-axis values\n",
    "dstart = datetime.strptime(date1, '%Y-%m-%d')\n",
    "dend = datetime.strptime(date2, '%Y-%m-%d') + timedelta(days=1)\n",
    "x = pd.date_range(start=dstart, end=dend, freq='3min')\n",
    "\n",
    "#array for hourly x-axis ticks/grid\n",
    "xticks = pd.date_range(start=dstart, end=dend, freq='3H')\n",
    "\n",
    "#label for every 3 hours, replace other labels with a blank string\n",
    "xlabels = xticks.strftime('%m-%d/%H:%M')"
   ]
  },
  {
   "cell_type": "code",
   "execution_count": null,
   "metadata": {},
   "outputs": [],
   "source": [
    "#boundaries of cmap, nm/s\n",
    "#this ensures all spectrograms use the same colour map\n",
    "vmin = 10\n",
    "vmax = 5e6"
   ]
  },
  {
   "cell_type": "code",
   "execution_count": null,
   "metadata": {},
   "outputs": [],
   "source": [
    "fig,ax = plt.subplots(figsize=(ndays*24,10))\n",
    "\n",
    "if (normalise == 'log'):\n",
    "    ax.pcolormesh(x, f, z, cmap='magma', norm=matplotlib.colors.LogNorm(vmin=vmin, vmax=vmax))\n",
    "    title = 'Time resolution: '+str(win)+' sec, Frequency resolution:'+str(fint)+' Hz, Colour map: LogNorm'\n",
    "if (normalise == 'lin')    :\n",
    "    ax.pcolormesh(x, f, z, cmap='magma', norm=matplotlib.colors.Normalize(vmin=vmin, vmax=vmax))\n",
    "    title = 'Time resolution: '+str(win)+' sec, Frequency resolution:'+str(fint)+' Hz, Colour map: Linear'\n",
    "\n",
    "fmt = dates.DateFormatter('%m-%d/%H')\n",
    "ax.xaxis.set_major_formatter(fmt)\n",
    "ax.set_ylim(f.min(), f.max())\n",
    "ax.set_ylabel('Frequency (Hz)', fontsize=12)\n",
    "ax.set_xticks(xticks)\n",
    "ax.set_xticklabels(xlabels, rotation=45, horizontalalignment='right')\n",
    "ax.grid(b=True, which='major', color='dimgray', linestyle='--', linewidth=0.75)\n",
    "ax.grid(b=True, which='minor', color='gray', linestyle='--', axis='y')\n",
    "plt.minorticks_on()\n",
    "\n",
    "#titles\n",
    "if (date2 == date1):\n",
    "    suptitle = sta+'.'+loc+'-'+cmp+'.'+net+', '+date1\n",
    "else:\n",
    "    suptitle = sta+'.'+loc+'-'+cmp+'.'+net+', '+date1+' to '+date2\n",
    "plt.suptitle(suptitle, fontsize=20)\n",
    "plt.title(title, fontsize=12)\n",
    "plt.savefig('ssam.png', dpi=200)"
   ]
  }
 ],
 "metadata": {
  "kernelspec": {
   "display_name": "Python 3",
   "language": "python",
   "name": "python3"
  },
  "language_info": {
   "codemirror_mode": {
    "name": "ipython",
    "version": 3
   },
   "file_extension": ".py",
   "mimetype": "text/x-python",
   "name": "python",
   "nbconvert_exporter": "python",
   "pygments_lexer": "ipython3",
   "version": "3.7.6"
  }
 },
 "nbformat": 4,
 "nbformat_minor": 4
}
