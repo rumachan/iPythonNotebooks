{
 "cells": [
  {
   "cell_type": "markdown",
   "metadata": {},
   "source": [
    "One Day SSAM\n",
    "--"
   ]
  },
  {
   "cell_type": "markdown",
   "metadata": {},
   "source": [
    "1. Data from GeoNet FDSN web server.\n",
    "2. Data decimated to 50 sps, as don't ned frequencies above 25 Hz.\n",
    "3. Data windows do not overlap. Window length 3 minutes.\n",
    "4. Frequency resolution 0.1 Hz. FFT reampled to achieve this.\n",
    "5. Sensitivity removed from raw data.\n",
    "6. Colour map bounded by 10 and 5e6."
   ]
  },
  {
   "cell_type": "code",
   "execution_count": null,
   "metadata": {
    "collapsed": true
   },
   "outputs": [],
   "source": [
    "import numpy as np\n",
    "from numpy.fft import rfft\n",
    "from obspy.core import read, Trace, Stream, UTCDateTime\n",
    "from obspy.signal.invsim import cosine_taper\n",
    "from obspy.clients.fdsn import Client\n",
    "import matplotlib.pyplot as plt\n",
    "import matplotlib\n",
    "\n",
    "%matplotlib inline"
   ]
  },
  {
   "cell_type": "code",
   "execution_count": null,
   "metadata": {
    "collapsed": true
   },
   "outputs": [],
   "source": [
    "#data window (seconds), should be a finite fraction of an hour\n",
    "win = 180\n",
    "#frequency interval (hertz)\n",
    "fint = 0.1"
   ]
  },
  {
   "cell_type": "code",
   "execution_count": null,
   "metadata": {
    "collapsed": true
   },
   "outputs": [],
   "source": [
    "#fdsn client\n",
    "#client = Client(\"http://beta-service.geonet.org.nz\")\n",
    "client = Client(\"GEONET\")"
   ]
  },
  {
   "cell_type": "code",
   "execution_count": null,
   "metadata": {
    "collapsed": true
   },
   "outputs": [],
   "source": [
    "def daywave(date, net, sta, loc, cmp):\n",
    "  #get a day of data from a FDSN web server\n",
    "  global st\n",
    "  time = UTCDateTime(date)\n",
    "  st = client.get_waveforms(net, sta, loc, cmp, time, time + 86400, attach_response=True)"
   ]
  },
  {
   "cell_type": "code",
   "execution_count": null,
   "metadata": {
    "collapsed": true
   },
   "outputs": [],
   "source": [
    "date = '2012-08-06'\n",
    "net = 'NZ'\n",
    "sta = 'KRVZ'\n",
    "cmp = 'EHZ'\n",
    "loc = '10'"
   ]
  },
  {
   "cell_type": "code",
   "execution_count": null,
   "metadata": {},
   "outputs": [],
   "source": [
    "daywave(date, net, sta, loc, cmp)\n",
    "st.remove_sensitivity()\n",
    "\n",
    "st.merge(fill_value = 'interpolate')\n",
    "tr = st[0]"
   ]
  },
  {
   "cell_type": "code",
   "execution_count": null,
   "metadata": {
    "collapsed": true
   },
   "outputs": [],
   "source": [
    "#decimate to 50 sps, no need for higher frequencies\n",
    "if (tr.stats.sampling_rate == 100.0):\n",
    "    tr.decimate(factor=2, strict_length=False)"
   ]
  },
  {
   "cell_type": "code",
   "execution_count": null,
   "metadata": {
    "scrolled": true
   },
   "outputs": [],
   "source": [
    "#set start,end times for the day, from input date-time\n",
    "year = int(date.split('-')[0])\n",
    "month = int(date.split('-')[1])\n",
    "day = int(date.split('-')[2])\n",
    "start = UTCDateTime(year, month, day, 0, 0, 0)\n",
    "end = start + 86400"
   ]
  },
  {
   "cell_type": "code",
   "execution_count": null,
   "metadata": {},
   "outputs": [],
   "source": [
    "#empty 2d array for spectral amplitudes, required size, filled with zeros\n",
    "nwin = 24*(3600/180) #number windows in 24 hours\n",
    "z = np.zeros((249,nwin))"
   ]
  },
  {
   "cell_type": "code",
   "execution_count": null,
   "metadata": {
    "scrolled": true
   },
   "outputs": [],
   "source": [
    "t = start\n",
    "#loop through data in 'win' sec blocks\n",
    "\n",
    "col = 0 #columns of 2d array\n",
    "while t < end:\n",
    "    #slice win seconds of data\n",
    "    tr10 = tr.slice(t, t + win)\n",
    "    tr10.detrend(type='demean')\n",
    "    npts, nyq = tr10.stats.npts, tr10.stats.sampling_rate/2.0\n",
    "    #cosine taper\n",
    "    tap = cosine_taper(npts,0.1)\n",
    "    #calculate fft\n",
    "    data = tr10.data * 1e9 #convert from m/s to nm/s\n",
    "    trf = rfft(data*tap)\n",
    "    a = abs(trf[1:])\n",
    "    #calculate frequencies for fft\n",
    "    f = np.linspace(0,nyq,npts/2)\n",
    "    #interpolate to 0.1 Hz (lower resolution)\n",
    "    df = np.arange(0.1,nyq,0.1) #0.1 Hz frequencies\n",
    "    da = np.interp(df, f, a)\n",
    "    #fill column with spectral data\n",
    "    z[:,col] = da\n",
    "    \n",
    "    #next window\n",
    "    col += 1\n",
    "    t += win"
   ]
  },
  {
   "cell_type": "code",
   "execution_count": null,
   "metadata": {},
   "outputs": [],
   "source": [
    "#array for pcolormesh, x-axis\n",
    "hour = np.arange(0, 24, float(win)/float(3600))"
   ]
  },
  {
   "cell_type": "code",
   "execution_count": null,
   "metadata": {
    "collapsed": true
   },
   "outputs": [],
   "source": [
    "#boundaries of cmap, nm/s\n",
    "vmin = 10\n",
    "vmax = 5e6"
   ]
  },
  {
   "cell_type": "code",
   "execution_count": null,
   "metadata": {
    "scrolled": false
   },
   "outputs": [],
   "source": [
    "fig,ax = plt.subplots(figsize=(24,10))\n",
    "ax.pcolormesh(hour, df, z, cmap='seismic', norm=matplotlib.colors.LogNorm(vmin=vmin, vmax=vmax))\n",
    "\n",
    "ax.set_ylim(df.min(), df.max())\n",
    "ax.set_xlim(hour.min(), hour.max())\n",
    "ax.set_xticks(np.arange(hour.min(), hour.max(), 1))\n",
    "ax.set_ylabel('Frequency (Hz)', fontsize=12)\n",
    "ax.set_xlabel('Time (hours)', fontsize=12)\n",
    "ax.grid(b=True, which='major', color='gray', linestyle='--')#, alpha=0.5)\n",
    "\n",
    "suptitle = sta+'.'+loc+'-'+cmp+'.'+net+', '+date\n",
    "plt.suptitle(suptitle, fontsize=20)\n",
    "title = 'Time resolution: '+str(win)+' sec, Frequency resolution:'+str(fint)+' Hz, Colour map: LogNorm'\n",
    "plt.title(title, fontsize=12)\n",
    "#plt.savefig('temaari.png', dpi=200)"
   ]
  }
 ],
 "metadata": {
  "kernelspec": {
   "display_name": "Python 2",
   "language": "python",
   "name": "python2"
  },
  "language_info": {
   "codemirror_mode": {
    "name": "ipython",
    "version": 2
   },
   "file_extension": ".py",
   "mimetype": "text/x-python",
   "name": "python",
   "nbconvert_exporter": "python",
   "pygments_lexer": "ipython2",
   "version": "2.7.12"
  }
 },
 "nbformat": 4,
 "nbformat_minor": 2
}
