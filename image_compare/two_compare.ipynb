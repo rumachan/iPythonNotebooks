{
 "cells": [
  {
   "cell_type": "markdown",
   "metadata": {},
   "source": [
    "Compare Two Images and Quantify The Difference\n",
    "--\n",
    "\n",
    "Images should have the same dimensions. A small Hamming distance means that images are similar."
   ]
  },
  {
   "cell_type": "code",
   "execution_count": 29,
   "metadata": {
    "collapsed": true
   },
   "outputs": [],
   "source": [
    "import sys, os\n",
    "from PIL import Image"
   ]
  },
  {
   "cell_type": "code",
   "execution_count": 30,
   "metadata": {
    "collapsed": true
   },
   "outputs": [],
   "source": [
    "def hammingDistance(s1, s2):\n",
    "    \"\"\"Return the Hamming distance between equal-length sequences\"\"\"\n",
    "    if len(s1) != len(s2):\n",
    "        raise ValueError(\"Undefined for sequences of unequal length\")\n",
    "    return sum(bool(ord(ch1) - ord(ch2)) for ch1, ch2 in zip(s1, s2))"
   ]
  },
  {
   "cell_type": "code",
   "execution_count": 31,
   "metadata": {
    "collapsed": true
   },
   "outputs": [],
   "source": [
    "img1 = '/home/sherburn/geonet/volcam_images/crop/20180101000002WIWR.jpg'\n",
    "img2 = '/home/sherburn/geonet/volcam_images/crop/20171201003002WIWR.jpg'"
   ]
  },
  {
   "cell_type": "code",
   "execution_count": 32,
   "metadata": {
    "collapsed": true
   },
   "outputs": [],
   "source": [
    "#calculate hexadcimal hash for images\n",
    "metric = []\n",
    "for img in (img1, img2):\n",
    "  image = Image.open(img)\n",
    "\n",
    "  #image = image.crop((0, 0, 1280, 960))\n",
    "  image = image.resize((8, 8), Image.ANTIALIAS)\n",
    "  image = image.convert(\"L\")\n",
    "\n",
    "  pixels = list(image.getdata())\n",
    "  avg = sum(pixels) / len(pixels)\n",
    "\n",
    "  bits = \"\".join(map(lambda pixel: '1' if (pixel < avg) else '0', pixels))  # '00010100...'\n",
    "  hexhash = int(bits, 2).__format__('016x').upper()\n",
    "  metric.append(hexhash)"
   ]
  },
  {
   "cell_type": "code",
   "execution_count": 33,
   "metadata": {},
   "outputs": [
    {
     "data": {
      "text/plain": [
       "['1D7DF9FFE5C18302', '091DFDBFA6C9AD36']"
      ]
     },
     "execution_count": 33,
     "metadata": {},
     "output_type": "execute_result"
    }
   ],
   "source": [
    "metric"
   ]
  },
  {
   "cell_type": "code",
   "execution_count": 34,
   "metadata": {
    "collapsed": true
   },
   "outputs": [],
   "source": [
    "hamdist = hammingDistance(metric[0], metric[1])"
   ]
  },
  {
   "cell_type": "code",
   "execution_count": 35,
   "metadata": {},
   "outputs": [
    {
     "name": "stdout",
     "output_type": "stream",
     "text": [
      "img1:  /home/sherburn/geonet/volcam_images/crop/20180101000002WIWR.jpg\n",
      "hash:  1D7DF9FFE5C18302\n",
      "img2:  /home/sherburn/geonet/volcam_images/crop/20171201003002WIWR.jpg\n",
      "hash:  091DFDBFA6C9AD36\n",
      "hamdist:  12\n"
     ]
    }
   ],
   "source": [
    "print ('img1: ', img1)\n",
    "print ('hash: ', metric[0])\n",
    "print ('img2: ', img2)\n",
    "print ('hash: ', metric[1])\n",
    "print ('hamdist: ', hamdist)"
   ]
  }
 ],
 "metadata": {
  "kernelspec": {
   "display_name": "Python 3",
   "language": "python",
   "name": "python3"
  },
  "language_info": {
   "codemirror_mode": {
    "name": "ipython",
    "version": 3
   },
   "file_extension": ".py",
   "mimetype": "text/x-python",
   "name": "python",
   "nbconvert_exporter": "python",
   "pygments_lexer": "ipython3",
   "version": "3.6.2"
  }
 },
 "nbformat": 4,
 "nbformat_minor": 2
}
