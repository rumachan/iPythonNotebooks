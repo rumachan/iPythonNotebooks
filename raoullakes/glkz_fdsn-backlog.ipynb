{
 "cells": [
  {
   "cell_type": "markdown",
   "metadata": {},
   "source": [
    "Backlog\n",
    "--\n",
    "\n",
    "Process backlog data to set up files for normal processing"
   ]
  },
  {
   "cell_type": "code",
   "execution_count": null,
   "metadata": {
    "collapsed": true,
    "scrolled": true
   },
   "outputs": [],
   "source": [
    "from obspy.core import UTCDateTime\n",
    "from obspy.clients.fdsn import Client\n",
    "\n",
    "import pandas as pd\n",
    "\n",
    "%matplotlib inline"
   ]
  },
  {
   "cell_type": "code",
   "execution_count": null,
   "metadata": {
    "collapsed": true
   },
   "outputs": [],
   "source": [
    "def daywave(date, net, sta, loc, cmp):\n",
    "  global st\n",
    "  time = UTCDateTime(date)\n",
    "  st = client.get_waveforms(net, sta, loc, cmp, time, time + 86400, attach_response=True)"
   ]
  },
  {
   "cell_type": "code",
   "execution_count": null,
   "metadata": {
    "collapsed": true
   },
   "outputs": [],
   "source": [
    "client = Client(\"http://service.geonet.org.nz\")"
   ]
  },
  {
   "cell_type": "code",
   "execution_count": null,
   "metadata": {
    "collapsed": true
   },
   "outputs": [],
   "source": [
    "names = ['date', 'value', 'error']\n",
    "dt1str = '2009-05-19'\n",
    "dt2str = '2016-09-30'"
   ]
  },
  {
   "cell_type": "code",
   "execution_count": null,
   "metadata": {
    "collapsed": true
   },
   "outputs": [],
   "source": [
    "sta = 'GLKZ'\n",
    "#chan = [{'loc':'40', 'cmp':'LTH', 'net':'NZ', 'fname':'gll.csv', 'subject':'green lake level'},\n",
    "        #{'loc':'81', 'cmp':'LKO', 'net':'NZ', 'fname':'mbt.csv', 'subject':'marker bay temperature'},\n",
    "        #{'loc':'80', 'cmp':'LKO', 'net':'NZ', 'fname':'glt.csv', 'subject':'green lake temperature'}]\n",
    "#chan = [{'loc':'40', 'cmp':'LTH', 'net':'NZ', 'fname':'gll.csv', 'subject':'green lake level'}]\n",
    "#chan = [{'loc':'80', 'cmp':'LKO', 'net':'NZ', 'fname':'glt.csv', 'subject':'green lake temperature'}]\n",
    "chan = [{'loc':'81', 'cmp':'LKO', 'net':'NZ', 'fname':'mbt.csv', 'subject':'marker bay temperature'}]"
   ]
  },
  {
   "cell_type": "code",
   "execution_count": null,
   "metadata": {
    "scrolled": false
   },
   "outputs": [],
   "source": [
    "for ch in chan:\n",
    "    cmp = ch['cmp']\n",
    "    net = ch['net']\n",
    "    fname = ch['fname']\n",
    "    loc = ch['loc']\n",
    "    subject = ch['subject']\n",
    "    print fname, cmp, loc, subject\n",
    "\n",
    "    df = pd.DataFrame()\n",
    "    for date in pd.date_range(start=dt1str, end=dt2str, freq='D'):\n",
    "        #print date.date()\n",
    "        try:\n",
    "            daywave(date, net, sta, loc, cmp)\n",
    "            st.remove_sensitivity()\n",
    "            st.merge(fill_value = 'interpolate')\n",
    "            tr = st[0]\n",
    "            mean = tr.data.mean()\n",
    "            std = tr.data.std()\n",
    "        except:\n",
    "            print date.date(), 'retrieve unsuccessful'\n",
    "            mean = float('nan')\n",
    "            std = float('nan')\n",
    "        print date.date(), mean, std\n",
    "        vals = {'date':date.date(), 'value':mean, 'error':std}\n",
    "        df = df.append(pd.DataFrame([vals], columns=vals.keys()), ignore_index=True)\n",
    "    print\n",
    "\n",
    "    df.to_csv(fname, columns=['date', 'value', 'error'], na_rep='NaN', index=False)"
   ]
  },
  {
   "cell_type": "markdown",
   "metadata": {},
   "source": [
    "**Check**"
   ]
  },
  {
   "cell_type": "code",
   "execution_count": null,
   "metadata": {
    "collapsed": true
   },
   "outputs": [],
   "source": [
    "oldnames = ['d1', 'date', 't1', 'value']"
   ]
  },
  {
   "cell_type": "markdown",
   "metadata": {},
   "source": [
    "**GLT**"
   ]
  },
  {
   "cell_type": "code",
   "execution_count": null,
   "metadata": {},
   "outputs": [],
   "source": [
    "old = pd.read_csv('glt.dat', sep='\\s+', parse_dates=True, skiprows=0, names=oldnames, index_col=0)\n",
    "new = pd.read_csv('glt.csv', parse_dates=True, index_col=0)"
   ]
  },
  {
   "cell_type": "code",
   "execution_count": null,
   "metadata": {
    "collapsed": true
   },
   "outputs": [],
   "source": [
    "old.head()"
   ]
  },
  {
   "cell_type": "code",
   "execution_count": null,
   "metadata": {
    "collapsed": true,
    "scrolled": false
   },
   "outputs": [],
   "source": [
    "p = new['value'].plot(label='new')\n",
    "old['value'].plot(ax=p, label='old')\n",
    "p.legend(loc='best')"
   ]
  },
  {
   "cell_type": "markdown",
   "metadata": {},
   "source": [
    "**MBT**"
   ]
  },
  {
   "cell_type": "code",
   "execution_count": null,
   "metadata": {
    "collapsed": true
   },
   "outputs": [],
   "source": [
    "old = pd.read_csv('mbt.dat', sep='\\s+', parse_dates=True, skiprows=0, names=names, index_col=0)\n",
    "new = pd.read_csv('mbt.csv', parse_dates=True, index_col=0)"
   ]
  },
  {
   "cell_type": "code",
   "execution_count": null,
   "metadata": {
    "collapsed": true
   },
   "outputs": [],
   "source": [
    "old.head()"
   ]
  },
  {
   "cell_type": "code",
   "execution_count": null,
   "metadata": {
    "collapsed": true,
    "scrolled": false
   },
   "outputs": [],
   "source": [
    "p = new['value'].plot(label='new')\n",
    "old['value'].plot(ax=p, label='old')\n",
    "p.legend(loc='best')"
   ]
  },
  {
   "cell_type": "markdown",
   "metadata": {},
   "source": [
    "**GLL**"
   ]
  },
  {
   "cell_type": "code",
   "execution_count": null,
   "metadata": {
    "collapsed": true
   },
   "outputs": [],
   "source": [
    "old = pd.read_csv('gll.dat', sep='\\s+', parse_dates=True, skiprows=0, names=oldnames, index_col=1)\n",
    "new = pd.read_csv('gll.csv', parse_dates=True, index_col=0)"
   ]
  },
  {
   "cell_type": "code",
   "execution_count": null,
   "metadata": {
    "scrolled": false
   },
   "outputs": [],
   "source": [
    "old.tail()"
   ]
  },
  {
   "cell_type": "code",
   "execution_count": null,
   "metadata": {},
   "outputs": [],
   "source": [
    "new.tail()"
   ]
  },
  {
   "cell_type": "code",
   "execution_count": null,
   "metadata": {
    "scrolled": true
   },
   "outputs": [],
   "source": [
    "p = new['value'].plot(label='new')\n",
    "old['value'].plot(ax=p, label='old')\n",
    "p.legend(loc='best')"
   ]
  }
 ],
 "metadata": {
  "kernelspec": {
   "display_name": "Python 2",
   "language": "python",
   "name": "python2"
  },
  "language_info": {
   "codemirror_mode": {
    "name": "ipython",
    "version": 2
   },
   "file_extension": ".py",
   "mimetype": "text/x-python",
   "name": "python",
   "nbconvert_exporter": "python",
   "pygments_lexer": "ipython2",
   "version": "2.7.12"
  }
 },
 "nbformat": 4,
 "nbformat_minor": 2
}
