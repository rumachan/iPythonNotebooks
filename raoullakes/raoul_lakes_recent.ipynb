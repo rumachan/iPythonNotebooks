{
 "cells": [
  {
   "cell_type": "markdown",
   "metadata": {},
   "source": [
    "Raoul Island Lake Monitoring Data - Display of 'Recent' Data\n",
    "--"
   ]
  },
  {
   "cell_type": "markdown",
   "metadata": {},
   "source": [
    "The GeoNet wiki provides automatically updating plots to show the lake monitoring data at Raoul Island -\n",
    "- http://images.geonet.org.nz/volcano/ki/glkz/40/drum.png\n",
    "- http://images.geonet.org.nz/volcano/ki/glkz/80/drum.png\n",
    "- http://images.geonet.org.nz/volcano/ki/glkz/81/drum.png.\n",
    "\n",
    "The scaling of these plots makes it difficult to see small changes, and the plots are not of sufficient quality for use outside GNS.\n",
    "\n",
    "The raw data are stored as mini-seed files as part of GeoNet's seismic data archive. These data can be accessed using GeoNet's FDSN web servers http://www.geonet.org.nz/data/tools/FDSN. Response information can be retrieved with the raw data, which allows raw observations to be converted to units of degrees celcius and metres, respectively. The use of mini-seed files, the FDSN server, and response information means that some do not have the technical knowledge to access the data.\n",
    "\n",
    "This notebook provides a simple method to access and plot the monitorng data. The plots are of sufficient quality to use outside GNS for VABs, DOC staff training, etc."
   ]
  },
  {
   "cell_type": "code",
   "execution_count": null,
   "metadata": {},
   "outputs": [],
   "source": [
    "%%javascript\n",
    "IPython.OutputArea.prototype._should_scroll = function(lines) {\n",
    "    return false;\n",
    "}"
   ]
  },
  {
   "cell_type": "code",
   "execution_count": null,
   "metadata": {
    "collapsed": true,
    "scrolled": true
   },
   "outputs": [],
   "source": [
    "from obspy.core import UTCDateTime\n",
    "from obspy.clients.fdsn import Client\n",
    "\n",
    "import matplotlib.pyplot as plt\n",
    "\n",
    "%matplotlib inline"
   ]
  },
  {
   "cell_type": "code",
   "execution_count": null,
   "metadata": {
    "collapsed": true
   },
   "outputs": [],
   "source": [
    "#GeoNet's FDSN web servers\n",
    "arc_client = 'http://service.geonet.org.nz'\n",
    "nrt_client = 'http://beta-service-nrt.geonet.org.nz'"
   ]
  },
  {
   "cell_type": "code",
   "execution_count": null,
   "metadata": {
    "collapsed": true
   },
   "outputs": [],
   "source": [
    "#function to get a stream from both FDSN clients\n",
    "def waveboth(date1, date2, net, sta, loc, cmp):\n",
    "  #get data from a FDSN web server for days date1 to date2 inclusive\n",
    "  global stnrt\n",
    "  global starc\n",
    "  time1 = UTCDateTime(date1)\n",
    "  time2 = UTCDateTime(date2)\n",
    "  \n",
    "  #nrt client\n",
    "  try:\n",
    "    client = Client(nrt_client)\n",
    "    stnrt = client.get_waveforms(net, sta, loc, cmp, time1, time2, attach_response=True)\n",
    "    print ('nrt client successful')\n",
    "  except:\n",
    "    print ('nrt client not successful')\n",
    "\n",
    "  #arc client\n",
    "  try:\n",
    "    client = Client(arc_client)\n",
    "    starc = client.get_waveforms(net, sta, loc, cmp, time1, time2, attach_response=True)\n",
    "    print ('arc client successful')\n",
    "  except:\n",
    "    print ('arc client not successful')"
   ]
  },
  {
   "cell_type": "code",
   "execution_count": null,
   "metadata": {
    "collapsed": true
   },
   "outputs": [],
   "source": [
    "#channel data for fdsn\n",
    "net = 'NZ'\n",
    "sta = 'GLKZ'"
   ]
  },
  {
   "cell_type": "markdown",
   "metadata": {},
   "source": [
    "<span style=\"color:red\">**Change this to select number of days of data to plot**</span>"
   ]
  },
  {
   "cell_type": "code",
   "execution_count": null,
   "metadata": {
    "collapsed": true
   },
   "outputs": [],
   "source": [
    "#get data upto how many days before now\n",
    "ndays = 60"
   ]
  },
  {
   "cell_type": "code",
   "execution_count": null,
   "metadata": {
    "collapsed": true,
    "scrolled": true
   },
   "outputs": [],
   "source": [
    "#channel specific parameters\n",
    "chan = [{'loc':'80', 'cmp':'LKO', 'subject':'green lake temperature', 'trace':'glt'},\n",
    "        {'loc':'81', 'cmp':'LKO', 'subject':'marker bay temperature', 'trace':'mbt'},\n",
    "        {'loc':'40', 'cmp':'LTH', 'subject':'green lake level', 'trace':'gll'}]"
   ]
  },
  {
   "cell_type": "code",
   "execution_count": null,
   "metadata": {
    "collapsed": true
   },
   "outputs": [],
   "source": [
    "def make_trace(n):\n",
    "    global st\n",
    "    cmp = chan[n]['cmp']\n",
    "    loc = chan[n]['loc']\n",
    "    subject = chan[n]['subject']\n",
    "    print (cmp, loc, subject)\n",
    "    \n",
    "    #last date to process = now\n",
    "    dt2 = UTCDateTime()\n",
    "    dt2str = dt2.strftime('%Y-%m-%d')\n",
    "\n",
    "    #find first date to process\n",
    "    dt1 = dt2 - (ndays * 86400)\n",
    "    dt1str = dt1.date.strftime('%Y-%m-%d')\n",
    "\n",
    "    print ('first date to process '+dt1str)\n",
    "    print ('last date to process '+dt2str)\n",
    "\n",
    "    waveboth(dt1, dt2, net, sta, loc, cmp)\n",
    "    \n",
    "    st = stnrt\n",
    "    if ndays > 8: #so both FDSN servers have useful data\n",
    "        st += starc\n",
    "    st.remove_sensitivity()\n",
    "    st.merge(fill_value = 'interpolate')\n",
    "    tr = st[0]\n",
    "    print()\n",
    "    return(tr)"
   ]
  },
  {
   "cell_type": "markdown",
   "metadata": {},
   "source": [
    "**Create traces for recent data , decimate to 1 minute sampling**"
   ]
  },
  {
   "cell_type": "code",
   "execution_count": null,
   "metadata": {
    "scrolled": false
   },
   "outputs": [],
   "source": [
    "#glt\n",
    "glt = make_trace(0)\n",
    "glt.decimate(factor=10, strict_length=False, no_filter=True)\n",
    "glt.decimate(factor=6, strict_length=False, no_filter=True)\n",
    "\n",
    "#mbt\n",
    "mbt = make_trace(1)\n",
    "mbt.decimate(factor=10, strict_length=False, no_filter=True)\n",
    "mbt.decimate(factor=6, strict_length=False, no_filter=True)\n",
    "\n",
    "#gll\n",
    "gll = make_trace(2)\n",
    "gll.decimate(factor=10, strict_length=False, no_filter=True)\n",
    "gll.decimate(factor=6, strict_length=False, no_filter=True)"
   ]
  },
  {
   "cell_type": "markdown",
   "metadata": {},
   "source": [
    "**Plot data**"
   ]
  },
  {
   "cell_type": "code",
   "execution_count": null,
   "metadata": {},
   "outputs": [],
   "source": [
    "fig, (temps, level) = plt.subplots(nrows=2,ncols=1, sharex=True, figsize=(15,10))\n",
    "\n",
    "temps.grid(b=True, which='major', color='b', linestyle='--', alpha=0.5)\n",
    "temps.plot(glt.times(\"matplotlib\"), glt.data, 'green', label='Green Lake')\n",
    "temps.plot(mbt.times(\"matplotlib\"), mbt.data, 'blue', label='Marker Bay')\n",
    "temps.set_ylabel('water temperature (degC)')\n",
    "temps.legend(loc='best')\n",
    "temps.set_title('Green Lake and Marker Bay Temperatures (1 minute data)', fontsize=16)\n",
    "temps.xaxis_date()\n",
    "\n",
    "level.grid(b=True, which='major', color='b', linestyle='--', alpha=0.5)\n",
    "level.plot(gll.times(\"matplotlib\"), gll.data, 'green')\n",
    "level.set_ylabel('water depth above sensor (m)')\n",
    "level.set_title('Green Lake Level (1 minute data)', fontsize=16)\n",
    "\n",
    "plt.tight_layout()\n",
    "fig.savefig('raoul_lakes_recent.png', dpi=200)"
   ]
  }
 ],
 "metadata": {
  "kernelspec": {
   "display_name": "Python 3",
   "language": "python",
   "name": "python3"
  },
  "language_info": {
   "codemirror_mode": {
    "name": "ipython",
    "version": 3
   },
   "file_extension": ".py",
   "mimetype": "text/x-python",
   "name": "python",
   "nbconvert_exporter": "python",
   "pygments_lexer": "ipython3",
   "version": "3.6.5"
  }
 },
 "nbformat": 4,
 "nbformat_minor": 2
}
