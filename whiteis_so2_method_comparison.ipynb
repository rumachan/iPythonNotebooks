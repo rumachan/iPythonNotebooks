{
 "cells": [
  {
   "cell_type": "markdown",
   "metadata": {},
   "source": [
    "Comparison of White Island Airborne S02 and MDOAS Observations\n",
    "--"
   ]
  },
  {
   "cell_type": "markdown",
   "metadata": {},
   "source": [
    "**Purpose**\n",
    "\n",
    "To compare White Island airborne S02 gas flux observations with those measured using the mini-DOAS instruments on the island. \n",
    "\n",
    "**Summary**\n",
    "\n",
    "- Earliest MDOAS data in FITS is 2012-10-01. Filter airborne data to include only data starting a month before.\n",
    "- Comparison only with observations from the same NZST day."
   ]
  },
  {
   "cell_type": "code",
   "execution_count": null,
   "metadata": {},
   "outputs": [],
   "source": [
    "%%javascript\n",
    "IPython.OutputArea.prototype._should_scroll = function(lines) {\n",
    "    return false;\n",
    "}"
   ]
  },
  {
   "cell_type": "markdown",
   "metadata": {},
   "source": [
    "**Import modules and setup parameters**"
   ]
  },
  {
   "cell_type": "code",
   "execution_count": null,
   "metadata": {
    "scrolled": true
   },
   "outputs": [],
   "source": [
    "import pandas as pd\n",
    "import matplotlib.pyplot as plt\n",
    "import numpy as np\n",
    "%matplotlib inline\n",
    "\n",
    "names = ['dt', 'obs', 'err']\n",
    "mdoasstart = '2012-09-01'"
   ]
  },
  {
   "cell_type": "code",
   "execution_count": null,
   "metadata": {
    "collapsed": true
   },
   "outputs": [],
   "source": [
    "def bardata(dfd):\n",
    "    '''calculate dataframes for min, max, range, mean, q25, q50(median), and q75'''\n",
    "    #range\n",
    "    dfmin = dfd['obs'].groupby(dfd['date']).min()\n",
    "    dfmin = dfmin.to_frame()\n",
    "    dfmin.index = pd.to_datetime(dfmin.index)\n",
    "    dfmax = dfd['obs'].groupby(dfd['date']).max()\n",
    "    dfmax = dfmax.to_frame()\n",
    "    dfmax.index = pd.to_datetime(dfmax.index)\n",
    "    dfrange = dfmax-dfmin\n",
    "    dfrange.index = pd.to_datetime(dfrange.index)\n",
    "    #mean\n",
    "    dfmean = dfd['obs'].groupby(dfd['date']).mean()\n",
    "    dfmean = dfmean.to_frame()\n",
    "    dfmean.index = pd.to_datetime(dfmean.index)\n",
    "    #25th, 50th(median), and 75th percentile\n",
    "    df25 = dfd['obs'].groupby(dfd['date']).quantile(0.25)\n",
    "    df50 = dfd['obs'].groupby(dfd['date']).quantile(0.50)\n",
    "    df75 = dfd['obs'].groupby(dfd['date']).quantile(0.75)\n",
    "    return dfmin, dfmax, dfrange, dfmean, df25, df50, df75"
   ]
  },
  {
   "cell_type": "code",
   "execution_count": null,
   "metadata": {
    "collapsed": true
   },
   "outputs": [],
   "source": [
    "def axmax(ax):\n",
    "    '''find axis maximum, across both x and y'''\n",
    "    (ymin, ymax) = ax.get_ylim()\n",
    "    (xmin, xmax) = ax.get_xlim()\n",
    "    axmax = max(xmax,ymax)\n",
    "    return axmax"
   ]
  },
  {
   "cell_type": "markdown",
   "metadata": {},
   "source": [
    "**Retrieve data**"
   ]
  },
  {
   "cell_type": "code",
   "execution_count": null,
   "metadata": {
    "collapsed": true
   },
   "outputs": [],
   "source": [
    "#airborne cospec\n",
    "url = 'https://fits.geonet.org.nz/observation?siteID=WI000&typeID=SO2-flux-a&methodID=cosp'\n",
    "cosp = pd.read_csv(url, names=names, skiprows=1, parse_dates=True, index_col='dt')\n",
    "\n",
    "#airborne contouring\n",
    "url = 'https://fits.geonet.org.nz/observation?siteID=WI000&typeID=SO2-flux-a&methodID=cont'\n",
    "cont = pd.read_csv(url, names=names, skiprows=1, parse_dates=True, index_col='dt')\n",
    "\n",
    "#mdoas north-east point, assumed height\n",
    "url = 'https://fits.geonet.org.nz/observation?typeID=SO2-flux-a&methodID=mdoas-ah&siteID=WI301'\n",
    "nea = pd.read_csv(url, names=names, skiprows=1, parse_dates=True, index_col='dt')\n",
    "\n",
    "#mdoas north-east point, calculated height\n",
    "url = 'https://fits.geonet.org.nz/observation?typeID=SO2-flux-a&methodID=mdoas-ch&siteID=WI301'\n",
    "nec = pd.read_csv(url, names=names, skiprows=1, parse_dates=True, index_col='dt')\n",
    "\n",
    "#mdoas south rim, assumed height\n",
    "url = 'https://fits.geonet.org.nz/observation?typeID=SO2-flux-a&methodID=mdoas-ah&siteID=WI302'\n",
    "sra = pd.read_csv(url, names=names, skiprows=1, parse_dates=True, index_col='dt')\n",
    "\n",
    "#mdoas south rim, calculated height\n",
    "url = 'https://fits.geonet.org.nz/observation?typeID=SO2-flux-a&methodID=mdoas-ch&siteID=WI302'\n",
    "src = pd.read_csv(url, names=names, skiprows=1, parse_dates=True, index_col='dt')"
   ]
  },
  {
   "cell_type": "markdown",
   "metadata": {},
   "source": [
    "**Trim airborne data to match observation period of MDOAS data**"
   ]
  },
  {
   "cell_type": "code",
   "execution_count": null,
   "metadata": {
    "collapsed": true
   },
   "outputs": [],
   "source": [
    "cosp = cosp[cosp.index > mdoasstart]\n",
    "cont = cont[cont.index > mdoasstart]"
   ]
  },
  {
   "cell_type": "markdown",
   "metadata": {},
   "source": [
    "**Convert MDOAS observations to NZST (this makes comparison easier)**"
   ]
  },
  {
   "cell_type": "code",
   "execution_count": null,
   "metadata": {
    "collapsed": true
   },
   "outputs": [],
   "source": [
    "nea.index = nea.index + pd.DateOffset(hours=12)\n",
    "nec.index = nec.index + pd.DateOffset(hours=12)\n",
    "sra.index = sra.index + pd.DateOffset(hours=12)\n",
    "src.index = src.index + pd.DateOffset(hours=12)"
   ]
  },
  {
   "cell_type": "markdown",
   "metadata": {},
   "source": [
    "**Make column in MDOAS dataframes containing date (no time)**"
   ]
  },
  {
   "cell_type": "code",
   "execution_count": null,
   "metadata": {
    "collapsed": true
   },
   "outputs": [],
   "source": [
    "nea['date'] = pd.DatetimeIndex(nea.index).normalize()\n",
    "nec['date'] = pd.DatetimeIndex(nec.index).normalize()\n",
    "sra['date'] = pd.DatetimeIndex(sra.index).normalize()\n",
    "src['date'] = pd.DatetimeIndex(src.index).normalize()"
   ]
  },
  {
   "cell_type": "markdown",
   "metadata": {},
   "source": [
    "**MDOAS on same day as airborne data**"
   ]
  },
  {
   "cell_type": "code",
   "execution_count": null,
   "metadata": {
    "collapsed": true,
    "scrolled": true
   },
   "outputs": [],
   "source": [
    "nead = nea[nea.date.isin(cosp.index)]\n",
    "necd = nec[nec.date.isin(cosp.index)]\n",
    "srad = sra[sra.date.isin(cosp.index)]\n",
    "srcd = src[src.date.isin(cosp.index)]"
   ]
  },
  {
   "cell_type": "markdown",
   "metadata": {},
   "source": [
    "**Airborne on same day as MDOAS data (so can cross-plot)**\n"
   ]
  },
  {
   "cell_type": "code",
   "execution_count": null,
   "metadata": {
    "collapsed": true,
    "scrolled": true
   },
   "outputs": [],
   "source": [
    "cospnea = cosp[cosp.index.isin(nead.date)]\n",
    "cospnec = cosp[cosp.index.isin(necd.date)]\n",
    "contnea = cont[cont.index.isin(nead.date)]\n",
    "contnec = cont[cont.index.isin(necd.date)]\n",
    "\n",
    "cospsra = cosp[cosp.index.isin(srad.date)]\n",
    "cospsrc = cosp[cosp.index.isin(srcd.date)]\n",
    "contsra = cont[cont.index.isin(srad.date)]\n",
    "contsrc = cont[cont.index.isin(srcd.date)]"
   ]
  },
  {
   "cell_type": "markdown",
   "metadata": {},
   "source": [
    "**Data for time-series boxplot**"
   ]
  },
  {
   "cell_type": "code",
   "execution_count": null,
   "metadata": {
    "collapsed": true
   },
   "outputs": [],
   "source": [
    "neamin, neamax, nearange, neamean, nea25, nea50, nea75 = bardata(nead)\n",
    "necmin, necmax, necrange, necmean, nec25, nec50, nec75 = bardata(necd)\n",
    "sramin, sramax, srarange, sramean, sra25, sra50, sra75 = bardata(srad)\n",
    "srcmin, srcmax, srcrange, srcmean, src25, src50, src75 = bardata(srcd)"
   ]
  },
  {
   "cell_type": "markdown",
   "metadata": {},
   "source": [
    "Time-series Comparison plots\n",
    "--"
   ]
  },
  {
   "cell_type": "code",
   "execution_count": null,
   "metadata": {
    "collapsed": true
   },
   "outputs": [],
   "source": [
    "xsize = 15\n",
    "ysize = 5"
   ]
  },
  {
   "cell_type": "markdown",
   "metadata": {},
   "source": [
    "** North-East Point COSPEC**"
   ]
  },
  {
   "cell_type": "code",
   "execution_count": null,
   "metadata": {
    "collapsed": true
   },
   "outputs": [],
   "source": [
    "#import datetime\n",
    "#datemax = datetime.datetime.now()\n",
    "#datemin = datetime.datetime(2015,4,1)\n",
    "\n"
   ]
  },
  {
   "cell_type": "code",
   "execution_count": null,
   "metadata": {
    "scrolled": true
   },
   "outputs": [],
   "source": [
    "fig, (ax0, ax1) = plt.subplots(nrows=2,ncols=1, sharex=True, figsize=(xsize, ysize))\n",
    "\n",
    "#assumed height nea\n",
    "ax0.plot(cosp['obs'], marker='o', linestyle=':', color='blue', label='cospec')\n",
    "ax0.bar(nearange.index, nearange['obs'], bottom=neamin['obs'], width=0.01, color='red', edgecolor='red', alpha=0.25, align='center', label='mDOAS range')\n",
    "ax0.plot(nea50.index, nea50, marker='o', markersize=3, color='black', linestyle='None', label='mDOAS median')\n",
    "ax0.bar(nearange.index, nea75-nea25, bottom=nea25, width=3, color='red', edgecolor='red', align='center', label='mDOAS 25th/75th %')\n",
    "ax0.set_title('North-East Point, COSPEC + mDOAS assumed height')\n",
    "ax0.legend(loc='best', fontsize=8)\n",
    "\n",
    "#calculated height nec\n",
    "ax1.plot(cosp['obs'], marker='o', linestyle=':', color='blue', label='cospec')\n",
    "ax1.bar(necrange.index, necrange['obs'], bottom=necmin['obs'], width=0.01, color='red', edgecolor='red', alpha=0.25, align='center', label='mDOAS range')\n",
    "ax1.plot(nec50.index, nec50, marker='o', markersize=3, color='black', linestyle='None', label='mDOAS median')\n",
    "ax1.bar(necrange.index, nec75-nec25, bottom=nec25, width=3, color='red', edgecolor='red', align='center', label='mDOAS 25th/75th %')\n",
    "ax1.set_title('North-East Point, COSPEC + mDOAS calculated height')\n",
    "#ax1.legend(loc='best', fontsize=8)"
   ]
  },
  {
   "cell_type": "markdown",
   "metadata": {},
   "source": [
    "**North-East Point Contouring**"
   ]
  },
  {
   "cell_type": "code",
   "execution_count": null,
   "metadata": {},
   "outputs": [],
   "source": [
    "fig, (ax0, ax1) = plt.subplots(nrows=2,ncols=1, sharex=True, figsize=(xsize, ysize))\n",
    "\n",
    "#assumed height nea\n",
    "ax0.plot(cont['obs'], marker='o', linestyle=':', color='blue', label='contouring')\n",
    "ax0.bar(nearange.index, nearange['obs'], bottom=neamin['obs'], width=0.01, color='red', edgecolor='red', alpha=0.25, align='center', label='mDOAS range')\n",
    "ax0.plot(nea50.index, nea50, marker='o', markersize=3, color='black', linestyle='None', label='mDOAS median')\n",
    "ax0.bar(nearange.index, nea75-nea25, bottom=nea25, width=3, color='red', edgecolor='red', align='center', label='mDOAS 25th/75th %')\n",
    "ax0.set_title('North-East Point, Contouring + mDOAS assumed height')\n",
    "ax0.legend(loc='best', fontsize=8)\n",
    "\n",
    "#calculated height nec\n",
    "ax1.plot(cont['obs'], marker='o', linestyle=':', color='blue', label='contoring')\n",
    "ax1.bar(necrange.index, necrange['obs'], bottom=necmin['obs'], width=0.01, color='red', edgecolor='red', alpha=0.25, align='center', label='mDOAS range')\n",
    "ax1.plot(nec50.index, nec50, marker='o', markersize=3, color='black', linestyle='None', label='mDOAS median')\n",
    "ax1.bar(necrange.index, nec75-nec25, bottom=nec25, width=3, color='red', edgecolor='red', align='center', label='mDOAS 25th/75th %')\n",
    "ax1.set_title('North-East Point, Contouring + mDOAS calculated height')\n",
    "#ax1.legend(loc='best', fontsize=8)"
   ]
  },
  {
   "cell_type": "markdown",
   "metadata": {},
   "source": [
    "**South Rim COSPEC**"
   ]
  },
  {
   "cell_type": "code",
   "execution_count": null,
   "metadata": {
    "scrolled": true
   },
   "outputs": [],
   "source": [
    "fig, (ax0, ax1) = plt.subplots(nrows=2,ncols=1, sharex=True, figsize=(xsize, ysize))\n",
    "\n",
    "#assumed height sra\n",
    "ax0.plot(cosp['obs'], marker='o', linestyle=':', color='blue', label='cospec')\n",
    "ax0.bar(srarange.index, srarange['obs'], bottom=sramin['obs'], width=0.01, color='red', edgecolor='red', alpha=0.25, align='center', label='mDOAS range')\n",
    "ax0.plot(sra50.index, sra50, marker='o', markersize=3, color='black', linestyle='None', label='mDOAS median')\n",
    "ax0.bar(srarange.index, sra75-sra25, bottom=sra25, width=3, color='red', edgecolor='red', align='center', label='mDOAS 25th/75th %')\n",
    "ax0.set_title('South Rim, COSPEC + mDOAS assumed height')\n",
    "ax0.legend(loc='best', fontsize=8)\n",
    "\n",
    "#calculated height src\n",
    "ax1.plot(cosp['obs'], marker='o', linestyle=':', color='blue', label='cospec')\n",
    "ax1.bar(srcrange.index, srcrange['obs'], bottom=srcmin['obs'], width=0.01, color='red', edgecolor='red', alpha=0.25, align='center', label='mDOAS range')\n",
    "ax1.plot(src50.index, src50, marker='o', markersize=3, color='black', linestyle='None', label='mDOAS median')\n",
    "ax1.bar(srcrange.index, src75-src25, bottom=src25, width=3, color='red', edgecolor='red', align='center', label='mDOAS 25th/75th %')\n",
    "ax1.set_title('South Rim, COSPEC + mDOAS calculated height')\n",
    "#ax1.legend(loc='best', fontsize=8)"
   ]
  },
  {
   "cell_type": "markdown",
   "metadata": {},
   "source": [
    "**South Rim Contouring**"
   ]
  },
  {
   "cell_type": "code",
   "execution_count": null,
   "metadata": {
    "scrolled": true
   },
   "outputs": [],
   "source": [
    "fig, (ax0, ax1) = plt.subplots(nrows=2,ncols=1, sharex=True, figsize=(xsize, ysize))\n",
    "\n",
    "#assumed height sra\n",
    "ax0.plot(cont['obs'], marker='o', linestyle=':', color='blue', label='contouring')\n",
    "ax0.bar(srarange.index, srarange['obs'], bottom=sramin['obs'], width=0.01, color='red', edgecolor='red', alpha=0.25, align='center', label='mDOAS range')\n",
    "ax0.plot(sra50.index, sra50, marker='o', markersize=3, color='black', linestyle='None', label='mDOAS median')\n",
    "ax0.bar(srarange.index, sra75-sra25, bottom=sra25, width=3, color='red', edgecolor='red', align='center', label='mDOAS 25th/75th %')\n",
    "ax0.set_title('South Rim, Contouring + mDOAS assumed height')\n",
    "ax0.legend(loc='best', fontsize=8)\n",
    "\n",
    "#calculated height src\n",
    "ax1.plot(cont['obs'], marker='o', linestyle=':', color='blue', label='contouring')\n",
    "ax1.bar(srcrange.index, srcrange['obs'], bottom=srcmin['obs'], width=0.01, color='red', edgecolor='red', alpha=0.25, align='center', label='mDOAS range')\n",
    "ax1.plot(src50.index, src50, marker='o', markersize=3, color='black', linestyle='None', label='mDOAS median')\n",
    "ax1.bar(srcrange.index, src75-src25, bottom=src25, width=3, color='red', edgecolor='red', align='center', label='mDOAS 25th/75th %')\n",
    "ax1.set_title('South Rim, Contoring + mDOAS calculated height')\n",
    "#ax1.legend(loc='best', fontsize=8)"
   ]
  },
  {
   "cell_type": "markdown",
   "metadata": {},
   "source": [
    "Difference Histograms\n",
    "--"
   ]
  },
  {
   "cell_type": "code",
   "execution_count": null,
   "metadata": {
    "scrolled": true
   },
   "outputs": [],
   "source": [
    "fig, ((ax0, ax1), (ax2, ax3)) = plt.subplots(nrows=2,ncols=2, sharex=True, sharey=True, figsize=(xsize, ysize))\n",
    "bins=np.arange(-10,10,1)\n",
    "\n",
    "#cosp vs nea\n",
    "diffa = cospnea['obs'] - nea50\n",
    "ax0.hist(diffa, bins=bins, label='assumed height')\n",
    "ax0.set_ylabel('Number observations')\n",
    "ax0.set_xlabel('Observation difference (kg/s)')\n",
    "ax0.set_title('Difference, COSPEC - MDOAS, North-East Point')\n",
    "#cosp vs nec\n",
    "diffc = cospnec['obs'] - nec50\n",
    "ax0.hist(diffc, bins=bins, label='calculated height')\n",
    "ax0.legend(loc='best')\n",
    "\n",
    "#cont vs nea\n",
    "diffa = contnea['obs'] - nea50\n",
    "ax1.hist(diffa, bins=bins, label='assumed height')\n",
    "ax1.set_ylabel('Number observations')\n",
    "ax1.set_xlabel('Observation difference (kg/s)')\n",
    "ax1.set_title('Difference, Contouring - MDOAS, North-East Point')\n",
    "#cont vs nec\n",
    "diffc = contnec['obs'] - nec50\n",
    "ax1.hist(diffc, bins=bins, label='calculated height')\n",
    "ax1.legend(loc='best')\n",
    "\n",
    "#cosp vs sra\n",
    "diffa = cospsra['obs'] - sra50\n",
    "ax2.hist(diffa, bins=bins, label='assumed height')\n",
    "ax2.set_ylabel('Number observations')\n",
    "ax2.set_xlabel('Observation difference (kg/s)')\n",
    "ax2.set_title('Difference, COSPEC - MDOAS, South Rim')\n",
    "#cosp vs src\n",
    "diffc = cospsrc['obs'] - src50\n",
    "ax2.hist(diffc, bins=bins, label='calculated height')\n",
    "ax2.legend(loc='best')\n",
    "\n",
    "#cont vs sra\n",
    "diffa = contsra['obs'] - sra50\n",
    "ax3.hist(diffa, bins=bins, label='assumed height')\n",
    "ax3.set_ylabel('Number observations')\n",
    "ax3.set_xlabel('Observation difference (kg/s)')\n",
    "ax3.set_title('Difference, Contouring - MDOAS, South Rim')\n",
    "#cont vs nec\n",
    "diffc = contsrc['obs'] - src50\n",
    "ax3.hist(diffc, bins=bins, label='calculated height')\n",
    "ax3.legend(loc='best')"
   ]
  },
  {
   "cell_type": "markdown",
   "metadata": {},
   "source": [
    "Cross plots (airborne vs MDOAS)\n",
    "--"
   ]
  },
  {
   "cell_type": "code",
   "execution_count": null,
   "metadata": {
    "collapsed": true
   },
   "outputs": [],
   "source": [
    "xsize = 20\n",
    "ysize = 10"
   ]
  },
  {
   "cell_type": "markdown",
   "metadata": {},
   "source": [
    "** North-East Point**"
   ]
  },
  {
   "cell_type": "code",
   "execution_count": null,
   "metadata": {
    "scrolled": true
   },
   "outputs": [],
   "source": [
    "fig, (ax0, ax1) = plt.subplots(nrows=1,ncols=2, sharex=True, sharey=True, figsize=(xsize, ysize))\n",
    "#axes range, based on observed values, not min,max of mdoas\n",
    "ax_max = max(cospnea['obs'].max(),cospnec['obs'].max(),neamean['obs'].max(),necmean['obs'].max(),contnea['obs'].max(),contnec['obs'].max())\n",
    "ax_max += 1.1\n",
    "\n",
    "#cospec\n",
    "ax0.plot(cospnea['obs'], nea50, marker='o', linestyle='None', color='blue', label='assumed height')\n",
    "ax0.errorbar(cospnea['obs'], nea50, xerr=cospnea['err'], yerr=0.5*nea50, linestyle='None', color='blue', label='_nolegend_')\n",
    "ax0.plot(cospnec['obs'], nec50, marker='o', linestyle='None', color='red', label='calculated height')\n",
    "ax0.errorbar(cospnec['obs'], nec50, xerr=cospnec['err'], yerr=0.5*nec50, linestyle='None', color='red', label='_nolegend_')\n",
    "ax0.set_xlim(0,ax_max)\n",
    "ax0.set_ylim(0,ax_max)\n",
    "ax0.set_xlabel('COSPEC flux (kg/s)')\n",
    "ax0.set_ylabel('Daily Median MDOAS flux (kg/s)')\n",
    "ax0.set_title('North-East Point, COSPEC vs MDOAS Daily Median')\n",
    "ax0.plot([0, ax_max], [0,ax_max], linestyle='--', color='black')\n",
    "ax0.legend(loc='best')\n",
    "\n",
    "#cospec\n",
    "ax1.plot(contnea['obs'], nea50, marker='o', linestyle='None', color='blue', label='assumed height')\n",
    "ax1.errorbar(contnea['obs'], nea50, xerr=contnea['err'], yerr=0.5*nea50, linestyle='None', color='blue', label='_nolegend_')\n",
    "ax1.plot(contnec['obs'], nec50, marker='o', linestyle='None', color='red', label='calculated height')\n",
    "ax1.errorbar(contnec['obs'], nec50, xerr=contnec['err'], yerr=0.5*nec50, linestyle='None', color='red', label='_nolegend_')\n",
    "\n",
    "ax_max = axmax(ax1)\n",
    "ax1.set_xlim(0,ax_max)\n",
    "ax1.set_ylim(0,ax_max)\n",
    "ax1.set_xlabel('Contoring flux (kg/s)')\n",
    "ax1.set_ylabel('Daily Meadin MDOAS flux (kg/s)')\n",
    "ax1.set_title('North-East Point, Contouring vs MDOAS Daily Median')\n",
    "ax1.plot([0, ax_max], [0,ax_max], linestyle='--', color='black')\n",
    "ax1.legend(loc='best')"
   ]
  },
  {
   "cell_type": "markdown",
   "metadata": {},
   "source": [
    "**South Rim**"
   ]
  },
  {
   "cell_type": "code",
   "execution_count": null,
   "metadata": {
    "scrolled": true
   },
   "outputs": [],
   "source": [
    "fig, (ax0, ax1) = plt.subplots(nrows=1,ncols=2, sharex=True, sharey=True, figsize=(xsize, ysize))\n",
    "#axes range, based on observed values, not min,max of mdoas\n",
    "ax_max = max(cospsra['obs'].max(),cospsrc['obs'].max(),sramean['obs'].max(),srcmean['obs'].max(),contsra['obs'].max(),contsrc['obs'].max())\n",
    "ax_max += 1.1\n",
    "\n",
    "#cospec\n",
    "ax0.plot(cospsra['obs'], sra50, marker='o', linestyle='None', color='blue', label='assumed height')\n",
    "ax0.errorbar(cospsra['obs'], sra50, xerr=cospsra['err'], yerr=0.5*sra50, linestyle='None', color='blue', label='_nolegend_')\n",
    "ax0.plot(cospsrc['obs'], src50, marker='o', linestyle='None', color='red', label='calculated height')\n",
    "ax0.errorbar(cospsrc['obs'], src50, xerr=cospsrc['err'], yerr=0.5*src50, linestyle='None', color='red', label='_nolegend_')\n",
    "ax0.set_xlim(0,ax_max)\n",
    "ax0.set_ylim(0,ax_max)\n",
    "ax0.set_xlabel('COSPEC flux (kg/s)')\n",
    "ax0.set_ylabel('Daily Median MDOAS flux (kg/s)')\n",
    "ax0.set_title('South Rim, COSPEC vs MDOAS Daily Median')\n",
    "ax0.plot([0, ax_max], [0,ax_max], linestyle='--', color='black')\n",
    "ax0.legend(loc='best')\n",
    "\n",
    "#cospec\n",
    "ax1.plot(contsra['obs'], sra50, marker='o', linestyle='None', color='blue', label='assumed height')\n",
    "ax1.errorbar(contsra['obs'], sra50, xerr=contsra['err'], yerr=0.5*sra50, linestyle='None', color='blue', label='_nolegend_')\n",
    "ax1.plot(contsrc['obs'], src50, marker='o', linestyle='None', color='red', label='calculated height')\n",
    "ax1.errorbar(contsrc['obs'], src50, xerr=contsrc['err'], yerr=0.5*src50, linestyle='None', color='red', label='_nolegend_')\n",
    "\n",
    "ax_max = axmax(ax1)\n",
    "ax1.set_xlim(0,ax_max)\n",
    "ax1.set_ylim(0,ax_max)\n",
    "ax1.set_xlabel('Contoring flux (kg/s)')\n",
    "ax1.set_ylabel('Daily Median MDOAS flux (kg/s)')\n",
    "ax1.set_title('South Rim, Contouring vs MDOAS Daily Median')\n",
    "ax1.plot([0, ax_max], [0,ax_max], linestyle='--', color='black')\n",
    "ax1.legend(loc='best')"
   ]
  }
 ],
 "metadata": {
  "kernelspec": {
   "display_name": "Python 2",
   "language": "python",
   "name": "python2"
  },
  "language_info": {
   "codemirror_mode": {
    "name": "ipython",
    "version": 2
   },
   "file_extension": ".py",
   "mimetype": "text/x-python",
   "name": "python",
   "nbconvert_exporter": "python",
   "pygments_lexer": "ipython2",
   "version": "2.7.12"
  }
 },
 "nbformat": 4,
 "nbformat_minor": 2
}
