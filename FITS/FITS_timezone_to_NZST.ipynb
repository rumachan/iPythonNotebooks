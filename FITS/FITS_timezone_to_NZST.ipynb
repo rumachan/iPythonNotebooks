{
 "cells": [
  {
   "cell_type": "markdown",
   "metadata": {},
   "source": [
    "FITS Data, Conversion to NZtime\n",
    "--"
   ]
  },
  {
   "cell_type": "markdown",
   "metadata": {},
   "source": [
    "We want to download some data from FITS and then convert the date-time of those data to NZtime. The date-time of data in FITS is UTC."
   ]
  },
  {
   "cell_type": "code",
   "execution_count": 1,
   "metadata": {
    "collapsed": true
   },
   "outputs": [],
   "source": [
    "import pandas as pd\n",
    "df = pd.read_csv('http://fits.geonet.org.nz/observation?typeID=SO2-flux-a&siteID=WI302&days=20', parse_dates=True, index_col='date-time')"
   ]
  },
  {
   "cell_type": "markdown",
   "metadata": {},
   "source": [
    "**Initially returned data are not aware of timezone, although we know they are in UTC**"
   ]
  },
  {
   "cell_type": "code",
   "execution_count": 2,
   "metadata": {
    "scrolled": false
   },
   "outputs": [
    {
     "data": {
      "text/plain": [
       "DatetimeIndex(['2017-08-15 00:41:06', '2017-08-15 00:54:24',\n",
       "               '2017-08-15 01:29:54', '2017-08-15 01:52:04',\n",
       "               '2017-08-15 01:56:31'],\n",
       "              dtype='datetime64[ns]', name='date-time', freq=None)"
      ]
     },
     "execution_count": 2,
     "metadata": {},
     "output_type": "execute_result"
    }
   ],
   "source": [
    "df.head().index"
   ]
  },
  {
   "cell_type": "markdown",
   "metadata": {},
   "source": [
    "**Explicitly set the timezone to be UTC**"
   ]
  },
  {
   "cell_type": "code",
   "execution_count": 3,
   "metadata": {
    "scrolled": true
   },
   "outputs": [
    {
     "data": {
      "text/plain": [
       "DatetimeIndex(['2017-08-15 00:41:06+00:00', '2017-08-15 00:54:24+00:00',\n",
       "               '2017-08-15 01:29:54+00:00', '2017-08-15 01:52:04+00:00',\n",
       "               '2017-08-15 01:56:31+00:00'],\n",
       "              dtype='datetime64[ns, UTC]', name='date-time', freq=None)"
      ]
     },
     "execution_count": 3,
     "metadata": {},
     "output_type": "execute_result"
    }
   ],
   "source": [
    "df = df.tz_localize('UTC')\n",
    "df.head().index"
   ]
  },
  {
   "cell_type": "code",
   "execution_count": 4,
   "metadata": {},
   "outputs": [
    {
     "data": {
      "text/html": [
       "<div>\n",
       "<style>\n",
       "    .dataframe thead tr:only-child th {\n",
       "        text-align: right;\n",
       "    }\n",
       "\n",
       "    .dataframe thead th {\n",
       "        text-align: left;\n",
       "    }\n",
       "\n",
       "    .dataframe tbody tr th {\n",
       "        vertical-align: top;\n",
       "    }\n",
       "</style>\n",
       "<table border=\"1\" class=\"dataframe\">\n",
       "  <thead>\n",
       "    <tr style=\"text-align: right;\">\n",
       "      <th></th>\n",
       "      <th>SO2-flux-a (kg/s)</th>\n",
       "      <th>error (kg/s)</th>\n",
       "    </tr>\n",
       "    <tr>\n",
       "      <th>date-time</th>\n",
       "      <th></th>\n",
       "      <th></th>\n",
       "    </tr>\n",
       "  </thead>\n",
       "  <tbody>\n",
       "    <tr>\n",
       "      <th>2017-08-15 00:41:06+00:00</th>\n",
       "      <td>0.388310</td>\n",
       "      <td>0.188426</td>\n",
       "    </tr>\n",
       "    <tr>\n",
       "      <th>2017-08-15 00:54:24+00:00</th>\n",
       "      <td>0.831829</td>\n",
       "      <td>0.403588</td>\n",
       "    </tr>\n",
       "    <tr>\n",
       "      <th>2017-08-15 01:29:54+00:00</th>\n",
       "      <td>3.139931</td>\n",
       "      <td>1.523264</td>\n",
       "    </tr>\n",
       "    <tr>\n",
       "      <th>2017-08-15 01:52:04+00:00</th>\n",
       "      <td>0.449884</td>\n",
       "      <td>0.218287</td>\n",
       "    </tr>\n",
       "    <tr>\n",
       "      <th>2017-08-15 01:56:31+00:00</th>\n",
       "      <td>0.717477</td>\n",
       "      <td>0.348032</td>\n",
       "    </tr>\n",
       "  </tbody>\n",
       "</table>\n",
       "</div>"
      ],
      "text/plain": [
       "                            SO2-flux-a (kg/s)   error (kg/s)\n",
       "date-time                                                   \n",
       "2017-08-15 00:41:06+00:00            0.388310       0.188426\n",
       "2017-08-15 00:54:24+00:00            0.831829       0.403588\n",
       "2017-08-15 01:29:54+00:00            3.139931       1.523264\n",
       "2017-08-15 01:52:04+00:00            0.449884       0.218287\n",
       "2017-08-15 01:56:31+00:00            0.717477       0.348032"
      ]
     },
     "execution_count": 4,
     "metadata": {},
     "output_type": "execute_result"
    }
   ],
   "source": [
    "df.head()"
   ]
  },
  {
   "cell_type": "markdown",
   "metadata": {},
   "source": [
    "**Convert to NZtime**"
   ]
  },
  {
   "cell_type": "markdown",
   "metadata": {},
   "source": [
    "This will convert to NZST during the NZ winter, and to NZDT during the NZ summer"
   ]
  },
  {
   "cell_type": "code",
   "execution_count": 5,
   "metadata": {},
   "outputs": [
    {
     "data": {
      "text/html": [
       "<div>\n",
       "<style>\n",
       "    .dataframe thead tr:only-child th {\n",
       "        text-align: right;\n",
       "    }\n",
       "\n",
       "    .dataframe thead th {\n",
       "        text-align: left;\n",
       "    }\n",
       "\n",
       "    .dataframe tbody tr th {\n",
       "        vertical-align: top;\n",
       "    }\n",
       "</style>\n",
       "<table border=\"1\" class=\"dataframe\">\n",
       "  <thead>\n",
       "    <tr style=\"text-align: right;\">\n",
       "      <th></th>\n",
       "      <th>SO2-flux-a (kg/s)</th>\n",
       "      <th>error (kg/s)</th>\n",
       "    </tr>\n",
       "    <tr>\n",
       "      <th>date-time</th>\n",
       "      <th></th>\n",
       "      <th></th>\n",
       "    </tr>\n",
       "  </thead>\n",
       "  <tbody>\n",
       "    <tr>\n",
       "      <th>2017-08-15 12:41:06+12:00</th>\n",
       "      <td>0.388310</td>\n",
       "      <td>0.188426</td>\n",
       "    </tr>\n",
       "    <tr>\n",
       "      <th>2017-08-15 12:54:24+12:00</th>\n",
       "      <td>0.831829</td>\n",
       "      <td>0.403588</td>\n",
       "    </tr>\n",
       "    <tr>\n",
       "      <th>2017-08-15 13:29:54+12:00</th>\n",
       "      <td>3.139931</td>\n",
       "      <td>1.523264</td>\n",
       "    </tr>\n",
       "    <tr>\n",
       "      <th>2017-08-15 13:52:04+12:00</th>\n",
       "      <td>0.449884</td>\n",
       "      <td>0.218287</td>\n",
       "    </tr>\n",
       "    <tr>\n",
       "      <th>2017-08-15 13:56:31+12:00</th>\n",
       "      <td>0.717477</td>\n",
       "      <td>0.348032</td>\n",
       "    </tr>\n",
       "  </tbody>\n",
       "</table>\n",
       "</div>"
      ],
      "text/plain": [
       "                            SO2-flux-a (kg/s)   error (kg/s)\n",
       "date-time                                                   \n",
       "2017-08-15 12:41:06+12:00            0.388310       0.188426\n",
       "2017-08-15 12:54:24+12:00            0.831829       0.403588\n",
       "2017-08-15 13:29:54+12:00            3.139931       1.523264\n",
       "2017-08-15 13:52:04+12:00            0.449884       0.218287\n",
       "2017-08-15 13:56:31+12:00            0.717477       0.348032"
      ]
     },
     "execution_count": 5,
     "metadata": {},
     "output_type": "execute_result"
    }
   ],
   "source": [
    "df = df.tz_convert(tz='NZ')\n",
    "df.head()"
   ]
  },
  {
   "cell_type": "markdown",
   "metadata": {},
   "source": [
    "**Convert to NZST, ignoring NZDT**"
   ]
  },
  {
   "cell_type": "markdown",
   "metadata": {},
   "source": [
    "Ignore NZDT during the NZ summer. Simply add 12 hours to the time."
   ]
  },
  {
   "cell_type": "code",
   "execution_count": 12,
   "metadata": {},
   "outputs": [
    {
     "data": {
      "text/html": [
       "<div>\n",
       "<style>\n",
       "    .dataframe thead tr:only-child th {\n",
       "        text-align: right;\n",
       "    }\n",
       "\n",
       "    .dataframe thead th {\n",
       "        text-align: left;\n",
       "    }\n",
       "\n",
       "    .dataframe tbody tr th {\n",
       "        vertical-align: top;\n",
       "    }\n",
       "</style>\n",
       "<table border=\"1\" class=\"dataframe\">\n",
       "  <thead>\n",
       "    <tr style=\"text-align: right;\">\n",
       "      <th></th>\n",
       "      <th>SO2-flux-a (kg/s)</th>\n",
       "      <th>error (kg/s)</th>\n",
       "    </tr>\n",
       "    <tr>\n",
       "      <th>date-time</th>\n",
       "      <th></th>\n",
       "      <th></th>\n",
       "    </tr>\n",
       "  </thead>\n",
       "  <tbody>\n",
       "    <tr>\n",
       "      <th>2017-08-15 12:41:06</th>\n",
       "      <td>0.388310</td>\n",
       "      <td>0.188426</td>\n",
       "    </tr>\n",
       "    <tr>\n",
       "      <th>2017-08-15 12:54:24</th>\n",
       "      <td>0.831829</td>\n",
       "      <td>0.403588</td>\n",
       "    </tr>\n",
       "    <tr>\n",
       "      <th>2017-08-15 13:29:54</th>\n",
       "      <td>3.139931</td>\n",
       "      <td>1.523264</td>\n",
       "    </tr>\n",
       "    <tr>\n",
       "      <th>2017-08-15 13:52:04</th>\n",
       "      <td>0.449884</td>\n",
       "      <td>0.218287</td>\n",
       "    </tr>\n",
       "    <tr>\n",
       "      <th>2017-08-15 13:56:31</th>\n",
       "      <td>0.717477</td>\n",
       "      <td>0.348032</td>\n",
       "    </tr>\n",
       "  </tbody>\n",
       "</table>\n",
       "</div>"
      ],
      "text/plain": [
       "                      SO2-flux-a (kg/s)   error (kg/s)\n",
       "date-time                                             \n",
       "2017-08-15 12:41:06            0.388310       0.188426\n",
       "2017-08-15 12:54:24            0.831829       0.403588\n",
       "2017-08-15 13:29:54            3.139931       1.523264\n",
       "2017-08-15 13:52:04            0.449884       0.218287\n",
       "2017-08-15 13:56:31            0.717477       0.348032"
      ]
     },
     "execution_count": 12,
     "metadata": {},
     "output_type": "execute_result"
    }
   ],
   "source": [
    "df = pd.read_csv('http://fits.geonet.org.nz/observation?typeID=SO2-flux-a&siteID=WI302&days=20', parse_dates=True, index_col='date-time')\n",
    "df.index = df.index + pd.to_timedelta(12, unit='h') \n",
    "df.head()"
   ]
  }
 ],
 "metadata": {
  "kernelspec": {
   "display_name": "Python 2",
   "language": "python",
   "name": "python2"
  },
  "language_info": {
   "codemirror_mode": {
    "name": "ipython",
    "version": 3
   },
   "file_extension": ".py",
   "mimetype": "text/x-python",
   "name": "python",
   "nbconvert_exporter": "python",
   "pygments_lexer": "ipython3",
   "version": "3.6.1"
  }
 },
 "nbformat": 4,
 "nbformat_minor": 2
}
